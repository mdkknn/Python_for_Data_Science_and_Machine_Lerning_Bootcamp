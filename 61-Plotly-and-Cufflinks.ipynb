{
 "cells": [
  {
   "cell_type": "code",
   "execution_count": 1,
   "metadata": {},
   "outputs": [],
   "source": [
    "import pandas as pd\n",
    "import numpy as np"
   ]
  },
  {
   "cell_type": "code",
   "execution_count": 8,
   "metadata": {},
   "outputs": [],
   "source": [
    "from plotly import __version__"
   ]
  },
  {
   "cell_type": "code",
   "execution_count": 6,
   "metadata": {},
   "outputs": [
    {
     "name": "stdout",
     "output_type": "stream",
     "text": [
      "Requirement already satisfied: plotly in /Users/Madoka/opt/anaconda3/lib/python3.7/site-packages (4.14.3)\n",
      "Requirement already satisfied: six in /Users/Madoka/opt/anaconda3/lib/python3.7/site-packages (from plotly) (1.12.0)\n",
      "Requirement already satisfied: retrying>=1.3.3 in /Users/Madoka/opt/anaconda3/lib/python3.7/site-packages (from plotly) (1.3.3)\n",
      "Note: you may need to restart the kernel to use updated packages.\n"
     ]
    }
   ],
   "source": [
    "pip install plotly"
   ]
  },
  {
   "cell_type": "code",
   "execution_count": 9,
   "metadata": {},
   "outputs": [
    {
     "name": "stdout",
     "output_type": "stream",
     "text": [
      "4.14.3\n"
     ]
    }
   ],
   "source": [
    "print(__version__)"
   ]
  },
  {
   "cell_type": "code",
   "execution_count": 12,
   "metadata": {},
   "outputs": [],
   "source": [
    "import cufflinks as cf"
   ]
  },
  {
   "cell_type": "code",
   "execution_count": 14,
   "metadata": {},
   "outputs": [],
   "source": [
    "from plotly.offline import download_plotlyjs, init_notebook_mode, plot, iplot"
   ]
  },
  {
   "cell_type": "code",
   "execution_count": 15,
   "metadata": {},
   "outputs": [
    {
     "data": {
      "text/html": [
       "        <script type=\"text/javascript\">\n",
       "        window.PlotlyConfig = {MathJaxConfig: 'local'};\n",
       "        if (window.MathJax) {MathJax.Hub.Config({SVG: {font: \"STIX-Web\"}});}\n",
       "        if (typeof require !== 'undefined') {\n",
       "        require.undef(\"plotly\");\n",
       "        requirejs.config({\n",
       "            paths: {\n",
       "                'plotly': ['https://cdn.plot.ly/plotly-latest.min']\n",
       "            }\n",
       "        });\n",
       "        require(['plotly'], function(Plotly) {\n",
       "            window._Plotly = Plotly;\n",
       "        });\n",
       "        }\n",
       "        </script>\n",
       "        "
      ]
     },
     "metadata": {},
     "output_type": "display_data"
    }
   ],
   "source": [
    "init_notebook_mode(connected=True)"
   ]
  },
  {
   "cell_type": "code",
   "execution_count": 16,
   "metadata": {},
   "outputs": [
    {
     "data": {
      "text/html": [
       "        <script type=\"text/javascript\">\n",
       "        window.PlotlyConfig = {MathJaxConfig: 'local'};\n",
       "        if (window.MathJax) {MathJax.Hub.Config({SVG: {font: \"STIX-Web\"}});}\n",
       "        if (typeof require !== 'undefined') {\n",
       "        require.undef(\"plotly\");\n",
       "        requirejs.config({\n",
       "            paths: {\n",
       "                'plotly': ['https://cdn.plot.ly/plotly-latest.min']\n",
       "            }\n",
       "        });\n",
       "        require(['plotly'], function(Plotly) {\n",
       "            window._Plotly = Plotly;\n",
       "        });\n",
       "        }\n",
       "        </script>\n",
       "        "
      ]
     },
     "metadata": {},
     "output_type": "display_data"
    }
   ],
   "source": [
    "cf.go_offline()"
   ]
  },
  {
   "cell_type": "code",
   "execution_count": 19,
   "metadata": {},
   "outputs": [],
   "source": [
    "# DATA\n",
    "df = pd.DataFrame(np.random.randn(100,4), columns='A B C D'.split())"
   ]
  },
  {
   "cell_type": "code",
   "execution_count": 21,
   "metadata": {},
   "outputs": [
    {
     "data": {
      "text/html": [
       "<div>\n",
       "<style scoped>\n",
       "    .dataframe tbody tr th:only-of-type {\n",
       "        vertical-align: middle;\n",
       "    }\n",
       "\n",
       "    .dataframe tbody tr th {\n",
       "        vertical-align: top;\n",
       "    }\n",
       "\n",
       "    .dataframe thead th {\n",
       "        text-align: right;\n",
       "    }\n",
       "</style>\n",
       "<table border=\"1\" class=\"dataframe\">\n",
       "  <thead>\n",
       "    <tr style=\"text-align: right;\">\n",
       "      <th></th>\n",
       "      <th>A</th>\n",
       "      <th>B</th>\n",
       "      <th>C</th>\n",
       "      <th>D</th>\n",
       "    </tr>\n",
       "  </thead>\n",
       "  <tbody>\n",
       "    <tr>\n",
       "      <td>0</td>\n",
       "      <td>-0.548011</td>\n",
       "      <td>1.907684</td>\n",
       "      <td>0.487704</td>\n",
       "      <td>-0.227189</td>\n",
       "    </tr>\n",
       "    <tr>\n",
       "      <td>1</td>\n",
       "      <td>-1.292070</td>\n",
       "      <td>0.454758</td>\n",
       "      <td>0.633724</td>\n",
       "      <td>1.220497</td>\n",
       "    </tr>\n",
       "    <tr>\n",
       "      <td>2</td>\n",
       "      <td>-2.064720</td>\n",
       "      <td>-0.462418</td>\n",
       "      <td>-3.155793</td>\n",
       "      <td>-0.511127</td>\n",
       "    </tr>\n",
       "    <tr>\n",
       "      <td>3</td>\n",
       "      <td>-0.638195</td>\n",
       "      <td>-3.651545</td>\n",
       "      <td>0.132780</td>\n",
       "      <td>-0.919996</td>\n",
       "    </tr>\n",
       "    <tr>\n",
       "      <td>4</td>\n",
       "      <td>0.010213</td>\n",
       "      <td>-0.567853</td>\n",
       "      <td>0.738566</td>\n",
       "      <td>1.487657</td>\n",
       "    </tr>\n",
       "  </tbody>\n",
       "</table>\n",
       "</div>"
      ],
      "text/plain": [
       "          A         B         C         D\n",
       "0 -0.548011  1.907684  0.487704 -0.227189\n",
       "1 -1.292070  0.454758  0.633724  1.220497\n",
       "2 -2.064720 -0.462418 -3.155793 -0.511127\n",
       "3 -0.638195 -3.651545  0.132780 -0.919996\n",
       "4  0.010213 -0.567853  0.738566  1.487657"
      ]
     },
     "execution_count": 21,
     "metadata": {},
     "output_type": "execute_result"
    }
   ],
   "source": [
    "df.head()"
   ]
  },
  {
   "cell_type": "code",
   "execution_count": 22,
   "metadata": {},
   "outputs": [],
   "source": [
    "df2 = pd.DataFrame({'Category':['A','B','C'], 'Values':[32,43,50]})"
   ]
  },
  {
   "cell_type": "code",
   "execution_count": 23,
   "metadata": {},
   "outputs": [
    {
     "data": {
      "text/html": [
       "<div>\n",
       "<style scoped>\n",
       "    .dataframe tbody tr th:only-of-type {\n",
       "        vertical-align: middle;\n",
       "    }\n",
       "\n",
       "    .dataframe tbody tr th {\n",
       "        vertical-align: top;\n",
       "    }\n",
       "\n",
       "    .dataframe thead th {\n",
       "        text-align: right;\n",
       "    }\n",
       "</style>\n",
       "<table border=\"1\" class=\"dataframe\">\n",
       "  <thead>\n",
       "    <tr style=\"text-align: right;\">\n",
       "      <th></th>\n",
       "      <th>Category</th>\n",
       "      <th>Values</th>\n",
       "    </tr>\n",
       "  </thead>\n",
       "  <tbody>\n",
       "    <tr>\n",
       "      <td>0</td>\n",
       "      <td>A</td>\n",
       "      <td>32</td>\n",
       "    </tr>\n",
       "    <tr>\n",
       "      <td>1</td>\n",
       "      <td>B</td>\n",
       "      <td>43</td>\n",
       "    </tr>\n",
       "    <tr>\n",
       "      <td>2</td>\n",
       "      <td>C</td>\n",
       "      <td>50</td>\n",
       "    </tr>\n",
       "  </tbody>\n",
       "</table>\n",
       "</div>"
      ],
      "text/plain": [
       "  Category  Values\n",
       "0        A      32\n",
       "1        B      43\n",
       "2        C      50"
      ]
     },
     "execution_count": 23,
     "metadata": {},
     "output_type": "execute_result"
    }
   ],
   "source": [
    "df2.head()"
   ]
  },
  {
   "cell_type": "code",
   "execution_count": 27,
   "metadata": {},
   "outputs": [
    {
     "data": {
      "text/plain": [
       "<matplotlib.axes._subplots.AxesSubplot at 0x7f8a5827b690>"
      ]
     },
     "execution_count": 27,
     "metadata": {},
     "output_type": "execute_result"
    },
    {
     "data": {
      "image/png": "[encoded data removed]",
      "text/plain": [
       "<Figure size 432x288 with 1 Axes>"
      ]
     },
     "metadata": {
      "needs_background": "light"
     },
     "output_type": "display_data"
    }
   ],
   "source": [
    "df.plot()"
   ]
  },
  {
   "cell_type": "code",
   "execution_count": 29,
   "metadata": {},
   "outputs": [
    {
     "data": {
      "application/vnd.plotly.v1+json": {
       "config": {
        "linkText": "Export to plot.ly",
        "plotlyServerURL": "https://plot.ly",
        "showLink": true
       },
       "data": [
        {
         "line": {
          "color": "rgba(255, 153, 51, 1.0)",
          "dash": "solid",
          "shape": "linear",
          "width": 1.3
         },
         "mode": "lines",
         "name": "A",
         "text": "",
         "type": "scatter",
         "x": [
          0,
          1,
          2,
          3,
          4,
          5,
          6,
          7,
          8,
          9,
          10,
          11,
          12,
          13,
          14,
          15,
          16,
          17,
          18,
          19,
          20,
          21,
          22,
          23,
          24,
          25,
          26,
          27,
          28,
          29,
          30,
          31,
          32,
          33,
          34,
          35,
          36,
          37,
          38,
          39,
          40,
          41,
          42,
          43,
          44,
          45,
          46,
          47,
          48,
          49,
          50,
          51,
          52,
          53,
          54,
          55,
          56,
          57,
          58,
          59,
          60,
          61,
          62,
          63,
          64,
          65,
          66,
          67,
          68,
          69,
          70,
          71,
          72,
          73,
          74,
          75,
          76,
          77,
          78,
          79,
          80,
          81,
          82,
          83,
          84,
          85,
          86,
          87,
          88,
          89,
          90,
          91,
          92,
          93,
          94,
          95,
          96,
          97,
          98,
          99
         ],
         "y": [
          -0.5480110889074034,
          -1.2920697014009046,
          -2.064720383032337,
          -0.6381949964348836,
          0.010212759440209999,
          0.794812443048594,
          -0.7278279442870339,
          0.4489067925814845,
          1.904784576609507,
          -1.3032659971088971,
          0.11803057830902464,
          -1.5910540183384845,
          0.4036629730575678,
          0.9632264730942721,
          1.5324411476637259,
          -0.04707130340337131,
          0.11174868107368494,
          -1.3117900265057767,
          -1.3083957993452056,
          0.696980809380999,
          0.7592163244817444,
          0.5250669680979622,
          -0.4449756900036982,
          -1.0014267626093265,
          -0.21335743445110616,
          -0.8514794630132676,
          0.2749573360612918,
          -0.8733300478379218,
          0.09463458411882031,
          1.4455483762466403,
          0.006188882128480812,
          -0.22631608313192741,
          -0.29524855487515117,
          0.1812433420156424,
          0.4615963474822817,
          -1.3250089684363293,
          -0.009448308083683389,
          -0.24835897398064555,
          1.2246504102660027,
          0.7647812090938544,
          0.2923490017652167,
          0.5484764320989512,
          1.3636654624881206,
          -1.098554817005937,
          0.05323209135417297,
          -0.8193664011445023,
          -0.9651881730205214,
          -0.7169235894795459,
          0.07867172577891615,
          -0.1323856621361627,
          -0.7655784144767981,
          0.9932616140585283,
          0.5168384552391037,
          1.7652722533284222,
          1.8372546061828827,
          -1.593236705292418,
          -1.7351535385081214,
          0.5235910464705479,
          -1.2678010298836502,
          -1.1620485478742044,
          0.49783153002828556,
          -0.8724397517109367,
          0.6049256246439829,
          1.400962816411936,
          0.8111886395962024,
          -1.3749913257690798,
          -0.5343381094480517,
          0.5791641404328253,
          0.8694270812021913,
          0.6977237422345381,
          -0.7518777375440403,
          -1.2664205351763898,
          0.06442315056883763,
          -0.2873984929929309,
          0.0009839494928604283,
          1.168592011704123,
          0.6604253864052589,
          -0.29521148821910714,
          1.045216265567895,
          -0.6515637069291157,
          -0.03289043947944938,
          0.22881992210491614,
          -2.120961847320266,
          -0.1534383700165545,
          -1.1210869777078845,
          0.9094502662877313,
          0.07743574010108772,
          -0.7419719470944663,
          -1.2038987086444832,
          0.14722990479865838,
          0.9751250898869979,
          -0.6264743287129438,
          0.7736042579232473,
          -0.5035091795841722,
          -1.0343753263730342,
          0.5012182124006042,
          0.03584316243864111,
          -0.5259243744479069,
          0.15306289262164952,
          1.7106987514004806
         ]
        },
        {
         "line": {
          "color": "rgba(55, 128, 191, 1.0)",
          "dash": "solid",
          "shape": "linear",
          "width": 1.3
         },
         "mode": "lines",
         "name": "B",
         "text": "",
         "type": "scatter",
         "x": [
          0,
          1,
          2,
          3,
          4,
          5,
          6,
          7,
          8,
          9,
          10,
          11,
          12,
          13,
          14,
          15,
          16,
          17,
          18,
          19,
          20,
          21,
          22,
          23,
          24,
          25,
          26,
          27,
          28,
          29,
          30,
          31,
          32,
          33,
          34,
          35,
          36,
          37,
          38,
          39,
          40,
          41,
          42,
          43,
          44,
          45,
          46,
          47,
          48,
          49,
          50,
          51,
          52,
          53,
          54,
          55,
          56,
          57,
          58,
          59,
          60,
          61,
          62,
          63,
          64,
          65,
          66,
          67,
          68,
          69,
          70,
          71,
          72,
          73,
          74,
          75,
          76,
          77,
          78,
          79,
          80,
          81,
          82,
          83,
          84,
          85,
          86,
          87,
          88,
          89,
          90,
          91,
          92,
          93,
          94,
          95,
          96,
          97,
          98,
          99
         ],
         "y": [
          1.907683558388115,
          0.4547584720364601,
          -0.4624177855774668,
          -3.651544791684352,
          -0.5678534781105319,
          1.6427839907904405,
          -0.9619000332416442,
          -0.00397187462557156,
          -0.07994051727686378,
          -0.6910522585403166,
          -0.09450542139400352,
          -0.8779483001934726,
          -1.484377860124462,
          -0.06479965458310179,
          -1.0119838104547232,
          1.0484315683481713,
          -1.704515782167066,
          0.22219933855895088,
          1.1715275094543638,
          -0.286046199843736,
          -0.18562188278474828,
          -0.5094303960311877,
          1.2804878676027072,
          1.0784034812612298,
          -0.15293803125447164,
          -0.4223642419037627,
          0.14855090724344358,
          -0.31189985968039113,
          -0.9115283059275937,
          -0.7755292866323195,
          -0.42721244214615794,
          -2.388606862034661,
          -0.05382162402532776,
          -1.3473629289778324,
          1.8397464184587116,
          0.8736778624934495,
          -0.7310055025516222,
          0.6958880162743549,
          0.9187659655864716,
          0.8376778170657083,
          0.5396368728266294,
          0.5422001050726935,
          -0.06139231471254688,
          -1.1021335608877891,
          -0.6007471372717097,
          0.1924619434883858,
          -0.08930809569198228,
          -0.2978505269315022,
          0.0005453669286284382,
          0.08106810997695915,
          -0.3694016189559964,
          -1.0281232817295345,
          0.30345560552391604,
          0.5244077540972444,
          2.0284534283011597,
          1.048432684760225,
          0.1064228659254715,
          0.6622831438984041,
          0.19685616235400402,
          1.1511224188608322,
          -0.4206663845906972,
          -1.0846896902892262,
          1.0364546676818382,
          0.6307259022389663,
          0.004641898709261438,
          -0.8605919026414243,
          0.08398903166039261,
          -0.08238436718846175,
          1.4354863201681674,
          -1.339983013618161,
          0.020894590806696794,
          0.6486539425584497,
          1.6592374195822817,
          -0.45411333440482526,
          -0.514677111791003,
          1.4378161001410212,
          0.6543605480879594,
          -0.3723065659245629,
          0.7259378993362399,
          0.17622902362307077,
          -0.21499860688233133,
          0.9541805171862572,
          -0.07743570059151514,
          1.3080387115726428,
          -0.06024810521218019,
          -1.529908094039015,
          0.7021112735494195,
          -0.9091588803591504,
          0.870523121121309,
          0.43847509793721606,
          -0.9516809883412036,
          -0.07897286417227212,
          1.3010071278367414,
          -0.08017900203553485,
          1.5367974033552878,
          -1.290113361643903,
          0.677483027354299,
          -0.8592326527444683,
          2.5979573364869557,
          -0.6669334806113064
         ]
        },
        {
         "line": {
          "color": "rgba(50, 171, 96, 1.0)",
          "dash": "solid",
          "shape": "linear",
          "width": 1.3
         },
         "mode": "lines",
         "name": "C",
         "text": "",
         "type": "scatter",
         "x": [
          0,
          1,
          2,
          3,
          4,
          5,
          6,
          7,
          8,
          9,
          10,
          11,
          12,
          13,
          14,
          15,
          16,
          17,
          18,
          19,
          20,
          21,
          22,
          23,
          24,
          25,
          26,
          27,
          28,
          29,
          30,
          31,
          32,
          33,
          34,
          35,
          36,
          37,
          38,
          39,
          40,
          41,
          42,
          43,
          44,
          45,
          46,
          47,
          48,
          49,
          50,
          51,
          52,
          53,
          54,
          55,
          56,
          57,
          58,
          59,
          60,
          61,
          62,
          63,
          64,
          65,
          66,
          67,
          68,
          69,
          70,
          71,
          72,
          73,
          74,
          75,
          76,
          77,
          78,
          79,
          80,
          81,
          82,
          83,
          84,
          85,
          86,
          87,
          88,
          89,
          90,
          91,
          92,
          93,
          94,
          95,
          96,
          97,
          98,
          99
         ],
         "y": [
          0.48770381939872043,
          0.6337244646989464,
          -3.1557932704130356,
          0.13277998013457565,
          0.7385655314420786,
          -0.17177067756252173,
          -0.1372915094467543,
          -0.2521100174920825,
          -0.7774859643586567,
          0.4888304720428742,
          -0.46697233675600003,
          -1.0819972685815615,
          -1.3812411940185036,
          -1.2088517545524282,
          -1.2972061988940717,
          -1.195413296751463,
          -1.147470324560883,
          1.0902866948145171,
          1.1908114172648354,
          -0.2588208225848617,
          0.16487657420726892,
          -0.78826656830748,
          1.0000343713868642,
          -1.0091815010874154,
          -0.5680773691675439,
          1.1810661210830304,
          0.38954133539864827,
          -0.613964571092336,
          -0.2565088361673165,
          -0.7692082849354274,
          0.19774049769912005,
          0.39711873710136963,
          -0.5873094150104916,
          -0.02252466688228671,
          -0.9960725147726376,
          0.8836696924678572,
          -0.3196822783432801,
          -0.9598081652904585,
          -2.3185673570155316,
          0.9199286678318811,
          0.18124349088991892,
          -0.31241113338341514,
          0.931766188329038,
          -1.2454367421348072,
          0.17716748816653816,
          0.29627078620326086,
          0.8886308256683672,
          2.246831034283235,
          0.6974303836348403,
          0.35598131814521045,
          -1.823543353599711,
          -0.8486094691505909,
          0.16042258280947191,
          -0.9794789734321424,
          0.6502538943693912,
          0.6859471110716626,
          -1.8397195416762484,
          0.5544046760632084,
          -0.5061463738217713,
          -0.19623271406017556,
          -1.5963826590813122,
          -0.09770348156614135,
          -0.5869174731331128,
          -0.12032149904486354,
          0.00906488876886795,
          -0.07751737400332452,
          0.2942284421113961,
          -0.16243607623161602,
          -1.001587800308482,
          0.1963253087192484,
          1.206464312604639,
          0.2187961464973971,
          1.0838671968192073,
          1.2959649012162449,
          -0.5544573556215677,
          0.6128769748117964,
          0.1711954142874357,
          -1.3040069094496094,
          -0.09275279405669301,
          0.7398849781895165,
          0.09292219747002482,
          -0.10762784448538183,
          0.3055312720579075,
          -0.6089474399581859,
          -0.46820295927356165,
          1.9897358749891223,
          1.9776531201514929,
          0.26161052895794557,
          -0.2684909093050987,
          0.0001358910229118881,
          2.007654473522146,
          1.2945754067521074,
          1.9892544961413128,
          -1.6358499033444638,
          0.4549748462649961,
          0.735184341285063,
          -0.6712417072387005,
          0.0816993806422588,
          0.646955250762791,
          1.590420413439015
         ]
        },
        {
         "line": {
          "color": "rgba(128, 0, 128, 1.0)",
          "dash": "solid",
          "shape": "linear",
          "width": 1.3
         },
         "mode": "lines",
         "name": "D",
         "text": "",
         "type": "scatter",
         "x": [
          0,
          1,
          2,
          3,
          4,
          5,
          6,
          7,
          8,
          9,
          10,
          11,
          12,
          13,
          14,
          15,
          16,
          17,
          18,
          19,
          20,
          21,
          22,
          23,
          24,
          25,
          26,
          27,
          28,
          29,
          30,
          31,
          32,
          33,
          34,
          35,
          36,
          37,
          38,
          39,
          40,
          41,
          42,
          43,
          44,
          45,
          46,
          47,
          48,
          49,
          50,
          51,
          52,
          53,
          54,
          55,
          56,
          57,
          58,
          59,
          60,
          61,
          62,
          63,
          64,
          65,
          66,
          67,
          68,
          69,
          70,
          71,
          72,
          73,
          74,
          75,
          76,
          77,
          78,
          79,
          80,
          81,
          82,
          83,
          84,
          85,
          86,
          87,
          88,
          89,
          90,
          91,
          92,
          93,
          94,
          95,
          96,
          97,
          98,
          99
         ],
         "y": [
          -0.22718918537328062,
          1.2204972813783754,
          -0.511127342703104,
          -0.919995696143732,
          1.4876569281486498,
          0.5261798293815041,
          1.4404686230606762,
          0.012310079690618186,
          -1.4169393918652915,
          0.8430806027133654,
          0.8060404508229926,
          0.09134447928922484,
          -0.4391707391338882,
          -1.136109425411929,
          -0.9558725097488121,
          -0.43903936073790056,
          0.6400684969235082,
          -2.8926497540659173,
          1.2862065354897847,
          0.5363547692785966,
          0.027208726919927866,
          -0.6053552258802258,
          1.2369376797088558,
          -0.31288524593048567,
          -1.2768501683975995,
          0.7982664454690171,
          -1.7643618109254788,
          -0.811118605847453,
          1.2951679229500286,
          -0.5854378238328967,
          0.47684752071529896,
          0.9688847295206476,
          0.7712204269970987,
          0.8636594318791391,
          2.1167005179164633,
          -0.9844880853538838,
          1.2052110702155194,
          0.4144965537564156,
          1.0314589125244964,
          -1.2820386325245927,
          0.5374622995845217,
          -0.4520476062643819,
          1.2807767910756398,
          1.3970913949970318,
          0.554529182743638,
          -1.4245469028483584,
          2.432163068242666,
          0.34647454582703535,
          -1.8478283792744057,
          -0.7064116298140908,
          1.859026792963264,
          -0.11696447813985389,
          0.9735706653895554,
          0.020069778038250087,
          -0.2732078870868064,
          -1.625893501364898,
          -0.518832871958972,
          0.7570499806819221,
          -1.301647411726088,
          1.5233125926959512,
          0.910044161471426,
          -0.33904257065357996,
          0.25474211578164113,
          1.1624261743592201,
          -0.7457019139210698,
          -1.6968774589933917,
          1.760395656633342,
          1.7512558019532765,
          -1.9529937894171276,
          0.8706668134873103,
          2.0085760859346675,
          -1.2514649889890979,
          -1.6069294260493898,
          -0.6751228541249964,
          1.1438933704419452,
          -0.21981377357202245,
          0.4179370726020009,
          1.0037769259192542,
          -0.06225916587349727,
          -1.0071835665242848,
          0.8860296914099619,
          -1.4572370310223877,
          1.8521215110090443,
          -0.27766424372092186,
          1.2084828291118057,
          0.19077267955785543,
          -0.15568801418483896,
          0.17864014027450703,
          -0.6130945856449158,
          -0.1287209969592928,
          -0.7899352961622775,
          -1.9330750344297394,
          2.0732887918319127,
          -0.7619479677020401,
          1.128771926760258,
          -0.7709363883695314,
          0.28608363017405264,
          -2.672688771194465,
          1.5523201724331546,
          2.011955348554818
         ]
        }
       ],
       "layout": {
        "legend": {
         "bgcolor": "#F5F6F9",
         "font": {
          "color": "#4D5663"
         }
        },
        "paper_bgcolor": "#F5F6F9",
        "plot_bgcolor": "#F5F6F9",
        "template": {
         "data": {
          "bar": [
           {
            "error_x": {
             "color": "#2a3f5f"
            },
            "error_y": {
             "color": "#2a3f5f"
            },
            "marker": {
             "line": {
              "color": "#E5ECF6",
              "width": 0.5
             }
            },
            "type": "bar"
           }
          ],
          "barpolar": [
           {
            "marker": {
             "line": {
              "color": "#E5ECF6",
              "width": 0.5
             }
            },
            "type": "barpolar"
           }
          ],
          "carpet": [
           {
            "aaxis": {
             "endlinecolor": "#2a3f5f",
             "gridcolor": "white",
             "linecolor": "white",
             "minorgridcolor": "white",
             "startlinecolor": "#2a3f5f"
            },
            "baxis": {
             "endlinecolor": "#2a3f5f",
             "gridcolor": "white",
             "linecolor": "white",
             "minorgridcolor": "white",
             "startlinecolor": "#2a3f5f"
            },
            "type": "carpet"
           }
          ],
          "choropleth": [
           {
            "colorbar": {
             "outlinewidth": 0,
             "ticks": ""
            },
            "type": "choropleth"
           }
          ],
          "contour": [
           {
            "colorbar": {
             "outlinewidth": 0,
             "ticks": ""
            },
            "colorscale": [
             [
              0,
              "#0d0887"
             ],
             [
              0.1111111111111111,
              "#46039f"
             ],
             [
              0.2222222222222222,
              "#7201a8"
             ],
             [
              0.3333333333333333,
              "#9c179e"
             ],
             [
              0.4444444444444444,
              "#bd3786"
             ],
             [
              0.5555555555555556,
              "#d8576b"
             ],
             [
              0.6666666666666666,
              "#ed7953"
             ],
             [
              0.7777777777777778,
              "#fb9f3a"
             ],
             [
              0.8888888888888888,
              "#fdca26"
             ],
             [
              1,
              "#f0f921"
             ]
            ],
            "type": "contour"
           }
          ],
          "contourcarpet": [
           {
            "colorbar": {
             "outlinewidth": 0,
             "ticks": ""
            },
            "type": "contourcarpet"
           }
          ],
          "heatmap": [
           {
            "colorbar": {
             "outlinewidth": 0,
             "ticks": ""
            },
            "colorscale": [
             [
              0,
              "#0d0887"
             ],
             [
              0.1111111111111111,
              "#46039f"
             ],
             [
              0.2222222222222222,
              "#7201a8"
             ],
             [
              0.3333333333333333,
              "#9c179e"
             ],
             [
              0.4444444444444444,
              "#bd3786"
             ],
             [
              0.5555555555555556,
              "#d8576b"
             ],
             [
              0.6666666666666666,
              "#ed7953"
             ],
             [
              0.7777777777777778,
              "#fb9f3a"
             ],
             [
              0.8888888888888888,
              "#fdca26"
             ],
             [
              1,
              "#f0f921"
             ]
            ],
            "type": "heatmap"
           }
          ],
          "heatmapgl": [
           {
            "colorbar": {
             "outlinewidth": 0,
             "ticks": ""
            },
            "colorscale": [
             [
              0,
              "#0d0887"
             ],
             [
              0.1111111111111111,
              "#46039f"
             ],
             [
              0.2222222222222222,
              "#7201a8"
             ],
             [
              0.3333333333333333,
              "#9c179e"
             ],
             [
              0.4444444444444444,
              "#bd3786"
             ],
             [
              0.5555555555555556,
              "#d8576b"
             ],
             [
              0.6666666666666666,
              "#ed7953"
             ],
             [
              0.7777777777777778,
              "#fb9f3a"
             ],
             [
              0.8888888888888888,
              "#fdca26"
             ],
             [
              1,
              "#f0f921"
             ]
            ],
            "type": "heatmapgl"
           }
          ],
          "histogram": [
           {
            "marker": {
             "colorbar": {
              "outlinewidth": 0,
              "ticks": ""
             }
            },
            "type": "histogram"
           }
          ],
          "histogram2d": [
           {
            "colorbar": {
             "outlinewidth": 0,
             "ticks": ""
            },
            "colorscale": [
             [
              0,
              "#0d0887"
             ],
             [
              0.1111111111111111,
              "#46039f"
             ],
             [
              0.2222222222222222,
              "#7201a8"
             ],
             [
              0.3333333333333333,
              "#9c179e"
             ],
             [
              0.4444444444444444,
              "#bd3786"
             ],
             [
              0.5555555555555556,
              "#d8576b"
             ],
             [
              0.6666666666666666,
              "#ed7953"
             ],
             [
              0.7777777777777778,
              "#fb9f3a"
             ],
             [
              0.8888888888888888,
              "#fdca26"
             ],
             [
              1,
              "#f0f921"
             ]
            ],
            "type": "histogram2d"
           }
          ],
          "histogram2dcontour": [
           {
            "colorbar": {
             "outlinewidth": 0,
             "ticks": ""
            },
            "colorscale": [
             [
              0,
              "#0d0887"
             ],
             [
              0.1111111111111111,
              "#46039f"
             ],
             [
              0.2222222222222222,
              "#7201a8"
             ],
             [
              0.3333333333333333,
              "#9c179e"
             ],
             [
              0.4444444444444444,
              "#bd3786"
             ],
             [
              0.5555555555555556,
              "#d8576b"
             ],
             [
              0.6666666666666666,
              "#ed7953"
             ],
             [
              0.7777777777777778,
              "#fb9f3a"
             ],
             [
              0.8888888888888888,
              "#fdca26"
             ],
             [
              1,
              "#f0f921"
             ]
            ],
            "type": "histogram2dcontour"
           }
          ],
          "mesh3d": [
           {
            "colorbar": {
             "outlinewidth": 0,
             "ticks": ""
            },
            "type": "mesh3d"
           }
          ],
          "parcoords": [
           {
            "line": {
             "colorbar": {
              "outlinewidth": 0,
              "ticks": ""
             }
            },
            "type": "parcoords"
           }
          ],
          "pie": [
           {
            "automargin": true,
            "type": "pie"
           }
          ],
          "scatter": [
           {
            "marker": {
             "colorbar": {
              "outlinewidth": 0,
              "ticks": ""
             }
            },
            "type": "scatter"
           }
          ],
          "scatter3d": [
           {
            "line": {
             "colorbar": {
              "outlinewidth": 0,
              "ticks": ""
             }
            },
            "marker": {
             "colorbar": {
              "outlinewidth": 0,
              "ticks": ""
             }
            },
            "type": "scatter3d"
           }
          ],
          "scattercarpet": [
           {
            "marker": {
             "colorbar": {
              "outlinewidth": 0,
              "ticks": ""
             }
            },
            "type": "scattercarpet"
           }
          ],
          "scattergeo": [
           {
            "marker": {
             "colorbar": {
              "outlinewidth": 0,
              "ticks": ""
             }
            },
            "type": "scattergeo"
           }
          ],
          "scattergl": [
           {
            "marker": {
             "colorbar": {
              "outlinewidth": 0,
              "ticks": ""
             }
            },
            "type": "scattergl"
           }
          ],
          "scattermapbox": [
           {
            "marker": {
             "colorbar": {
              "outlinewidth": 0,
              "ticks": ""
             }
            },
            "type": "scattermapbox"
           }
          ],
          "scatterpolar": [
           {
            "marker": {
             "colorbar": {
              "outlinewidth": 0,
              "ticks": ""
             }
            },
            "type": "scatterpolar"
           }
          ],
          "scatterpolargl": [
           {
            "marker": {
             "colorbar": {
              "outlinewidth": 0,
              "ticks": ""
             }
            },
            "type": "scatterpolargl"
           }
          ],
          "scatterternary": [
           {
            "marker": {
             "colorbar": {
              "outlinewidth": 0,
              "ticks": ""
             }
            },
            "type": "scatterternary"
           }
          ],
          "surface": [
           {
            "colorbar": {
             "outlinewidth": 0,
             "ticks": ""
            },
            "colorscale": [
             [
              0,
              "#0d0887"
             ],
             [
              0.1111111111111111,
              "#46039f"
             ],
             [
              0.2222222222222222,
              "#7201a8"
             ],
             [
              0.3333333333333333,
              "#9c179e"
             ],
             [
              0.4444444444444444,
              "#bd3786"
             ],
             [
              0.5555555555555556,
              "#d8576b"
             ],
             [
              0.6666666666666666,
              "#ed7953"
             ],
             [
              0.7777777777777778,
              "#fb9f3a"
             ],
             [
              0.8888888888888888,
              "#fdca26"
             ],
             [
              1,
              "#f0f921"
             ]
            ],
            "type": "surface"
           }
          ],
          "table": [
           {
            "cells": {
             "fill": {
              "color": "#EBF0F8"
             },
             "line": {
              "color": "white"
             }
            },
            "header": {
             "fill": {
              "color": "#C8D4E3"
             },
             "line": {
              "color": "white"
             }
            },
            "type": "table"
           }
          ]
         },
         "layout": {
          "annotationdefaults": {
           "arrowcolor": "#2a3f5f",
           "arrowhead": 0,
           "arrowwidth": 1
          },
          "autotypenumbers": "strict",
          "coloraxis": {
           "colorbar": {
            "outlinewidth": 0,
            "ticks": ""
           }
          },
          "colorscale": {
           "diverging": [
            [
             0,
             "#8e0152"
            ],
            [
             0.1,
             "#c51b7d"
            ],
            [
             0.2,
             "#de77ae"
            ],
            [
             0.3,
             "#f1b6da"
            ],
            [
             0.4,
             "#fde0ef"
            ],
            [
             0.5,
             "#f7f7f7"
            ],
            [
             0.6,
             "#e6f5d0"
            ],
            [
             0.7,
             "#b8e186"
            ],
            [
             0.8,
             "#7fbc41"
            ],
            [
             0.9,
             "#4d9221"
            ],
            [
             1,
             "#276419"
            ]
           ],
           "sequential": [
            [
             0,
             "#0d0887"
            ],
            [
             0.1111111111111111,
             "#46039f"
            ],
            [
             0.2222222222222222,
             "#7201a8"
            ],
            [
             0.3333333333333333,
             "#9c179e"
            ],
            [
             0.4444444444444444,
             "#bd3786"
            ],
            [
             0.5555555555555556,
             "#d8576b"
            ],
            [
             0.6666666666666666,
             "#ed7953"
            ],
            [
             0.7777777777777778,
             "#fb9f3a"
            ],
            [
             0.8888888888888888,
             "#fdca26"
            ],
            [
             1,
             "#f0f921"
            ]
           ],
           "sequentialminus": [
            [
             0,
             "#0d0887"
            ],
            [
             0.1111111111111111,
             "#46039f"
            ],
            [
             0.2222222222222222,
             "#7201a8"
            ],
            [
             0.3333333333333333,
             "#9c179e"
            ],
            [
             0.4444444444444444,
             "#bd3786"
            ],
            [
             0.5555555555555556,
             "#d8576b"
            ],
            [
             0.6666666666666666,
             "#ed7953"
            ],
            [
             0.7777777777777778,
             "#fb9f3a"
            ],
            [
             0.8888888888888888,
             "#fdca26"
            ],
            [
             1,
             "#f0f921"
            ]
           ]
          },
          "colorway": [
           "#636efa",
           "#EF553B",
           "#00cc96",
           "#ab63fa",
           "#FFA15A",
           "#19d3f3",
           "#FF6692",
           "#B6E880",
           "#FF97FF",
           "#FECB52"
          ],
          "font": {
           "color": "#2a3f5f"
          },
          "geo": {
           "bgcolor": "white",
           "lakecolor": "white",
           "landcolor": "#E5ECF6",
           "showlakes": true,
           "showland": true,
           "subunitcolor": "white"
          },
          "hoverlabel": {
           "align": "left"
          },
          "hovermode": "closest",
          "mapbox": {
           "style": "light"
          },
          "paper_bgcolor": "white",
          "plot_bgcolor": "#E5ECF6",
          "polar": {
           "angularaxis": {
            "gridcolor": "white",
            "linecolor": "white",
            "ticks": ""
           },
           "bgcolor": "#E5ECF6",
           "radialaxis": {
            "gridcolor": "white",
            "linecolor": "white",
            "ticks": ""
           }
          },
          "scene": {
           "xaxis": {
            "backgroundcolor": "#E5ECF6",
            "gridcolor": "white",
            "gridwidth": 2,
            "linecolor": "white",
            "showbackground": true,
            "ticks": "",
            "zerolinecolor": "white"
           },
           "yaxis": {
            "backgroundcolor": "#E5ECF6",
            "gridcolor": "white",
            "gridwidth": 2,
            "linecolor": "white",
            "showbackground": true,
            "ticks": "",
            "zerolinecolor": "white"
           },
           "zaxis": {
            "backgroundcolor": "#E5ECF6",
            "gridcolor": "white",
            "gridwidth": 2,
            "linecolor": "white",
            "showbackground": true,
            "ticks": "",
            "zerolinecolor": "white"
           }
          },
          "shapedefaults": {
           "line": {
            "color": "#2a3f5f"
           }
          },
          "ternary": {
           "aaxis": {
            "gridcolor": "white",
            "linecolor": "white",
            "ticks": ""
           },
           "baxis": {
            "gridcolor": "white",
            "linecolor": "white",
            "ticks": ""
           },
           "bgcolor": "#E5ECF6",
           "caxis": {
            "gridcolor": "white",
            "linecolor": "white",
            "ticks": ""
           }
          },
          "title": {
           "x": 0.05
          },
          "xaxis": {
           "automargin": true,
           "gridcolor": "white",
           "linecolor": "white",
           "ticks": "",
           "title": {
            "standoff": 15
           },
           "zerolinecolor": "white",
           "zerolinewidth": 2
          },
          "yaxis": {
           "automargin": true,
           "gridcolor": "white",
           "linecolor": "white",
           "ticks": "",
           "title": {
            "standoff": 15
           },
           "zerolinecolor": "white",
           "zerolinewidth": 2
          }
         }
        },
        "title": {
         "font": {
          "color": "#4D5663"
         }
        },
        "xaxis": {
         "gridcolor": "#E1E5ED",
         "showgrid": true,
         "tickfont": {
          "color": "#4D5663"
         },
         "title": {
          "font": {
           "color": "#4D5663"
          },
          "text": ""
         },
         "zerolinecolor": "#E1E5ED"
        },
        "yaxis": {
         "gridcolor": "#E1E5ED",
         "showgrid": true,
         "tickfont": {
          "color": "#4D5663"
         },
         "title": {
          "font": {
           "color": "#4D5663"
          },
          "text": ""
         },
         "zerolinecolor": "#E1E5ED"
        }
       }
      },
      "text/html": [
       "<div>                            <div id=\"83e4711c-5b05-4c22-9e26-3525b87b6d65\" class=\"plotly-graph-div\" style=\"height:525px; width:100%;\"></div>            <script type=\"text/javascript\">                require([\"plotly\"], function(Plotly) {                    window.PLOTLYENV=window.PLOTLYENV || {};\n",
       "                    window.PLOTLYENV.BASE_URL='https://plot.ly';                                    if (document.getElementById(\"83e4711c-5b05-4c22-9e26-3525b87b6d65\")) {                    Plotly.newPlot(                        \"83e4711c-5b05-4c22-9e26-3525b87b6d65\",                        [{\"line\": {\"color\": \"rgba(255, 153, 51, 1.0)\", \"dash\": \"solid\", \"shape\": \"linear\", \"width\": 1.3}, \"mode\": \"lines\", \"name\": \"A\", \"text\": \"\", \"type\": \"scatter\", \"x\": [0, 1, 2, 3, 4, 5, 6, 7, 8, 9, 10, 11, 12, 13, 14, 15, 16, 17, 18, 19, 20, 21, 22, 23, 24, 25, 26, 27, 28, 29, 30, 31, 32, 33, 34, 35, 36, 37, 38, 39, 40, 41, 42, 43, 44, 45, 46, 47, 48, 49, 50, 51, 52, 53, 54, 55, 56, 57, 58, 59, 60, 61, 62, 63, 64, 65, 66, 67, 68, 69, 70, 71, 72, 73, 74, 75, 76, 77, 78, 79, 80, 81, 82, 83, 84, 85, 86, 87, 88, 89, 90, 91, 92, 93, 94, 95, 96, 97, 98, 99], \"y\": [-0.5480110889074034, -1.2920697014009046, -2.064720383032337, -0.6381949964348836, 0.010212759440209999, 0.794812443048594, -0.7278279442870339, 0.4489067925814845, 1.904784576609507, -1.3032659971088971, 0.11803057830902464, -1.5910540183384845, 0.4036629730575678, 0.9632264730942721, 1.5324411476637259, -0.04707130340337131, 0.11174868107368494, -1.3117900265057767, -1.3083957993452056, 0.696980809380999, 0.7592163244817444, 0.5250669680979622, -0.4449756900036982, -1.0014267626093265, -0.21335743445110616, -0.8514794630132676, 0.2749573360612918, -0.8733300478379218, 0.09463458411882031, 1.4455483762466403, 0.006188882128480812, -0.22631608313192741, -0.29524855487515117, 0.1812433420156424, 0.4615963474822817, -1.3250089684363293, -0.009448308083683389, -0.24835897398064555, 1.2246504102660027, 0.7647812090938544, 0.2923490017652167, 0.5484764320989512, 1.3636654624881206, -1.098554817005937, 0.05323209135417297, -0.8193664011445023, -0.9651881730205214, -0.7169235894795459, 0.07867172577891615, -0.1323856621361627, -0.7655784144767981, 0.9932616140585283, 0.5168384552391037, 1.7652722533284222, 1.8372546061828827, -1.593236705292418, -1.7351535385081214, 0.5235910464705479, -1.2678010298836502, -1.1620485478742044, 0.49783153002828556, -0.8724397517109367, 0.6049256246439829, 1.400962816411936, 0.8111886395962024, -1.3749913257690798, -0.5343381094480517, 0.5791641404328253, 0.8694270812021913, 0.6977237422345381, -0.7518777375440403, -1.2664205351763898, 0.06442315056883763, -0.2873984929929309, 0.0009839494928604283, 1.168592011704123, 0.6604253864052589, -0.29521148821910714, 1.045216265567895, -0.6515637069291157, -0.03289043947944938, 0.22881992210491614, -2.120961847320266, -0.1534383700165545, -1.1210869777078845, 0.9094502662877313, 0.07743574010108772, -0.7419719470944663, -1.2038987086444832, 0.14722990479865838, 0.9751250898869979, -0.6264743287129438, 0.7736042579232473, -0.5035091795841722, -1.0343753263730342, 0.5012182124006042, 0.03584316243864111, -0.5259243744479069, 0.15306289262164952, 1.7106987514004806]}, {\"line\": {\"color\": \"rgba(55, 128, 191, 1.0)\", \"dash\": \"solid\", \"shape\": \"linear\", \"width\": 1.3}, \"mode\": \"lines\", \"name\": \"B\", \"text\": \"\", \"type\": \"scatter\", \"x\": [0, 1, 2, 3, 4, 5, 6, 7, 8, 9, 10, 11, 12, 13, 14, 15, 16, 17, 18, 19, 20, 21, 22, 23, 24, 25, 26, 27, 28, 29, 30, 31, 32, 33, 34, 35, 36, 37, 38, 39, 40, 41, 42, 43, 44, 45, 46, 47, 48, 49, 50, 51, 52, 53, 54, 55, 56, 57, 58, 59, 60, 61, 62, 63, 64, 65, 66, 67, 68, 69, 70, 71, 72, 73, 74, 75, 76, 77, 78, 79, 80, 81, 82, 83, 84, 85, 86, 87, 88, 89, 90, 91, 92, 93, 94, 95, 96, 97, 98, 99], \"y\": [1.907683558388115, 0.4547584720364601, -0.4624177855774668, -3.651544791684352, -0.5678534781105319, 1.6427839907904405, -0.9619000332416442, -0.00397187462557156, -0.07994051727686378, -0.6910522585403166, -0.09450542139400352, -0.8779483001934726, -1.484377860124462, -0.06479965458310179, -1.0119838104547232, 1.0484315683481713, -1.704515782167066, 0.22219933855895088, 1.1715275094543638, -0.286046199843736, -0.18562188278474828, -0.5094303960311877, 1.2804878676027072, 1.0784034812612298, -0.15293803125447164, -0.4223642419037627, 0.14855090724344358, -0.31189985968039113, -0.9115283059275937, -0.7755292866323195, -0.42721244214615794, -2.388606862034661, -0.05382162402532776, -1.3473629289778324, 1.8397464184587116, 0.8736778624934495, -0.7310055025516222, 0.6958880162743549, 0.9187659655864716, 0.8376778170657083, 0.5396368728266294, 0.5422001050726935, -0.06139231471254688, -1.1021335608877891, -0.6007471372717097, 0.1924619434883858, -0.08930809569198228, -0.2978505269315022, 0.0005453669286284382, 0.08106810997695915, -0.3694016189559964, -1.0281232817295345, 0.30345560552391604, 0.5244077540972444, 2.0284534283011597, 1.048432684760225, 0.1064228659254715, 0.6622831438984041, 0.19685616235400402, 1.1511224188608322, -0.4206663845906972, -1.0846896902892262, 1.0364546676818382, 0.6307259022389663, 0.004641898709261438, -0.8605919026414243, 0.08398903166039261, -0.08238436718846175, 1.4354863201681674, -1.339983013618161, 0.020894590806696794, 0.6486539425584497, 1.6592374195822817, -0.45411333440482526, -0.514677111791003, 1.4378161001410212, 0.6543605480879594, -0.3723065659245629, 0.7259378993362399, 0.17622902362307077, -0.21499860688233133, 0.9541805171862572, -0.07743570059151514, 1.3080387115726428, -0.06024810521218019, -1.529908094039015, 0.7021112735494195, -0.9091588803591504, 0.870523121121309, 0.43847509793721606, -0.9516809883412036, -0.07897286417227212, 1.3010071278367414, -0.08017900203553485, 1.5367974033552878, -1.290113361643903, 0.677483027354299, -0.8592326527444683, 2.5979573364869557, -0.6669334806113064]}, {\"line\": {\"color\": \"rgba(50, 171, 96, 1.0)\", \"dash\": \"solid\", \"shape\": \"linear\", \"width\": 1.3}, \"mode\": \"lines\", \"name\": \"C\", \"text\": \"\", \"type\": \"scatter\", \"x\": [0, 1, 2, 3, 4, 5, 6, 7, 8, 9, 10, 11, 12, 13, 14, 15, 16, 17, 18, 19, 20, 21, 22, 23, 24, 25, 26, 27, 28, 29, 30, 31, 32, 33, 34, 35, 36, 37, 38, 39, 40, 41, 42, 43, 44, 45, 46, 47, 48, 49, 50, 51, 52, 53, 54, 55, 56, 57, 58, 59, 60, 61, 62, 63, 64, 65, 66, 67, 68, 69, 70, 71, 72, 73, 74, 75, 76, 77, 78, 79, 80, 81, 82, 83, 84, 85, 86, 87, 88, 89, 90, 91, 92, 93, 94, 95, 96, 97, 98, 99], \"y\": [0.48770381939872043, 0.6337244646989464, -3.1557932704130356, 0.13277998013457565, 0.7385655314420786, -0.17177067756252173, -0.1372915094467543, -0.2521100174920825, -0.7774859643586567, 0.4888304720428742, -0.46697233675600003, -1.0819972685815615, -1.3812411940185036, -1.2088517545524282, -1.2972061988940717, -1.195413296751463, -1.147470324560883, 1.0902866948145171, 1.1908114172648354, -0.2588208225848617, 0.16487657420726892, -0.78826656830748, 1.0000343713868642, -1.0091815010874154, -0.5680773691675439, 1.1810661210830304, 0.38954133539864827, -0.613964571092336, -0.2565088361673165, -0.7692082849354274, 0.19774049769912005, 0.39711873710136963, -0.5873094150104916, -0.02252466688228671, -0.9960725147726376, 0.8836696924678572, -0.3196822783432801, -0.9598081652904585, -2.3185673570155316, 0.9199286678318811, 0.18124349088991892, -0.31241113338341514, 0.931766188329038, -1.2454367421348072, 0.17716748816653816, 0.29627078620326086, 0.8886308256683672, 2.246831034283235, 0.6974303836348403, 0.35598131814521045, -1.823543353599711, -0.8486094691505909, 0.16042258280947191, -0.9794789734321424, 0.6502538943693912, 0.6859471110716626, -1.8397195416762484, 0.5544046760632084, -0.5061463738217713, -0.19623271406017556, -1.5963826590813122, -0.09770348156614135, -0.5869174731331128, -0.12032149904486354, 0.00906488876886795, -0.07751737400332452, 0.2942284421113961, -0.16243607623161602, -1.001587800308482, 0.1963253087192484, 1.206464312604639, 0.2187961464973971, 1.0838671968192073, 1.2959649012162449, -0.5544573556215677, 0.6128769748117964, 0.1711954142874357, -1.3040069094496094, -0.09275279405669301, 0.7398849781895165, 0.09292219747002482, -0.10762784448538183, 0.3055312720579075, -0.6089474399581859, -0.46820295927356165, 1.9897358749891223, 1.9776531201514929, 0.26161052895794557, -0.2684909093050987, 0.0001358910229118881, 2.007654473522146, 1.2945754067521074, 1.9892544961413128, -1.6358499033444638, 0.4549748462649961, 0.735184341285063, -0.6712417072387005, 0.0816993806422588, 0.646955250762791, 1.590420413439015]}, {\"line\": {\"color\": \"rgba(128, 0, 128, 1.0)\", \"dash\": \"solid\", \"shape\": \"linear\", \"width\": 1.3}, \"mode\": \"lines\", \"name\": \"D\", \"text\": \"\", \"type\": \"scatter\", \"x\": [0, 1, 2, 3, 4, 5, 6, 7, 8, 9, 10, 11, 12, 13, 14, 15, 16, 17, 18, 19, 20, 21, 22, 23, 24, 25, 26, 27, 28, 29, 30, 31, 32, 33, 34, 35, 36, 37, 38, 39, 40, 41, 42, 43, 44, 45, 46, 47, 48, 49, 50, 51, 52, 53, 54, 55, 56, 57, 58, 59, 60, 61, 62, 63, 64, 65, 66, 67, 68, 69, 70, 71, 72, 73, 74, 75, 76, 77, 78, 79, 80, 81, 82, 83, 84, 85, 86, 87, 88, 89, 90, 91, 92, 93, 94, 95, 96, 97, 98, 99], \"y\": [-0.22718918537328062, 1.2204972813783754, -0.511127342703104, -0.919995696143732, 1.4876569281486498, 0.5261798293815041, 1.4404686230606762, 0.012310079690618186, -1.4169393918652915, 0.8430806027133654, 0.8060404508229926, 0.09134447928922484, -0.4391707391338882, -1.136109425411929, -0.9558725097488121, -0.43903936073790056, 0.6400684969235082, -2.8926497540659173, 1.2862065354897847, 0.5363547692785966, 0.027208726919927866, -0.6053552258802258, 1.2369376797088558, -0.31288524593048567, -1.2768501683975995, 0.7982664454690171, -1.7643618109254788, -0.811118605847453, 1.2951679229500286, -0.5854378238328967, 0.47684752071529896, 0.9688847295206476, 0.7712204269970987, 0.8636594318791391, 2.1167005179164633, -0.9844880853538838, 1.2052110702155194, 0.4144965537564156, 1.0314589125244964, -1.2820386325245927, 0.5374622995845217, -0.4520476062643819, 1.2807767910756398, 1.3970913949970318, 0.554529182743638, -1.4245469028483584, 2.432163068242666, 0.34647454582703535, -1.8478283792744057, -0.7064116298140908, 1.859026792963264, -0.11696447813985389, 0.9735706653895554, 0.020069778038250087, -0.2732078870868064, -1.625893501364898, -0.518832871958972, 0.7570499806819221, -1.301647411726088, 1.5233125926959512, 0.910044161471426, -0.33904257065357996, 0.25474211578164113, 1.1624261743592201, -0.7457019139210698, -1.6968774589933917, 1.760395656633342, 1.7512558019532765, -1.9529937894171276, 0.8706668134873103, 2.0085760859346675, -1.2514649889890979, -1.6069294260493898, -0.6751228541249964, 1.1438933704419452, -0.21981377357202245, 0.4179370726020009, 1.0037769259192542, -0.06225916587349727, -1.0071835665242848, 0.8860296914099619, -1.4572370310223877, 1.8521215110090443, -0.27766424372092186, 1.2084828291118057, 0.19077267955785543, -0.15568801418483896, 0.17864014027450703, -0.6130945856449158, -0.1287209969592928, -0.7899352961622775, -1.9330750344297394, 2.0732887918319127, -0.7619479677020401, 1.128771926760258, -0.7709363883695314, 0.28608363017405264, -2.672688771194465, 1.5523201724331546, 2.011955348554818]}],                        {\"legend\": {\"bgcolor\": \"#F5F6F9\", \"font\": {\"color\": \"#4D5663\"}}, \"paper_bgcolor\": \"#F5F6F9\", \"plot_bgcolor\": \"#F5F6F9\", \"template\": {\"data\": {\"bar\": [{\"error_x\": {\"color\": \"#2a3f5f\"}, \"error_y\": {\"color\": \"#2a3f5f\"}, \"marker\": {\"line\": {\"color\": \"#E5ECF6\", \"width\": 0.5}}, \"type\": \"bar\"}], \"barpolar\": [{\"marker\": {\"line\": {\"color\": \"#E5ECF6\", \"width\": 0.5}}, \"type\": \"barpolar\"}], \"carpet\": [{\"aaxis\": {\"endlinecolor\": \"#2a3f5f\", \"gridcolor\": \"white\", \"linecolor\": \"white\", \"minorgridcolor\": \"white\", \"startlinecolor\": \"#2a3f5f\"}, \"baxis\": {\"endlinecolor\": \"#2a3f5f\", \"gridcolor\": \"white\", \"linecolor\": \"white\", \"minorgridcolor\": \"white\", \"startlinecolor\": \"#2a3f5f\"}, \"type\": \"carpet\"}], \"choropleth\": [{\"colorbar\": {\"outlinewidth\": 0, \"ticks\": \"\"}, \"type\": \"choropleth\"}], \"contour\": [{\"colorbar\": {\"outlinewidth\": 0, \"ticks\": \"\"}, \"colorscale\": [[0.0, \"#0d0887\"], [0.1111111111111111, \"#46039f\"], [0.2222222222222222, \"#7201a8\"], [0.3333333333333333, \"#9c179e\"], [0.4444444444444444, \"#bd3786\"], [0.5555555555555556, \"#d8576b\"], [0.6666666666666666, \"#ed7953\"], [0.7777777777777778, \"#fb9f3a\"], [0.8888888888888888, \"#fdca26\"], [1.0, \"#f0f921\"]], \"type\": \"contour\"}], \"contourcarpet\": [{\"colorbar\": {\"outlinewidth\": 0, \"ticks\": \"\"}, \"type\": \"contourcarpet\"}], \"heatmap\": [{\"colorbar\": {\"outlinewidth\": 0, \"ticks\": \"\"}, \"colorscale\": [[0.0, \"#0d0887\"], [0.1111111111111111, \"#46039f\"], [0.2222222222222222, \"#7201a8\"], [0.3333333333333333, \"#9c179e\"], [0.4444444444444444, \"#bd3786\"], [0.5555555555555556, \"#d8576b\"], [0.6666666666666666, \"#ed7953\"], [0.7777777777777778, \"#fb9f3a\"], [0.8888888888888888, \"#fdca26\"], [1.0, \"#f0f921\"]], \"type\": \"heatmap\"}], \"heatmapgl\": [{\"colorbar\": {\"outlinewidth\": 0, \"ticks\": \"\"}, \"colorscale\": [[0.0, \"#0d0887\"], [0.1111111111111111, \"#46039f\"], [0.2222222222222222, \"#7201a8\"], [0.3333333333333333, \"#9c179e\"], [0.4444444444444444, \"#bd3786\"], [0.5555555555555556, \"#d8576b\"], [0.6666666666666666, \"#ed7953\"], [0.7777777777777778, \"#fb9f3a\"], [0.8888888888888888, \"#fdca26\"], [1.0, \"#f0f921\"]], \"type\": \"heatmapgl\"}], \"histogram\": [{\"marker\": {\"colorbar\": {\"outlinewidth\": 0, \"ticks\": \"\"}}, \"type\": \"histogram\"}], \"histogram2d\": [{\"colorbar\": {\"outlinewidth\": 0, \"ticks\": \"\"}, \"colorscale\": [[0.0, \"#0d0887\"], [0.1111111111111111, \"#46039f\"], [0.2222222222222222, \"#7201a8\"], [0.3333333333333333, \"#9c179e\"], [0.4444444444444444, \"#bd3786\"], [0.5555555555555556, \"#d8576b\"], [0.6666666666666666, \"#ed7953\"], [0.7777777777777778, \"#fb9f3a\"], [0.8888888888888888, \"#fdca26\"], [1.0, \"#f0f921\"]], \"type\": \"histogram2d\"}], \"histogram2dcontour\": [{\"colorbar\": {\"outlinewidth\": 0, \"ticks\": \"\"}, \"colorscale\": [[0.0, \"#0d0887\"], [0.1111111111111111, \"#46039f\"], [0.2222222222222222, \"#7201a8\"], [0.3333333333333333, \"#9c179e\"], [0.4444444444444444, \"#bd3786\"], [0.5555555555555556, \"#d8576b\"], [0.6666666666666666, \"#ed7953\"], [0.7777777777777778, \"#fb9f3a\"], [0.8888888888888888, \"#fdca26\"], [1.0, \"#f0f921\"]], \"type\": \"histogram2dcontour\"}], \"mesh3d\": [{\"colorbar\": {\"outlinewidth\": 0, \"ticks\": \"\"}, \"type\": \"mesh3d\"}], \"parcoords\": [{\"line\": {\"colorbar\": {\"outlinewidth\": 0, \"ticks\": \"\"}}, \"type\": \"parcoords\"}], \"pie\": [{\"automargin\": true, \"type\": \"pie\"}], \"scatter\": [{\"marker\": {\"colorbar\": {\"outlinewidth\": 0, \"ticks\": \"\"}}, \"type\": \"scatter\"}], \"scatter3d\": [{\"line\": {\"colorbar\": {\"outlinewidth\": 0, \"ticks\": \"\"}}, \"marker\": {\"colorbar\": {\"outlinewidth\": 0, \"ticks\": \"\"}}, \"type\": \"scatter3d\"}], \"scattercarpet\": [{\"marker\": {\"colorbar\": {\"outlinewidth\": 0, \"ticks\": \"\"}}, \"type\": \"scattercarpet\"}], \"scattergeo\": [{\"marker\": {\"colorbar\": {\"outlinewidth\": 0, \"ticks\": \"\"}}, \"type\": \"scattergeo\"}], \"scattergl\": [{\"marker\": {\"colorbar\": {\"outlinewidth\": 0, \"ticks\": \"\"}}, \"type\": \"scattergl\"}], \"scattermapbox\": [{\"marker\": {\"colorbar\": {\"outlinewidth\": 0, \"ticks\": \"\"}}, \"type\": \"scattermapbox\"}], \"scatterpolar\": [{\"marker\": {\"colorbar\": {\"outlinewidth\": 0, \"ticks\": \"\"}}, \"type\": \"scatterpolar\"}], \"scatterpolargl\": [{\"marker\": {\"colorbar\": {\"outlinewidth\": 0, \"ticks\": \"\"}}, \"type\": \"scatterpolargl\"}], \"scatterternary\": [{\"marker\": {\"colorbar\": {\"outlinewidth\": 0, \"ticks\": \"\"}}, \"type\": \"scatterternary\"}], \"surface\": [{\"colorbar\": {\"outlinewidth\": 0, \"ticks\": \"\"}, \"colorscale\": [[0.0, \"#0d0887\"], [0.1111111111111111, \"#46039f\"], [0.2222222222222222, \"#7201a8\"], [0.3333333333333333, \"#9c179e\"], [0.4444444444444444, \"#bd3786\"], [0.5555555555555556, \"#d8576b\"], [0.6666666666666666, \"#ed7953\"], [0.7777777777777778, \"#fb9f3a\"], [0.8888888888888888, \"#fdca26\"], [1.0, \"#f0f921\"]], \"type\": \"surface\"}], \"table\": [{\"cells\": {\"fill\": {\"color\": \"#EBF0F8\"}, \"line\": {\"color\": \"white\"}}, \"header\": {\"fill\": {\"color\": \"#C8D4E3\"}, \"line\": {\"color\": \"white\"}}, \"type\": \"table\"}]}, \"layout\": {\"annotationdefaults\": {\"arrowcolor\": \"#2a3f5f\", \"arrowhead\": 0, \"arrowwidth\": 1}, \"autotypenumbers\": \"strict\", \"coloraxis\": {\"colorbar\": {\"outlinewidth\": 0, \"ticks\": \"\"}}, \"colorscale\": {\"diverging\": [[0, \"#8e0152\"], [0.1, \"#c51b7d\"], [0.2, \"#de77ae\"], [0.3, \"#f1b6da\"], [0.4, \"#fde0ef\"], [0.5, \"#f7f7f7\"], [0.6, \"#e6f5d0\"], [0.7, \"#b8e186\"], [0.8, \"#7fbc41\"], [0.9, \"#4d9221\"], [1, \"#276419\"]], \"sequential\": [[0.0, \"#0d0887\"], [0.1111111111111111, \"#46039f\"], [0.2222222222222222, \"#7201a8\"], [0.3333333333333333, \"#9c179e\"], [0.4444444444444444, \"#bd3786\"], [0.5555555555555556, \"#d8576b\"], [0.6666666666666666, \"#ed7953\"], [0.7777777777777778, \"#fb9f3a\"], [0.8888888888888888, \"#fdca26\"], [1.0, \"#f0f921\"]], \"sequentialminus\": [[0.0, \"#0d0887\"], [0.1111111111111111, \"#46039f\"], [0.2222222222222222, \"#7201a8\"], [0.3333333333333333, \"#9c179e\"], [0.4444444444444444, \"#bd3786\"], [0.5555555555555556, \"#d8576b\"], [0.6666666666666666, \"#ed7953\"], [0.7777777777777778, \"#fb9f3a\"], [0.8888888888888888, \"#fdca26\"], [1.0, \"#f0f921\"]]}, \"colorway\": [\"#636efa\", \"#EF553B\", \"#00cc96\", \"#ab63fa\", \"#FFA15A\", \"#19d3f3\", \"#FF6692\", \"#B6E880\", \"#FF97FF\", \"#FECB52\"], \"font\": {\"color\": \"#2a3f5f\"}, \"geo\": {\"bgcolor\": \"white\", \"lakecolor\": \"white\", \"landcolor\": \"#E5ECF6\", \"showlakes\": true, \"showland\": true, \"subunitcolor\": \"white\"}, \"hoverlabel\": {\"align\": \"left\"}, \"hovermode\": \"closest\", \"mapbox\": {\"style\": \"light\"}, \"paper_bgcolor\": \"white\", \"plot_bgcolor\": \"#E5ECF6\", \"polar\": {\"angularaxis\": {\"gridcolor\": \"white\", \"linecolor\": \"white\", \"ticks\": \"\"}, \"bgcolor\": \"#E5ECF6\", \"radialaxis\": {\"gridcolor\": \"white\", \"linecolor\": \"white\", \"ticks\": \"\"}}, \"scene\": {\"xaxis\": {\"backgroundcolor\": \"#E5ECF6\", \"gridcolor\": \"white\", \"gridwidth\": 2, \"linecolor\": \"white\", \"showbackground\": true, \"ticks\": \"\", \"zerolinecolor\": \"white\"}, \"yaxis\": {\"backgroundcolor\": \"#E5ECF6\", \"gridcolor\": \"white\", \"gridwidth\": 2, \"linecolor\": \"white\", \"showbackground\": true, \"ticks\": \"\", \"zerolinecolor\": \"white\"}, \"zaxis\": {\"backgroundcolor\": \"#E5ECF6\", \"gridcolor\": \"white\", \"gridwidth\": 2, \"linecolor\": \"white\", \"showbackground\": true, \"ticks\": \"\", \"zerolinecolor\": \"white\"}}, \"shapedefaults\": {\"line\": {\"color\": \"#2a3f5f\"}}, \"ternary\": {\"aaxis\": {\"gridcolor\": \"white\", \"linecolor\": \"white\", \"ticks\": \"\"}, \"baxis\": {\"gridcolor\": \"white\", \"linecolor\": \"white\", \"ticks\": \"\"}, \"bgcolor\": \"#E5ECF6\", \"caxis\": {\"gridcolor\": \"white\", \"linecolor\": \"white\", \"ticks\": \"\"}}, \"title\": {\"x\": 0.05}, \"xaxis\": {\"automargin\": true, \"gridcolor\": \"white\", \"linecolor\": \"white\", \"ticks\": \"\", \"title\": {\"standoff\": 15}, \"zerolinecolor\": \"white\", \"zerolinewidth\": 2}, \"yaxis\": {\"automargin\": true, \"gridcolor\": \"white\", \"linecolor\": \"white\", \"ticks\": \"\", \"title\": {\"standoff\": 15}, \"zerolinecolor\": \"white\", \"zerolinewidth\": 2}}}, \"title\": {\"font\": {\"color\": \"#4D5663\"}}, \"xaxis\": {\"gridcolor\": \"#E1E5ED\", \"showgrid\": true, \"tickfont\": {\"color\": \"#4D5663\"}, \"title\": {\"font\": {\"color\": \"#4D5663\"}, \"text\": \"\"}, \"zerolinecolor\": \"#E1E5ED\"}, \"yaxis\": {\"gridcolor\": \"#E1E5ED\", \"showgrid\": true, \"tickfont\": {\"color\": \"#4D5663\"}, \"title\": {\"font\": {\"color\": \"#4D5663\"}, \"text\": \"\"}, \"zerolinecolor\": \"#E1E5ED\"}},                        {\"showLink\": true, \"linkText\": \"Export to plot.ly\", \"plotlyServerURL\": \"https://plot.ly\", \"responsive\": true}                    ).then(function(){\n",
       "                            \n",
       "var gd = document.getElementById('83e4711c-5b05-4c22-9e26-3525b87b6d65');\n",
       "var x = new MutationObserver(function (mutations, observer) {{\n",
       "        var display = window.getComputedStyle(gd).display;\n",
       "        if (!display || display === 'none') {{\n",
       "            console.log([gd, 'removed!']);\n",
       "            Plotly.purge(gd);\n",
       "            observer.disconnect();\n",
       "        }}\n",
       "}});\n",
       "\n",
       "// Listen for the removal of the full notebook cells\n",
       "var notebookContainer = gd.closest('#notebook-container');\n",
       "if (notebookContainer) {{\n",
       "    x.observe(notebookContainer, {childList: true});\n",
       "}}\n",
       "\n",
       "// Listen for the clearing of the current output cell\n",
       "var outputEl = gd.closest('.output');\n",
       "if (outputEl) {{\n",
       "    x.observe(outputEl, {childList: true});\n",
       "}}\n",
       "\n",
       "                        })                };                });            </script>        </div>"
      ]
     },
     "metadata": {},
     "output_type": "display_data"
    }
   ],
   "source": [
    "df.iplot()"
   ]
  },
  {
   "cell_type": "code",
   "execution_count": 25,
   "metadata": {},
   "outputs": [],
   "source": [
    "%matplotlib inline"
   ]
  },
  {
   "cell_type": "code",
   "execution_count": 33,
   "metadata": {},
   "outputs": [
    {
     "data": {
      "application/vnd.plotly.v1+json": {
       "config": {
        "linkText": "Export to plot.ly",
        "plotlyServerURL": "https://plot.ly",
        "showLink": true
       },
       "data": [
        {
         "line": {
          "color": "rgba(255, 153, 51, 1.0)",
          "dash": "solid",
          "shape": "linear",
          "width": 1.3
         },
         "marker": {
          "size": 20,
          "symbol": "circle"
         },
         "mode": "markers",
         "name": "B",
         "text": "",
         "type": "scatter",
         "x": [
          -0.5480110889074034,
          -1.2920697014009046,
          -2.064720383032337,
          -0.6381949964348836,
          0.010212759440209999,
          0.794812443048594,
          -0.7278279442870339,
          0.4489067925814845,
          1.904784576609507,
          -1.3032659971088971,
          0.11803057830902464,
          -1.5910540183384845,
          0.4036629730575678,
          0.9632264730942721,
          1.5324411476637259,
          -0.04707130340337131,
          0.11174868107368494,
          -1.3117900265057767,
          -1.3083957993452056,
          0.696980809380999,
          0.7592163244817444,
          0.5250669680979622,
          -0.4449756900036982,
          -1.0014267626093265,
          -0.21335743445110616,
          -0.8514794630132676,
          0.2749573360612918,
          -0.8733300478379218,
          0.09463458411882031,
          1.4455483762466403,
          0.006188882128480812,
          -0.22631608313192741,
          -0.29524855487515117,
          0.1812433420156424,
          0.4615963474822817,
          -1.3250089684363293,
          -0.009448308083683389,
          -0.24835897398064555,
          1.2246504102660027,
          0.7647812090938544,
          0.2923490017652167,
          0.5484764320989512,
          1.3636654624881206,
          -1.098554817005937,
          0.05323209135417297,
          -0.8193664011445023,
          -0.9651881730205214,
          -0.7169235894795459,
          0.07867172577891615,
          -0.1323856621361627,
          -0.7655784144767981,
          0.9932616140585283,
          0.5168384552391037,
          1.7652722533284222,
          1.8372546061828827,
          -1.593236705292418,
          -1.7351535385081214,
          0.5235910464705479,
          -1.2678010298836502,
          -1.1620485478742044,
          0.49783153002828556,
          -0.8724397517109367,
          0.6049256246439829,
          1.400962816411936,
          0.8111886395962024,
          -1.3749913257690798,
          -0.5343381094480517,
          0.5791641404328253,
          0.8694270812021913,
          0.6977237422345381,
          -0.7518777375440403,
          -1.2664205351763898,
          0.06442315056883763,
          -0.2873984929929309,
          0.0009839494928604283,
          1.168592011704123,
          0.6604253864052589,
          -0.29521148821910714,
          1.045216265567895,
          -0.6515637069291157,
          -0.03289043947944938,
          0.22881992210491614,
          -2.120961847320266,
          -0.1534383700165545,
          -1.1210869777078845,
          0.9094502662877313,
          0.07743574010108772,
          -0.7419719470944663,
          -1.2038987086444832,
          0.14722990479865838,
          0.9751250898869979,
          -0.6264743287129438,
          0.7736042579232473,
          -0.5035091795841722,
          -1.0343753263730342,
          0.5012182124006042,
          0.03584316243864111,
          -0.5259243744479069,
          0.15306289262164952,
          1.7106987514004806
         ],
         "y": [
          1.907683558388115,
          0.4547584720364601,
          -0.4624177855774668,
          -3.651544791684352,
          -0.5678534781105319,
          1.6427839907904405,
          -0.9619000332416442,
          -0.00397187462557156,
          -0.07994051727686378,
          -0.6910522585403166,
          -0.09450542139400352,
          -0.8779483001934726,
          -1.484377860124462,
          -0.06479965458310179,
          -1.0119838104547232,
          1.0484315683481713,
          -1.704515782167066,
          0.22219933855895088,
          1.1715275094543638,
          -0.286046199843736,
          -0.18562188278474828,
          -0.5094303960311877,
          1.2804878676027072,
          1.0784034812612298,
          -0.15293803125447164,
          -0.4223642419037627,
          0.14855090724344358,
          -0.31189985968039113,
          -0.9115283059275937,
          -0.7755292866323195,
          -0.42721244214615794,
          -2.388606862034661,
          -0.05382162402532776,
          -1.3473629289778324,
          1.8397464184587116,
          0.8736778624934495,
          -0.7310055025516222,
          0.6958880162743549,
          0.9187659655864716,
          0.8376778170657083,
          0.5396368728266294,
          0.5422001050726935,
          -0.06139231471254688,
          -1.1021335608877891,
          -0.6007471372717097,
          0.1924619434883858,
          -0.08930809569198228,
          -0.2978505269315022,
          0.0005453669286284382,
          0.08106810997695915,
          -0.3694016189559964,
          -1.0281232817295345,
          0.30345560552391604,
          0.5244077540972444,
          2.0284534283011597,
          1.048432684760225,
          0.1064228659254715,
          0.6622831438984041,
          0.19685616235400402,
          1.1511224188608322,
          -0.4206663845906972,
          -1.0846896902892262,
          1.0364546676818382,
          0.6307259022389663,
          0.004641898709261438,
          -0.8605919026414243,
          0.08398903166039261,
          -0.08238436718846175,
          1.4354863201681674,
          -1.339983013618161,
          0.020894590806696794,
          0.6486539425584497,
          1.6592374195822817,
          -0.45411333440482526,
          -0.514677111791003,
          1.4378161001410212,
          0.6543605480879594,
          -0.3723065659245629,
          0.7259378993362399,
          0.17622902362307077,
          -0.21499860688233133,
          0.9541805171862572,
          -0.07743570059151514,
          1.3080387115726428,
          -0.06024810521218019,
          -1.529908094039015,
          0.7021112735494195,
          -0.9091588803591504,
          0.870523121121309,
          0.43847509793721606,
          -0.9516809883412036,
          -0.07897286417227212,
          1.3010071278367414,
          -0.08017900203553485,
          1.5367974033552878,
          -1.290113361643903,
          0.677483027354299,
          -0.8592326527444683,
          2.5979573364869557,
          -0.6669334806113064
         ]
        }
       ],
       "layout": {
        "legend": {
         "bgcolor": "#F5F6F9",
         "font": {
          "color": "#4D5663"
         }
        },
        "paper_bgcolor": "#F5F6F9",
        "plot_bgcolor": "#F5F6F9",
        "template": {
         "data": {
          "bar": [
           {
            "error_x": {
             "color": "#2a3f5f"
            },
            "error_y": {
             "color": "#2a3f5f"
            },
            "marker": {
             "line": {
              "color": "#E5ECF6",
              "width": 0.5
             }
            },
            "type": "bar"
           }
          ],
          "barpolar": [
           {
            "marker": {
             "line": {
              "color": "#E5ECF6",
              "width": 0.5
             }
            },
            "type": "barpolar"
           }
          ],
          "carpet": [
           {
            "aaxis": {
             "endlinecolor": "#2a3f5f",
             "gridcolor": "white",
             "linecolor": "white",
             "minorgridcolor": "white",
             "startlinecolor": "#2a3f5f"
            },
            "baxis": {
             "endlinecolor": "#2a3f5f",
             "gridcolor": "white",
             "linecolor": "white",
             "minorgridcolor": "white",
             "startlinecolor": "#2a3f5f"
            },
            "type": "carpet"
           }
          ],
          "choropleth": [
           {
            "colorbar": {
             "outlinewidth": 0,
             "ticks": ""
            },
            "type": "choropleth"
           }
          ],
          "contour": [
           {
            "colorbar": {
             "outlinewidth": 0,
             "ticks": ""
            },
            "colorscale": [
             [
              0,
              "#0d0887"
             ],
             [
              0.1111111111111111,
              "#46039f"
             ],
             [
              0.2222222222222222,
              "#7201a8"
             ],
             [
              0.3333333333333333,
              "#9c179e"
             ],
             [
              0.4444444444444444,
              "#bd3786"
             ],
             [
              0.5555555555555556,
              "#d8576b"
             ],
             [
              0.6666666666666666,
              "#ed7953"
             ],
             [
              0.7777777777777778,
              "#fb9f3a"
             ],
             [
              0.8888888888888888,
              "#fdca26"
             ],
             [
              1,
              "#f0f921"
             ]
            ],
            "type": "contour"
           }
          ],
          "contourcarpet": [
           {
            "colorbar": {
             "outlinewidth": 0,
             "ticks": ""
            },
            "type": "contourcarpet"
           }
          ],
          "heatmap": [
           {
            "colorbar": {
             "outlinewidth": 0,
             "ticks": ""
            },
            "colorscale": [
             [
              0,
              "#0d0887"
             ],
             [
              0.1111111111111111,
              "#46039f"
             ],
             [
              0.2222222222222222,
              "#7201a8"
             ],
             [
              0.3333333333333333,
              "#9c179e"
             ],
             [
              0.4444444444444444,
              "#bd3786"
             ],
             [
              0.5555555555555556,
              "#d8576b"
             ],
             [
              0.6666666666666666,
              "#ed7953"
             ],
             [
              0.7777777777777778,
              "#fb9f3a"
             ],
             [
              0.8888888888888888,
              "#fdca26"
             ],
             [
              1,
              "#f0f921"
             ]
            ],
            "type": "heatmap"
           }
          ],
          "heatmapgl": [
           {
            "colorbar": {
             "outlinewidth": 0,
             "ticks": ""
            },
            "colorscale": [
             [
              0,
              "#0d0887"
             ],
             [
              0.1111111111111111,
              "#46039f"
             ],
             [
              0.2222222222222222,
              "#7201a8"
             ],
             [
              0.3333333333333333,
              "#9c179e"
             ],
             [
              0.4444444444444444,
              "#bd3786"
             ],
             [
              0.5555555555555556,
              "#d8576b"
             ],
             [
              0.6666666666666666,
              "#ed7953"
             ],
             [
              0.7777777777777778,
              "#fb9f3a"
             ],
             [
              0.8888888888888888,
              "#fdca26"
             ],
             [
              1,
              "#f0f921"
             ]
            ],
            "type": "heatmapgl"
           }
          ],
          "histogram": [
           {
            "marker": {
             "colorbar": {
              "outlinewidth": 0,
              "ticks": ""
             }
            },
            "type": "histogram"
           }
          ],
          "histogram2d": [
           {
            "colorbar": {
             "outlinewidth": 0,
             "ticks": ""
            },
            "colorscale": [
             [
              0,
              "#0d0887"
             ],
             [
              0.1111111111111111,
              "#46039f"
             ],
             [
              0.2222222222222222,
              "#7201a8"
             ],
             [
              0.3333333333333333,
              "#9c179e"
             ],
             [
              0.4444444444444444,
              "#bd3786"
             ],
             [
              0.5555555555555556,
              "#d8576b"
             ],
             [
              0.6666666666666666,
              "#ed7953"
             ],
             [
              0.7777777777777778,
              "#fb9f3a"
             ],
             [
              0.8888888888888888,
              "#fdca26"
             ],
             [
              1,
              "#f0f921"
             ]
            ],
            "type": "histogram2d"
           }
          ],
          "histogram2dcontour": [
           {
            "colorbar": {
             "outlinewidth": 0,
             "ticks": ""
            },
            "colorscale": [
             [
              0,
              "#0d0887"
             ],
             [
              0.1111111111111111,
              "#46039f"
             ],
             [
              0.2222222222222222,
              "#7201a8"
             ],
             [
              0.3333333333333333,
              "#9c179e"
             ],
             [
              0.4444444444444444,
              "#bd3786"
             ],
             [
              0.5555555555555556,
              "#d8576b"
             ],
             [
              0.6666666666666666,
              "#ed7953"
             ],
             [
              0.7777777777777778,
              "#fb9f3a"
             ],
             [
              0.8888888888888888,
              "#fdca26"
             ],
             [
              1,
              "#f0f921"
             ]
            ],
            "type": "histogram2dcontour"
           }
          ],
          "mesh3d": [
           {
            "colorbar": {
             "outlinewidth": 0,
             "ticks": ""
            },
            "type": "mesh3d"
           }
          ],
          "parcoords": [
           {
            "line": {
             "colorbar": {
              "outlinewidth": 0,
              "ticks": ""
             }
            },
            "type": "parcoords"
           }
          ],
          "pie": [
           {
            "automargin": true,
            "type": "pie"
           }
          ],
          "scatter": [
           {
            "marker": {
             "colorbar": {
              "outlinewidth": 0,
              "ticks": ""
             }
            },
            "type": "scatter"
           }
          ],
          "scatter3d": [
           {
            "line": {
             "colorbar": {
              "outlinewidth": 0,
              "ticks": ""
             }
            },
            "marker": {
             "colorbar": {
              "outlinewidth": 0,
              "ticks": ""
             }
            },
            "type": "scatter3d"
           }
          ],
          "scattercarpet": [
           {
            "marker": {
             "colorbar": {
              "outlinewidth": 0,
              "ticks": ""
             }
            },
            "type": "scattercarpet"
           }
          ],
          "scattergeo": [
           {
            "marker": {
             "colorbar": {
              "outlinewidth": 0,
              "ticks": ""
             }
            },
            "type": "scattergeo"
           }
          ],
          "scattergl": [
           {
            "marker": {
             "colorbar": {
              "outlinewidth": 0,
              "ticks": ""
             }
            },
            "type": "scattergl"
           }
          ],
          "scattermapbox": [
           {
            "marker": {
             "colorbar": {
              "outlinewidth": 0,
              "ticks": ""
             }
            },
            "type": "scattermapbox"
           }
          ],
          "scatterpolar": [
           {
            "marker": {
             "colorbar": {
              "outlinewidth": 0,
              "ticks": ""
             }
            },
            "type": "scatterpolar"
           }
          ],
          "scatterpolargl": [
           {
            "marker": {
             "colorbar": {
              "outlinewidth": 0,
              "ticks": ""
             }
            },
            "type": "scatterpolargl"
           }
          ],
          "scatterternary": [
           {
            "marker": {
             "colorbar": {
              "outlinewidth": 0,
              "ticks": ""
             }
            },
            "type": "scatterternary"
           }
          ],
          "surface": [
           {
            "colorbar": {
             "outlinewidth": 0,
             "ticks": ""
            },
            "colorscale": [
             [
              0,
              "#0d0887"
             ],
             [
              0.1111111111111111,
              "#46039f"
             ],
             [
              0.2222222222222222,
              "#7201a8"
             ],
             [
              0.3333333333333333,
              "#9c179e"
             ],
             [
              0.4444444444444444,
              "#bd3786"
             ],
             [
              0.5555555555555556,
              "#d8576b"
             ],
             [
              0.6666666666666666,
              "#ed7953"
             ],
             [
              0.7777777777777778,
              "#fb9f3a"
             ],
             [
              0.8888888888888888,
              "#fdca26"
             ],
             [
              1,
              "#f0f921"
             ]
            ],
            "type": "surface"
           }
          ],
          "table": [
           {
            "cells": {
             "fill": {
              "color": "#EBF0F8"
             },
             "line": {
              "color": "white"
             }
            },
            "header": {
             "fill": {
              "color": "#C8D4E3"
             },
             "line": {
              "color": "white"
             }
            },
            "type": "table"
           }
          ]
         },
         "layout": {
          "annotationdefaults": {
           "arrowcolor": "#2a3f5f",
           "arrowhead": 0,
           "arrowwidth": 1
          },
          "autotypenumbers": "strict",
          "coloraxis": {
           "colorbar": {
            "outlinewidth": 0,
            "ticks": ""
           }
          },
          "colorscale": {
           "diverging": [
            [
             0,
             "#8e0152"
            ],
            [
             0.1,
             "#c51b7d"
            ],
            [
             0.2,
             "#de77ae"
            ],
            [
             0.3,
             "#f1b6da"
            ],
            [
             0.4,
             "#fde0ef"
            ],
            [
             0.5,
             "#f7f7f7"
            ],
            [
             0.6,
             "#e6f5d0"
            ],
            [
             0.7,
             "#b8e186"
            ],
            [
             0.8,
             "#7fbc41"
            ],
            [
             0.9,
             "#4d9221"
            ],
            [
             1,
             "#276419"
            ]
           ],
           "sequential": [
            [
             0,
             "#0d0887"
            ],
            [
             0.1111111111111111,
             "#46039f"
            ],
            [
             0.2222222222222222,
             "#7201a8"
            ],
            [
             0.3333333333333333,
             "#9c179e"
            ],
            [
             0.4444444444444444,
             "#bd3786"
            ],
            [
             0.5555555555555556,
             "#d8576b"
            ],
            [
             0.6666666666666666,
             "#ed7953"
            ],
            [
             0.7777777777777778,
             "#fb9f3a"
            ],
            [
             0.8888888888888888,
             "#fdca26"
            ],
            [
             1,
             "#f0f921"
            ]
           ],
           "sequentialminus": [
            [
             0,
             "#0d0887"
            ],
            [
             0.1111111111111111,
             "#46039f"
            ],
            [
             0.2222222222222222,
             "#7201a8"
            ],
            [
             0.3333333333333333,
             "#9c179e"
            ],
            [
             0.4444444444444444,
             "#bd3786"
            ],
            [
             0.5555555555555556,
             "#d8576b"
            ],
            [
             0.6666666666666666,
             "#ed7953"
            ],
            [
             0.7777777777777778,
             "#fb9f3a"
            ],
            [
             0.8888888888888888,
             "#fdca26"
            ],
            [
             1,
             "#f0f921"
            ]
           ]
          },
          "colorway": [
           "#636efa",
           "#EF553B",
           "#00cc96",
           "#ab63fa",
           "#FFA15A",
           "#19d3f3",
           "#FF6692",
           "#B6E880",
           "#FF97FF",
           "#FECB52"
          ],
          "font": {
           "color": "#2a3f5f"
          },
          "geo": {
           "bgcolor": "white",
           "lakecolor": "white",
           "landcolor": "#E5ECF6",
           "showlakes": true,
           "showland": true,
           "subunitcolor": "white"
          },
          "hoverlabel": {
           "align": "left"
          },
          "hovermode": "closest",
          "mapbox": {
           "style": "light"
          },
          "paper_bgcolor": "white",
          "plot_bgcolor": "#E5ECF6",
          "polar": {
           "angularaxis": {
            "gridcolor": "white",
            "linecolor": "white",
            "ticks": ""
           },
           "bgcolor": "#E5ECF6",
           "radialaxis": {
            "gridcolor": "white",
            "linecolor": "white",
            "ticks": ""
           }
          },
          "scene": {
           "xaxis": {
            "backgroundcolor": "#E5ECF6",
            "gridcolor": "white",
            "gridwidth": 2,
            "linecolor": "white",
            "showbackground": true,
            "ticks": "",
            "zerolinecolor": "white"
           },
           "yaxis": {
            "backgroundcolor": "#E5ECF6",
            "gridcolor": "white",
            "gridwidth": 2,
            "linecolor": "white",
            "showbackground": true,
            "ticks": "",
            "zerolinecolor": "white"
           },
           "zaxis": {
            "backgroundcolor": "#E5ECF6",
            "gridcolor": "white",
            "gridwidth": 2,
            "linecolor": "white",
            "showbackground": true,
            "ticks": "",
            "zerolinecolor": "white"
           }
          },
          "shapedefaults": {
           "line": {
            "color": "#2a3f5f"
           }
          },
          "ternary": {
           "aaxis": {
            "gridcolor": "white",
            "linecolor": "white",
            "ticks": ""
           },
           "baxis": {
            "gridcolor": "white",
            "linecolor": "white",
            "ticks": ""
           },
           "bgcolor": "#E5ECF6",
           "caxis": {
            "gridcolor": "white",
            "linecolor": "white",
            "ticks": ""
           }
          },
          "title": {
           "x": 0.05
          },
          "xaxis": {
           "automargin": true,
           "gridcolor": "white",
           "linecolor": "white",
           "ticks": "",
           "title": {
            "standoff": 15
           },
           "zerolinecolor": "white",
           "zerolinewidth": 2
          },
          "yaxis": {
           "automargin": true,
           "gridcolor": "white",
           "linecolor": "white",
           "ticks": "",
           "title": {
            "standoff": 15
           },
           "zerolinecolor": "white",
           "zerolinewidth": 2
          }
         }
        },
        "title": {
         "font": {
          "color": "#4D5663"
         }
        },
        "xaxis": {
         "gridcolor": "#E1E5ED",
         "showgrid": true,
         "tickfont": {
          "color": "#4D5663"
         },
         "title": {
          "font": {
           "color": "#4D5663"
          },
          "text": ""
         },
         "zerolinecolor": "#E1E5ED"
        },
        "yaxis": {
         "gridcolor": "#E1E5ED",
         "showgrid": true,
         "tickfont": {
          "color": "#4D5663"
         },
         "title": {
          "font": {
           "color": "#4D5663"
          },
          "text": ""
         },
         "zerolinecolor": "#E1E5ED"
        }
       }
      },
      "text/html": [
       "<div>                            <div id=\"8e74f5d7-f102-4241-bce9-2d0784d08ea0\" class=\"plotly-graph-div\" style=\"height:525px; width:100%;\"></div>            <script type=\"text/javascript\">                require([\"plotly\"], function(Plotly) {                    window.PLOTLYENV=window.PLOTLYENV || {};\n",
       "                    window.PLOTLYENV.BASE_URL='https://plot.ly';                                    if (document.getElementById(\"8e74f5d7-f102-4241-bce9-2d0784d08ea0\")) {                    Plotly.newPlot(                        \"8e74f5d7-f102-4241-bce9-2d0784d08ea0\",                        [{\"line\": {\"color\": \"rgba(255, 153, 51, 1.0)\", \"dash\": \"solid\", \"shape\": \"linear\", \"width\": 1.3}, \"marker\": {\"size\": 20, \"symbol\": \"circle\"}, \"mode\": \"markers\", \"name\": \"B\", \"text\": \"\", \"type\": \"scatter\", \"x\": [-0.5480110889074034, -1.2920697014009046, -2.064720383032337, -0.6381949964348836, 0.010212759440209999, 0.794812443048594, -0.7278279442870339, 0.4489067925814845, 1.904784576609507, -1.3032659971088971, 0.11803057830902464, -1.5910540183384845, 0.4036629730575678, 0.9632264730942721, 1.5324411476637259, -0.04707130340337131, 0.11174868107368494, -1.3117900265057767, -1.3083957993452056, 0.696980809380999, 0.7592163244817444, 0.5250669680979622, -0.4449756900036982, -1.0014267626093265, -0.21335743445110616, -0.8514794630132676, 0.2749573360612918, -0.8733300478379218, 0.09463458411882031, 1.4455483762466403, 0.006188882128480812, -0.22631608313192741, -0.29524855487515117, 0.1812433420156424, 0.4615963474822817, -1.3250089684363293, -0.009448308083683389, -0.24835897398064555, 1.2246504102660027, 0.7647812090938544, 0.2923490017652167, 0.5484764320989512, 1.3636654624881206, -1.098554817005937, 0.05323209135417297, -0.8193664011445023, -0.9651881730205214, -0.7169235894795459, 0.07867172577891615, -0.1323856621361627, -0.7655784144767981, 0.9932616140585283, 0.5168384552391037, 1.7652722533284222, 1.8372546061828827, -1.593236705292418, -1.7351535385081214, 0.5235910464705479, -1.2678010298836502, -1.1620485478742044, 0.49783153002828556, -0.8724397517109367, 0.6049256246439829, 1.400962816411936, 0.8111886395962024, -1.3749913257690798, -0.5343381094480517, 0.5791641404328253, 0.8694270812021913, 0.6977237422345381, -0.7518777375440403, -1.2664205351763898, 0.06442315056883763, -0.2873984929929309, 0.0009839494928604283, 1.168592011704123, 0.6604253864052589, -0.29521148821910714, 1.045216265567895, -0.6515637069291157, -0.03289043947944938, 0.22881992210491614, -2.120961847320266, -0.1534383700165545, -1.1210869777078845, 0.9094502662877313, 0.07743574010108772, -0.7419719470944663, -1.2038987086444832, 0.14722990479865838, 0.9751250898869979, -0.6264743287129438, 0.7736042579232473, -0.5035091795841722, -1.0343753263730342, 0.5012182124006042, 0.03584316243864111, -0.5259243744479069, 0.15306289262164952, 1.7106987514004806], \"y\": [1.907683558388115, 0.4547584720364601, -0.4624177855774668, -3.651544791684352, -0.5678534781105319, 1.6427839907904405, -0.9619000332416442, -0.00397187462557156, -0.07994051727686378, -0.6910522585403166, -0.09450542139400352, -0.8779483001934726, -1.484377860124462, -0.06479965458310179, -1.0119838104547232, 1.0484315683481713, -1.704515782167066, 0.22219933855895088, 1.1715275094543638, -0.286046199843736, -0.18562188278474828, -0.5094303960311877, 1.2804878676027072, 1.0784034812612298, -0.15293803125447164, -0.4223642419037627, 0.14855090724344358, -0.31189985968039113, -0.9115283059275937, -0.7755292866323195, -0.42721244214615794, -2.388606862034661, -0.05382162402532776, -1.3473629289778324, 1.8397464184587116, 0.8736778624934495, -0.7310055025516222, 0.6958880162743549, 0.9187659655864716, 0.8376778170657083, 0.5396368728266294, 0.5422001050726935, -0.06139231471254688, -1.1021335608877891, -0.6007471372717097, 0.1924619434883858, -0.08930809569198228, -0.2978505269315022, 0.0005453669286284382, 0.08106810997695915, -0.3694016189559964, -1.0281232817295345, 0.30345560552391604, 0.5244077540972444, 2.0284534283011597, 1.048432684760225, 0.1064228659254715, 0.6622831438984041, 0.19685616235400402, 1.1511224188608322, -0.4206663845906972, -1.0846896902892262, 1.0364546676818382, 0.6307259022389663, 0.004641898709261438, -0.8605919026414243, 0.08398903166039261, -0.08238436718846175, 1.4354863201681674, -1.339983013618161, 0.020894590806696794, 0.6486539425584497, 1.6592374195822817, -0.45411333440482526, -0.514677111791003, 1.4378161001410212, 0.6543605480879594, -0.3723065659245629, 0.7259378993362399, 0.17622902362307077, -0.21499860688233133, 0.9541805171862572, -0.07743570059151514, 1.3080387115726428, -0.06024810521218019, -1.529908094039015, 0.7021112735494195, -0.9091588803591504, 0.870523121121309, 0.43847509793721606, -0.9516809883412036, -0.07897286417227212, 1.3010071278367414, -0.08017900203553485, 1.5367974033552878, -1.290113361643903, 0.677483027354299, -0.8592326527444683, 2.5979573364869557, -0.6669334806113064]}],                        {\"legend\": {\"bgcolor\": \"#F5F6F9\", \"font\": {\"color\": \"#4D5663\"}}, \"paper_bgcolor\": \"#F5F6F9\", \"plot_bgcolor\": \"#F5F6F9\", \"template\": {\"data\": {\"bar\": [{\"error_x\": {\"color\": \"#2a3f5f\"}, \"error_y\": {\"color\": \"#2a3f5f\"}, \"marker\": {\"line\": {\"color\": \"#E5ECF6\", \"width\": 0.5}}, \"type\": \"bar\"}], \"barpolar\": [{\"marker\": {\"line\": {\"color\": \"#E5ECF6\", \"width\": 0.5}}, \"type\": \"barpolar\"}], \"carpet\": [{\"aaxis\": {\"endlinecolor\": \"#2a3f5f\", \"gridcolor\": \"white\", \"linecolor\": \"white\", \"minorgridcolor\": \"white\", \"startlinecolor\": \"#2a3f5f\"}, \"baxis\": {\"endlinecolor\": \"#2a3f5f\", \"gridcolor\": \"white\", \"linecolor\": \"white\", \"minorgridcolor\": \"white\", \"startlinecolor\": \"#2a3f5f\"}, \"type\": \"carpet\"}], \"choropleth\": [{\"colorbar\": {\"outlinewidth\": 0, \"ticks\": \"\"}, \"type\": \"choropleth\"}], \"contour\": [{\"colorbar\": {\"outlinewidth\": 0, \"ticks\": \"\"}, \"colorscale\": [[0.0, \"#0d0887\"], [0.1111111111111111, \"#46039f\"], [0.2222222222222222, \"#7201a8\"], [0.3333333333333333, \"#9c179e\"], [0.4444444444444444, \"#bd3786\"], [0.5555555555555556, \"#d8576b\"], [0.6666666666666666, \"#ed7953\"], [0.7777777777777778, \"#fb9f3a\"], [0.8888888888888888, \"#fdca26\"], [1.0, \"#f0f921\"]], \"type\": \"contour\"}], \"contourcarpet\": [{\"colorbar\": {\"outlinewidth\": 0, \"ticks\": \"\"}, \"type\": \"contourcarpet\"}], \"heatmap\": [{\"colorbar\": {\"outlinewidth\": 0, \"ticks\": \"\"}, \"colorscale\": [[0.0, \"#0d0887\"], [0.1111111111111111, \"#46039f\"], [0.2222222222222222, \"#7201a8\"], [0.3333333333333333, \"#9c179e\"], [0.4444444444444444, \"#bd3786\"], [0.5555555555555556, \"#d8576b\"], [0.6666666666666666, \"#ed7953\"], [0.7777777777777778, \"#fb9f3a\"], [0.8888888888888888, \"#fdca26\"], [1.0, \"#f0f921\"]], \"type\": \"heatmap\"}], \"heatmapgl\": [{\"colorbar\": {\"outlinewidth\": 0, \"ticks\": \"\"}, \"colorscale\": [[0.0, \"#0d0887\"], [0.1111111111111111, \"#46039f\"], [0.2222222222222222, \"#7201a8\"], [0.3333333333333333, \"#9c179e\"], [0.4444444444444444, \"#bd3786\"], [0.5555555555555556, \"#d8576b\"], [0.6666666666666666, \"#ed7953\"], [0.7777777777777778, \"#fb9f3a\"], [0.8888888888888888, \"#fdca26\"], [1.0, \"#f0f921\"]], \"type\": \"heatmapgl\"}], \"histogram\": [{\"marker\": {\"colorbar\": {\"outlinewidth\": 0, \"ticks\": \"\"}}, \"type\": \"histogram\"}], \"histogram2d\": [{\"colorbar\": {\"outlinewidth\": 0, \"ticks\": \"\"}, \"colorscale\": [[0.0, \"#0d0887\"], [0.1111111111111111, \"#46039f\"], [0.2222222222222222, \"#7201a8\"], [0.3333333333333333, \"#9c179e\"], [0.4444444444444444, \"#bd3786\"], [0.5555555555555556, \"#d8576b\"], [0.6666666666666666, \"#ed7953\"], [0.7777777777777778, \"#fb9f3a\"], [0.8888888888888888, \"#fdca26\"], [1.0, \"#f0f921\"]], \"type\": \"histogram2d\"}], \"histogram2dcontour\": [{\"colorbar\": {\"outlinewidth\": 0, \"ticks\": \"\"}, \"colorscale\": [[0.0, \"#0d0887\"], [0.1111111111111111, \"#46039f\"], [0.2222222222222222, \"#7201a8\"], [0.3333333333333333, \"#9c179e\"], [0.4444444444444444, \"#bd3786\"], [0.5555555555555556, \"#d8576b\"], [0.6666666666666666, \"#ed7953\"], [0.7777777777777778, \"#fb9f3a\"], [0.8888888888888888, \"#fdca26\"], [1.0, \"#f0f921\"]], \"type\": \"histogram2dcontour\"}], \"mesh3d\": [{\"colorbar\": {\"outlinewidth\": 0, \"ticks\": \"\"}, \"type\": \"mesh3d\"}], \"parcoords\": [{\"line\": {\"colorbar\": {\"outlinewidth\": 0, \"ticks\": \"\"}}, \"type\": \"parcoords\"}], \"pie\": [{\"automargin\": true, \"type\": \"pie\"}], \"scatter\": [{\"marker\": {\"colorbar\": {\"outlinewidth\": 0, \"ticks\": \"\"}}, \"type\": \"scatter\"}], \"scatter3d\": [{\"line\": {\"colorbar\": {\"outlinewidth\": 0, \"ticks\": \"\"}}, \"marker\": {\"colorbar\": {\"outlinewidth\": 0, \"ticks\": \"\"}}, \"type\": \"scatter3d\"}], \"scattercarpet\": [{\"marker\": {\"colorbar\": {\"outlinewidth\": 0, \"ticks\": \"\"}}, \"type\": \"scattercarpet\"}], \"scattergeo\": [{\"marker\": {\"colorbar\": {\"outlinewidth\": 0, \"ticks\": \"\"}}, \"type\": \"scattergeo\"}], \"scattergl\": [{\"marker\": {\"colorbar\": {\"outlinewidth\": 0, \"ticks\": \"\"}}, \"type\": \"scattergl\"}], \"scattermapbox\": [{\"marker\": {\"colorbar\": {\"outlinewidth\": 0, \"ticks\": \"\"}}, \"type\": \"scattermapbox\"}], \"scatterpolar\": [{\"marker\": {\"colorbar\": {\"outlinewidth\": 0, \"ticks\": \"\"}}, \"type\": \"scatterpolar\"}], \"scatterpolargl\": [{\"marker\": {\"colorbar\": {\"outlinewidth\": 0, \"ticks\": \"\"}}, \"type\": \"scatterpolargl\"}], \"scatterternary\": [{\"marker\": {\"colorbar\": {\"outlinewidth\": 0, \"ticks\": \"\"}}, \"type\": \"scatterternary\"}], \"surface\": [{\"colorbar\": {\"outlinewidth\": 0, \"ticks\": \"\"}, \"colorscale\": [[0.0, \"#0d0887\"], [0.1111111111111111, \"#46039f\"], [0.2222222222222222, \"#7201a8\"], [0.3333333333333333, \"#9c179e\"], [0.4444444444444444, \"#bd3786\"], [0.5555555555555556, \"#d8576b\"], [0.6666666666666666, \"#ed7953\"], [0.7777777777777778, \"#fb9f3a\"], [0.8888888888888888, \"#fdca26\"], [1.0, \"#f0f921\"]], \"type\": \"surface\"}], \"table\": [{\"cells\": {\"fill\": {\"color\": \"#EBF0F8\"}, \"line\": {\"color\": \"white\"}}, \"header\": {\"fill\": {\"color\": \"#C8D4E3\"}, \"line\": {\"color\": \"white\"}}, \"type\": \"table\"}]}, \"layout\": {\"annotationdefaults\": {\"arrowcolor\": \"#2a3f5f\", \"arrowhead\": 0, \"arrowwidth\": 1}, \"autotypenumbers\": \"strict\", \"coloraxis\": {\"colorbar\": {\"outlinewidth\": 0, \"ticks\": \"\"}}, \"colorscale\": {\"diverging\": [[0, \"#8e0152\"], [0.1, \"#c51b7d\"], [0.2, \"#de77ae\"], [0.3, \"#f1b6da\"], [0.4, \"#fde0ef\"], [0.5, \"#f7f7f7\"], [0.6, \"#e6f5d0\"], [0.7, \"#b8e186\"], [0.8, \"#7fbc41\"], [0.9, \"#4d9221\"], [1, \"#276419\"]], \"sequential\": [[0.0, \"#0d0887\"], [0.1111111111111111, \"#46039f\"], [0.2222222222222222, \"#7201a8\"], [0.3333333333333333, \"#9c179e\"], [0.4444444444444444, \"#bd3786\"], [0.5555555555555556, \"#d8576b\"], [0.6666666666666666, \"#ed7953\"], [0.7777777777777778, \"#fb9f3a\"], [0.8888888888888888, \"#fdca26\"], [1.0, \"#f0f921\"]], \"sequentialminus\": [[0.0, \"#0d0887\"], [0.1111111111111111, \"#46039f\"], [0.2222222222222222, \"#7201a8\"], [0.3333333333333333, \"#9c179e\"], [0.4444444444444444, \"#bd3786\"], [0.5555555555555556, \"#d8576b\"], [0.6666666666666666, \"#ed7953\"], [0.7777777777777778, \"#fb9f3a\"], [0.8888888888888888, \"#fdca26\"], [1.0, \"#f0f921\"]]}, \"colorway\": [\"#636efa\", \"#EF553B\", \"#00cc96\", \"#ab63fa\", \"#FFA15A\", \"#19d3f3\", \"#FF6692\", \"#B6E880\", \"#FF97FF\", \"#FECB52\"], \"font\": {\"color\": \"#2a3f5f\"}, \"geo\": {\"bgcolor\": \"white\", \"lakecolor\": \"white\", \"landcolor\": \"#E5ECF6\", \"showlakes\": true, \"showland\": true, \"subunitcolor\": \"white\"}, \"hoverlabel\": {\"align\": \"left\"}, \"hovermode\": \"closest\", \"mapbox\": {\"style\": \"light\"}, \"paper_bgcolor\": \"white\", \"plot_bgcolor\": \"#E5ECF6\", \"polar\": {\"angularaxis\": {\"gridcolor\": \"white\", \"linecolor\": \"white\", \"ticks\": \"\"}, \"bgcolor\": \"#E5ECF6\", \"radialaxis\": {\"gridcolor\": \"white\", \"linecolor\": \"white\", \"ticks\": \"\"}}, \"scene\": {\"xaxis\": {\"backgroundcolor\": \"#E5ECF6\", \"gridcolor\": \"white\", \"gridwidth\": 2, \"linecolor\": \"white\", \"showbackground\": true, \"ticks\": \"\", \"zerolinecolor\": \"white\"}, \"yaxis\": {\"backgroundcolor\": \"#E5ECF6\", \"gridcolor\": \"white\", \"gridwidth\": 2, \"linecolor\": \"white\", \"showbackground\": true, \"ticks\": \"\", \"zerolinecolor\": \"white\"}, \"zaxis\": {\"backgroundcolor\": \"#E5ECF6\", \"gridcolor\": \"white\", \"gridwidth\": 2, \"linecolor\": \"white\", \"showbackground\": true, \"ticks\": \"\", \"zerolinecolor\": \"white\"}}, \"shapedefaults\": {\"line\": {\"color\": \"#2a3f5f\"}}, \"ternary\": {\"aaxis\": {\"gridcolor\": \"white\", \"linecolor\": \"white\", \"ticks\": \"\"}, \"baxis\": {\"gridcolor\": \"white\", \"linecolor\": \"white\", \"ticks\": \"\"}, \"bgcolor\": \"#E5ECF6\", \"caxis\": {\"gridcolor\": \"white\", \"linecolor\": \"white\", \"ticks\": \"\"}}, \"title\": {\"x\": 0.05}, \"xaxis\": {\"automargin\": true, \"gridcolor\": \"white\", \"linecolor\": \"white\", \"ticks\": \"\", \"title\": {\"standoff\": 15}, \"zerolinecolor\": \"white\", \"zerolinewidth\": 2}, \"yaxis\": {\"automargin\": true, \"gridcolor\": \"white\", \"linecolor\": \"white\", \"ticks\": \"\", \"title\": {\"standoff\": 15}, \"zerolinecolor\": \"white\", \"zerolinewidth\": 2}}}, \"title\": {\"font\": {\"color\": \"#4D5663\"}}, \"xaxis\": {\"gridcolor\": \"#E1E5ED\", \"showgrid\": true, \"tickfont\": {\"color\": \"#4D5663\"}, \"title\": {\"font\": {\"color\": \"#4D5663\"}, \"text\": \"\"}, \"zerolinecolor\": \"#E1E5ED\"}, \"yaxis\": {\"gridcolor\": \"#E1E5ED\", \"showgrid\": true, \"tickfont\": {\"color\": \"#4D5663\"}, \"title\": {\"font\": {\"color\": \"#4D5663\"}, \"text\": \"\"}, \"zerolinecolor\": \"#E1E5ED\"}},                        {\"showLink\": true, \"linkText\": \"Export to plot.ly\", \"plotlyServerURL\": \"https://plot.ly\", \"responsive\": true}                    ).then(function(){\n",
       "                            \n",
       "var gd = document.getElementById('8e74f5d7-f102-4241-bce9-2d0784d08ea0');\n",
       "var x = new MutationObserver(function (mutations, observer) {{\n",
       "        var display = window.getComputedStyle(gd).display;\n",
       "        if (!display || display === 'none') {{\n",
       "            console.log([gd, 'removed!']);\n",
       "            Plotly.purge(gd);\n",
       "            observer.disconnect();\n",
       "        }}\n",
       "}});\n",
       "\n",
       "// Listen for the removal of the full notebook cells\n",
       "var notebookContainer = gd.closest('#notebook-container');\n",
       "if (notebookContainer) {{\n",
       "    x.observe(notebookContainer, {childList: true});\n",
       "}}\n",
       "\n",
       "// Listen for the clearing of the current output cell\n",
       "var outputEl = gd.closest('.output');\n",
       "if (outputEl) {{\n",
       "    x.observe(outputEl, {childList: true});\n",
       "}}\n",
       "\n",
       "                        })                };                });            </script>        </div>"
      ]
     },
     "metadata": {},
     "output_type": "display_data"
    }
   ],
   "source": [
    "df.iplot(kind='scatter', x='A', y='B', mode='markers', size=20)"
   ]
  },
  {
   "cell_type": "code",
   "execution_count": 35,
   "metadata": {},
   "outputs": [
    {
     "data": {
      "application/vnd.plotly.v1+json": {
       "config": {
        "linkText": "Export to plot.ly",
        "plotlyServerURL": "https://plot.ly",
        "showLink": true
       },
       "data": [
        {
         "marker": {
          "color": "rgba(255, 153, 51, 0.6)",
          "line": {
           "color": "rgba(255, 153, 51, 1.0)",
           "width": 1
          }
         },
         "name": "Values",
         "orientation": "v",
         "text": "",
         "type": "bar",
         "x": [
          "A",
          "B",
          "C"
         ],
         "y": [
          32,
          43,
          50
         ]
        }
       ],
       "layout": {
        "legend": {
         "bgcolor": "#F5F6F9",
         "font": {
          "color": "#4D5663"
         }
        },
        "paper_bgcolor": "#F5F6F9",
        "plot_bgcolor": "#F5F6F9",
        "template": {
         "data": {
          "bar": [
           {
            "error_x": {
             "color": "#2a3f5f"
            },
            "error_y": {
             "color": "#2a3f5f"
            },
            "marker": {
             "line": {
              "color": "#E5ECF6",
              "width": 0.5
             }
            },
            "type": "bar"
           }
          ],
          "barpolar": [
           {
            "marker": {
             "line": {
              "color": "#E5ECF6",
              "width": 0.5
             }
            },
            "type": "barpolar"
           }
          ],
          "carpet": [
           {
            "aaxis": {
             "endlinecolor": "#2a3f5f",
             "gridcolor": "white",
             "linecolor": "white",
             "minorgridcolor": "white",
             "startlinecolor": "#2a3f5f"
            },
            "baxis": {
             "endlinecolor": "#2a3f5f",
             "gridcolor": "white",
             "linecolor": "white",
             "minorgridcolor": "white",
             "startlinecolor": "#2a3f5f"
            },
            "type": "carpet"
           }
          ],
          "choropleth": [
           {
            "colorbar": {
             "outlinewidth": 0,
             "ticks": ""
            },
            "type": "choropleth"
           }
          ],
          "contour": [
           {
            "colorbar": {
             "outlinewidth": 0,
             "ticks": ""
            },
            "colorscale": [
             [
              0,
              "#0d0887"
             ],
             [
              0.1111111111111111,
              "#46039f"
             ],
             [
              0.2222222222222222,
              "#7201a8"
             ],
             [
              0.3333333333333333,
              "#9c179e"
             ],
             [
              0.4444444444444444,
              "#bd3786"
             ],
             [
              0.5555555555555556,
              "#d8576b"
             ],
             [
              0.6666666666666666,
              "#ed7953"
             ],
             [
              0.7777777777777778,
              "#fb9f3a"
             ],
             [
              0.8888888888888888,
              "#fdca26"
             ],
             [
              1,
              "#f0f921"
             ]
            ],
            "type": "contour"
           }
          ],
          "contourcarpet": [
           {
            "colorbar": {
             "outlinewidth": 0,
             "ticks": ""
            },
            "type": "contourcarpet"
           }
          ],
          "heatmap": [
           {
            "colorbar": {
             "outlinewidth": 0,
             "ticks": ""
            },
            "colorscale": [
             [
              0,
              "#0d0887"
             ],
             [
              0.1111111111111111,
              "#46039f"
             ],
             [
              0.2222222222222222,
              "#7201a8"
             ],
             [
              0.3333333333333333,
              "#9c179e"
             ],
             [
              0.4444444444444444,
              "#bd3786"
             ],
             [
              0.5555555555555556,
              "#d8576b"
             ],
             [
              0.6666666666666666,
              "#ed7953"
             ],
             [
              0.7777777777777778,
              "#fb9f3a"
             ],
             [
              0.8888888888888888,
              "#fdca26"
             ],
             [
              1,
              "#f0f921"
             ]
            ],
            "type": "heatmap"
           }
          ],
          "heatmapgl": [
           {
            "colorbar": {
             "outlinewidth": 0,
             "ticks": ""
            },
            "colorscale": [
             [
              0,
              "#0d0887"
             ],
             [
              0.1111111111111111,
              "#46039f"
             ],
             [
              0.2222222222222222,
              "#7201a8"
             ],
             [
              0.3333333333333333,
              "#9c179e"
             ],
             [
              0.4444444444444444,
              "#bd3786"
             ],
             [
              0.5555555555555556,
              "#d8576b"
             ],
             [
              0.6666666666666666,
              "#ed7953"
             ],
             [
              0.7777777777777778,
              "#fb9f3a"
             ],
             [
              0.8888888888888888,
              "#fdca26"
             ],
             [
              1,
              "#f0f921"
             ]
            ],
            "type": "heatmapgl"
           }
          ],
          "histogram": [
           {
            "marker": {
             "colorbar": {
              "outlinewidth": 0,
              "ticks": ""
             }
            },
            "type": "histogram"
           }
          ],
          "histogram2d": [
           {
            "colorbar": {
             "outlinewidth": 0,
             "ticks": ""
            },
            "colorscale": [
             [
              0,
              "#0d0887"
             ],
             [
              0.1111111111111111,
              "#46039f"
             ],
             [
              0.2222222222222222,
              "#7201a8"
             ],
             [
              0.3333333333333333,
              "#9c179e"
             ],
             [
              0.4444444444444444,
              "#bd3786"
             ],
             [
              0.5555555555555556,
              "#d8576b"
             ],
             [
              0.6666666666666666,
              "#ed7953"
             ],
             [
              0.7777777777777778,
              "#fb9f3a"
             ],
             [
              0.8888888888888888,
              "#fdca26"
             ],
             [
              1,
              "#f0f921"
             ]
            ],
            "type": "histogram2d"
           }
          ],
          "histogram2dcontour": [
           {
            "colorbar": {
             "outlinewidth": 0,
             "ticks": ""
            },
            "colorscale": [
             [
              0,
              "#0d0887"
             ],
             [
              0.1111111111111111,
              "#46039f"
             ],
             [
              0.2222222222222222,
              "#7201a8"
             ],
             [
              0.3333333333333333,
              "#9c179e"
             ],
             [
              0.4444444444444444,
              "#bd3786"
             ],
             [
              0.5555555555555556,
              "#d8576b"
             ],
             [
              0.6666666666666666,
              "#ed7953"
             ],
             [
              0.7777777777777778,
              "#fb9f3a"
             ],
             [
              0.8888888888888888,
              "#fdca26"
             ],
             [
              1,
              "#f0f921"
             ]
            ],
            "type": "histogram2dcontour"
           }
          ],
          "mesh3d": [
           {
            "colorbar": {
             "outlinewidth": 0,
             "ticks": ""
            },
            "type": "mesh3d"
           }
          ],
          "parcoords": [
           {
            "line": {
             "colorbar": {
              "outlinewidth": 0,
              "ticks": ""
             }
            },
            "type": "parcoords"
           }
          ],
          "pie": [
           {
            "automargin": true,
            "type": "pie"
           }
          ],
          "scatter": [
           {
            "marker": {
             "colorbar": {
              "outlinewidth": 0,
              "ticks": ""
             }
            },
            "type": "scatter"
           }
          ],
          "scatter3d": [
           {
            "line": {
             "colorbar": {
              "outlinewidth": 0,
              "ticks": ""
             }
            },
            "marker": {
             "colorbar": {
              "outlinewidth": 0,
              "ticks": ""
             }
            },
            "type": "scatter3d"
           }
          ],
          "scattercarpet": [
           {
            "marker": {
             "colorbar": {
              "outlinewidth": 0,
              "ticks": ""
             }
            },
            "type": "scattercarpet"
           }
          ],
          "scattergeo": [
           {
            "marker": {
             "colorbar": {
              "outlinewidth": 0,
              "ticks": ""
             }
            },
            "type": "scattergeo"
           }
          ],
          "scattergl": [
           {
            "marker": {
             "colorbar": {
              "outlinewidth": 0,
              "ticks": ""
             }
            },
            "type": "scattergl"
           }
          ],
          "scattermapbox": [
           {
            "marker": {
             "colorbar": {
              "outlinewidth": 0,
              "ticks": ""
             }
            },
            "type": "scattermapbox"
           }
          ],
          "scatterpolar": [
           {
            "marker": {
             "colorbar": {
              "outlinewidth": 0,
              "ticks": ""
             }
            },
            "type": "scatterpolar"
           }
          ],
          "scatterpolargl": [
           {
            "marker": {
             "colorbar": {
              "outlinewidth": 0,
              "ticks": ""
             }
            },
            "type": "scatterpolargl"
           }
          ],
          "scatterternary": [
           {
            "marker": {
             "colorbar": {
              "outlinewidth": 0,
              "ticks": ""
             }
            },
            "type": "scatterternary"
           }
          ],
          "surface": [
           {
            "colorbar": {
             "outlinewidth": 0,
             "ticks": ""
            },
            "colorscale": [
             [
              0,
              "#0d0887"
             ],
             [
              0.1111111111111111,
              "#46039f"
             ],
             [
              0.2222222222222222,
              "#7201a8"
             ],
             [
              0.3333333333333333,
              "#9c179e"
             ],
             [
              0.4444444444444444,
              "#bd3786"
             ],
             [
              0.5555555555555556,
              "#d8576b"
             ],
             [
              0.6666666666666666,
              "#ed7953"
             ],
             [
              0.7777777777777778,
              "#fb9f3a"
             ],
             [
              0.8888888888888888,
              "#fdca26"
             ],
             [
              1,
              "#f0f921"
             ]
            ],
            "type": "surface"
           }
          ],
          "table": [
           {
            "cells": {
             "fill": {
              "color": "#EBF0F8"
             },
             "line": {
              "color": "white"
             }
            },
            "header": {
             "fill": {
              "color": "#C8D4E3"
             },
             "line": {
              "color": "white"
             }
            },
            "type": "table"
           }
          ]
         },
         "layout": {
          "annotationdefaults": {
           "arrowcolor": "#2a3f5f",
           "arrowhead": 0,
           "arrowwidth": 1
          },
          "autotypenumbers": "strict",
          "coloraxis": {
           "colorbar": {
            "outlinewidth": 0,
            "ticks": ""
           }
          },
          "colorscale": {
           "diverging": [
            [
             0,
             "#8e0152"
            ],
            [
             0.1,
             "#c51b7d"
            ],
            [
             0.2,
             "#de77ae"
            ],
            [
             0.3,
             "#f1b6da"
            ],
            [
             0.4,
             "#fde0ef"
            ],
            [
             0.5,
             "#f7f7f7"
            ],
            [
             0.6,
             "#e6f5d0"
            ],
            [
             0.7,
             "#b8e186"
            ],
            [
             0.8,
             "#7fbc41"
            ],
            [
             0.9,
             "#4d9221"
            ],
            [
             1,
             "#276419"
            ]
           ],
           "sequential": [
            [
             0,
             "#0d0887"
            ],
            [
             0.1111111111111111,
             "#46039f"
            ],
            [
             0.2222222222222222,
             "#7201a8"
            ],
            [
             0.3333333333333333,
             "#9c179e"
            ],
            [
             0.4444444444444444,
             "#bd3786"
            ],
            [
             0.5555555555555556,
             "#d8576b"
            ],
            [
             0.6666666666666666,
             "#ed7953"
            ],
            [
             0.7777777777777778,
             "#fb9f3a"
            ],
            [
             0.8888888888888888,
             "#fdca26"
            ],
            [
             1,
             "#f0f921"
            ]
           ],
           "sequentialminus": [
            [
             0,
             "#0d0887"
            ],
            [
             0.1111111111111111,
             "#46039f"
            ],
            [
             0.2222222222222222,
             "#7201a8"
            ],
            [
             0.3333333333333333,
             "#9c179e"
            ],
            [
             0.4444444444444444,
             "#bd3786"
            ],
            [
             0.5555555555555556,
             "#d8576b"
            ],
            [
             0.6666666666666666,
             "#ed7953"
            ],
            [
             0.7777777777777778,
             "#fb9f3a"
            ],
            [
             0.8888888888888888,
             "#fdca26"
            ],
            [
             1,
             "#f0f921"
            ]
           ]
          },
          "colorway": [
           "#636efa",
           "#EF553B",
           "#00cc96",
           "#ab63fa",
           "#FFA15A",
           "#19d3f3",
           "#FF6692",
           "#B6E880",
           "#FF97FF",
           "#FECB52"
          ],
          "font": {
           "color": "#2a3f5f"
          },
          "geo": {
           "bgcolor": "white",
           "lakecolor": "white",
           "landcolor": "#E5ECF6",
           "showlakes": true,
           "showland": true,
           "subunitcolor": "white"
          },
          "hoverlabel": {
           "align": "left"
          },
          "hovermode": "closest",
          "mapbox": {
           "style": "light"
          },
          "paper_bgcolor": "white",
          "plot_bgcolor": "#E5ECF6",
          "polar": {
           "angularaxis": {
            "gridcolor": "white",
            "linecolor": "white",
            "ticks": ""
           },
           "bgcolor": "#E5ECF6",
           "radialaxis": {
            "gridcolor": "white",
            "linecolor": "white",
            "ticks": ""
           }
          },
          "scene": {
           "xaxis": {
            "backgroundcolor": "#E5ECF6",
            "gridcolor": "white",
            "gridwidth": 2,
            "linecolor": "white",
            "showbackground": true,
            "ticks": "",
            "zerolinecolor": "white"
           },
           "yaxis": {
            "backgroundcolor": "#E5ECF6",
            "gridcolor": "white",
            "gridwidth": 2,
            "linecolor": "white",
            "showbackground": true,
            "ticks": "",
            "zerolinecolor": "white"
           },
           "zaxis": {
            "backgroundcolor": "#E5ECF6",
            "gridcolor": "white",
            "gridwidth": 2,
            "linecolor": "white",
            "showbackground": true,
            "ticks": "",
            "zerolinecolor": "white"
           }
          },
          "shapedefaults": {
           "line": {
            "color": "#2a3f5f"
           }
          },
          "ternary": {
           "aaxis": {
            "gridcolor": "white",
            "linecolor": "white",
            "ticks": ""
           },
           "baxis": {
            "gridcolor": "white",
            "linecolor": "white",
            "ticks": ""
           },
           "bgcolor": "#E5ECF6",
           "caxis": {
            "gridcolor": "white",
            "linecolor": "white",
            "ticks": ""
           }
          },
          "title": {
           "x": 0.05
          },
          "xaxis": {
           "automargin": true,
           "gridcolor": "white",
           "linecolor": "white",
           "ticks": "",
           "title": {
            "standoff": 15
           },
           "zerolinecolor": "white",
           "zerolinewidth": 2
          },
          "yaxis": {
           "automargin": true,
           "gridcolor": "white",
           "linecolor": "white",
           "ticks": "",
           "title": {
            "standoff": 15
           },
           "zerolinecolor": "white",
           "zerolinewidth": 2
          }
         }
        },
        "title": {
         "font": {
          "color": "#4D5663"
         }
        },
        "xaxis": {
         "gridcolor": "#E1E5ED",
         "showgrid": true,
         "tickfont": {
          "color": "#4D5663"
         },
         "title": {
          "font": {
           "color": "#4D5663"
          },
          "text": ""
         },
         "zerolinecolor": "#E1E5ED"
        },
        "yaxis": {
         "gridcolor": "#E1E5ED",
         "showgrid": true,
         "tickfont": {
          "color": "#4D5663"
         },
         "title": {
          "font": {
           "color": "#4D5663"
          },
          "text": ""
         },
         "zerolinecolor": "#E1E5ED"
        }
       }
      },
      "text/html": [
       "<div>                            <div id=\"dd22b00a-e020-4106-af67-fbe27790f03b\" class=\"plotly-graph-div\" style=\"height:525px; width:100%;\"></div>            <script type=\"text/javascript\">                require([\"plotly\"], function(Plotly) {                    window.PLOTLYENV=window.PLOTLYENV || {};\n",
       "                    window.PLOTLYENV.BASE_URL='https://plot.ly';                                    if (document.getElementById(\"dd22b00a-e020-4106-af67-fbe27790f03b\")) {                    Plotly.newPlot(                        \"dd22b00a-e020-4106-af67-fbe27790f03b\",                        [{\"marker\": {\"color\": \"rgba(255, 153, 51, 0.6)\", \"line\": {\"color\": \"rgba(255, 153, 51, 1.0)\", \"width\": 1}}, \"name\": \"Values\", \"orientation\": \"v\", \"text\": \"\", \"type\": \"bar\", \"x\": [\"A\", \"B\", \"C\"], \"y\": [32, 43, 50]}],                        {\"legend\": {\"bgcolor\": \"#F5F6F9\", \"font\": {\"color\": \"#4D5663\"}}, \"paper_bgcolor\": \"#F5F6F9\", \"plot_bgcolor\": \"#F5F6F9\", \"template\": {\"data\": {\"bar\": [{\"error_x\": {\"color\": \"#2a3f5f\"}, \"error_y\": {\"color\": \"#2a3f5f\"}, \"marker\": {\"line\": {\"color\": \"#E5ECF6\", \"width\": 0.5}}, \"type\": \"bar\"}], \"barpolar\": [{\"marker\": {\"line\": {\"color\": \"#E5ECF6\", \"width\": 0.5}}, \"type\": \"barpolar\"}], \"carpet\": [{\"aaxis\": {\"endlinecolor\": \"#2a3f5f\", \"gridcolor\": \"white\", \"linecolor\": \"white\", \"minorgridcolor\": \"white\", \"startlinecolor\": \"#2a3f5f\"}, \"baxis\": {\"endlinecolor\": \"#2a3f5f\", \"gridcolor\": \"white\", \"linecolor\": \"white\", \"minorgridcolor\": \"white\", \"startlinecolor\": \"#2a3f5f\"}, \"type\": \"carpet\"}], \"choropleth\": [{\"colorbar\": {\"outlinewidth\": 0, \"ticks\": \"\"}, \"type\": \"choropleth\"}], \"contour\": [{\"colorbar\": {\"outlinewidth\": 0, \"ticks\": \"\"}, \"colorscale\": [[0.0, \"#0d0887\"], [0.1111111111111111, \"#46039f\"], [0.2222222222222222, \"#7201a8\"], [0.3333333333333333, \"#9c179e\"], [0.4444444444444444, \"#bd3786\"], [0.5555555555555556, \"#d8576b\"], [0.6666666666666666, \"#ed7953\"], [0.7777777777777778, \"#fb9f3a\"], [0.8888888888888888, \"#fdca26\"], [1.0, \"#f0f921\"]], \"type\": \"contour\"}], \"contourcarpet\": [{\"colorbar\": {\"outlinewidth\": 0, \"ticks\": \"\"}, \"type\": \"contourcarpet\"}], \"heatmap\": [{\"colorbar\": {\"outlinewidth\": 0, \"ticks\": \"\"}, \"colorscale\": [[0.0, \"#0d0887\"], [0.1111111111111111, \"#46039f\"], [0.2222222222222222, \"#7201a8\"], [0.3333333333333333, \"#9c179e\"], [0.4444444444444444, \"#bd3786\"], [0.5555555555555556, \"#d8576b\"], [0.6666666666666666, \"#ed7953\"], [0.7777777777777778, \"#fb9f3a\"], [0.8888888888888888, \"#fdca26\"], [1.0, \"#f0f921\"]], \"type\": \"heatmap\"}], \"heatmapgl\": [{\"colorbar\": {\"outlinewidth\": 0, \"ticks\": \"\"}, \"colorscale\": [[0.0, \"#0d0887\"], [0.1111111111111111, \"#46039f\"], [0.2222222222222222, \"#7201a8\"], [0.3333333333333333, \"#9c179e\"], [0.4444444444444444, \"#bd3786\"], [0.5555555555555556, \"#d8576b\"], [0.6666666666666666, \"#ed7953\"], [0.7777777777777778, \"#fb9f3a\"], [0.8888888888888888, \"#fdca26\"], [1.0, \"#f0f921\"]], \"type\": \"heatmapgl\"}], \"histogram\": [{\"marker\": {\"colorbar\": {\"outlinewidth\": 0, \"ticks\": \"\"}}, \"type\": \"histogram\"}], \"histogram2d\": [{\"colorbar\": {\"outlinewidth\": 0, \"ticks\": \"\"}, \"colorscale\": [[0.0, \"#0d0887\"], [0.1111111111111111, \"#46039f\"], [0.2222222222222222, \"#7201a8\"], [0.3333333333333333, \"#9c179e\"], [0.4444444444444444, \"#bd3786\"], [0.5555555555555556, \"#d8576b\"], [0.6666666666666666, \"#ed7953\"], [0.7777777777777778, \"#fb9f3a\"], [0.8888888888888888, \"#fdca26\"], [1.0, \"#f0f921\"]], \"type\": \"histogram2d\"}], \"histogram2dcontour\": [{\"colorbar\": {\"outlinewidth\": 0, \"ticks\": \"\"}, \"colorscale\": [[0.0, \"#0d0887\"], [0.1111111111111111, \"#46039f\"], [0.2222222222222222, \"#7201a8\"], [0.3333333333333333, \"#9c179e\"], [0.4444444444444444, \"#bd3786\"], [0.5555555555555556, \"#d8576b\"], [0.6666666666666666, \"#ed7953\"], [0.7777777777777778, \"#fb9f3a\"], [0.8888888888888888, \"#fdca26\"], [1.0, \"#f0f921\"]], \"type\": \"histogram2dcontour\"}], \"mesh3d\": [{\"colorbar\": {\"outlinewidth\": 0, \"ticks\": \"\"}, \"type\": \"mesh3d\"}], \"parcoords\": [{\"line\": {\"colorbar\": {\"outlinewidth\": 0, \"ticks\": \"\"}}, \"type\": \"parcoords\"}], \"pie\": [{\"automargin\": true, \"type\": \"pie\"}], \"scatter\": [{\"marker\": {\"colorbar\": {\"outlinewidth\": 0, \"ticks\": \"\"}}, \"type\": \"scatter\"}], \"scatter3d\": [{\"line\": {\"colorbar\": {\"outlinewidth\": 0, \"ticks\": \"\"}}, \"marker\": {\"colorbar\": {\"outlinewidth\": 0, \"ticks\": \"\"}}, \"type\": \"scatter3d\"}], \"scattercarpet\": [{\"marker\": {\"colorbar\": {\"outlinewidth\": 0, \"ticks\": \"\"}}, \"type\": \"scattercarpet\"}], \"scattergeo\": [{\"marker\": {\"colorbar\": {\"outlinewidth\": 0, \"ticks\": \"\"}}, \"type\": \"scattergeo\"}], \"scattergl\": [{\"marker\": {\"colorbar\": {\"outlinewidth\": 0, \"ticks\": \"\"}}, \"type\": \"scattergl\"}], \"scattermapbox\": [{\"marker\": {\"colorbar\": {\"outlinewidth\": 0, \"ticks\": \"\"}}, \"type\": \"scattermapbox\"}], \"scatterpolar\": [{\"marker\": {\"colorbar\": {\"outlinewidth\": 0, \"ticks\": \"\"}}, \"type\": \"scatterpolar\"}], \"scatterpolargl\": [{\"marker\": {\"colorbar\": {\"outlinewidth\": 0, \"ticks\": \"\"}}, \"type\": \"scatterpolargl\"}], \"scatterternary\": [{\"marker\": {\"colorbar\": {\"outlinewidth\": 0, \"ticks\": \"\"}}, \"type\": \"scatterternary\"}], \"surface\": [{\"colorbar\": {\"outlinewidth\": 0, \"ticks\": \"\"}, \"colorscale\": [[0.0, \"#0d0887\"], [0.1111111111111111, \"#46039f\"], [0.2222222222222222, \"#7201a8\"], [0.3333333333333333, \"#9c179e\"], [0.4444444444444444, \"#bd3786\"], [0.5555555555555556, \"#d8576b\"], [0.6666666666666666, \"#ed7953\"], [0.7777777777777778, \"#fb9f3a\"], [0.8888888888888888, \"#fdca26\"], [1.0, \"#f0f921\"]], \"type\": \"surface\"}], \"table\": [{\"cells\": {\"fill\": {\"color\": \"#EBF0F8\"}, \"line\": {\"color\": \"white\"}}, \"header\": {\"fill\": {\"color\": \"#C8D4E3\"}, \"line\": {\"color\": \"white\"}}, \"type\": \"table\"}]}, \"layout\": {\"annotationdefaults\": {\"arrowcolor\": \"#2a3f5f\", \"arrowhead\": 0, \"arrowwidth\": 1}, \"autotypenumbers\": \"strict\", \"coloraxis\": {\"colorbar\": {\"outlinewidth\": 0, \"ticks\": \"\"}}, \"colorscale\": {\"diverging\": [[0, \"#8e0152\"], [0.1, \"#c51b7d\"], [0.2, \"#de77ae\"], [0.3, \"#f1b6da\"], [0.4, \"#fde0ef\"], [0.5, \"#f7f7f7\"], [0.6, \"#e6f5d0\"], [0.7, \"#b8e186\"], [0.8, \"#7fbc41\"], [0.9, \"#4d9221\"], [1, \"#276419\"]], \"sequential\": [[0.0, \"#0d0887\"], [0.1111111111111111, \"#46039f\"], [0.2222222222222222, \"#7201a8\"], [0.3333333333333333, \"#9c179e\"], [0.4444444444444444, \"#bd3786\"], [0.5555555555555556, \"#d8576b\"], [0.6666666666666666, \"#ed7953\"], [0.7777777777777778, \"#fb9f3a\"], [0.8888888888888888, \"#fdca26\"], [1.0, \"#f0f921\"]], \"sequentialminus\": [[0.0, \"#0d0887\"], [0.1111111111111111, \"#46039f\"], [0.2222222222222222, \"#7201a8\"], [0.3333333333333333, \"#9c179e\"], [0.4444444444444444, \"#bd3786\"], [0.5555555555555556, \"#d8576b\"], [0.6666666666666666, \"#ed7953\"], [0.7777777777777778, \"#fb9f3a\"], [0.8888888888888888, \"#fdca26\"], [1.0, \"#f0f921\"]]}, \"colorway\": [\"#636efa\", \"#EF553B\", \"#00cc96\", \"#ab63fa\", \"#FFA15A\", \"#19d3f3\", \"#FF6692\", \"#B6E880\", \"#FF97FF\", \"#FECB52\"], \"font\": {\"color\": \"#2a3f5f\"}, \"geo\": {\"bgcolor\": \"white\", \"lakecolor\": \"white\", \"landcolor\": \"#E5ECF6\", \"showlakes\": true, \"showland\": true, \"subunitcolor\": \"white\"}, \"hoverlabel\": {\"align\": \"left\"}, \"hovermode\": \"closest\", \"mapbox\": {\"style\": \"light\"}, \"paper_bgcolor\": \"white\", \"plot_bgcolor\": \"#E5ECF6\", \"polar\": {\"angularaxis\": {\"gridcolor\": \"white\", \"linecolor\": \"white\", \"ticks\": \"\"}, \"bgcolor\": \"#E5ECF6\", \"radialaxis\": {\"gridcolor\": \"white\", \"linecolor\": \"white\", \"ticks\": \"\"}}, \"scene\": {\"xaxis\": {\"backgroundcolor\": \"#E5ECF6\", \"gridcolor\": \"white\", \"gridwidth\": 2, \"linecolor\": \"white\", \"showbackground\": true, \"ticks\": \"\", \"zerolinecolor\": \"white\"}, \"yaxis\": {\"backgroundcolor\": \"#E5ECF6\", \"gridcolor\": \"white\", \"gridwidth\": 2, \"linecolor\": \"white\", \"showbackground\": true, \"ticks\": \"\", \"zerolinecolor\": \"white\"}, \"zaxis\": {\"backgroundcolor\": \"#E5ECF6\", \"gridcolor\": \"white\", \"gridwidth\": 2, \"linecolor\": \"white\", \"showbackground\": true, \"ticks\": \"\", \"zerolinecolor\": \"white\"}}, \"shapedefaults\": {\"line\": {\"color\": \"#2a3f5f\"}}, \"ternary\": {\"aaxis\": {\"gridcolor\": \"white\", \"linecolor\": \"white\", \"ticks\": \"\"}, \"baxis\": {\"gridcolor\": \"white\", \"linecolor\": \"white\", \"ticks\": \"\"}, \"bgcolor\": \"#E5ECF6\", \"caxis\": {\"gridcolor\": \"white\", \"linecolor\": \"white\", \"ticks\": \"\"}}, \"title\": {\"x\": 0.05}, \"xaxis\": {\"automargin\": true, \"gridcolor\": \"white\", \"linecolor\": \"white\", \"ticks\": \"\", \"title\": {\"standoff\": 15}, \"zerolinecolor\": \"white\", \"zerolinewidth\": 2}, \"yaxis\": {\"automargin\": true, \"gridcolor\": \"white\", \"linecolor\": \"white\", \"ticks\": \"\", \"title\": {\"standoff\": 15}, \"zerolinecolor\": \"white\", \"zerolinewidth\": 2}}}, \"title\": {\"font\": {\"color\": \"#4D5663\"}}, \"xaxis\": {\"gridcolor\": \"#E1E5ED\", \"showgrid\": true, \"tickfont\": {\"color\": \"#4D5663\"}, \"title\": {\"font\": {\"color\": \"#4D5663\"}, \"text\": \"\"}, \"zerolinecolor\": \"#E1E5ED\"}, \"yaxis\": {\"gridcolor\": \"#E1E5ED\", \"showgrid\": true, \"tickfont\": {\"color\": \"#4D5663\"}, \"title\": {\"font\": {\"color\": \"#4D5663\"}, \"text\": \"\"}, \"zerolinecolor\": \"#E1E5ED\"}},                        {\"showLink\": true, \"linkText\": \"Export to plot.ly\", \"plotlyServerURL\": \"https://plot.ly\", \"responsive\": true}                    ).then(function(){\n",
       "                            \n",
       "var gd = document.getElementById('dd22b00a-e020-4106-af67-fbe27790f03b');\n",
       "var x = new MutationObserver(function (mutations, observer) {{\n",
       "        var display = window.getComputedStyle(gd).display;\n",
       "        if (!display || display === 'none') {{\n",
       "            console.log([gd, 'removed!']);\n",
       "            Plotly.purge(gd);\n",
       "            observer.disconnect();\n",
       "        }}\n",
       "}});\n",
       "\n",
       "// Listen for the removal of the full notebook cells\n",
       "var notebookContainer = gd.closest('#notebook-container');\n",
       "if (notebookContainer) {{\n",
       "    x.observe(notebookContainer, {childList: true});\n",
       "}}\n",
       "\n",
       "// Listen for the clearing of the current output cell\n",
       "var outputEl = gd.closest('.output');\n",
       "if (outputEl) {{\n",
       "    x.observe(outputEl, {childList: true});\n",
       "}}\n",
       "\n",
       "                        })                };                });            </script>        </div>"
      ]
     },
     "metadata": {},
     "output_type": "display_data"
    }
   ],
   "source": [
    "df2.iplot(kind='bar', x='Category', y='Values')"
   ]
  },
  {
   "cell_type": "code",
   "execution_count": 41,
   "metadata": {},
   "outputs": [
    {
     "data": {
      "application/vnd.plotly.v1+json": {
       "config": {
        "linkText": "Export to plot.ly",
        "plotlyServerURL": "https://plot.ly",
        "showLink": true
       },
       "data": [
        {
         "marker": {
          "color": "rgba(255, 153, 51, 0.6)",
          "line": {
           "color": "rgba(255, 153, 51, 1.0)",
           "width": 1
          }
         },
         "name": "None",
         "orientation": "v",
         "text": "",
         "type": "bar",
         "x": [
          "A",
          "B",
          "C",
          "D"
         ],
         "y": [
          -6.0677048299104275,
          4.841520421541911,
          -1.8676144373144292,
          10.483588496827936
         ]
        }
       ],
       "layout": {
        "legend": {
         "bgcolor": "#F5F6F9",
         "font": {
          "color": "#4D5663"
         }
        },
        "paper_bgcolor": "#F5F6F9",
        "plot_bgcolor": "#F5F6F9",
        "template": {
         "data": {
          "bar": [
           {
            "error_x": {
             "color": "#2a3f5f"
            },
            "error_y": {
             "color": "#2a3f5f"
            },
            "marker": {
             "line": {
              "color": "#E5ECF6",
              "width": 0.5
             }
            },
            "type": "bar"
           }
          ],
          "barpolar": [
           {
            "marker": {
             "line": {
              "color": "#E5ECF6",
              "width": 0.5
             }
            },
            "type": "barpolar"
           }
          ],
          "carpet": [
           {
            "aaxis": {
             "endlinecolor": "#2a3f5f",
             "gridcolor": "white",
             "linecolor": "white",
             "minorgridcolor": "white",
             "startlinecolor": "#2a3f5f"
            },
            "baxis": {
             "endlinecolor": "#2a3f5f",
             "gridcolor": "white",
             "linecolor": "white",
             "minorgridcolor": "white",
             "startlinecolor": "#2a3f5f"
            },
            "type": "carpet"
           }
          ],
          "choropleth": [
           {
            "colorbar": {
             "outlinewidth": 0,
             "ticks": ""
            },
            "type": "choropleth"
           }
          ],
          "contour": [
           {
            "colorbar": {
             "outlinewidth": 0,
             "ticks": ""
            },
            "colorscale": [
             [
              0,
              "#0d0887"
             ],
             [
              0.1111111111111111,
              "#46039f"
             ],
             [
              0.2222222222222222,
              "#7201a8"
             ],
             [
              0.3333333333333333,
              "#9c179e"
             ],
             [
              0.4444444444444444,
              "#bd3786"
             ],
             [
              0.5555555555555556,
              "#d8576b"
             ],
             [
              0.6666666666666666,
              "#ed7953"
             ],
             [
              0.7777777777777778,
              "#fb9f3a"
             ],
             [
              0.8888888888888888,
              "#fdca26"
             ],
             [
              1,
              "#f0f921"
             ]
            ],
            "type": "contour"
           }
          ],
          "contourcarpet": [
           {
            "colorbar": {
             "outlinewidth": 0,
             "ticks": ""
            },
            "type": "contourcarpet"
           }
          ],
          "heatmap": [
           {
            "colorbar": {
             "outlinewidth": 0,
             "ticks": ""
            },
            "colorscale": [
             [
              0,
              "#0d0887"
             ],
             [
              0.1111111111111111,
              "#46039f"
             ],
             [
              0.2222222222222222,
              "#7201a8"
             ],
             [
              0.3333333333333333,
              "#9c179e"
             ],
             [
              0.4444444444444444,
              "#bd3786"
             ],
             [
              0.5555555555555556,
              "#d8576b"
             ],
             [
              0.6666666666666666,
              "#ed7953"
             ],
             [
              0.7777777777777778,
              "#fb9f3a"
             ],
             [
              0.8888888888888888,
              "#fdca26"
             ],
             [
              1,
              "#f0f921"
             ]
            ],
            "type": "heatmap"
           }
          ],
          "heatmapgl": [
           {
            "colorbar": {
             "outlinewidth": 0,
             "ticks": ""
            },
            "colorscale": [
             [
              0,
              "#0d0887"
             ],
             [
              0.1111111111111111,
              "#46039f"
             ],
             [
              0.2222222222222222,
              "#7201a8"
             ],
             [
              0.3333333333333333,
              "#9c179e"
             ],
             [
              0.4444444444444444,
              "#bd3786"
             ],
             [
              0.5555555555555556,
              "#d8576b"
             ],
             [
              0.6666666666666666,
              "#ed7953"
             ],
             [
              0.7777777777777778,
              "#fb9f3a"
             ],
             [
              0.8888888888888888,
              "#fdca26"
             ],
             [
              1,
              "#f0f921"
             ]
            ],
            "type": "heatmapgl"
           }
          ],
          "histogram": [
           {
            "marker": {
             "colorbar": {
              "outlinewidth": 0,
              "ticks": ""
             }
            },
            "type": "histogram"
           }
          ],
          "histogram2d": [
           {
            "colorbar": {
             "outlinewidth": 0,
             "ticks": ""
            },
            "colorscale": [
             [
              0,
              "#0d0887"
             ],
             [
              0.1111111111111111,
              "#46039f"
             ],
             [
              0.2222222222222222,
              "#7201a8"
             ],
             [
              0.3333333333333333,
              "#9c179e"
             ],
             [
              0.4444444444444444,
              "#bd3786"
             ],
             [
              0.5555555555555556,
              "#d8576b"
             ],
             [
              0.6666666666666666,
              "#ed7953"
             ],
             [
              0.7777777777777778,
              "#fb9f3a"
             ],
             [
              0.8888888888888888,
              "#fdca26"
             ],
             [
              1,
              "#f0f921"
             ]
            ],
            "type": "histogram2d"
           }
          ],
          "histogram2dcontour": [
           {
            "colorbar": {
             "outlinewidth": 0,
             "ticks": ""
            },
            "colorscale": [
             [
              0,
              "#0d0887"
             ],
             [
              0.1111111111111111,
              "#46039f"
             ],
             [
              0.2222222222222222,
              "#7201a8"
             ],
             [
              0.3333333333333333,
              "#9c179e"
             ],
             [
              0.4444444444444444,
              "#bd3786"
             ],
             [
              0.5555555555555556,
              "#d8576b"
             ],
             [
              0.6666666666666666,
              "#ed7953"
             ],
             [
              0.7777777777777778,
              "#fb9f3a"
             ],
             [
              0.8888888888888888,
              "#fdca26"
             ],
             [
              1,
              "#f0f921"
             ]
            ],
            "type": "histogram2dcontour"
           }
          ],
          "mesh3d": [
           {
            "colorbar": {
             "outlinewidth": 0,
             "ticks": ""
            },
            "type": "mesh3d"
           }
          ],
          "parcoords": [
           {
            "line": {
             "colorbar": {
              "outlinewidth": 0,
              "ticks": ""
             }
            },
            "type": "parcoords"
           }
          ],
          "pie": [
           {
            "automargin": true,
            "type": "pie"
           }
          ],
          "scatter": [
           {
            "marker": {
             "colorbar": {
              "outlinewidth": 0,
              "ticks": ""
             }
            },
            "type": "scatter"
           }
          ],
          "scatter3d": [
           {
            "line": {
             "colorbar": {
              "outlinewidth": 0,
              "ticks": ""
             }
            },
            "marker": {
             "colorbar": {
              "outlinewidth": 0,
              "ticks": ""
             }
            },
            "type": "scatter3d"
           }
          ],
          "scattercarpet": [
           {
            "marker": {
             "colorbar": {
              "outlinewidth": 0,
              "ticks": ""
             }
            },
            "type": "scattercarpet"
           }
          ],
          "scattergeo": [
           {
            "marker": {
             "colorbar": {
              "outlinewidth": 0,
              "ticks": ""
             }
            },
            "type": "scattergeo"
           }
          ],
          "scattergl": [
           {
            "marker": {
             "colorbar": {
              "outlinewidth": 0,
              "ticks": ""
             }
            },
            "type": "scattergl"
           }
          ],
          "scattermapbox": [
           {
            "marker": {
             "colorbar": {
              "outlinewidth": 0,
              "ticks": ""
             }
            },
            "type": "scattermapbox"
           }
          ],
          "scatterpolar": [
           {
            "marker": {
             "colorbar": {
              "outlinewidth": 0,
              "ticks": ""
             }
            },
            "type": "scatterpolar"
           }
          ],
          "scatterpolargl": [
           {
            "marker": {
             "colorbar": {
              "outlinewidth": 0,
              "ticks": ""
             }
            },
            "type": "scatterpolargl"
           }
          ],
          "scatterternary": [
           {
            "marker": {
             "colorbar": {
              "outlinewidth": 0,
              "ticks": ""
             }
            },
            "type": "scatterternary"
           }
          ],
          "surface": [
           {
            "colorbar": {
             "outlinewidth": 0,
             "ticks": ""
            },
            "colorscale": [
             [
              0,
              "#0d0887"
             ],
             [
              0.1111111111111111,
              "#46039f"
             ],
             [
              0.2222222222222222,
              "#7201a8"
             ],
             [
              0.3333333333333333,
              "#9c179e"
             ],
             [
              0.4444444444444444,
              "#bd3786"
             ],
             [
              0.5555555555555556,
              "#d8576b"
             ],
             [
              0.6666666666666666,
              "#ed7953"
             ],
             [
              0.7777777777777778,
              "#fb9f3a"
             ],
             [
              0.8888888888888888,
              "#fdca26"
             ],
             [
              1,
              "#f0f921"
             ]
            ],
            "type": "surface"
           }
          ],
          "table": [
           {
            "cells": {
             "fill": {
              "color": "#EBF0F8"
             },
             "line": {
              "color": "white"
             }
            },
            "header": {
             "fill": {
              "color": "#C8D4E3"
             },
             "line": {
              "color": "white"
             }
            },
            "type": "table"
           }
          ]
         },
         "layout": {
          "annotationdefaults": {
           "arrowcolor": "#2a3f5f",
           "arrowhead": 0,
           "arrowwidth": 1
          },
          "autotypenumbers": "strict",
          "coloraxis": {
           "colorbar": {
            "outlinewidth": 0,
            "ticks": ""
           }
          },
          "colorscale": {
           "diverging": [
            [
             0,
             "#8e0152"
            ],
            [
             0.1,
             "#c51b7d"
            ],
            [
             0.2,
             "#de77ae"
            ],
            [
             0.3,
             "#f1b6da"
            ],
            [
             0.4,
             "#fde0ef"
            ],
            [
             0.5,
             "#f7f7f7"
            ],
            [
             0.6,
             "#e6f5d0"
            ],
            [
             0.7,
             "#b8e186"
            ],
            [
             0.8,
             "#7fbc41"
            ],
            [
             0.9,
             "#4d9221"
            ],
            [
             1,
             "#276419"
            ]
           ],
           "sequential": [
            [
             0,
             "#0d0887"
            ],
            [
             0.1111111111111111,
             "#46039f"
            ],
            [
             0.2222222222222222,
             "#7201a8"
            ],
            [
             0.3333333333333333,
             "#9c179e"
            ],
            [
             0.4444444444444444,
             "#bd3786"
            ],
            [
             0.5555555555555556,
             "#d8576b"
            ],
            [
             0.6666666666666666,
             "#ed7953"
            ],
            [
             0.7777777777777778,
             "#fb9f3a"
            ],
            [
             0.8888888888888888,
             "#fdca26"
            ],
            [
             1,
             "#f0f921"
            ]
           ],
           "sequentialminus": [
            [
             0,
             "#0d0887"
            ],
            [
             0.1111111111111111,
             "#46039f"
            ],
            [
             0.2222222222222222,
             "#7201a8"
            ],
            [
             0.3333333333333333,
             "#9c179e"
            ],
            [
             0.4444444444444444,
             "#bd3786"
            ],
            [
             0.5555555555555556,
             "#d8576b"
            ],
            [
             0.6666666666666666,
             "#ed7953"
            ],
            [
             0.7777777777777778,
             "#fb9f3a"
            ],
            [
             0.8888888888888888,
             "#fdca26"
            ],
            [
             1,
             "#f0f921"
            ]
           ]
          },
          "colorway": [
           "#636efa",
           "#EF553B",
           "#00cc96",
           "#ab63fa",
           "#FFA15A",
           "#19d3f3",
           "#FF6692",
           "#B6E880",
           "#FF97FF",
           "#FECB52"
          ],
          "font": {
           "color": "#2a3f5f"
          },
          "geo": {
           "bgcolor": "white",
           "lakecolor": "white",
           "landcolor": "#E5ECF6",
           "showlakes": true,
           "showland": true,
           "subunitcolor": "white"
          },
          "hoverlabel": {
           "align": "left"
          },
          "hovermode": "closest",
          "mapbox": {
           "style": "light"
          },
          "paper_bgcolor": "white",
          "plot_bgcolor": "#E5ECF6",
          "polar": {
           "angularaxis": {
            "gridcolor": "white",
            "linecolor": "white",
            "ticks": ""
           },
           "bgcolor": "#E5ECF6",
           "radialaxis": {
            "gridcolor": "white",
            "linecolor": "white",
            "ticks": ""
           }
          },
          "scene": {
           "xaxis": {
            "backgroundcolor": "#E5ECF6",
            "gridcolor": "white",
            "gridwidth": 2,
            "linecolor": "white",
            "showbackground": true,
            "ticks": "",
            "zerolinecolor": "white"
           },
           "yaxis": {
            "backgroundcolor": "#E5ECF6",
            "gridcolor": "white",
            "gridwidth": 2,
            "linecolor": "white",
            "showbackground": true,
            "ticks": "",
            "zerolinecolor": "white"
           },
           "zaxis": {
            "backgroundcolor": "#E5ECF6",
            "gridcolor": "white",
            "gridwidth": 2,
            "linecolor": "white",
            "showbackground": true,
            "ticks": "",
            "zerolinecolor": "white"
           }
          },
          "shapedefaults": {
           "line": {
            "color": "#2a3f5f"
           }
          },
          "ternary": {
           "aaxis": {
            "gridcolor": "white",
            "linecolor": "white",
            "ticks": ""
           },
           "baxis": {
            "gridcolor": "white",
            "linecolor": "white",
            "ticks": ""
           },
           "bgcolor": "#E5ECF6",
           "caxis": {
            "gridcolor": "white",
            "linecolor": "white",
            "ticks": ""
           }
          },
          "title": {
           "x": 0.05
          },
          "xaxis": {
           "automargin": true,
           "gridcolor": "white",
           "linecolor": "white",
           "ticks": "",
           "title": {
            "standoff": 15
           },
           "zerolinecolor": "white",
           "zerolinewidth": 2
          },
          "yaxis": {
           "automargin": true,
           "gridcolor": "white",
           "linecolor": "white",
           "ticks": "",
           "title": {
            "standoff": 15
           },
           "zerolinecolor": "white",
           "zerolinewidth": 2
          }
         }
        },
        "title": {
         "font": {
          "color": "#4D5663"
         }
        },
        "xaxis": {
         "gridcolor": "#E1E5ED",
         "showgrid": true,
         "tickfont": {
          "color": "#4D5663"
         },
         "title": {
          "font": {
           "color": "#4D5663"
          },
          "text": ""
         },
         "zerolinecolor": "#E1E5ED"
        },
        "yaxis": {
         "gridcolor": "#E1E5ED",
         "showgrid": true,
         "tickfont": {
          "color": "#4D5663"
         },
         "title": {
          "font": {
           "color": "#4D5663"
          },
          "text": ""
         },
         "zerolinecolor": "#E1E5ED"
        }
       }
      },
      "text/html": [
       "<div>                            <div id=\"aa519cb2-e193-4203-8a28-81c8a30c1cab\" class=\"plotly-graph-div\" style=\"height:525px; width:100%;\"></div>            <script type=\"text/javascript\">                require([\"plotly\"], function(Plotly) {                    window.PLOTLYENV=window.PLOTLYENV || {};\n",
       "                    window.PLOTLYENV.BASE_URL='https://plot.ly';                                    if (document.getElementById(\"aa519cb2-e193-4203-8a28-81c8a30c1cab\")) {                    Plotly.newPlot(                        \"aa519cb2-e193-4203-8a28-81c8a30c1cab\",                        [{\"marker\": {\"color\": \"rgba(255, 153, 51, 0.6)\", \"line\": {\"color\": \"rgba(255, 153, 51, 1.0)\", \"width\": 1}}, \"name\": \"None\", \"orientation\": \"v\", \"text\": \"\", \"type\": \"bar\", \"x\": [\"A\", \"B\", \"C\", \"D\"], \"y\": [-6.0677048299104275, 4.841520421541911, -1.8676144373144292, 10.483588496827936]}],                        {\"legend\": {\"bgcolor\": \"#F5F6F9\", \"font\": {\"color\": \"#4D5663\"}}, \"paper_bgcolor\": \"#F5F6F9\", \"plot_bgcolor\": \"#F5F6F9\", \"template\": {\"data\": {\"bar\": [{\"error_x\": {\"color\": \"#2a3f5f\"}, \"error_y\": {\"color\": \"#2a3f5f\"}, \"marker\": {\"line\": {\"color\": \"#E5ECF6\", \"width\": 0.5}}, \"type\": \"bar\"}], \"barpolar\": [{\"marker\": {\"line\": {\"color\": \"#E5ECF6\", \"width\": 0.5}}, \"type\": \"barpolar\"}], \"carpet\": [{\"aaxis\": {\"endlinecolor\": \"#2a3f5f\", \"gridcolor\": \"white\", \"linecolor\": \"white\", \"minorgridcolor\": \"white\", \"startlinecolor\": \"#2a3f5f\"}, \"baxis\": {\"endlinecolor\": \"#2a3f5f\", \"gridcolor\": \"white\", \"linecolor\": \"white\", \"minorgridcolor\": \"white\", \"startlinecolor\": \"#2a3f5f\"}, \"type\": \"carpet\"}], \"choropleth\": [{\"colorbar\": {\"outlinewidth\": 0, \"ticks\": \"\"}, \"type\": \"choropleth\"}], \"contour\": [{\"colorbar\": {\"outlinewidth\": 0, \"ticks\": \"\"}, \"colorscale\": [[0.0, \"#0d0887\"], [0.1111111111111111, \"#46039f\"], [0.2222222222222222, \"#7201a8\"], [0.3333333333333333, \"#9c179e\"], [0.4444444444444444, \"#bd3786\"], [0.5555555555555556, \"#d8576b\"], [0.6666666666666666, \"#ed7953\"], [0.7777777777777778, \"#fb9f3a\"], [0.8888888888888888, \"#fdca26\"], [1.0, \"#f0f921\"]], \"type\": \"contour\"}], \"contourcarpet\": [{\"colorbar\": {\"outlinewidth\": 0, \"ticks\": \"\"}, \"type\": \"contourcarpet\"}], \"heatmap\": [{\"colorbar\": {\"outlinewidth\": 0, \"ticks\": \"\"}, \"colorscale\": [[0.0, \"#0d0887\"], [0.1111111111111111, \"#46039f\"], [0.2222222222222222, \"#7201a8\"], [0.3333333333333333, \"#9c179e\"], [0.4444444444444444, \"#bd3786\"], [0.5555555555555556, \"#d8576b\"], [0.6666666666666666, \"#ed7953\"], [0.7777777777777778, \"#fb9f3a\"], [0.8888888888888888, \"#fdca26\"], [1.0, \"#f0f921\"]], \"type\": \"heatmap\"}], \"heatmapgl\": [{\"colorbar\": {\"outlinewidth\": 0, \"ticks\": \"\"}, \"colorscale\": [[0.0, \"#0d0887\"], [0.1111111111111111, \"#46039f\"], [0.2222222222222222, \"#7201a8\"], [0.3333333333333333, \"#9c179e\"], [0.4444444444444444, \"#bd3786\"], [0.5555555555555556, \"#d8576b\"], [0.6666666666666666, \"#ed7953\"], [0.7777777777777778, \"#fb9f3a\"], [0.8888888888888888, \"#fdca26\"], [1.0, \"#f0f921\"]], \"type\": \"heatmapgl\"}], \"histogram\": [{\"marker\": {\"colorbar\": {\"outlinewidth\": 0, \"ticks\": \"\"}}, \"type\": \"histogram\"}], \"histogram2d\": [{\"colorbar\": {\"outlinewidth\": 0, \"ticks\": \"\"}, \"colorscale\": [[0.0, \"#0d0887\"], [0.1111111111111111, \"#46039f\"], [0.2222222222222222, \"#7201a8\"], [0.3333333333333333, \"#9c179e\"], [0.4444444444444444, \"#bd3786\"], [0.5555555555555556, \"#d8576b\"], [0.6666666666666666, \"#ed7953\"], [0.7777777777777778, \"#fb9f3a\"], [0.8888888888888888, \"#fdca26\"], [1.0, \"#f0f921\"]], \"type\": \"histogram2d\"}], \"histogram2dcontour\": [{\"colorbar\": {\"outlinewidth\": 0, \"ticks\": \"\"}, \"colorscale\": [[0.0, \"#0d0887\"], [0.1111111111111111, \"#46039f\"], [0.2222222222222222, \"#7201a8\"], [0.3333333333333333, \"#9c179e\"], [0.4444444444444444, \"#bd3786\"], [0.5555555555555556, \"#d8576b\"], [0.6666666666666666, \"#ed7953\"], [0.7777777777777778, \"#fb9f3a\"], [0.8888888888888888, \"#fdca26\"], [1.0, \"#f0f921\"]], \"type\": \"histogram2dcontour\"}], \"mesh3d\": [{\"colorbar\": {\"outlinewidth\": 0, \"ticks\": \"\"}, \"type\": \"mesh3d\"}], \"parcoords\": [{\"line\": {\"colorbar\": {\"outlinewidth\": 0, \"ticks\": \"\"}}, \"type\": \"parcoords\"}], \"pie\": [{\"automargin\": true, \"type\": \"pie\"}], \"scatter\": [{\"marker\": {\"colorbar\": {\"outlinewidth\": 0, \"ticks\": \"\"}}, \"type\": \"scatter\"}], \"scatter3d\": [{\"line\": {\"colorbar\": {\"outlinewidth\": 0, \"ticks\": \"\"}}, \"marker\": {\"colorbar\": {\"outlinewidth\": 0, \"ticks\": \"\"}}, \"type\": \"scatter3d\"}], \"scattercarpet\": [{\"marker\": {\"colorbar\": {\"outlinewidth\": 0, \"ticks\": \"\"}}, \"type\": \"scattercarpet\"}], \"scattergeo\": [{\"marker\": {\"colorbar\": {\"outlinewidth\": 0, \"ticks\": \"\"}}, \"type\": \"scattergeo\"}], \"scattergl\": [{\"marker\": {\"colorbar\": {\"outlinewidth\": 0, \"ticks\": \"\"}}, \"type\": \"scattergl\"}], \"scattermapbox\": [{\"marker\": {\"colorbar\": {\"outlinewidth\": 0, \"ticks\": \"\"}}, \"type\": \"scattermapbox\"}], \"scatterpolar\": [{\"marker\": {\"colorbar\": {\"outlinewidth\": 0, \"ticks\": \"\"}}, \"type\": \"scatterpolar\"}], \"scatterpolargl\": [{\"marker\": {\"colorbar\": {\"outlinewidth\": 0, \"ticks\": \"\"}}, \"type\": \"scatterpolargl\"}], \"scatterternary\": [{\"marker\": {\"colorbar\": {\"outlinewidth\": 0, \"ticks\": \"\"}}, \"type\": \"scatterternary\"}], \"surface\": [{\"colorbar\": {\"outlinewidth\": 0, \"ticks\": \"\"}, \"colorscale\": [[0.0, \"#0d0887\"], [0.1111111111111111, \"#46039f\"], [0.2222222222222222, \"#7201a8\"], [0.3333333333333333, \"#9c179e\"], [0.4444444444444444, \"#bd3786\"], [0.5555555555555556, \"#d8576b\"], [0.6666666666666666, \"#ed7953\"], [0.7777777777777778, \"#fb9f3a\"], [0.8888888888888888, \"#fdca26\"], [1.0, \"#f0f921\"]], \"type\": \"surface\"}], \"table\": [{\"cells\": {\"fill\": {\"color\": \"#EBF0F8\"}, \"line\": {\"color\": \"white\"}}, \"header\": {\"fill\": {\"color\": \"#C8D4E3\"}, \"line\": {\"color\": \"white\"}}, \"type\": \"table\"}]}, \"layout\": {\"annotationdefaults\": {\"arrowcolor\": \"#2a3f5f\", \"arrowhead\": 0, \"arrowwidth\": 1}, \"autotypenumbers\": \"strict\", \"coloraxis\": {\"colorbar\": {\"outlinewidth\": 0, \"ticks\": \"\"}}, \"colorscale\": {\"diverging\": [[0, \"#8e0152\"], [0.1, \"#c51b7d\"], [0.2, \"#de77ae\"], [0.3, \"#f1b6da\"], [0.4, \"#fde0ef\"], [0.5, \"#f7f7f7\"], [0.6, \"#e6f5d0\"], [0.7, \"#b8e186\"], [0.8, \"#7fbc41\"], [0.9, \"#4d9221\"], [1, \"#276419\"]], \"sequential\": [[0.0, \"#0d0887\"], [0.1111111111111111, \"#46039f\"], [0.2222222222222222, \"#7201a8\"], [0.3333333333333333, \"#9c179e\"], [0.4444444444444444, \"#bd3786\"], [0.5555555555555556, \"#d8576b\"], [0.6666666666666666, \"#ed7953\"], [0.7777777777777778, \"#fb9f3a\"], [0.8888888888888888, \"#fdca26\"], [1.0, \"#f0f921\"]], \"sequentialminus\": [[0.0, \"#0d0887\"], [0.1111111111111111, \"#46039f\"], [0.2222222222222222, \"#7201a8\"], [0.3333333333333333, \"#9c179e\"], [0.4444444444444444, \"#bd3786\"], [0.5555555555555556, \"#d8576b\"], [0.6666666666666666, \"#ed7953\"], [0.7777777777777778, \"#fb9f3a\"], [0.8888888888888888, \"#fdca26\"], [1.0, \"#f0f921\"]]}, \"colorway\": [\"#636efa\", \"#EF553B\", \"#00cc96\", \"#ab63fa\", \"#FFA15A\", \"#19d3f3\", \"#FF6692\", \"#B6E880\", \"#FF97FF\", \"#FECB52\"], \"font\": {\"color\": \"#2a3f5f\"}, \"geo\": {\"bgcolor\": \"white\", \"lakecolor\": \"white\", \"landcolor\": \"#E5ECF6\", \"showlakes\": true, \"showland\": true, \"subunitcolor\": \"white\"}, \"hoverlabel\": {\"align\": \"left\"}, \"hovermode\": \"closest\", \"mapbox\": {\"style\": \"light\"}, \"paper_bgcolor\": \"white\", \"plot_bgcolor\": \"#E5ECF6\", \"polar\": {\"angularaxis\": {\"gridcolor\": \"white\", \"linecolor\": \"white\", \"ticks\": \"\"}, \"bgcolor\": \"#E5ECF6\", \"radialaxis\": {\"gridcolor\": \"white\", \"linecolor\": \"white\", \"ticks\": \"\"}}, \"scene\": {\"xaxis\": {\"backgroundcolor\": \"#E5ECF6\", \"gridcolor\": \"white\", \"gridwidth\": 2, \"linecolor\": \"white\", \"showbackground\": true, \"ticks\": \"\", \"zerolinecolor\": \"white\"}, \"yaxis\": {\"backgroundcolor\": \"#E5ECF6\", \"gridcolor\": \"white\", \"gridwidth\": 2, \"linecolor\": \"white\", \"showbackground\": true, \"ticks\": \"\", \"zerolinecolor\": \"white\"}, \"zaxis\": {\"backgroundcolor\": \"#E5ECF6\", \"gridcolor\": \"white\", \"gridwidth\": 2, \"linecolor\": \"white\", \"showbackground\": true, \"ticks\": \"\", \"zerolinecolor\": \"white\"}}, \"shapedefaults\": {\"line\": {\"color\": \"#2a3f5f\"}}, \"ternary\": {\"aaxis\": {\"gridcolor\": \"white\", \"linecolor\": \"white\", \"ticks\": \"\"}, \"baxis\": {\"gridcolor\": \"white\", \"linecolor\": \"white\", \"ticks\": \"\"}, \"bgcolor\": \"#E5ECF6\", \"caxis\": {\"gridcolor\": \"white\", \"linecolor\": \"white\", \"ticks\": \"\"}}, \"title\": {\"x\": 0.05}, \"xaxis\": {\"automargin\": true, \"gridcolor\": \"white\", \"linecolor\": \"white\", \"ticks\": \"\", \"title\": {\"standoff\": 15}, \"zerolinecolor\": \"white\", \"zerolinewidth\": 2}, \"yaxis\": {\"automargin\": true, \"gridcolor\": \"white\", \"linecolor\": \"white\", \"ticks\": \"\", \"title\": {\"standoff\": 15}, \"zerolinecolor\": \"white\", \"zerolinewidth\": 2}}}, \"title\": {\"font\": {\"color\": \"#4D5663\"}}, \"xaxis\": {\"gridcolor\": \"#E1E5ED\", \"showgrid\": true, \"tickfont\": {\"color\": \"#4D5663\"}, \"title\": {\"font\": {\"color\": \"#4D5663\"}, \"text\": \"\"}, \"zerolinecolor\": \"#E1E5ED\"}, \"yaxis\": {\"gridcolor\": \"#E1E5ED\", \"showgrid\": true, \"tickfont\": {\"color\": \"#4D5663\"}, \"title\": {\"font\": {\"color\": \"#4D5663\"}, \"text\": \"\"}, \"zerolinecolor\": \"#E1E5ED\"}},                        {\"showLink\": true, \"linkText\": \"Export to plot.ly\", \"plotlyServerURL\": \"https://plot.ly\", \"responsive\": true}                    ).then(function(){\n",
       "                            \n",
       "var gd = document.getElementById('aa519cb2-e193-4203-8a28-81c8a30c1cab');\n",
       "var x = new MutationObserver(function (mutations, observer) {{\n",
       "        var display = window.getComputedStyle(gd).display;\n",
       "        if (!display || display === 'none') {{\n",
       "            console.log([gd, 'removed!']);\n",
       "            Plotly.purge(gd);\n",
       "            observer.disconnect();\n",
       "        }}\n",
       "}});\n",
       "\n",
       "// Listen for the removal of the full notebook cells\n",
       "var notebookContainer = gd.closest('#notebook-container');\n",
       "if (notebookContainer) {{\n",
       "    x.observe(notebookContainer, {childList: true});\n",
       "}}\n",
       "\n",
       "// Listen for the clearing of the current output cell\n",
       "var outputEl = gd.closest('.output');\n",
       "if (outputEl) {{\n",
       "    x.observe(outputEl, {childList: true});\n",
       "}}\n",
       "\n",
       "                        })                };                });            </script>        </div>"
      ]
     },
     "metadata": {},
     "output_type": "display_data"
    }
   ],
   "source": [
    "#df.count().iplot(kind='bar')\n",
    "df.sum().iplot(kind='bar')"
   ]
  },
  {
   "cell_type": "code",
   "execution_count": 42,
   "metadata": {},
   "outputs": [
    {
     "data": {
      "application/vnd.plotly.v1+json": {
       "config": {
        "linkText": "Export to plot.ly",
        "plotlyServerURL": "https://plot.ly",
        "showLink": true
       },
       "data": [
        {
         "boxpoints": false,
         "line": {
          "width": 1.3
         },
         "marker": {
          "color": "rgba(255, 153, 51, 1.0)"
         },
         "name": "A",
         "orientation": "v",
         "type": "box",
         "y": [
          -0.5480110889074034,
          -1.2920697014009046,
          -2.064720383032337,
          -0.6381949964348836,
          0.010212759440209999,
          0.794812443048594,
          -0.7278279442870339,
          0.4489067925814845,
          1.904784576609507,
          -1.3032659971088971,
          0.11803057830902464,
          -1.5910540183384845,
          0.4036629730575678,
          0.9632264730942721,
          1.5324411476637259,
          -0.04707130340337131,
          0.11174868107368494,
          -1.3117900265057767,
          -1.3083957993452056,
          0.696980809380999,
          0.7592163244817444,
          0.5250669680979622,
          -0.4449756900036982,
          -1.0014267626093265,
          -0.21335743445110616,
          -0.8514794630132676,
          0.2749573360612918,
          -0.8733300478379218,
          0.09463458411882031,
          1.4455483762466403,
          0.006188882128480812,
          -0.22631608313192741,
          -0.29524855487515117,
          0.1812433420156424,
          0.4615963474822817,
          -1.3250089684363293,
          -0.009448308083683389,
          -0.24835897398064555,
          1.2246504102660027,
          0.7647812090938544,
          0.2923490017652167,
          0.5484764320989512,
          1.3636654624881206,
          -1.098554817005937,
          0.05323209135417297,
          -0.8193664011445023,
          -0.9651881730205214,
          -0.7169235894795459,
          0.07867172577891615,
          -0.1323856621361627,
          -0.7655784144767981,
          0.9932616140585283,
          0.5168384552391037,
          1.7652722533284222,
          1.8372546061828827,
          -1.593236705292418,
          -1.7351535385081214,
          0.5235910464705479,
          -1.2678010298836502,
          -1.1620485478742044,
          0.49783153002828556,
          -0.8724397517109367,
          0.6049256246439829,
          1.400962816411936,
          0.8111886395962024,
          -1.3749913257690798,
          -0.5343381094480517,
          0.5791641404328253,
          0.8694270812021913,
          0.6977237422345381,
          -0.7518777375440403,
          -1.2664205351763898,
          0.06442315056883763,
          -0.2873984929929309,
          0.0009839494928604283,
          1.168592011704123,
          0.6604253864052589,
          -0.29521148821910714,
          1.045216265567895,
          -0.6515637069291157,
          -0.03289043947944938,
          0.22881992210491614,
          -2.120961847320266,
          -0.1534383700165545,
          -1.1210869777078845,
          0.9094502662877313,
          0.07743574010108772,
          -0.7419719470944663,
          -1.2038987086444832,
          0.14722990479865838,
          0.9751250898869979,
          -0.6264743287129438,
          0.7736042579232473,
          -0.5035091795841722,
          -1.0343753263730342,
          0.5012182124006042,
          0.03584316243864111,
          -0.5259243744479069,
          0.15306289262164952,
          1.7106987514004806
         ]
        },
        {
         "boxpoints": false,
         "line": {
          "width": 1.3
         },
         "marker": {
          "color": "rgba(55, 128, 191, 1.0)"
         },
         "name": "B",
         "orientation": "v",
         "type": "box",
         "y": [
          1.907683558388115,
          0.4547584720364601,
          -0.4624177855774668,
          -3.651544791684352,
          -0.5678534781105319,
          1.6427839907904405,
          -0.9619000332416442,
          -0.00397187462557156,
          -0.07994051727686378,
          -0.6910522585403166,
          -0.09450542139400352,
          -0.8779483001934726,
          -1.484377860124462,
          -0.06479965458310179,
          -1.0119838104547232,
          1.0484315683481713,
          -1.704515782167066,
          0.22219933855895088,
          1.1715275094543638,
          -0.286046199843736,
          -0.18562188278474828,
          -0.5094303960311877,
          1.2804878676027072,
          1.0784034812612298,
          -0.15293803125447164,
          -0.4223642419037627,
          0.14855090724344358,
          -0.31189985968039113,
          -0.9115283059275937,
          -0.7755292866323195,
          -0.42721244214615794,
          -2.388606862034661,
          -0.05382162402532776,
          -1.3473629289778324,
          1.8397464184587116,
          0.8736778624934495,
          -0.7310055025516222,
          0.6958880162743549,
          0.9187659655864716,
          0.8376778170657083,
          0.5396368728266294,
          0.5422001050726935,
          -0.06139231471254688,
          -1.1021335608877891,
          -0.6007471372717097,
          0.1924619434883858,
          -0.08930809569198228,
          -0.2978505269315022,
          0.0005453669286284382,
          0.08106810997695915,
          -0.3694016189559964,
          -1.0281232817295345,
          0.30345560552391604,
          0.5244077540972444,
          2.0284534283011597,
          1.048432684760225,
          0.1064228659254715,
          0.6622831438984041,
          0.19685616235400402,
          1.1511224188608322,
          -0.4206663845906972,
          -1.0846896902892262,
          1.0364546676818382,
          0.6307259022389663,
          0.004641898709261438,
          -0.8605919026414243,
          0.08398903166039261,
          -0.08238436718846175,
          1.4354863201681674,
          -1.339983013618161,
          0.020894590806696794,
          0.6486539425584497,
          1.6592374195822817,
          -0.45411333440482526,
          -0.514677111791003,
          1.4378161001410212,
          0.6543605480879594,
          -0.3723065659245629,
          0.7259378993362399,
          0.17622902362307077,
          -0.21499860688233133,
          0.9541805171862572,
          -0.07743570059151514,
          1.3080387115726428,
          -0.06024810521218019,
          -1.529908094039015,
          0.7021112735494195,
          -0.9091588803591504,
          0.870523121121309,
          0.43847509793721606,
          -0.9516809883412036,
          -0.07897286417227212,
          1.3010071278367414,
          -0.08017900203553485,
          1.5367974033552878,
          -1.290113361643903,
          0.677483027354299,
          -0.8592326527444683,
          2.5979573364869557,
          -0.6669334806113064
         ]
        },
        {
         "boxpoints": false,
         "line": {
          "width": 1.3
         },
         "marker": {
          "color": "rgba(50, 171, 96, 1.0)"
         },
         "name": "C",
         "orientation": "v",
         "type": "box",
         "y": [
          0.48770381939872043,
          0.6337244646989464,
          -3.1557932704130356,
          0.13277998013457565,
          0.7385655314420786,
          -0.17177067756252173,
          -0.1372915094467543,
          -0.2521100174920825,
          -0.7774859643586567,
          0.4888304720428742,
          -0.46697233675600003,
          -1.0819972685815615,
          -1.3812411940185036,
          -1.2088517545524282,
          -1.2972061988940717,
          -1.195413296751463,
          -1.147470324560883,
          1.0902866948145171,
          1.1908114172648354,
          -0.2588208225848617,
          0.16487657420726892,
          -0.78826656830748,
          1.0000343713868642,
          -1.0091815010874154,
          -0.5680773691675439,
          1.1810661210830304,
          0.38954133539864827,
          -0.613964571092336,
          -0.2565088361673165,
          -0.7692082849354274,
          0.19774049769912005,
          0.39711873710136963,
          -0.5873094150104916,
          -0.02252466688228671,
          -0.9960725147726376,
          0.8836696924678572,
          -0.3196822783432801,
          -0.9598081652904585,
          -2.3185673570155316,
          0.9199286678318811,
          0.18124349088991892,
          -0.31241113338341514,
          0.931766188329038,
          -1.2454367421348072,
          0.17716748816653816,
          0.29627078620326086,
          0.8886308256683672,
          2.246831034283235,
          0.6974303836348403,
          0.35598131814521045,
          -1.823543353599711,
          -0.8486094691505909,
          0.16042258280947191,
          -0.9794789734321424,
          0.6502538943693912,
          0.6859471110716626,
          -1.8397195416762484,
          0.5544046760632084,
          -0.5061463738217713,
          -0.19623271406017556,
          -1.5963826590813122,
          -0.09770348156614135,
          -0.5869174731331128,
          -0.12032149904486354,
          0.00906488876886795,
          -0.07751737400332452,
          0.2942284421113961,
          -0.16243607623161602,
          -1.001587800308482,
          0.1963253087192484,
          1.206464312604639,
          0.2187961464973971,
          1.0838671968192073,
          1.2959649012162449,
          -0.5544573556215677,
          0.6128769748117964,
          0.1711954142874357,
          -1.3040069094496094,
          -0.09275279405669301,
          0.7398849781895165,
          0.09292219747002482,
          -0.10762784448538183,
          0.3055312720579075,
          -0.6089474399581859,
          -0.46820295927356165,
          1.9897358749891223,
          1.9776531201514929,
          0.26161052895794557,
          -0.2684909093050987,
          0.0001358910229118881,
          2.007654473522146,
          1.2945754067521074,
          1.9892544961413128,
          -1.6358499033444638,
          0.4549748462649961,
          0.735184341285063,
          -0.6712417072387005,
          0.0816993806422588,
          0.646955250762791,
          1.590420413439015
         ]
        },
        {
         "boxpoints": false,
         "line": {
          "width": 1.3
         },
         "marker": {
          "color": "rgba(128, 0, 128, 1.0)"
         },
         "name": "D",
         "orientation": "v",
         "type": "box",
         "y": [
          -0.22718918537328062,
          1.2204972813783754,
          -0.511127342703104,
          -0.919995696143732,
          1.4876569281486498,
          0.5261798293815041,
          1.4404686230606762,
          0.012310079690618186,
          -1.4169393918652915,
          0.8430806027133654,
          0.8060404508229926,
          0.09134447928922484,
          -0.4391707391338882,
          -1.136109425411929,
          -0.9558725097488121,
          -0.43903936073790056,
          0.6400684969235082,
          -2.8926497540659173,
          1.2862065354897847,
          0.5363547692785966,
          0.027208726919927866,
          -0.6053552258802258,
          1.2369376797088558,
          -0.31288524593048567,
          -1.2768501683975995,
          0.7982664454690171,
          -1.7643618109254788,
          -0.811118605847453,
          1.2951679229500286,
          -0.5854378238328967,
          0.47684752071529896,
          0.9688847295206476,
          0.7712204269970987,
          0.8636594318791391,
          2.1167005179164633,
          -0.9844880853538838,
          1.2052110702155194,
          0.4144965537564156,
          1.0314589125244964,
          -1.2820386325245927,
          0.5374622995845217,
          -0.4520476062643819,
          1.2807767910756398,
          1.3970913949970318,
          0.554529182743638,
          -1.4245469028483584,
          2.432163068242666,
          0.34647454582703535,
          -1.8478283792744057,
          -0.7064116298140908,
          1.859026792963264,
          -0.11696447813985389,
          0.9735706653895554,
          0.020069778038250087,
          -0.2732078870868064,
          -1.625893501364898,
          -0.518832871958972,
          0.7570499806819221,
          -1.301647411726088,
          1.5233125926959512,
          0.910044161471426,
          -0.33904257065357996,
          0.25474211578164113,
          1.1624261743592201,
          -0.7457019139210698,
          -1.6968774589933917,
          1.760395656633342,
          1.7512558019532765,
          -1.9529937894171276,
          0.8706668134873103,
          2.0085760859346675,
          -1.2514649889890979,
          -1.6069294260493898,
          -0.6751228541249964,
          1.1438933704419452,
          -0.21981377357202245,
          0.4179370726020009,
          1.0037769259192542,
          -0.06225916587349727,
          -1.0071835665242848,
          0.8860296914099619,
          -1.4572370310223877,
          1.8521215110090443,
          -0.27766424372092186,
          1.2084828291118057,
          0.19077267955785543,
          -0.15568801418483896,
          0.17864014027450703,
          -0.6130945856449158,
          -0.1287209969592928,
          -0.7899352961622775,
          -1.9330750344297394,
          2.0732887918319127,
          -0.7619479677020401,
          1.128771926760258,
          -0.7709363883695314,
          0.28608363017405264,
          -2.672688771194465,
          1.5523201724331546,
          2.011955348554818
         ]
        }
       ],
       "layout": {
        "legend": {
         "bgcolor": "#F5F6F9",
         "font": {
          "color": "#4D5663"
         }
        },
        "paper_bgcolor": "#F5F6F9",
        "plot_bgcolor": "#F5F6F9",
        "template": {
         "data": {
          "bar": [
           {
            "error_x": {
             "color": "#2a3f5f"
            },
            "error_y": {
             "color": "#2a3f5f"
            },
            "marker": {
             "line": {
              "color": "#E5ECF6",
              "width": 0.5
             }
            },
            "type": "bar"
           }
          ],
          "barpolar": [
           {
            "marker": {
             "line": {
              "color": "#E5ECF6",
              "width": 0.5
             }
            },
            "type": "barpolar"
           }
          ],
          "carpet": [
           {
            "aaxis": {
             "endlinecolor": "#2a3f5f",
             "gridcolor": "white",
             "linecolor": "white",
             "minorgridcolor": "white",
             "startlinecolor": "#2a3f5f"
            },
            "baxis": {
             "endlinecolor": "#2a3f5f",
             "gridcolor": "white",
             "linecolor": "white",
             "minorgridcolor": "white",
             "startlinecolor": "#2a3f5f"
            },
            "type": "carpet"
           }
          ],
          "choropleth": [
           {
            "colorbar": {
             "outlinewidth": 0,
             "ticks": ""
            },
            "type": "choropleth"
           }
          ],
          "contour": [
           {
            "colorbar": {
             "outlinewidth": 0,
             "ticks": ""
            },
            "colorscale": [
             [
              0,
              "#0d0887"
             ],
             [
              0.1111111111111111,
              "#46039f"
             ],
             [
              0.2222222222222222,
              "#7201a8"
             ],
             [
              0.3333333333333333,
              "#9c179e"
             ],
             [
              0.4444444444444444,
              "#bd3786"
             ],
             [
              0.5555555555555556,
              "#d8576b"
             ],
             [
              0.6666666666666666,
              "#ed7953"
             ],
             [
              0.7777777777777778,
              "#fb9f3a"
             ],
             [
              0.8888888888888888,
              "#fdca26"
             ],
             [
              1,
              "#f0f921"
             ]
            ],
            "type": "contour"
           }
          ],
          "contourcarpet": [
           {
            "colorbar": {
             "outlinewidth": 0,
             "ticks": ""
            },
            "type": "contourcarpet"
           }
          ],
          "heatmap": [
           {
            "colorbar": {
             "outlinewidth": 0,
             "ticks": ""
            },
            "colorscale": [
             [
              0,
              "#0d0887"
             ],
             [
              0.1111111111111111,
              "#46039f"
             ],
             [
              0.2222222222222222,
              "#7201a8"
             ],
             [
              0.3333333333333333,
              "#9c179e"
             ],
             [
              0.4444444444444444,
              "#bd3786"
             ],
             [
              0.5555555555555556,
              "#d8576b"
             ],
             [
              0.6666666666666666,
              "#ed7953"
             ],
             [
              0.7777777777777778,
              "#fb9f3a"
             ],
             [
              0.8888888888888888,
              "#fdca26"
             ],
             [
              1,
              "#f0f921"
             ]
            ],
            "type": "heatmap"
           }
          ],
          "heatmapgl": [
           {
            "colorbar": {
             "outlinewidth": 0,
             "ticks": ""
            },
            "colorscale": [
             [
              0,
              "#0d0887"
             ],
             [
              0.1111111111111111,
              "#46039f"
             ],
             [
              0.2222222222222222,
              "#7201a8"
             ],
             [
              0.3333333333333333,
              "#9c179e"
             ],
             [
              0.4444444444444444,
              "#bd3786"
             ],
             [
              0.5555555555555556,
              "#d8576b"
             ],
             [
              0.6666666666666666,
              "#ed7953"
             ],
             [
              0.7777777777777778,
              "#fb9f3a"
             ],
             [
              0.8888888888888888,
              "#fdca26"
             ],
             [
              1,
              "#f0f921"
             ]
            ],
            "type": "heatmapgl"
           }
          ],
          "histogram": [
           {
            "marker": {
             "colorbar": {
              "outlinewidth": 0,
              "ticks": ""
             }
            },
            "type": "histogram"
           }
          ],
          "histogram2d": [
           {
            "colorbar": {
             "outlinewidth": 0,
             "ticks": ""
            },
            "colorscale": [
             [
              0,
              "#0d0887"
             ],
             [
              0.1111111111111111,
              "#46039f"
             ],
             [
              0.2222222222222222,
              "#7201a8"
             ],
             [
              0.3333333333333333,
              "#9c179e"
             ],
             [
              0.4444444444444444,
              "#bd3786"
             ],
             [
              0.5555555555555556,
              "#d8576b"
             ],
             [
              0.6666666666666666,
              "#ed7953"
             ],
             [
              0.7777777777777778,
              "#fb9f3a"
             ],
             [
              0.8888888888888888,
              "#fdca26"
             ],
             [
              1,
              "#f0f921"
             ]
            ],
            "type": "histogram2d"
           }
          ],
          "histogram2dcontour": [
           {
            "colorbar": {
             "outlinewidth": 0,
             "ticks": ""
            },
            "colorscale": [
             [
              0,
              "#0d0887"
             ],
             [
              0.1111111111111111,
              "#46039f"
             ],
             [
              0.2222222222222222,
              "#7201a8"
             ],
             [
              0.3333333333333333,
              "#9c179e"
             ],
             [
              0.4444444444444444,
              "#bd3786"
             ],
             [
              0.5555555555555556,
              "#d8576b"
             ],
             [
              0.6666666666666666,
              "#ed7953"
             ],
             [
              0.7777777777777778,
              "#fb9f3a"
             ],
             [
              0.8888888888888888,
              "#fdca26"
             ],
             [
              1,
              "#f0f921"
             ]
            ],
            "type": "histogram2dcontour"
           }
          ],
          "mesh3d": [
           {
            "colorbar": {
             "outlinewidth": 0,
             "ticks": ""
            },
            "type": "mesh3d"
           }
          ],
          "parcoords": [
           {
            "line": {
             "colorbar": {
              "outlinewidth": 0,
              "ticks": ""
             }
            },
            "type": "parcoords"
           }
          ],
          "pie": [
           {
            "automargin": true,
            "type": "pie"
           }
          ],
          "scatter": [
           {
            "marker": {
             "colorbar": {
              "outlinewidth": 0,
              "ticks": ""
             }
            },
            "type": "scatter"
           }
          ],
          "scatter3d": [
           {
            "line": {
             "colorbar": {
              "outlinewidth": 0,
              "ticks": ""
             }
            },
            "marker": {
             "colorbar": {
              "outlinewidth": 0,
              "ticks": ""
             }
            },
            "type": "scatter3d"
           }
          ],
          "scattercarpet": [
           {
            "marker": {
             "colorbar": {
              "outlinewidth": 0,
              "ticks": ""
             }
            },
            "type": "scattercarpet"
           }
          ],
          "scattergeo": [
           {
            "marker": {
             "colorbar": {
              "outlinewidth": 0,
              "ticks": ""
             }
            },
            "type": "scattergeo"
           }
          ],
          "scattergl": [
           {
            "marker": {
             "colorbar": {
              "outlinewidth": 0,
              "ticks": ""
             }
            },
            "type": "scattergl"
           }
          ],
          "scattermapbox": [
           {
            "marker": {
             "colorbar": {
              "outlinewidth": 0,
              "ticks": ""
             }
            },
            "type": "scattermapbox"
           }
          ],
          "scatterpolar": [
           {
            "marker": {
             "colorbar": {
              "outlinewidth": 0,
              "ticks": ""
             }
            },
            "type": "scatterpolar"
           }
          ],
          "scatterpolargl": [
           {
            "marker": {
             "colorbar": {
              "outlinewidth": 0,
              "ticks": ""
             }
            },
            "type": "scatterpolargl"
           }
          ],
          "scatterternary": [
           {
            "marker": {
             "colorbar": {
              "outlinewidth": 0,
              "ticks": ""
             }
            },
            "type": "scatterternary"
           }
          ],
          "surface": [
           {
            "colorbar": {
             "outlinewidth": 0,
             "ticks": ""
            },
            "colorscale": [
             [
              0,
              "#0d0887"
             ],
             [
              0.1111111111111111,
              "#46039f"
             ],
             [
              0.2222222222222222,
              "#7201a8"
             ],
             [
              0.3333333333333333,
              "#9c179e"
             ],
             [
              0.4444444444444444,
              "#bd3786"
             ],
             [
              0.5555555555555556,
              "#d8576b"
             ],
             [
              0.6666666666666666,
              "#ed7953"
             ],
             [
              0.7777777777777778,
              "#fb9f3a"
             ],
             [
              0.8888888888888888,
              "#fdca26"
             ],
             [
              1,
              "#f0f921"
             ]
            ],
            "type": "surface"
           }
          ],
          "table": [
           {
            "cells": {
             "fill": {
              "color": "#EBF0F8"
             },
             "line": {
              "color": "white"
             }
            },
            "header": {
             "fill": {
              "color": "#C8D4E3"
             },
             "line": {
              "color": "white"
             }
            },
            "type": "table"
           }
          ]
         },
         "layout": {
          "annotationdefaults": {
           "arrowcolor": "#2a3f5f",
           "arrowhead": 0,
           "arrowwidth": 1
          },
          "autotypenumbers": "strict",
          "coloraxis": {
           "colorbar": {
            "outlinewidth": 0,
            "ticks": ""
           }
          },
          "colorscale": {
           "diverging": [
            [
             0,
             "#8e0152"
            ],
            [
             0.1,
             "#c51b7d"
            ],
            [
             0.2,
             "#de77ae"
            ],
            [
             0.3,
             "#f1b6da"
            ],
            [
             0.4,
             "#fde0ef"
            ],
            [
             0.5,
             "#f7f7f7"
            ],
            [
             0.6,
             "#e6f5d0"
            ],
            [
             0.7,
             "#b8e186"
            ],
            [
             0.8,
             "#7fbc41"
            ],
            [
             0.9,
             "#4d9221"
            ],
            [
             1,
             "#276419"
            ]
           ],
           "sequential": [
            [
             0,
             "#0d0887"
            ],
            [
             0.1111111111111111,
             "#46039f"
            ],
            [
             0.2222222222222222,
             "#7201a8"
            ],
            [
             0.3333333333333333,
             "#9c179e"
            ],
            [
             0.4444444444444444,
             "#bd3786"
            ],
            [
             0.5555555555555556,
             "#d8576b"
            ],
            [
             0.6666666666666666,
             "#ed7953"
            ],
            [
             0.7777777777777778,
             "#fb9f3a"
            ],
            [
             0.8888888888888888,
             "#fdca26"
            ],
            [
             1,
             "#f0f921"
            ]
           ],
           "sequentialminus": [
            [
             0,
             "#0d0887"
            ],
            [
             0.1111111111111111,
             "#46039f"
            ],
            [
             0.2222222222222222,
             "#7201a8"
            ],
            [
             0.3333333333333333,
             "#9c179e"
            ],
            [
             0.4444444444444444,
             "#bd3786"
            ],
            [
             0.5555555555555556,
             "#d8576b"
            ],
            [
             0.6666666666666666,
             "#ed7953"
            ],
            [
             0.7777777777777778,
             "#fb9f3a"
            ],
            [
             0.8888888888888888,
             "#fdca26"
            ],
            [
             1,
             "#f0f921"
            ]
           ]
          },
          "colorway": [
           "#636efa",
           "#EF553B",
           "#00cc96",
           "#ab63fa",
           "#FFA15A",
           "#19d3f3",
           "#FF6692",
           "#B6E880",
           "#FF97FF",
           "#FECB52"
          ],
          "font": {
           "color": "#2a3f5f"
          },
          "geo": {
           "bgcolor": "white",
           "lakecolor": "white",
           "landcolor": "#E5ECF6",
           "showlakes": true,
           "showland": true,
           "subunitcolor": "white"
          },
          "hoverlabel": {
           "align": "left"
          },
          "hovermode": "closest",
          "mapbox": {
           "style": "light"
          },
          "paper_bgcolor": "white",
          "plot_bgcolor": "#E5ECF6",
          "polar": {
           "angularaxis": {
            "gridcolor": "white",
            "linecolor": "white",
            "ticks": ""
           },
           "bgcolor": "#E5ECF6",
           "radialaxis": {
            "gridcolor": "white",
            "linecolor": "white",
            "ticks": ""
           }
          },
          "scene": {
           "xaxis": {
            "backgroundcolor": "#E5ECF6",
            "gridcolor": "white",
            "gridwidth": 2,
            "linecolor": "white",
            "showbackground": true,
            "ticks": "",
            "zerolinecolor": "white"
           },
           "yaxis": {
            "backgroundcolor": "#E5ECF6",
            "gridcolor": "white",
            "gridwidth": 2,
            "linecolor": "white",
            "showbackground": true,
            "ticks": "",
            "zerolinecolor": "white"
           },
           "zaxis": {
            "backgroundcolor": "#E5ECF6",
            "gridcolor": "white",
            "gridwidth": 2,
            "linecolor": "white",
            "showbackground": true,
            "ticks": "",
            "zerolinecolor": "white"
           }
          },
          "shapedefaults": {
           "line": {
            "color": "#2a3f5f"
           }
          },
          "ternary": {
           "aaxis": {
            "gridcolor": "white",
            "linecolor": "white",
            "ticks": ""
           },
           "baxis": {
            "gridcolor": "white",
            "linecolor": "white",
            "ticks": ""
           },
           "bgcolor": "#E5ECF6",
           "caxis": {
            "gridcolor": "white",
            "linecolor": "white",
            "ticks": ""
           }
          },
          "title": {
           "x": 0.05
          },
          "xaxis": {
           "automargin": true,
           "gridcolor": "white",
           "linecolor": "white",
           "ticks": "",
           "title": {
            "standoff": 15
           },
           "zerolinecolor": "white",
           "zerolinewidth": 2
          },
          "yaxis": {
           "automargin": true,
           "gridcolor": "white",
           "linecolor": "white",
           "ticks": "",
           "title": {
            "standoff": 15
           },
           "zerolinecolor": "white",
           "zerolinewidth": 2
          }
         }
        },
        "title": {
         "font": {
          "color": "#4D5663"
         }
        },
        "xaxis": {
         "gridcolor": "#E1E5ED",
         "showgrid": true,
         "tickfont": {
          "color": "#4D5663"
         },
         "title": {
          "font": {
           "color": "#4D5663"
          },
          "text": ""
         },
         "zerolinecolor": "#E1E5ED"
        },
        "yaxis": {
         "gridcolor": "#E1E5ED",
         "showgrid": true,
         "tickfont": {
          "color": "#4D5663"
         },
         "title": {
          "font": {
           "color": "#4D5663"
          },
          "text": ""
         },
         "zerolinecolor": "#E1E5ED"
        }
       }
      },
      "text/html": [
       "<div>                            <div id=\"050f4e07-f0a1-4128-b395-02b38622281e\" class=\"plotly-graph-div\" style=\"height:525px; width:100%;\"></div>            <script type=\"text/javascript\">                require([\"plotly\"], function(Plotly) {                    window.PLOTLYENV=window.PLOTLYENV || {};\n",
       "                    window.PLOTLYENV.BASE_URL='https://plot.ly';                                    if (document.getElementById(\"050f4e07-f0a1-4128-b395-02b38622281e\")) {                    Plotly.newPlot(                        \"050f4e07-f0a1-4128-b395-02b38622281e\",                        [{\"boxpoints\": false, \"line\": {\"width\": 1.3}, \"marker\": {\"color\": \"rgba(255, 153, 51, 1.0)\"}, \"name\": \"A\", \"orientation\": \"v\", \"type\": \"box\", \"y\": [-0.5480110889074034, -1.2920697014009046, -2.064720383032337, -0.6381949964348836, 0.010212759440209999, 0.794812443048594, -0.7278279442870339, 0.4489067925814845, 1.904784576609507, -1.3032659971088971, 0.11803057830902464, -1.5910540183384845, 0.4036629730575678, 0.9632264730942721, 1.5324411476637259, -0.04707130340337131, 0.11174868107368494, -1.3117900265057767, -1.3083957993452056, 0.696980809380999, 0.7592163244817444, 0.5250669680979622, -0.4449756900036982, -1.0014267626093265, -0.21335743445110616, -0.8514794630132676, 0.2749573360612918, -0.8733300478379218, 0.09463458411882031, 1.4455483762466403, 0.006188882128480812, -0.22631608313192741, -0.29524855487515117, 0.1812433420156424, 0.4615963474822817, -1.3250089684363293, -0.009448308083683389, -0.24835897398064555, 1.2246504102660027, 0.7647812090938544, 0.2923490017652167, 0.5484764320989512, 1.3636654624881206, -1.098554817005937, 0.05323209135417297, -0.8193664011445023, -0.9651881730205214, -0.7169235894795459, 0.07867172577891615, -0.1323856621361627, -0.7655784144767981, 0.9932616140585283, 0.5168384552391037, 1.7652722533284222, 1.8372546061828827, -1.593236705292418, -1.7351535385081214, 0.5235910464705479, -1.2678010298836502, -1.1620485478742044, 0.49783153002828556, -0.8724397517109367, 0.6049256246439829, 1.400962816411936, 0.8111886395962024, -1.3749913257690798, -0.5343381094480517, 0.5791641404328253, 0.8694270812021913, 0.6977237422345381, -0.7518777375440403, -1.2664205351763898, 0.06442315056883763, -0.2873984929929309, 0.0009839494928604283, 1.168592011704123, 0.6604253864052589, -0.29521148821910714, 1.045216265567895, -0.6515637069291157, -0.03289043947944938, 0.22881992210491614, -2.120961847320266, -0.1534383700165545, -1.1210869777078845, 0.9094502662877313, 0.07743574010108772, -0.7419719470944663, -1.2038987086444832, 0.14722990479865838, 0.9751250898869979, -0.6264743287129438, 0.7736042579232473, -0.5035091795841722, -1.0343753263730342, 0.5012182124006042, 0.03584316243864111, -0.5259243744479069, 0.15306289262164952, 1.7106987514004806]}, {\"boxpoints\": false, \"line\": {\"width\": 1.3}, \"marker\": {\"color\": \"rgba(55, 128, 191, 1.0)\"}, \"name\": \"B\", \"orientation\": \"v\", \"type\": \"box\", \"y\": [1.907683558388115, 0.4547584720364601, -0.4624177855774668, -3.651544791684352, -0.5678534781105319, 1.6427839907904405, -0.9619000332416442, -0.00397187462557156, -0.07994051727686378, -0.6910522585403166, -0.09450542139400352, -0.8779483001934726, -1.484377860124462, -0.06479965458310179, -1.0119838104547232, 1.0484315683481713, -1.704515782167066, 0.22219933855895088, 1.1715275094543638, -0.286046199843736, -0.18562188278474828, -0.5094303960311877, 1.2804878676027072, 1.0784034812612298, -0.15293803125447164, -0.4223642419037627, 0.14855090724344358, -0.31189985968039113, -0.9115283059275937, -0.7755292866323195, -0.42721244214615794, -2.388606862034661, -0.05382162402532776, -1.3473629289778324, 1.8397464184587116, 0.8736778624934495, -0.7310055025516222, 0.6958880162743549, 0.9187659655864716, 0.8376778170657083, 0.5396368728266294, 0.5422001050726935, -0.06139231471254688, -1.1021335608877891, -0.6007471372717097, 0.1924619434883858, -0.08930809569198228, -0.2978505269315022, 0.0005453669286284382, 0.08106810997695915, -0.3694016189559964, -1.0281232817295345, 0.30345560552391604, 0.5244077540972444, 2.0284534283011597, 1.048432684760225, 0.1064228659254715, 0.6622831438984041, 0.19685616235400402, 1.1511224188608322, -0.4206663845906972, -1.0846896902892262, 1.0364546676818382, 0.6307259022389663, 0.004641898709261438, -0.8605919026414243, 0.08398903166039261, -0.08238436718846175, 1.4354863201681674, -1.339983013618161, 0.020894590806696794, 0.6486539425584497, 1.6592374195822817, -0.45411333440482526, -0.514677111791003, 1.4378161001410212, 0.6543605480879594, -0.3723065659245629, 0.7259378993362399, 0.17622902362307077, -0.21499860688233133, 0.9541805171862572, -0.07743570059151514, 1.3080387115726428, -0.06024810521218019, -1.529908094039015, 0.7021112735494195, -0.9091588803591504, 0.870523121121309, 0.43847509793721606, -0.9516809883412036, -0.07897286417227212, 1.3010071278367414, -0.08017900203553485, 1.5367974033552878, -1.290113361643903, 0.677483027354299, -0.8592326527444683, 2.5979573364869557, -0.6669334806113064]}, {\"boxpoints\": false, \"line\": {\"width\": 1.3}, \"marker\": {\"color\": \"rgba(50, 171, 96, 1.0)\"}, \"name\": \"C\", \"orientation\": \"v\", \"type\": \"box\", \"y\": [0.48770381939872043, 0.6337244646989464, -3.1557932704130356, 0.13277998013457565, 0.7385655314420786, -0.17177067756252173, -0.1372915094467543, -0.2521100174920825, -0.7774859643586567, 0.4888304720428742, -0.46697233675600003, -1.0819972685815615, -1.3812411940185036, -1.2088517545524282, -1.2972061988940717, -1.195413296751463, -1.147470324560883, 1.0902866948145171, 1.1908114172648354, -0.2588208225848617, 0.16487657420726892, -0.78826656830748, 1.0000343713868642, -1.0091815010874154, -0.5680773691675439, 1.1810661210830304, 0.38954133539864827, -0.613964571092336, -0.2565088361673165, -0.7692082849354274, 0.19774049769912005, 0.39711873710136963, -0.5873094150104916, -0.02252466688228671, -0.9960725147726376, 0.8836696924678572, -0.3196822783432801, -0.9598081652904585, -2.3185673570155316, 0.9199286678318811, 0.18124349088991892, -0.31241113338341514, 0.931766188329038, -1.2454367421348072, 0.17716748816653816, 0.29627078620326086, 0.8886308256683672, 2.246831034283235, 0.6974303836348403, 0.35598131814521045, -1.823543353599711, -0.8486094691505909, 0.16042258280947191, -0.9794789734321424, 0.6502538943693912, 0.6859471110716626, -1.8397195416762484, 0.5544046760632084, -0.5061463738217713, -0.19623271406017556, -1.5963826590813122, -0.09770348156614135, -0.5869174731331128, -0.12032149904486354, 0.00906488876886795, -0.07751737400332452, 0.2942284421113961, -0.16243607623161602, -1.001587800308482, 0.1963253087192484, 1.206464312604639, 0.2187961464973971, 1.0838671968192073, 1.2959649012162449, -0.5544573556215677, 0.6128769748117964, 0.1711954142874357, -1.3040069094496094, -0.09275279405669301, 0.7398849781895165, 0.09292219747002482, -0.10762784448538183, 0.3055312720579075, -0.6089474399581859, -0.46820295927356165, 1.9897358749891223, 1.9776531201514929, 0.26161052895794557, -0.2684909093050987, 0.0001358910229118881, 2.007654473522146, 1.2945754067521074, 1.9892544961413128, -1.6358499033444638, 0.4549748462649961, 0.735184341285063, -0.6712417072387005, 0.0816993806422588, 0.646955250762791, 1.590420413439015]}, {\"boxpoints\": false, \"line\": {\"width\": 1.3}, \"marker\": {\"color\": \"rgba(128, 0, 128, 1.0)\"}, \"name\": \"D\", \"orientation\": \"v\", \"type\": \"box\", \"y\": [-0.22718918537328062, 1.2204972813783754, -0.511127342703104, -0.919995696143732, 1.4876569281486498, 0.5261798293815041, 1.4404686230606762, 0.012310079690618186, -1.4169393918652915, 0.8430806027133654, 0.8060404508229926, 0.09134447928922484, -0.4391707391338882, -1.136109425411929, -0.9558725097488121, -0.43903936073790056, 0.6400684969235082, -2.8926497540659173, 1.2862065354897847, 0.5363547692785966, 0.027208726919927866, -0.6053552258802258, 1.2369376797088558, -0.31288524593048567, -1.2768501683975995, 0.7982664454690171, -1.7643618109254788, -0.811118605847453, 1.2951679229500286, -0.5854378238328967, 0.47684752071529896, 0.9688847295206476, 0.7712204269970987, 0.8636594318791391, 2.1167005179164633, -0.9844880853538838, 1.2052110702155194, 0.4144965537564156, 1.0314589125244964, -1.2820386325245927, 0.5374622995845217, -0.4520476062643819, 1.2807767910756398, 1.3970913949970318, 0.554529182743638, -1.4245469028483584, 2.432163068242666, 0.34647454582703535, -1.8478283792744057, -0.7064116298140908, 1.859026792963264, -0.11696447813985389, 0.9735706653895554, 0.020069778038250087, -0.2732078870868064, -1.625893501364898, -0.518832871958972, 0.7570499806819221, -1.301647411726088, 1.5233125926959512, 0.910044161471426, -0.33904257065357996, 0.25474211578164113, 1.1624261743592201, -0.7457019139210698, -1.6968774589933917, 1.760395656633342, 1.7512558019532765, -1.9529937894171276, 0.8706668134873103, 2.0085760859346675, -1.2514649889890979, -1.6069294260493898, -0.6751228541249964, 1.1438933704419452, -0.21981377357202245, 0.4179370726020009, 1.0037769259192542, -0.06225916587349727, -1.0071835665242848, 0.8860296914099619, -1.4572370310223877, 1.8521215110090443, -0.27766424372092186, 1.2084828291118057, 0.19077267955785543, -0.15568801418483896, 0.17864014027450703, -0.6130945856449158, -0.1287209969592928, -0.7899352961622775, -1.9330750344297394, 2.0732887918319127, -0.7619479677020401, 1.128771926760258, -0.7709363883695314, 0.28608363017405264, -2.672688771194465, 1.5523201724331546, 2.011955348554818]}],                        {\"legend\": {\"bgcolor\": \"#F5F6F9\", \"font\": {\"color\": \"#4D5663\"}}, \"paper_bgcolor\": \"#F5F6F9\", \"plot_bgcolor\": \"#F5F6F9\", \"template\": {\"data\": {\"bar\": [{\"error_x\": {\"color\": \"#2a3f5f\"}, \"error_y\": {\"color\": \"#2a3f5f\"}, \"marker\": {\"line\": {\"color\": \"#E5ECF6\", \"width\": 0.5}}, \"type\": \"bar\"}], \"barpolar\": [{\"marker\": {\"line\": {\"color\": \"#E5ECF6\", \"width\": 0.5}}, \"type\": \"barpolar\"}], \"carpet\": [{\"aaxis\": {\"endlinecolor\": \"#2a3f5f\", \"gridcolor\": \"white\", \"linecolor\": \"white\", \"minorgridcolor\": \"white\", \"startlinecolor\": \"#2a3f5f\"}, \"baxis\": {\"endlinecolor\": \"#2a3f5f\", \"gridcolor\": \"white\", \"linecolor\": \"white\", \"minorgridcolor\": \"white\", \"startlinecolor\": \"#2a3f5f\"}, \"type\": \"carpet\"}], \"choropleth\": [{\"colorbar\": {\"outlinewidth\": 0, \"ticks\": \"\"}, \"type\": \"choropleth\"}], \"contour\": [{\"colorbar\": {\"outlinewidth\": 0, \"ticks\": \"\"}, \"colorscale\": [[0.0, \"#0d0887\"], [0.1111111111111111, \"#46039f\"], [0.2222222222222222, \"#7201a8\"], [0.3333333333333333, \"#9c179e\"], [0.4444444444444444, \"#bd3786\"], [0.5555555555555556, \"#d8576b\"], [0.6666666666666666, \"#ed7953\"], [0.7777777777777778, \"#fb9f3a\"], [0.8888888888888888, \"#fdca26\"], [1.0, \"#f0f921\"]], \"type\": \"contour\"}], \"contourcarpet\": [{\"colorbar\": {\"outlinewidth\": 0, \"ticks\": \"\"}, \"type\": \"contourcarpet\"}], \"heatmap\": [{\"colorbar\": {\"outlinewidth\": 0, \"ticks\": \"\"}, \"colorscale\": [[0.0, \"#0d0887\"], [0.1111111111111111, \"#46039f\"], [0.2222222222222222, \"#7201a8\"], [0.3333333333333333, \"#9c179e\"], [0.4444444444444444, \"#bd3786\"], [0.5555555555555556, \"#d8576b\"], [0.6666666666666666, \"#ed7953\"], [0.7777777777777778, \"#fb9f3a\"], [0.8888888888888888, \"#fdca26\"], [1.0, \"#f0f921\"]], \"type\": \"heatmap\"}], \"heatmapgl\": [{\"colorbar\": {\"outlinewidth\": 0, \"ticks\": \"\"}, \"colorscale\": [[0.0, \"#0d0887\"], [0.1111111111111111, \"#46039f\"], [0.2222222222222222, \"#7201a8\"], [0.3333333333333333, \"#9c179e\"], [0.4444444444444444, \"#bd3786\"], [0.5555555555555556, \"#d8576b\"], [0.6666666666666666, \"#ed7953\"], [0.7777777777777778, \"#fb9f3a\"], [0.8888888888888888, \"#fdca26\"], [1.0, \"#f0f921\"]], \"type\": \"heatmapgl\"}], \"histogram\": [{\"marker\": {\"colorbar\": {\"outlinewidth\": 0, \"ticks\": \"\"}}, \"type\": \"histogram\"}], \"histogram2d\": [{\"colorbar\": {\"outlinewidth\": 0, \"ticks\": \"\"}, \"colorscale\": [[0.0, \"#0d0887\"], [0.1111111111111111, \"#46039f\"], [0.2222222222222222, \"#7201a8\"], [0.3333333333333333, \"#9c179e\"], [0.4444444444444444, \"#bd3786\"], [0.5555555555555556, \"#d8576b\"], [0.6666666666666666, \"#ed7953\"], [0.7777777777777778, \"#fb9f3a\"], [0.8888888888888888, \"#fdca26\"], [1.0, \"#f0f921\"]], \"type\": \"histogram2d\"}], \"histogram2dcontour\": [{\"colorbar\": {\"outlinewidth\": 0, \"ticks\": \"\"}, \"colorscale\": [[0.0, \"#0d0887\"], [0.1111111111111111, \"#46039f\"], [0.2222222222222222, \"#7201a8\"], [0.3333333333333333, \"#9c179e\"], [0.4444444444444444, \"#bd3786\"], [0.5555555555555556, \"#d8576b\"], [0.6666666666666666, \"#ed7953\"], [0.7777777777777778, \"#fb9f3a\"], [0.8888888888888888, \"#fdca26\"], [1.0, \"#f0f921\"]], \"type\": \"histogram2dcontour\"}], \"mesh3d\": [{\"colorbar\": {\"outlinewidth\": 0, \"ticks\": \"\"}, \"type\": \"mesh3d\"}], \"parcoords\": [{\"line\": {\"colorbar\": {\"outlinewidth\": 0, \"ticks\": \"\"}}, \"type\": \"parcoords\"}], \"pie\": [{\"automargin\": true, \"type\": \"pie\"}], \"scatter\": [{\"marker\": {\"colorbar\": {\"outlinewidth\": 0, \"ticks\": \"\"}}, \"type\": \"scatter\"}], \"scatter3d\": [{\"line\": {\"colorbar\": {\"outlinewidth\": 0, \"ticks\": \"\"}}, \"marker\": {\"colorbar\": {\"outlinewidth\": 0, \"ticks\": \"\"}}, \"type\": \"scatter3d\"}], \"scattercarpet\": [{\"marker\": {\"colorbar\": {\"outlinewidth\": 0, \"ticks\": \"\"}}, \"type\": \"scattercarpet\"}], \"scattergeo\": [{\"marker\": {\"colorbar\": {\"outlinewidth\": 0, \"ticks\": \"\"}}, \"type\": \"scattergeo\"}], \"scattergl\": [{\"marker\": {\"colorbar\": {\"outlinewidth\": 0, \"ticks\": \"\"}}, \"type\": \"scattergl\"}], \"scattermapbox\": [{\"marker\": {\"colorbar\": {\"outlinewidth\": 0, \"ticks\": \"\"}}, \"type\": \"scattermapbox\"}], \"scatterpolar\": [{\"marker\": {\"colorbar\": {\"outlinewidth\": 0, \"ticks\": \"\"}}, \"type\": \"scatterpolar\"}], \"scatterpolargl\": [{\"marker\": {\"colorbar\": {\"outlinewidth\": 0, \"ticks\": \"\"}}, \"type\": \"scatterpolargl\"}], \"scatterternary\": [{\"marker\": {\"colorbar\": {\"outlinewidth\": 0, \"ticks\": \"\"}}, \"type\": \"scatterternary\"}], \"surface\": [{\"colorbar\": {\"outlinewidth\": 0, \"ticks\": \"\"}, \"colorscale\": [[0.0, \"#0d0887\"], [0.1111111111111111, \"#46039f\"], [0.2222222222222222, \"#7201a8\"], [0.3333333333333333, \"#9c179e\"], [0.4444444444444444, \"#bd3786\"], [0.5555555555555556, \"#d8576b\"], [0.6666666666666666, \"#ed7953\"], [0.7777777777777778, \"#fb9f3a\"], [0.8888888888888888, \"#fdca26\"], [1.0, \"#f0f921\"]], \"type\": \"surface\"}], \"table\": [{\"cells\": {\"fill\": {\"color\": \"#EBF0F8\"}, \"line\": {\"color\": \"white\"}}, \"header\": {\"fill\": {\"color\": \"#C8D4E3\"}, \"line\": {\"color\": \"white\"}}, \"type\": \"table\"}]}, \"layout\": {\"annotationdefaults\": {\"arrowcolor\": \"#2a3f5f\", \"arrowhead\": 0, \"arrowwidth\": 1}, \"autotypenumbers\": \"strict\", \"coloraxis\": {\"colorbar\": {\"outlinewidth\": 0, \"ticks\": \"\"}}, \"colorscale\": {\"diverging\": [[0, \"#8e0152\"], [0.1, \"#c51b7d\"], [0.2, \"#de77ae\"], [0.3, \"#f1b6da\"], [0.4, \"#fde0ef\"], [0.5, \"#f7f7f7\"], [0.6, \"#e6f5d0\"], [0.7, \"#b8e186\"], [0.8, \"#7fbc41\"], [0.9, \"#4d9221\"], [1, \"#276419\"]], \"sequential\": [[0.0, \"#0d0887\"], [0.1111111111111111, \"#46039f\"], [0.2222222222222222, \"#7201a8\"], [0.3333333333333333, \"#9c179e\"], [0.4444444444444444, \"#bd3786\"], [0.5555555555555556, \"#d8576b\"], [0.6666666666666666, \"#ed7953\"], [0.7777777777777778, \"#fb9f3a\"], [0.8888888888888888, \"#fdca26\"], [1.0, \"#f0f921\"]], \"sequentialminus\": [[0.0, \"#0d0887\"], [0.1111111111111111, \"#46039f\"], [0.2222222222222222, \"#7201a8\"], [0.3333333333333333, \"#9c179e\"], [0.4444444444444444, \"#bd3786\"], [0.5555555555555556, \"#d8576b\"], [0.6666666666666666, \"#ed7953\"], [0.7777777777777778, \"#fb9f3a\"], [0.8888888888888888, \"#fdca26\"], [1.0, \"#f0f921\"]]}, \"colorway\": [\"#636efa\", \"#EF553B\", \"#00cc96\", \"#ab63fa\", \"#FFA15A\", \"#19d3f3\", \"#FF6692\", \"#B6E880\", \"#FF97FF\", \"#FECB52\"], \"font\": {\"color\": \"#2a3f5f\"}, \"geo\": {\"bgcolor\": \"white\", \"lakecolor\": \"white\", \"landcolor\": \"#E5ECF6\", \"showlakes\": true, \"showland\": true, \"subunitcolor\": \"white\"}, \"hoverlabel\": {\"align\": \"left\"}, \"hovermode\": \"closest\", \"mapbox\": {\"style\": \"light\"}, \"paper_bgcolor\": \"white\", \"plot_bgcolor\": \"#E5ECF6\", \"polar\": {\"angularaxis\": {\"gridcolor\": \"white\", \"linecolor\": \"white\", \"ticks\": \"\"}, \"bgcolor\": \"#E5ECF6\", \"radialaxis\": {\"gridcolor\": \"white\", \"linecolor\": \"white\", \"ticks\": \"\"}}, \"scene\": {\"xaxis\": {\"backgroundcolor\": \"#E5ECF6\", \"gridcolor\": \"white\", \"gridwidth\": 2, \"linecolor\": \"white\", \"showbackground\": true, \"ticks\": \"\", \"zerolinecolor\": \"white\"}, \"yaxis\": {\"backgroundcolor\": \"#E5ECF6\", \"gridcolor\": \"white\", \"gridwidth\": 2, \"linecolor\": \"white\", \"showbackground\": true, \"ticks\": \"\", \"zerolinecolor\": \"white\"}, \"zaxis\": {\"backgroundcolor\": \"#E5ECF6\", \"gridcolor\": \"white\", \"gridwidth\": 2, \"linecolor\": \"white\", \"showbackground\": true, \"ticks\": \"\", \"zerolinecolor\": \"white\"}}, \"shapedefaults\": {\"line\": {\"color\": \"#2a3f5f\"}}, \"ternary\": {\"aaxis\": {\"gridcolor\": \"white\", \"linecolor\": \"white\", \"ticks\": \"\"}, \"baxis\": {\"gridcolor\": \"white\", \"linecolor\": \"white\", \"ticks\": \"\"}, \"bgcolor\": \"#E5ECF6\", \"caxis\": {\"gridcolor\": \"white\", \"linecolor\": \"white\", \"ticks\": \"\"}}, \"title\": {\"x\": 0.05}, \"xaxis\": {\"automargin\": true, \"gridcolor\": \"white\", \"linecolor\": \"white\", \"ticks\": \"\", \"title\": {\"standoff\": 15}, \"zerolinecolor\": \"white\", \"zerolinewidth\": 2}, \"yaxis\": {\"automargin\": true, \"gridcolor\": \"white\", \"linecolor\": \"white\", \"ticks\": \"\", \"title\": {\"standoff\": 15}, \"zerolinecolor\": \"white\", \"zerolinewidth\": 2}}}, \"title\": {\"font\": {\"color\": \"#4D5663\"}}, \"xaxis\": {\"gridcolor\": \"#E1E5ED\", \"showgrid\": true, \"tickfont\": {\"color\": \"#4D5663\"}, \"title\": {\"font\": {\"color\": \"#4D5663\"}, \"text\": \"\"}, \"zerolinecolor\": \"#E1E5ED\"}, \"yaxis\": {\"gridcolor\": \"#E1E5ED\", \"showgrid\": true, \"tickfont\": {\"color\": \"#4D5663\"}, \"title\": {\"font\": {\"color\": \"#4D5663\"}, \"text\": \"\"}, \"zerolinecolor\": \"#E1E5ED\"}},                        {\"showLink\": true, \"linkText\": \"Export to plot.ly\", \"plotlyServerURL\": \"https://plot.ly\", \"responsive\": true}                    ).then(function(){\n",
       "                            \n",
       "var gd = document.getElementById('050f4e07-f0a1-4128-b395-02b38622281e');\n",
       "var x = new MutationObserver(function (mutations, observer) {{\n",
       "        var display = window.getComputedStyle(gd).display;\n",
       "        if (!display || display === 'none') {{\n",
       "            console.log([gd, 'removed!']);\n",
       "            Plotly.purge(gd);\n",
       "            observer.disconnect();\n",
       "        }}\n",
       "}});\n",
       "\n",
       "// Listen for the removal of the full notebook cells\n",
       "var notebookContainer = gd.closest('#notebook-container');\n",
       "if (notebookContainer) {{\n",
       "    x.observe(notebookContainer, {childList: true});\n",
       "}}\n",
       "\n",
       "// Listen for the clearing of the current output cell\n",
       "var outputEl = gd.closest('.output');\n",
       "if (outputEl) {{\n",
       "    x.observe(outputEl, {childList: true});\n",
       "}}\n",
       "\n",
       "                        })                };                });            </script>        </div>"
      ]
     },
     "metadata": {},
     "output_type": "display_data"
    }
   ],
   "source": [
    "df.iplot(kind='box')"
   ]
  },
  {
   "cell_type": "code",
   "execution_count": 46,
   "metadata": {},
   "outputs": [],
   "source": [
    "df3 = pd.DataFrame({'x':[1,2,3,4,5], 'y':[10,20,30,20,10],'Z':[5,4,3,2,1]})"
   ]
  },
  {
   "cell_type": "code",
   "execution_count": 50,
   "metadata": {},
   "outputs": [
    {
     "data": {
      "application/vnd.plotly.v1+json": {
       "config": {
        "linkText": "Export to plot.ly",
        "plotlyServerURL": "https://plot.ly",
        "showLink": true
       },
       "data": [
        {
         "colorscale": [
          [
           0,
           "rgb(165,0,38)"
          ],
          [
           0.1,
           "rgb(215,48,39)"
          ],
          [
           0.2,
           "rgb(244,109,67)"
          ],
          [
           0.3,
           "rgb(253,174,97)"
          ],
          [
           0.4,
           "rgb(254,224,144)"
          ],
          [
           0.5,
           "rgb(255,255,191)"
          ],
          [
           0.6,
           "rgb(224,243,248)"
          ],
          [
           0.7,
           "rgb(171,217,233)"
          ],
          [
           0.8,
           "rgb(116,173,209)"
          ],
          [
           0.9,
           "rgb(69,117,180)"
          ],
          [
           1,
           "rgb(49,54,149)"
          ]
         ],
         "type": "surface",
         "x": [
          0,
          1,
          2,
          3,
          4
         ],
         "y": [
          "x",
          "y",
          "Z"
         ],
         "z": [
          [
           1,
           2,
           3,
           4,
           5
          ],
          [
           10,
           20,
           30,
           20,
           10
          ],
          [
           5,
           4,
           3,
           2,
           1
          ]
         ]
        }
       ],
       "layout": {
        "legend": {
         "bgcolor": "#F5F6F9",
         "font": {
          "color": "#4D5663"
         }
        },
        "paper_bgcolor": "#F5F6F9",
        "plot_bgcolor": "#F5F6F9",
        "template": {
         "data": {
          "bar": [
           {
            "error_x": {
             "color": "#2a3f5f"
            },
            "error_y": {
             "color": "#2a3f5f"
            },
            "marker": {
             "line": {
              "color": "#E5ECF6",
              "width": 0.5
             }
            },
            "type": "bar"
           }
          ],
          "barpolar": [
           {
            "marker": {
             "line": {
              "color": "#E5ECF6",
              "width": 0.5
             }
            },
            "type": "barpolar"
           }
          ],
          "carpet": [
           {
            "aaxis": {
             "endlinecolor": "#2a3f5f",
             "gridcolor": "white",
             "linecolor": "white",
             "minorgridcolor": "white",
             "startlinecolor": "#2a3f5f"
            },
            "baxis": {
             "endlinecolor": "#2a3f5f",
             "gridcolor": "white",
             "linecolor": "white",
             "minorgridcolor": "white",
             "startlinecolor": "#2a3f5f"
            },
            "type": "carpet"
           }
          ],
          "choropleth": [
           {
            "colorbar": {
             "outlinewidth": 0,
             "ticks": ""
            },
            "type": "choropleth"
           }
          ],
          "contour": [
           {
            "colorbar": {
             "outlinewidth": 0,
             "ticks": ""
            },
            "colorscale": [
             [
              0,
              "#0d0887"
             ],
             [
              0.1111111111111111,
              "#46039f"
             ],
             [
              0.2222222222222222,
              "#7201a8"
             ],
             [
              0.3333333333333333,
              "#9c179e"
             ],
             [
              0.4444444444444444,
              "#bd3786"
             ],
             [
              0.5555555555555556,
              "#d8576b"
             ],
             [
              0.6666666666666666,
              "#ed7953"
             ],
             [
              0.7777777777777778,
              "#fb9f3a"
             ],
             [
              0.8888888888888888,
              "#fdca26"
             ],
             [
              1,
              "#f0f921"
             ]
            ],
            "type": "contour"
           }
          ],
          "contourcarpet": [
           {
            "colorbar": {
             "outlinewidth": 0,
             "ticks": ""
            },
            "type": "contourcarpet"
           }
          ],
          "heatmap": [
           {
            "colorbar": {
             "outlinewidth": 0,
             "ticks": ""
            },
            "colorscale": [
             [
              0,
              "#0d0887"
             ],
             [
              0.1111111111111111,
              "#46039f"
             ],
             [
              0.2222222222222222,
              "#7201a8"
             ],
             [
              0.3333333333333333,
              "#9c179e"
             ],
             [
              0.4444444444444444,
              "#bd3786"
             ],
             [
              0.5555555555555556,
              "#d8576b"
             ],
             [
              0.6666666666666666,
              "#ed7953"
             ],
             [
              0.7777777777777778,
              "#fb9f3a"
             ],
             [
              0.8888888888888888,
              "#fdca26"
             ],
             [
              1,
              "#f0f921"
             ]
            ],
            "type": "heatmap"
           }
          ],
          "heatmapgl": [
           {
            "colorbar": {
             "outlinewidth": 0,
             "ticks": ""
            },
            "colorscale": [
             [
              0,
              "#0d0887"
             ],
             [
              0.1111111111111111,
              "#46039f"
             ],
             [
              0.2222222222222222,
              "#7201a8"
             ],
             [
              0.3333333333333333,
              "#9c179e"
             ],
             [
              0.4444444444444444,
              "#bd3786"
             ],
             [
              0.5555555555555556,
              "#d8576b"
             ],
             [
              0.6666666666666666,
              "#ed7953"
             ],
             [
              0.7777777777777778,
              "#fb9f3a"
             ],
             [
              0.8888888888888888,
              "#fdca26"
             ],
             [
              1,
              "#f0f921"
             ]
            ],
            "type": "heatmapgl"
           }
          ],
          "histogram": [
           {
            "marker": {
             "colorbar": {
              "outlinewidth": 0,
              "ticks": ""
             }
            },
            "type": "histogram"
           }
          ],
          "histogram2d": [
           {
            "colorbar": {
             "outlinewidth": 0,
             "ticks": ""
            },
            "colorscale": [
             [
              0,
              "#0d0887"
             ],
             [
              0.1111111111111111,
              "#46039f"
             ],
             [
              0.2222222222222222,
              "#7201a8"
             ],
             [
              0.3333333333333333,
              "#9c179e"
             ],
             [
              0.4444444444444444,
              "#bd3786"
             ],
             [
              0.5555555555555556,
              "#d8576b"
             ],
             [
              0.6666666666666666,
              "#ed7953"
             ],
             [
              0.7777777777777778,
              "#fb9f3a"
             ],
             [
              0.8888888888888888,
              "#fdca26"
             ],
             [
              1,
              "#f0f921"
             ]
            ],
            "type": "histogram2d"
           }
          ],
          "histogram2dcontour": [
           {
            "colorbar": {
             "outlinewidth": 0,
             "ticks": ""
            },
            "colorscale": [
             [
              0,
              "#0d0887"
             ],
             [
              0.1111111111111111,
              "#46039f"
             ],
             [
              0.2222222222222222,
              "#7201a8"
             ],
             [
              0.3333333333333333,
              "#9c179e"
             ],
             [
              0.4444444444444444,
              "#bd3786"
             ],
             [
              0.5555555555555556,
              "#d8576b"
             ],
             [
              0.6666666666666666,
              "#ed7953"
             ],
             [
              0.7777777777777778,
              "#fb9f3a"
             ],
             [
              0.8888888888888888,
              "#fdca26"
             ],
             [
              1,
              "#f0f921"
             ]
            ],
            "type": "histogram2dcontour"
           }
          ],
          "mesh3d": [
           {
            "colorbar": {
             "outlinewidth": 0,
             "ticks": ""
            },
            "type": "mesh3d"
           }
          ],
          "parcoords": [
           {
            "line": {
             "colorbar": {
              "outlinewidth": 0,
              "ticks": ""
             }
            },
            "type": "parcoords"
           }
          ],
          "pie": [
           {
            "automargin": true,
            "type": "pie"
           }
          ],
          "scatter": [
           {
            "marker": {
             "colorbar": {
              "outlinewidth": 0,
              "ticks": ""
             }
            },
            "type": "scatter"
           }
          ],
          "scatter3d": [
           {
            "line": {
             "colorbar": {
              "outlinewidth": 0,
              "ticks": ""
             }
            },
            "marker": {
             "colorbar": {
              "outlinewidth": 0,
              "ticks": ""
             }
            },
            "type": "scatter3d"
           }
          ],
          "scattercarpet": [
           {
            "marker": {
             "colorbar": {
              "outlinewidth": 0,
              "ticks": ""
             }
            },
            "type": "scattercarpet"
           }
          ],
          "scattergeo": [
           {
            "marker": {
             "colorbar": {
              "outlinewidth": 0,
              "ticks": ""
             }
            },
            "type": "scattergeo"
           }
          ],
          "scattergl": [
           {
            "marker": {
             "colorbar": {
              "outlinewidth": 0,
              "ticks": ""
             }
            },
            "type": "scattergl"
           }
          ],
          "scattermapbox": [
           {
            "marker": {
             "colorbar": {
              "outlinewidth": 0,
              "ticks": ""
             }
            },
            "type": "scattermapbox"
           }
          ],
          "scatterpolar": [
           {
            "marker": {
             "colorbar": {
              "outlinewidth": 0,
              "ticks": ""
             }
            },
            "type": "scatterpolar"
           }
          ],
          "scatterpolargl": [
           {
            "marker": {
             "colorbar": {
              "outlinewidth": 0,
              "ticks": ""
             }
            },
            "type": "scatterpolargl"
           }
          ],
          "scatterternary": [
           {
            "marker": {
             "colorbar": {
              "outlinewidth": 0,
              "ticks": ""
             }
            },
            "type": "scatterternary"
           }
          ],
          "surface": [
           {
            "colorbar": {
             "outlinewidth": 0,
             "ticks": ""
            },
            "colorscale": [
             [
              0,
              "#0d0887"
             ],
             [
              0.1111111111111111,
              "#46039f"
             ],
             [
              0.2222222222222222,
              "#7201a8"
             ],
             [
              0.3333333333333333,
              "#9c179e"
             ],
             [
              0.4444444444444444,
              "#bd3786"
             ],
             [
              0.5555555555555556,
              "#d8576b"
             ],
             [
              0.6666666666666666,
              "#ed7953"
             ],
             [
              0.7777777777777778,
              "#fb9f3a"
             ],
             [
              0.8888888888888888,
              "#fdca26"
             ],
             [
              1,
              "#f0f921"
             ]
            ],
            "type": "surface"
           }
          ],
          "table": [
           {
            "cells": {
             "fill": {
              "color": "#EBF0F8"
             },
             "line": {
              "color": "white"
             }
            },
            "header": {
             "fill": {
              "color": "#C8D4E3"
             },
             "line": {
              "color": "white"
             }
            },
            "type": "table"
           }
          ]
         },
         "layout": {
          "annotationdefaults": {
           "arrowcolor": "#2a3f5f",
           "arrowhead": 0,
           "arrowwidth": 1
          },
          "autotypenumbers": "strict",
          "coloraxis": {
           "colorbar": {
            "outlinewidth": 0,
            "ticks": ""
           }
          },
          "colorscale": {
           "diverging": [
            [
             0,
             "#8e0152"
            ],
            [
             0.1,
             "#c51b7d"
            ],
            [
             0.2,
             "#de77ae"
            ],
            [
             0.3,
             "#f1b6da"
            ],
            [
             0.4,
             "#fde0ef"
            ],
            [
             0.5,
             "#f7f7f7"
            ],
            [
             0.6,
             "#e6f5d0"
            ],
            [
             0.7,
             "#b8e186"
            ],
            [
             0.8,
             "#7fbc41"
            ],
            [
             0.9,
             "#4d9221"
            ],
            [
             1,
             "#276419"
            ]
           ],
           "sequential": [
            [
             0,
             "#0d0887"
            ],
            [
             0.1111111111111111,
             "#46039f"
            ],
            [
             0.2222222222222222,
             "#7201a8"
            ],
            [
             0.3333333333333333,
             "#9c179e"
            ],
            [
             0.4444444444444444,
             "#bd3786"
            ],
            [
             0.5555555555555556,
             "#d8576b"
            ],
            [
             0.6666666666666666,
             "#ed7953"
            ],
            [
             0.7777777777777778,
             "#fb9f3a"
            ],
            [
             0.8888888888888888,
             "#fdca26"
            ],
            [
             1,
             "#f0f921"
            ]
           ],
           "sequentialminus": [
            [
             0,
             "#0d0887"
            ],
            [
             0.1111111111111111,
             "#46039f"
            ],
            [
             0.2222222222222222,
             "#7201a8"
            ],
            [
             0.3333333333333333,
             "#9c179e"
            ],
            [
             0.4444444444444444,
             "#bd3786"
            ],
            [
             0.5555555555555556,
             "#d8576b"
            ],
            [
             0.6666666666666666,
             "#ed7953"
            ],
            [
             0.7777777777777778,
             "#fb9f3a"
            ],
            [
             0.8888888888888888,
             "#fdca26"
            ],
            [
             1,
             "#f0f921"
            ]
           ]
          },
          "colorway": [
           "#636efa",
           "#EF553B",
           "#00cc96",
           "#ab63fa",
           "#FFA15A",
           "#19d3f3",
           "#FF6692",
           "#B6E880",
           "#FF97FF",
           "#FECB52"
          ],
          "font": {
           "color": "#2a3f5f"
          },
          "geo": {
           "bgcolor": "white",
           "lakecolor": "white",
           "landcolor": "#E5ECF6",
           "showlakes": true,
           "showland": true,
           "subunitcolor": "white"
          },
          "hoverlabel": {
           "align": "left"
          },
          "hovermode": "closest",
          "mapbox": {
           "style": "light"
          },
          "paper_bgcolor": "white",
          "plot_bgcolor": "#E5ECF6",
          "polar": {
           "angularaxis": {
            "gridcolor": "white",
            "linecolor": "white",
            "ticks": ""
           },
           "bgcolor": "#E5ECF6",
           "radialaxis": {
            "gridcolor": "white",
            "linecolor": "white",
            "ticks": ""
           }
          },
          "scene": {
           "xaxis": {
            "backgroundcolor": "#E5ECF6",
            "gridcolor": "white",
            "gridwidth": 2,
            "linecolor": "white",
            "showbackground": true,
            "ticks": "",
            "zerolinecolor": "white"
           },
           "yaxis": {
            "backgroundcolor": "#E5ECF6",
            "gridcolor": "white",
            "gridwidth": 2,
            "linecolor": "white",
            "showbackground": true,
            "ticks": "",
            "zerolinecolor": "white"
           },
           "zaxis": {
            "backgroundcolor": "#E5ECF6",
            "gridcolor": "white",
            "gridwidth": 2,
            "linecolor": "white",
            "showbackground": true,
            "ticks": "",
            "zerolinecolor": "white"
           }
          },
          "shapedefaults": {
           "line": {
            "color": "#2a3f5f"
           }
          },
          "ternary": {
           "aaxis": {
            "gridcolor": "white",
            "linecolor": "white",
            "ticks": ""
           },
           "baxis": {
            "gridcolor": "white",
            "linecolor": "white",
            "ticks": ""
           },
           "bgcolor": "#E5ECF6",
           "caxis": {
            "gridcolor": "white",
            "linecolor": "white",
            "ticks": ""
           }
          },
          "title": {
           "x": 0.05
          },
          "xaxis": {
           "automargin": true,
           "gridcolor": "white",
           "linecolor": "white",
           "ticks": "",
           "title": {
            "standoff": 15
           },
           "zerolinecolor": "white",
           "zerolinewidth": 2
          },
          "yaxis": {
           "automargin": true,
           "gridcolor": "white",
           "linecolor": "white",
           "ticks": "",
           "title": {
            "standoff": 15
           },
           "zerolinecolor": "white",
           "zerolinewidth": 2
          }
         }
        },
        "title": {
         "font": {
          "color": "#4D5663"
         }
        },
        "xaxis": {
         "gridcolor": "#E1E5ED",
         "showgrid": true,
         "tickfont": {
          "color": "#4D5663"
         },
         "title": {
          "font": {
           "color": "#4D5663"
          },
          "text": ""
         },
         "zerolinecolor": "#E1E5ED"
        },
        "yaxis": {
         "gridcolor": "#E1E5ED",
         "showgrid": true,
         "tickfont": {
          "color": "#4D5663"
         },
         "title": {
          "font": {
           "color": "#4D5663"
          },
          "text": ""
         },
         "zerolinecolor": "#E1E5ED"
        }
       }
      },
      "text/html": [
       "<div>                            <div id=\"811d3e57-1857-4299-a8bf-5d29cf6dd559\" class=\"plotly-graph-div\" style=\"height:525px; width:100%;\"></div>            <script type=\"text/javascript\">                require([\"plotly\"], function(Plotly) {                    window.PLOTLYENV=window.PLOTLYENV || {};\n",
       "                    window.PLOTLYENV.BASE_URL='https://plot.ly';                                    if (document.getElementById(\"811d3e57-1857-4299-a8bf-5d29cf6dd559\")) {                    Plotly.newPlot(                        \"811d3e57-1857-4299-a8bf-5d29cf6dd559\",                        [{\"colorscale\": [[0.0, \"rgb(165,0,38)\"], [0.1, \"rgb(215,48,39)\"], [0.2, \"rgb(244,109,67)\"], [0.3, \"rgb(253,174,97)\"], [0.4, \"rgb(254,224,144)\"], [0.5, \"rgb(255,255,191)\"], [0.6, \"rgb(224,243,248)\"], [0.7, \"rgb(171,217,233)\"], [0.8, \"rgb(116,173,209)\"], [0.9, \"rgb(69,117,180)\"], [1.0, \"rgb(49,54,149)\"]], \"type\": \"surface\", \"x\": [0, 1, 2, 3, 4], \"y\": [\"x\", \"y\", \"Z\"], \"z\": [[1, 2, 3, 4, 5], [10, 20, 30, 20, 10], [5, 4, 3, 2, 1]]}],                        {\"legend\": {\"bgcolor\": \"#F5F6F9\", \"font\": {\"color\": \"#4D5663\"}}, \"paper_bgcolor\": \"#F5F6F9\", \"plot_bgcolor\": \"#F5F6F9\", \"template\": {\"data\": {\"bar\": [{\"error_x\": {\"color\": \"#2a3f5f\"}, \"error_y\": {\"color\": \"#2a3f5f\"}, \"marker\": {\"line\": {\"color\": \"#E5ECF6\", \"width\": 0.5}}, \"type\": \"bar\"}], \"barpolar\": [{\"marker\": {\"line\": {\"color\": \"#E5ECF6\", \"width\": 0.5}}, \"type\": \"barpolar\"}], \"carpet\": [{\"aaxis\": {\"endlinecolor\": \"#2a3f5f\", \"gridcolor\": \"white\", \"linecolor\": \"white\", \"minorgridcolor\": \"white\", \"startlinecolor\": \"#2a3f5f\"}, \"baxis\": {\"endlinecolor\": \"#2a3f5f\", \"gridcolor\": \"white\", \"linecolor\": \"white\", \"minorgridcolor\": \"white\", \"startlinecolor\": \"#2a3f5f\"}, \"type\": \"carpet\"}], \"choropleth\": [{\"colorbar\": {\"outlinewidth\": 0, \"ticks\": \"\"}, \"type\": \"choropleth\"}], \"contour\": [{\"colorbar\": {\"outlinewidth\": 0, \"ticks\": \"\"}, \"colorscale\": [[0.0, \"#0d0887\"], [0.1111111111111111, \"#46039f\"], [0.2222222222222222, \"#7201a8\"], [0.3333333333333333, \"#9c179e\"], [0.4444444444444444, \"#bd3786\"], [0.5555555555555556, \"#d8576b\"], [0.6666666666666666, \"#ed7953\"], [0.7777777777777778, \"#fb9f3a\"], [0.8888888888888888, \"#fdca26\"], [1.0, \"#f0f921\"]], \"type\": \"contour\"}], \"contourcarpet\": [{\"colorbar\": {\"outlinewidth\": 0, \"ticks\": \"\"}, \"type\": \"contourcarpet\"}], \"heatmap\": [{\"colorbar\": {\"outlinewidth\": 0, \"ticks\": \"\"}, \"colorscale\": [[0.0, \"#0d0887\"], [0.1111111111111111, \"#46039f\"], [0.2222222222222222, \"#7201a8\"], [0.3333333333333333, \"#9c179e\"], [0.4444444444444444, \"#bd3786\"], [0.5555555555555556, \"#d8576b\"], [0.6666666666666666, \"#ed7953\"], [0.7777777777777778, \"#fb9f3a\"], [0.8888888888888888, \"#fdca26\"], [1.0, \"#f0f921\"]], \"type\": \"heatmap\"}], \"heatmapgl\": [{\"colorbar\": {\"outlinewidth\": 0, \"ticks\": \"\"}, \"colorscale\": [[0.0, \"#0d0887\"], [0.1111111111111111, \"#46039f\"], [0.2222222222222222, \"#7201a8\"], [0.3333333333333333, \"#9c179e\"], [0.4444444444444444, \"#bd3786\"], [0.5555555555555556, \"#d8576b\"], [0.6666666666666666, \"#ed7953\"], [0.7777777777777778, \"#fb9f3a\"], [0.8888888888888888, \"#fdca26\"], [1.0, \"#f0f921\"]], \"type\": \"heatmapgl\"}], \"histogram\": [{\"marker\": {\"colorbar\": {\"outlinewidth\": 0, \"ticks\": \"\"}}, \"type\": \"histogram\"}], \"histogram2d\": [{\"colorbar\": {\"outlinewidth\": 0, \"ticks\": \"\"}, \"colorscale\": [[0.0, \"#0d0887\"], [0.1111111111111111, \"#46039f\"], [0.2222222222222222, \"#7201a8\"], [0.3333333333333333, \"#9c179e\"], [0.4444444444444444, \"#bd3786\"], [0.5555555555555556, \"#d8576b\"], [0.6666666666666666, \"#ed7953\"], [0.7777777777777778, \"#fb9f3a\"], [0.8888888888888888, \"#fdca26\"], [1.0, \"#f0f921\"]], \"type\": \"histogram2d\"}], \"histogram2dcontour\": [{\"colorbar\": {\"outlinewidth\": 0, \"ticks\": \"\"}, \"colorscale\": [[0.0, \"#0d0887\"], [0.1111111111111111, \"#46039f\"], [0.2222222222222222, \"#7201a8\"], [0.3333333333333333, \"#9c179e\"], [0.4444444444444444, \"#bd3786\"], [0.5555555555555556, \"#d8576b\"], [0.6666666666666666, \"#ed7953\"], [0.7777777777777778, \"#fb9f3a\"], [0.8888888888888888, \"#fdca26\"], [1.0, \"#f0f921\"]], \"type\": \"histogram2dcontour\"}], \"mesh3d\": [{\"colorbar\": {\"outlinewidth\": 0, \"ticks\": \"\"}, \"type\": \"mesh3d\"}], \"parcoords\": [{\"line\": {\"colorbar\": {\"outlinewidth\": 0, \"ticks\": \"\"}}, \"type\": \"parcoords\"}], \"pie\": [{\"automargin\": true, \"type\": \"pie\"}], \"scatter\": [{\"marker\": {\"colorbar\": {\"outlinewidth\": 0, \"ticks\": \"\"}}, \"type\": \"scatter\"}], \"scatter3d\": [{\"line\": {\"colorbar\": {\"outlinewidth\": 0, \"ticks\": \"\"}}, \"marker\": {\"colorbar\": {\"outlinewidth\": 0, \"ticks\": \"\"}}, \"type\": \"scatter3d\"}], \"scattercarpet\": [{\"marker\": {\"colorbar\": {\"outlinewidth\": 0, \"ticks\": \"\"}}, \"type\": \"scattercarpet\"}], \"scattergeo\": [{\"marker\": {\"colorbar\": {\"outlinewidth\": 0, \"ticks\": \"\"}}, \"type\": \"scattergeo\"}], \"scattergl\": [{\"marker\": {\"colorbar\": {\"outlinewidth\": 0, \"ticks\": \"\"}}, \"type\": \"scattergl\"}], \"scattermapbox\": [{\"marker\": {\"colorbar\": {\"outlinewidth\": 0, \"ticks\": \"\"}}, \"type\": \"scattermapbox\"}], \"scatterpolar\": [{\"marker\": {\"colorbar\": {\"outlinewidth\": 0, \"ticks\": \"\"}}, \"type\": \"scatterpolar\"}], \"scatterpolargl\": [{\"marker\": {\"colorbar\": {\"outlinewidth\": 0, \"ticks\": \"\"}}, \"type\": \"scatterpolargl\"}], \"scatterternary\": [{\"marker\": {\"colorbar\": {\"outlinewidth\": 0, \"ticks\": \"\"}}, \"type\": \"scatterternary\"}], \"surface\": [{\"colorbar\": {\"outlinewidth\": 0, \"ticks\": \"\"}, \"colorscale\": [[0.0, \"#0d0887\"], [0.1111111111111111, \"#46039f\"], [0.2222222222222222, \"#7201a8\"], [0.3333333333333333, \"#9c179e\"], [0.4444444444444444, \"#bd3786\"], [0.5555555555555556, \"#d8576b\"], [0.6666666666666666, \"#ed7953\"], [0.7777777777777778, \"#fb9f3a\"], [0.8888888888888888, \"#fdca26\"], [1.0, \"#f0f921\"]], \"type\": \"surface\"}], \"table\": [{\"cells\": {\"fill\": {\"color\": \"#EBF0F8\"}, \"line\": {\"color\": \"white\"}}, \"header\": {\"fill\": {\"color\": \"#C8D4E3\"}, \"line\": {\"color\": \"white\"}}, \"type\": \"table\"}]}, \"layout\": {\"annotationdefaults\": {\"arrowcolor\": \"#2a3f5f\", \"arrowhead\": 0, \"arrowwidth\": 1}, \"autotypenumbers\": \"strict\", \"coloraxis\": {\"colorbar\": {\"outlinewidth\": 0, \"ticks\": \"\"}}, \"colorscale\": {\"diverging\": [[0, \"#8e0152\"], [0.1, \"#c51b7d\"], [0.2, \"#de77ae\"], [0.3, \"#f1b6da\"], [0.4, \"#fde0ef\"], [0.5, \"#f7f7f7\"], [0.6, \"#e6f5d0\"], [0.7, \"#b8e186\"], [0.8, \"#7fbc41\"], [0.9, \"#4d9221\"], [1, \"#276419\"]], \"sequential\": [[0.0, \"#0d0887\"], [0.1111111111111111, \"#46039f\"], [0.2222222222222222, \"#7201a8\"], [0.3333333333333333, \"#9c179e\"], [0.4444444444444444, \"#bd3786\"], [0.5555555555555556, \"#d8576b\"], [0.6666666666666666, \"#ed7953\"], [0.7777777777777778, \"#fb9f3a\"], [0.8888888888888888, \"#fdca26\"], [1.0, \"#f0f921\"]], \"sequentialminus\": [[0.0, \"#0d0887\"], [0.1111111111111111, \"#46039f\"], [0.2222222222222222, \"#7201a8\"], [0.3333333333333333, \"#9c179e\"], [0.4444444444444444, \"#bd3786\"], [0.5555555555555556, \"#d8576b\"], [0.6666666666666666, \"#ed7953\"], [0.7777777777777778, \"#fb9f3a\"], [0.8888888888888888, \"#fdca26\"], [1.0, \"#f0f921\"]]}, \"colorway\": [\"#636efa\", \"#EF553B\", \"#00cc96\", \"#ab63fa\", \"#FFA15A\", \"#19d3f3\", \"#FF6692\", \"#B6E880\", \"#FF97FF\", \"#FECB52\"], \"font\": {\"color\": \"#2a3f5f\"}, \"geo\": {\"bgcolor\": \"white\", \"lakecolor\": \"white\", \"landcolor\": \"#E5ECF6\", \"showlakes\": true, \"showland\": true, \"subunitcolor\": \"white\"}, \"hoverlabel\": {\"align\": \"left\"}, \"hovermode\": \"closest\", \"mapbox\": {\"style\": \"light\"}, \"paper_bgcolor\": \"white\", \"plot_bgcolor\": \"#E5ECF6\", \"polar\": {\"angularaxis\": {\"gridcolor\": \"white\", \"linecolor\": \"white\", \"ticks\": \"\"}, \"bgcolor\": \"#E5ECF6\", \"radialaxis\": {\"gridcolor\": \"white\", \"linecolor\": \"white\", \"ticks\": \"\"}}, \"scene\": {\"xaxis\": {\"backgroundcolor\": \"#E5ECF6\", \"gridcolor\": \"white\", \"gridwidth\": 2, \"linecolor\": \"white\", \"showbackground\": true, \"ticks\": \"\", \"zerolinecolor\": \"white\"}, \"yaxis\": {\"backgroundcolor\": \"#E5ECF6\", \"gridcolor\": \"white\", \"gridwidth\": 2, \"linecolor\": \"white\", \"showbackground\": true, \"ticks\": \"\", \"zerolinecolor\": \"white\"}, \"zaxis\": {\"backgroundcolor\": \"#E5ECF6\", \"gridcolor\": \"white\", \"gridwidth\": 2, \"linecolor\": \"white\", \"showbackground\": true, \"ticks\": \"\", \"zerolinecolor\": \"white\"}}, \"shapedefaults\": {\"line\": {\"color\": \"#2a3f5f\"}}, \"ternary\": {\"aaxis\": {\"gridcolor\": \"white\", \"linecolor\": \"white\", \"ticks\": \"\"}, \"baxis\": {\"gridcolor\": \"white\", \"linecolor\": \"white\", \"ticks\": \"\"}, \"bgcolor\": \"#E5ECF6\", \"caxis\": {\"gridcolor\": \"white\", \"linecolor\": \"white\", \"ticks\": \"\"}}, \"title\": {\"x\": 0.05}, \"xaxis\": {\"automargin\": true, \"gridcolor\": \"white\", \"linecolor\": \"white\", \"ticks\": \"\", \"title\": {\"standoff\": 15}, \"zerolinecolor\": \"white\", \"zerolinewidth\": 2}, \"yaxis\": {\"automargin\": true, \"gridcolor\": \"white\", \"linecolor\": \"white\", \"ticks\": \"\", \"title\": {\"standoff\": 15}, \"zerolinecolor\": \"white\", \"zerolinewidth\": 2}}}, \"title\": {\"font\": {\"color\": \"#4D5663\"}}, \"xaxis\": {\"gridcolor\": \"#E1E5ED\", \"showgrid\": true, \"tickfont\": {\"color\": \"#4D5663\"}, \"title\": {\"font\": {\"color\": \"#4D5663\"}, \"text\": \"\"}, \"zerolinecolor\": \"#E1E5ED\"}, \"yaxis\": {\"gridcolor\": \"#E1E5ED\", \"showgrid\": true, \"tickfont\": {\"color\": \"#4D5663\"}, \"title\": {\"font\": {\"color\": \"#4D5663\"}, \"text\": \"\"}, \"zerolinecolor\": \"#E1E5ED\"}},                        {\"showLink\": true, \"linkText\": \"Export to plot.ly\", \"plotlyServerURL\": \"https://plot.ly\", \"responsive\": true}                    ).then(function(){\n",
       "                            \n",
       "var gd = document.getElementById('811d3e57-1857-4299-a8bf-5d29cf6dd559');\n",
       "var x = new MutationObserver(function (mutations, observer) {{\n",
       "        var display = window.getComputedStyle(gd).display;\n",
       "        if (!display || display === 'none') {{\n",
       "            console.log([gd, 'removed!']);\n",
       "            Plotly.purge(gd);\n",
       "            observer.disconnect();\n",
       "        }}\n",
       "}});\n",
       "\n",
       "// Listen for the removal of the full notebook cells\n",
       "var notebookContainer = gd.closest('#notebook-container');\n",
       "if (notebookContainer) {{\n",
       "    x.observe(notebookContainer, {childList: true});\n",
       "}}\n",
       "\n",
       "// Listen for the clearing of the current output cell\n",
       "var outputEl = gd.closest('.output');\n",
       "if (outputEl) {{\n",
       "    x.observe(outputEl, {childList: true});\n",
       "}}\n",
       "\n",
       "                        })                };                });            </script>        </div>"
      ]
     },
     "metadata": {},
     "output_type": "display_data"
    }
   ],
   "source": [
    "df3.iplot(kind = 'surface', colorscale='rdylbu')"
   ]
  },
  {
   "cell_type": "code",
   "execution_count": 53,
   "metadata": {},
   "outputs": [
    {
     "data": {
      "application/vnd.plotly.v1+json": {
       "config": {
        "linkText": "Export to plot.ly",
        "plotlyServerURL": "https://plot.ly",
        "showLink": true
       },
       "data": [
        {
         "histfunc": "count",
         "histnorm": "",
         "marker": {
          "color": "rgba(255, 153, 51, 1.0)",
          "line": {
           "color": "#4D5663",
           "width": 1.3
          }
         },
         "name": "A",
         "nbinsx": 25,
         "opacity": 0.8,
         "orientation": "v",
         "type": "histogram",
         "x": [
          -0.5480110889074034,
          -1.2920697014009046,
          -2.064720383032337,
          -0.6381949964348836,
          0.010212759440209999,
          0.794812443048594,
          -0.7278279442870339,
          0.4489067925814845,
          1.904784576609507,
          -1.3032659971088971,
          0.11803057830902464,
          -1.5910540183384845,
          0.4036629730575678,
          0.9632264730942721,
          1.5324411476637259,
          -0.04707130340337131,
          0.11174868107368494,
          -1.3117900265057767,
          -1.3083957993452056,
          0.696980809380999,
          0.7592163244817444,
          0.5250669680979622,
          -0.4449756900036982,
          -1.0014267626093265,
          -0.21335743445110616,
          -0.8514794630132676,
          0.2749573360612918,
          -0.8733300478379218,
          0.09463458411882031,
          1.4455483762466403,
          0.006188882128480812,
          -0.22631608313192741,
          -0.29524855487515117,
          0.1812433420156424,
          0.4615963474822817,
          -1.3250089684363293,
          -0.009448308083683389,
          -0.24835897398064555,
          1.2246504102660027,
          0.7647812090938544,
          0.2923490017652167,
          0.5484764320989512,
          1.3636654624881206,
          -1.098554817005937,
          0.05323209135417297,
          -0.8193664011445023,
          -0.9651881730205214,
          -0.7169235894795459,
          0.07867172577891615,
          -0.1323856621361627,
          -0.7655784144767981,
          0.9932616140585283,
          0.5168384552391037,
          1.7652722533284222,
          1.8372546061828827,
          -1.593236705292418,
          -1.7351535385081214,
          0.5235910464705479,
          -1.2678010298836502,
          -1.1620485478742044,
          0.49783153002828556,
          -0.8724397517109367,
          0.6049256246439829,
          1.400962816411936,
          0.8111886395962024,
          -1.3749913257690798,
          -0.5343381094480517,
          0.5791641404328253,
          0.8694270812021913,
          0.6977237422345381,
          -0.7518777375440403,
          -1.2664205351763898,
          0.06442315056883763,
          -0.2873984929929309,
          0.0009839494928604283,
          1.168592011704123,
          0.6604253864052589,
          -0.29521148821910714,
          1.045216265567895,
          -0.6515637069291157,
          -0.03289043947944938,
          0.22881992210491614,
          -2.120961847320266,
          -0.1534383700165545,
          -1.1210869777078845,
          0.9094502662877313,
          0.07743574010108772,
          -0.7419719470944663,
          -1.2038987086444832,
          0.14722990479865838,
          0.9751250898869979,
          -0.6264743287129438,
          0.7736042579232473,
          -0.5035091795841722,
          -1.0343753263730342,
          0.5012182124006042,
          0.03584316243864111,
          -0.5259243744479069,
          0.15306289262164952,
          1.7106987514004806
         ]
        }
       ],
       "layout": {
        "barmode": "overlay",
        "legend": {
         "bgcolor": "#F5F6F9",
         "font": {
          "color": "#4D5663"
         }
        },
        "paper_bgcolor": "#F5F6F9",
        "plot_bgcolor": "#F5F6F9",
        "template": {
         "data": {
          "bar": [
           {
            "error_x": {
             "color": "#2a3f5f"
            },
            "error_y": {
             "color": "#2a3f5f"
            },
            "marker": {
             "line": {
              "color": "#E5ECF6",
              "width": 0.5
             }
            },
            "type": "bar"
           }
          ],
          "barpolar": [
           {
            "marker": {
             "line": {
              "color": "#E5ECF6",
              "width": 0.5
             }
            },
            "type": "barpolar"
           }
          ],
          "carpet": [
           {
            "aaxis": {
             "endlinecolor": "#2a3f5f",
             "gridcolor": "white",
             "linecolor": "white",
             "minorgridcolor": "white",
             "startlinecolor": "#2a3f5f"
            },
            "baxis": {
             "endlinecolor": "#2a3f5f",
             "gridcolor": "white",
             "linecolor": "white",
             "minorgridcolor": "white",
             "startlinecolor": "#2a3f5f"
            },
            "type": "carpet"
           }
          ],
          "choropleth": [
           {
            "colorbar": {
             "outlinewidth": 0,
             "ticks": ""
            },
            "type": "choropleth"
           }
          ],
          "contour": [
           {
            "colorbar": {
             "outlinewidth": 0,
             "ticks": ""
            },
            "colorscale": [
             [
              0,
              "#0d0887"
             ],
             [
              0.1111111111111111,
              "#46039f"
             ],
             [
              0.2222222222222222,
              "#7201a8"
             ],
             [
              0.3333333333333333,
              "#9c179e"
             ],
             [
              0.4444444444444444,
              "#bd3786"
             ],
             [
              0.5555555555555556,
              "#d8576b"
             ],
             [
              0.6666666666666666,
              "#ed7953"
             ],
             [
              0.7777777777777778,
              "#fb9f3a"
             ],
             [
              0.8888888888888888,
              "#fdca26"
             ],
             [
              1,
              "#f0f921"
             ]
            ],
            "type": "contour"
           }
          ],
          "contourcarpet": [
           {
            "colorbar": {
             "outlinewidth": 0,
             "ticks": ""
            },
            "type": "contourcarpet"
           }
          ],
          "heatmap": [
           {
            "colorbar": {
             "outlinewidth": 0,
             "ticks": ""
            },
            "colorscale": [
             [
              0,
              "#0d0887"
             ],
             [
              0.1111111111111111,
              "#46039f"
             ],
             [
              0.2222222222222222,
              "#7201a8"
             ],
             [
              0.3333333333333333,
              "#9c179e"
             ],
             [
              0.4444444444444444,
              "#bd3786"
             ],
             [
              0.5555555555555556,
              "#d8576b"
             ],
             [
              0.6666666666666666,
              "#ed7953"
             ],
             [
              0.7777777777777778,
              "#fb9f3a"
             ],
             [
              0.8888888888888888,
              "#fdca26"
             ],
             [
              1,
              "#f0f921"
             ]
            ],
            "type": "heatmap"
           }
          ],
          "heatmapgl": [
           {
            "colorbar": {
             "outlinewidth": 0,
             "ticks": ""
            },
            "colorscale": [
             [
              0,
              "#0d0887"
             ],
             [
              0.1111111111111111,
              "#46039f"
             ],
             [
              0.2222222222222222,
              "#7201a8"
             ],
             [
              0.3333333333333333,
              "#9c179e"
             ],
             [
              0.4444444444444444,
              "#bd3786"
             ],
             [
              0.5555555555555556,
              "#d8576b"
             ],
             [
              0.6666666666666666,
              "#ed7953"
             ],
             [
              0.7777777777777778,
              "#fb9f3a"
             ],
             [
              0.8888888888888888,
              "#fdca26"
             ],
             [
              1,
              "#f0f921"
             ]
            ],
            "type": "heatmapgl"
           }
          ],
          "histogram": [
           {
            "marker": {
             "colorbar": {
              "outlinewidth": 0,
              "ticks": ""
             }
            },
            "type": "histogram"
           }
          ],
          "histogram2d": [
           {
            "colorbar": {
             "outlinewidth": 0,
             "ticks": ""
            },
            "colorscale": [
             [
              0,
              "#0d0887"
             ],
             [
              0.1111111111111111,
              "#46039f"
             ],
             [
              0.2222222222222222,
              "#7201a8"
             ],
             [
              0.3333333333333333,
              "#9c179e"
             ],
             [
              0.4444444444444444,
              "#bd3786"
             ],
             [
              0.5555555555555556,
              "#d8576b"
             ],
             [
              0.6666666666666666,
              "#ed7953"
             ],
             [
              0.7777777777777778,
              "#fb9f3a"
             ],
             [
              0.8888888888888888,
              "#fdca26"
             ],
             [
              1,
              "#f0f921"
             ]
            ],
            "type": "histogram2d"
           }
          ],
          "histogram2dcontour": [
           {
            "colorbar": {
             "outlinewidth": 0,
             "ticks": ""
            },
            "colorscale": [
             [
              0,
              "#0d0887"
             ],
             [
              0.1111111111111111,
              "#46039f"
             ],
             [
              0.2222222222222222,
              "#7201a8"
             ],
             [
              0.3333333333333333,
              "#9c179e"
             ],
             [
              0.4444444444444444,
              "#bd3786"
             ],
             [
              0.5555555555555556,
              "#d8576b"
             ],
             [
              0.6666666666666666,
              "#ed7953"
             ],
             [
              0.7777777777777778,
              "#fb9f3a"
             ],
             [
              0.8888888888888888,
              "#fdca26"
             ],
             [
              1,
              "#f0f921"
             ]
            ],
            "type": "histogram2dcontour"
           }
          ],
          "mesh3d": [
           {
            "colorbar": {
             "outlinewidth": 0,
             "ticks": ""
            },
            "type": "mesh3d"
           }
          ],
          "parcoords": [
           {
            "line": {
             "colorbar": {
              "outlinewidth": 0,
              "ticks": ""
             }
            },
            "type": "parcoords"
           }
          ],
          "pie": [
           {
            "automargin": true,
            "type": "pie"
           }
          ],
          "scatter": [
           {
            "marker": {
             "colorbar": {
              "outlinewidth": 0,
              "ticks": ""
             }
            },
            "type": "scatter"
           }
          ],
          "scatter3d": [
           {
            "line": {
             "colorbar": {
              "outlinewidth": 0,
              "ticks": ""
             }
            },
            "marker": {
             "colorbar": {
              "outlinewidth": 0,
              "ticks": ""
             }
            },
            "type": "scatter3d"
           }
          ],
          "scattercarpet": [
           {
            "marker": {
             "colorbar": {
              "outlinewidth": 0,
              "ticks": ""
             }
            },
            "type": "scattercarpet"
           }
          ],
          "scattergeo": [
           {
            "marker": {
             "colorbar": {
              "outlinewidth": 0,
              "ticks": ""
             }
            },
            "type": "scattergeo"
           }
          ],
          "scattergl": [
           {
            "marker": {
             "colorbar": {
              "outlinewidth": 0,
              "ticks": ""
             }
            },
            "type": "scattergl"
           }
          ],
          "scattermapbox": [
           {
            "marker": {
             "colorbar": {
              "outlinewidth": 0,
              "ticks": ""
             }
            },
            "type": "scattermapbox"
           }
          ],
          "scatterpolar": [
           {
            "marker": {
             "colorbar": {
              "outlinewidth": 0,
              "ticks": ""
             }
            },
            "type": "scatterpolar"
           }
          ],
          "scatterpolargl": [
           {
            "marker": {
             "colorbar": {
              "outlinewidth": 0,
              "ticks": ""
             }
            },
            "type": "scatterpolargl"
           }
          ],
          "scatterternary": [
           {
            "marker": {
             "colorbar": {
              "outlinewidth": 0,
              "ticks": ""
             }
            },
            "type": "scatterternary"
           }
          ],
          "surface": [
           {
            "colorbar": {
             "outlinewidth": 0,
             "ticks": ""
            },
            "colorscale": [
             [
              0,
              "#0d0887"
             ],
             [
              0.1111111111111111,
              "#46039f"
             ],
             [
              0.2222222222222222,
              "#7201a8"
             ],
             [
              0.3333333333333333,
              "#9c179e"
             ],
             [
              0.4444444444444444,
              "#bd3786"
             ],
             [
              0.5555555555555556,
              "#d8576b"
             ],
             [
              0.6666666666666666,
              "#ed7953"
             ],
             [
              0.7777777777777778,
              "#fb9f3a"
             ],
             [
              0.8888888888888888,
              "#fdca26"
             ],
             [
              1,
              "#f0f921"
             ]
            ],
            "type": "surface"
           }
          ],
          "table": [
           {
            "cells": {
             "fill": {
              "color": "#EBF0F8"
             },
             "line": {
              "color": "white"
             }
            },
            "header": {
             "fill": {
              "color": "#C8D4E3"
             },
             "line": {
              "color": "white"
             }
            },
            "type": "table"
           }
          ]
         },
         "layout": {
          "annotationdefaults": {
           "arrowcolor": "#2a3f5f",
           "arrowhead": 0,
           "arrowwidth": 1
          },
          "autotypenumbers": "strict",
          "coloraxis": {
           "colorbar": {
            "outlinewidth": 0,
            "ticks": ""
           }
          },
          "colorscale": {
           "diverging": [
            [
             0,
             "#8e0152"
            ],
            [
             0.1,
             "#c51b7d"
            ],
            [
             0.2,
             "#de77ae"
            ],
            [
             0.3,
             "#f1b6da"
            ],
            [
             0.4,
             "#fde0ef"
            ],
            [
             0.5,
             "#f7f7f7"
            ],
            [
             0.6,
             "#e6f5d0"
            ],
            [
             0.7,
             "#b8e186"
            ],
            [
             0.8,
             "#7fbc41"
            ],
            [
             0.9,
             "#4d9221"
            ],
            [
             1,
             "#276419"
            ]
           ],
           "sequential": [
            [
             0,
             "#0d0887"
            ],
            [
             0.1111111111111111,
             "#46039f"
            ],
            [
             0.2222222222222222,
             "#7201a8"
            ],
            [
             0.3333333333333333,
             "#9c179e"
            ],
            [
             0.4444444444444444,
             "#bd3786"
            ],
            [
             0.5555555555555556,
             "#d8576b"
            ],
            [
             0.6666666666666666,
             "#ed7953"
            ],
            [
             0.7777777777777778,
             "#fb9f3a"
            ],
            [
             0.8888888888888888,
             "#fdca26"
            ],
            [
             1,
             "#f0f921"
            ]
           ],
           "sequentialminus": [
            [
             0,
             "#0d0887"
            ],
            [
             0.1111111111111111,
             "#46039f"
            ],
            [
             0.2222222222222222,
             "#7201a8"
            ],
            [
             0.3333333333333333,
             "#9c179e"
            ],
            [
             0.4444444444444444,
             "#bd3786"
            ],
            [
             0.5555555555555556,
             "#d8576b"
            ],
            [
             0.6666666666666666,
             "#ed7953"
            ],
            [
             0.7777777777777778,
             "#fb9f3a"
            ],
            [
             0.8888888888888888,
             "#fdca26"
            ],
            [
             1,
             "#f0f921"
            ]
           ]
          },
          "colorway": [
           "#636efa",
           "#EF553B",
           "#00cc96",
           "#ab63fa",
           "#FFA15A",
           "#19d3f3",
           "#FF6692",
           "#B6E880",
           "#FF97FF",
           "#FECB52"
          ],
          "font": {
           "color": "#2a3f5f"
          },
          "geo": {
           "bgcolor": "white",
           "lakecolor": "white",
           "landcolor": "#E5ECF6",
           "showlakes": true,
           "showland": true,
           "subunitcolor": "white"
          },
          "hoverlabel": {
           "align": "left"
          },
          "hovermode": "closest",
          "mapbox": {
           "style": "light"
          },
          "paper_bgcolor": "white",
          "plot_bgcolor": "#E5ECF6",
          "polar": {
           "angularaxis": {
            "gridcolor": "white",
            "linecolor": "white",
            "ticks": ""
           },
           "bgcolor": "#E5ECF6",
           "radialaxis": {
            "gridcolor": "white",
            "linecolor": "white",
            "ticks": ""
           }
          },
          "scene": {
           "xaxis": {
            "backgroundcolor": "#E5ECF6",
            "gridcolor": "white",
            "gridwidth": 2,
            "linecolor": "white",
            "showbackground": true,
            "ticks": "",
            "zerolinecolor": "white"
           },
           "yaxis": {
            "backgroundcolor": "#E5ECF6",
            "gridcolor": "white",
            "gridwidth": 2,
            "linecolor": "white",
            "showbackground": true,
            "ticks": "",
            "zerolinecolor": "white"
           },
           "zaxis": {
            "backgroundcolor": "#E5ECF6",
            "gridcolor": "white",
            "gridwidth": 2,
            "linecolor": "white",
            "showbackground": true,
            "ticks": "",
            "zerolinecolor": "white"
           }
          },
          "shapedefaults": {
           "line": {
            "color": "#2a3f5f"
           }
          },
          "ternary": {
           "aaxis": {
            "gridcolor": "white",
            "linecolor": "white",
            "ticks": ""
           },
           "baxis": {
            "gridcolor": "white",
            "linecolor": "white",
            "ticks": ""
           },
           "bgcolor": "#E5ECF6",
           "caxis": {
            "gridcolor": "white",
            "linecolor": "white",
            "ticks": ""
           }
          },
          "title": {
           "x": 0.05
          },
          "xaxis": {
           "automargin": true,
           "gridcolor": "white",
           "linecolor": "white",
           "ticks": "",
           "title": {
            "standoff": 15
           },
           "zerolinecolor": "white",
           "zerolinewidth": 2
          },
          "yaxis": {
           "automargin": true,
           "gridcolor": "white",
           "linecolor": "white",
           "ticks": "",
           "title": {
            "standoff": 15
           },
           "zerolinecolor": "white",
           "zerolinewidth": 2
          }
         }
        },
        "title": {
         "font": {
          "color": "#4D5663"
         }
        },
        "xaxis": {
         "gridcolor": "#E1E5ED",
         "showgrid": true,
         "tickfont": {
          "color": "#4D5663"
         },
         "title": {
          "font": {
           "color": "#4D5663"
          },
          "text": ""
         },
         "zerolinecolor": "#E1E5ED"
        },
        "yaxis": {
         "gridcolor": "#E1E5ED",
         "showgrid": true,
         "tickfont": {
          "color": "#4D5663"
         },
         "title": {
          "font": {
           "color": "#4D5663"
          },
          "text": ""
         },
         "zerolinecolor": "#E1E5ED"
        }
       }
      },
      "text/html": [
       "<div>                            <div id=\"41c9d9d6-5cdd-46ce-a6e6-866e40706a30\" class=\"plotly-graph-div\" style=\"height:525px; width:100%;\"></div>            <script type=\"text/javascript\">                require([\"plotly\"], function(Plotly) {                    window.PLOTLYENV=window.PLOTLYENV || {};\n",
       "                    window.PLOTLYENV.BASE_URL='https://plot.ly';                                    if (document.getElementById(\"41c9d9d6-5cdd-46ce-a6e6-866e40706a30\")) {                    Plotly.newPlot(                        \"41c9d9d6-5cdd-46ce-a6e6-866e40706a30\",                        [{\"histfunc\": \"count\", \"histnorm\": \"\", \"marker\": {\"color\": \"rgba(255, 153, 51, 1.0)\", \"line\": {\"color\": \"#4D5663\", \"width\": 1.3}}, \"name\": \"A\", \"nbinsx\": 25, \"opacity\": 0.8, \"orientation\": \"v\", \"type\": \"histogram\", \"x\": [-0.5480110889074034, -1.2920697014009046, -2.064720383032337, -0.6381949964348836, 0.010212759440209999, 0.794812443048594, -0.7278279442870339, 0.4489067925814845, 1.904784576609507, -1.3032659971088971, 0.11803057830902464, -1.5910540183384845, 0.4036629730575678, 0.9632264730942721, 1.5324411476637259, -0.04707130340337131, 0.11174868107368494, -1.3117900265057767, -1.3083957993452056, 0.696980809380999, 0.7592163244817444, 0.5250669680979622, -0.4449756900036982, -1.0014267626093265, -0.21335743445110616, -0.8514794630132676, 0.2749573360612918, -0.8733300478379218, 0.09463458411882031, 1.4455483762466403, 0.006188882128480812, -0.22631608313192741, -0.29524855487515117, 0.1812433420156424, 0.4615963474822817, -1.3250089684363293, -0.009448308083683389, -0.24835897398064555, 1.2246504102660027, 0.7647812090938544, 0.2923490017652167, 0.5484764320989512, 1.3636654624881206, -1.098554817005937, 0.05323209135417297, -0.8193664011445023, -0.9651881730205214, -0.7169235894795459, 0.07867172577891615, -0.1323856621361627, -0.7655784144767981, 0.9932616140585283, 0.5168384552391037, 1.7652722533284222, 1.8372546061828827, -1.593236705292418, -1.7351535385081214, 0.5235910464705479, -1.2678010298836502, -1.1620485478742044, 0.49783153002828556, -0.8724397517109367, 0.6049256246439829, 1.400962816411936, 0.8111886395962024, -1.3749913257690798, -0.5343381094480517, 0.5791641404328253, 0.8694270812021913, 0.6977237422345381, -0.7518777375440403, -1.2664205351763898, 0.06442315056883763, -0.2873984929929309, 0.0009839494928604283, 1.168592011704123, 0.6604253864052589, -0.29521148821910714, 1.045216265567895, -0.6515637069291157, -0.03289043947944938, 0.22881992210491614, -2.120961847320266, -0.1534383700165545, -1.1210869777078845, 0.9094502662877313, 0.07743574010108772, -0.7419719470944663, -1.2038987086444832, 0.14722990479865838, 0.9751250898869979, -0.6264743287129438, 0.7736042579232473, -0.5035091795841722, -1.0343753263730342, 0.5012182124006042, 0.03584316243864111, -0.5259243744479069, 0.15306289262164952, 1.7106987514004806]}],                        {\"barmode\": \"overlay\", \"legend\": {\"bgcolor\": \"#F5F6F9\", \"font\": {\"color\": \"#4D5663\"}}, \"paper_bgcolor\": \"#F5F6F9\", \"plot_bgcolor\": \"#F5F6F9\", \"template\": {\"data\": {\"bar\": [{\"error_x\": {\"color\": \"#2a3f5f\"}, \"error_y\": {\"color\": \"#2a3f5f\"}, \"marker\": {\"line\": {\"color\": \"#E5ECF6\", \"width\": 0.5}}, \"type\": \"bar\"}], \"barpolar\": [{\"marker\": {\"line\": {\"color\": \"#E5ECF6\", \"width\": 0.5}}, \"type\": \"barpolar\"}], \"carpet\": [{\"aaxis\": {\"endlinecolor\": \"#2a3f5f\", \"gridcolor\": \"white\", \"linecolor\": \"white\", \"minorgridcolor\": \"white\", \"startlinecolor\": \"#2a3f5f\"}, \"baxis\": {\"endlinecolor\": \"#2a3f5f\", \"gridcolor\": \"white\", \"linecolor\": \"white\", \"minorgridcolor\": \"white\", \"startlinecolor\": \"#2a3f5f\"}, \"type\": \"carpet\"}], \"choropleth\": [{\"colorbar\": {\"outlinewidth\": 0, \"ticks\": \"\"}, \"type\": \"choropleth\"}], \"contour\": [{\"colorbar\": {\"outlinewidth\": 0, \"ticks\": \"\"}, \"colorscale\": [[0.0, \"#0d0887\"], [0.1111111111111111, \"#46039f\"], [0.2222222222222222, \"#7201a8\"], [0.3333333333333333, \"#9c179e\"], [0.4444444444444444, \"#bd3786\"], [0.5555555555555556, \"#d8576b\"], [0.6666666666666666, \"#ed7953\"], [0.7777777777777778, \"#fb9f3a\"], [0.8888888888888888, \"#fdca26\"], [1.0, \"#f0f921\"]], \"type\": \"contour\"}], \"contourcarpet\": [{\"colorbar\": {\"outlinewidth\": 0, \"ticks\": \"\"}, \"type\": \"contourcarpet\"}], \"heatmap\": [{\"colorbar\": {\"outlinewidth\": 0, \"ticks\": \"\"}, \"colorscale\": [[0.0, \"#0d0887\"], [0.1111111111111111, \"#46039f\"], [0.2222222222222222, \"#7201a8\"], [0.3333333333333333, \"#9c179e\"], [0.4444444444444444, \"#bd3786\"], [0.5555555555555556, \"#d8576b\"], [0.6666666666666666, \"#ed7953\"], [0.7777777777777778, \"#fb9f3a\"], [0.8888888888888888, \"#fdca26\"], [1.0, \"#f0f921\"]], \"type\": \"heatmap\"}], \"heatmapgl\": [{\"colorbar\": {\"outlinewidth\": 0, \"ticks\": \"\"}, \"colorscale\": [[0.0, \"#0d0887\"], [0.1111111111111111, \"#46039f\"], [0.2222222222222222, \"#7201a8\"], [0.3333333333333333, \"#9c179e\"], [0.4444444444444444, \"#bd3786\"], [0.5555555555555556, \"#d8576b\"], [0.6666666666666666, \"#ed7953\"], [0.7777777777777778, \"#fb9f3a\"], [0.8888888888888888, \"#fdca26\"], [1.0, \"#f0f921\"]], \"type\": \"heatmapgl\"}], \"histogram\": [{\"marker\": {\"colorbar\": {\"outlinewidth\": 0, \"ticks\": \"\"}}, \"type\": \"histogram\"}], \"histogram2d\": [{\"colorbar\": {\"outlinewidth\": 0, \"ticks\": \"\"}, \"colorscale\": [[0.0, \"#0d0887\"], [0.1111111111111111, \"#46039f\"], [0.2222222222222222, \"#7201a8\"], [0.3333333333333333, \"#9c179e\"], [0.4444444444444444, \"#bd3786\"], [0.5555555555555556, \"#d8576b\"], [0.6666666666666666, \"#ed7953\"], [0.7777777777777778, \"#fb9f3a\"], [0.8888888888888888, \"#fdca26\"], [1.0, \"#f0f921\"]], \"type\": \"histogram2d\"}], \"histogram2dcontour\": [{\"colorbar\": {\"outlinewidth\": 0, \"ticks\": \"\"}, \"colorscale\": [[0.0, \"#0d0887\"], [0.1111111111111111, \"#46039f\"], [0.2222222222222222, \"#7201a8\"], [0.3333333333333333, \"#9c179e\"], [0.4444444444444444, \"#bd3786\"], [0.5555555555555556, \"#d8576b\"], [0.6666666666666666, \"#ed7953\"], [0.7777777777777778, \"#fb9f3a\"], [0.8888888888888888, \"#fdca26\"], [1.0, \"#f0f921\"]], \"type\": \"histogram2dcontour\"}], \"mesh3d\": [{\"colorbar\": {\"outlinewidth\": 0, \"ticks\": \"\"}, \"type\": \"mesh3d\"}], \"parcoords\": [{\"line\": {\"colorbar\": {\"outlinewidth\": 0, \"ticks\": \"\"}}, \"type\": \"parcoords\"}], \"pie\": [{\"automargin\": true, \"type\": \"pie\"}], \"scatter\": [{\"marker\": {\"colorbar\": {\"outlinewidth\": 0, \"ticks\": \"\"}}, \"type\": \"scatter\"}], \"scatter3d\": [{\"line\": {\"colorbar\": {\"outlinewidth\": 0, \"ticks\": \"\"}}, \"marker\": {\"colorbar\": {\"outlinewidth\": 0, \"ticks\": \"\"}}, \"type\": \"scatter3d\"}], \"scattercarpet\": [{\"marker\": {\"colorbar\": {\"outlinewidth\": 0, \"ticks\": \"\"}}, \"type\": \"scattercarpet\"}], \"scattergeo\": [{\"marker\": {\"colorbar\": {\"outlinewidth\": 0, \"ticks\": \"\"}}, \"type\": \"scattergeo\"}], \"scattergl\": [{\"marker\": {\"colorbar\": {\"outlinewidth\": 0, \"ticks\": \"\"}}, \"type\": \"scattergl\"}], \"scattermapbox\": [{\"marker\": {\"colorbar\": {\"outlinewidth\": 0, \"ticks\": \"\"}}, \"type\": \"scattermapbox\"}], \"scatterpolar\": [{\"marker\": {\"colorbar\": {\"outlinewidth\": 0, \"ticks\": \"\"}}, \"type\": \"scatterpolar\"}], \"scatterpolargl\": [{\"marker\": {\"colorbar\": {\"outlinewidth\": 0, \"ticks\": \"\"}}, \"type\": \"scatterpolargl\"}], \"scatterternary\": [{\"marker\": {\"colorbar\": {\"outlinewidth\": 0, \"ticks\": \"\"}}, \"type\": \"scatterternary\"}], \"surface\": [{\"colorbar\": {\"outlinewidth\": 0, \"ticks\": \"\"}, \"colorscale\": [[0.0, \"#0d0887\"], [0.1111111111111111, \"#46039f\"], [0.2222222222222222, \"#7201a8\"], [0.3333333333333333, \"#9c179e\"], [0.4444444444444444, \"#bd3786\"], [0.5555555555555556, \"#d8576b\"], [0.6666666666666666, \"#ed7953\"], [0.7777777777777778, \"#fb9f3a\"], [0.8888888888888888, \"#fdca26\"], [1.0, \"#f0f921\"]], \"type\": \"surface\"}], \"table\": [{\"cells\": {\"fill\": {\"color\": \"#EBF0F8\"}, \"line\": {\"color\": \"white\"}}, \"header\": {\"fill\": {\"color\": \"#C8D4E3\"}, \"line\": {\"color\": \"white\"}}, \"type\": \"table\"}]}, \"layout\": {\"annotationdefaults\": {\"arrowcolor\": \"#2a3f5f\", \"arrowhead\": 0, \"arrowwidth\": 1}, \"autotypenumbers\": \"strict\", \"coloraxis\": {\"colorbar\": {\"outlinewidth\": 0, \"ticks\": \"\"}}, \"colorscale\": {\"diverging\": [[0, \"#8e0152\"], [0.1, \"#c51b7d\"], [0.2, \"#de77ae\"], [0.3, \"#f1b6da\"], [0.4, \"#fde0ef\"], [0.5, \"#f7f7f7\"], [0.6, \"#e6f5d0\"], [0.7, \"#b8e186\"], [0.8, \"#7fbc41\"], [0.9, \"#4d9221\"], [1, \"#276419\"]], \"sequential\": [[0.0, \"#0d0887\"], [0.1111111111111111, \"#46039f\"], [0.2222222222222222, \"#7201a8\"], [0.3333333333333333, \"#9c179e\"], [0.4444444444444444, \"#bd3786\"], [0.5555555555555556, \"#d8576b\"], [0.6666666666666666, \"#ed7953\"], [0.7777777777777778, \"#fb9f3a\"], [0.8888888888888888, \"#fdca26\"], [1.0, \"#f0f921\"]], \"sequentialminus\": [[0.0, \"#0d0887\"], [0.1111111111111111, \"#46039f\"], [0.2222222222222222, \"#7201a8\"], [0.3333333333333333, \"#9c179e\"], [0.4444444444444444, \"#bd3786\"], [0.5555555555555556, \"#d8576b\"], [0.6666666666666666, \"#ed7953\"], [0.7777777777777778, \"#fb9f3a\"], [0.8888888888888888, \"#fdca26\"], [1.0, \"#f0f921\"]]}, \"colorway\": [\"#636efa\", \"#EF553B\", \"#00cc96\", \"#ab63fa\", \"#FFA15A\", \"#19d3f3\", \"#FF6692\", \"#B6E880\", \"#FF97FF\", \"#FECB52\"], \"font\": {\"color\": \"#2a3f5f\"}, \"geo\": {\"bgcolor\": \"white\", \"lakecolor\": \"white\", \"landcolor\": \"#E5ECF6\", \"showlakes\": true, \"showland\": true, \"subunitcolor\": \"white\"}, \"hoverlabel\": {\"align\": \"left\"}, \"hovermode\": \"closest\", \"mapbox\": {\"style\": \"light\"}, \"paper_bgcolor\": \"white\", \"plot_bgcolor\": \"#E5ECF6\", \"polar\": {\"angularaxis\": {\"gridcolor\": \"white\", \"linecolor\": \"white\", \"ticks\": \"\"}, \"bgcolor\": \"#E5ECF6\", \"radialaxis\": {\"gridcolor\": \"white\", \"linecolor\": \"white\", \"ticks\": \"\"}}, \"scene\": {\"xaxis\": {\"backgroundcolor\": \"#E5ECF6\", \"gridcolor\": \"white\", \"gridwidth\": 2, \"linecolor\": \"white\", \"showbackground\": true, \"ticks\": \"\", \"zerolinecolor\": \"white\"}, \"yaxis\": {\"backgroundcolor\": \"#E5ECF6\", \"gridcolor\": \"white\", \"gridwidth\": 2, \"linecolor\": \"white\", \"showbackground\": true, \"ticks\": \"\", \"zerolinecolor\": \"white\"}, \"zaxis\": {\"backgroundcolor\": \"#E5ECF6\", \"gridcolor\": \"white\", \"gridwidth\": 2, \"linecolor\": \"white\", \"showbackground\": true, \"ticks\": \"\", \"zerolinecolor\": \"white\"}}, \"shapedefaults\": {\"line\": {\"color\": \"#2a3f5f\"}}, \"ternary\": {\"aaxis\": {\"gridcolor\": \"white\", \"linecolor\": \"white\", \"ticks\": \"\"}, \"baxis\": {\"gridcolor\": \"white\", \"linecolor\": \"white\", \"ticks\": \"\"}, \"bgcolor\": \"#E5ECF6\", \"caxis\": {\"gridcolor\": \"white\", \"linecolor\": \"white\", \"ticks\": \"\"}}, \"title\": {\"x\": 0.05}, \"xaxis\": {\"automargin\": true, \"gridcolor\": \"white\", \"linecolor\": \"white\", \"ticks\": \"\", \"title\": {\"standoff\": 15}, \"zerolinecolor\": \"white\", \"zerolinewidth\": 2}, \"yaxis\": {\"automargin\": true, \"gridcolor\": \"white\", \"linecolor\": \"white\", \"ticks\": \"\", \"title\": {\"standoff\": 15}, \"zerolinecolor\": \"white\", \"zerolinewidth\": 2}}}, \"title\": {\"font\": {\"color\": \"#4D5663\"}}, \"xaxis\": {\"gridcolor\": \"#E1E5ED\", \"showgrid\": true, \"tickfont\": {\"color\": \"#4D5663\"}, \"title\": {\"font\": {\"color\": \"#4D5663\"}, \"text\": \"\"}, \"zerolinecolor\": \"#E1E5ED\"}, \"yaxis\": {\"gridcolor\": \"#E1E5ED\", \"showgrid\": true, \"tickfont\": {\"color\": \"#4D5663\"}, \"title\": {\"font\": {\"color\": \"#4D5663\"}, \"text\": \"\"}, \"zerolinecolor\": \"#E1E5ED\"}},                        {\"showLink\": true, \"linkText\": \"Export to plot.ly\", \"plotlyServerURL\": \"https://plot.ly\", \"responsive\": true}                    ).then(function(){\n",
       "                            \n",
       "var gd = document.getElementById('41c9d9d6-5cdd-46ce-a6e6-866e40706a30');\n",
       "var x = new MutationObserver(function (mutations, observer) {{\n",
       "        var display = window.getComputedStyle(gd).display;\n",
       "        if (!display || display === 'none') {{\n",
       "            console.log([gd, 'removed!']);\n",
       "            Plotly.purge(gd);\n",
       "            observer.disconnect();\n",
       "        }}\n",
       "}});\n",
       "\n",
       "// Listen for the removal of the full notebook cells\n",
       "var notebookContainer = gd.closest('#notebook-container');\n",
       "if (notebookContainer) {{\n",
       "    x.observe(notebookContainer, {childList: true});\n",
       "}}\n",
       "\n",
       "// Listen for the clearing of the current output cell\n",
       "var outputEl = gd.closest('.output');\n",
       "if (outputEl) {{\n",
       "    x.observe(outputEl, {childList: true});\n",
       "}}\n",
       "\n",
       "                        })                };                });            </script>        </div>"
      ]
     },
     "metadata": {},
     "output_type": "display_data"
    }
   ],
   "source": [
    "df['A'].iplot(kind='hist', bins=25)"
   ]
  },
  {
   "cell_type": "code",
   "execution_count": 54,
   "metadata": {},
   "outputs": [
    {
     "data": {
      "application/vnd.plotly.v1+json": {
       "config": {
        "linkText": "Export to plot.ly",
        "plotlyServerURL": "https://plot.ly",
        "showLink": true
       },
       "data": [
        {
         "histfunc": "count",
         "histnorm": "",
         "marker": {
          "color": "rgba(255, 153, 51, 1.0)",
          "line": {
           "color": "#4D5663",
           "width": 1.3
          }
         },
         "name": "A",
         "nbinsx": 25,
         "opacity": 0.8,
         "orientation": "v",
         "type": "histogram",
         "x": [
          -0.5480110889074034,
          -1.2920697014009046,
          -2.064720383032337,
          -0.6381949964348836,
          0.010212759440209999,
          0.794812443048594,
          -0.7278279442870339,
          0.4489067925814845,
          1.904784576609507,
          -1.3032659971088971,
          0.11803057830902464,
          -1.5910540183384845,
          0.4036629730575678,
          0.9632264730942721,
          1.5324411476637259,
          -0.04707130340337131,
          0.11174868107368494,
          -1.3117900265057767,
          -1.3083957993452056,
          0.696980809380999,
          0.7592163244817444,
          0.5250669680979622,
          -0.4449756900036982,
          -1.0014267626093265,
          -0.21335743445110616,
          -0.8514794630132676,
          0.2749573360612918,
          -0.8733300478379218,
          0.09463458411882031,
          1.4455483762466403,
          0.006188882128480812,
          -0.22631608313192741,
          -0.29524855487515117,
          0.1812433420156424,
          0.4615963474822817,
          -1.3250089684363293,
          -0.009448308083683389,
          -0.24835897398064555,
          1.2246504102660027,
          0.7647812090938544,
          0.2923490017652167,
          0.5484764320989512,
          1.3636654624881206,
          -1.098554817005937,
          0.05323209135417297,
          -0.8193664011445023,
          -0.9651881730205214,
          -0.7169235894795459,
          0.07867172577891615,
          -0.1323856621361627,
          -0.7655784144767981,
          0.9932616140585283,
          0.5168384552391037,
          1.7652722533284222,
          1.8372546061828827,
          -1.593236705292418,
          -1.7351535385081214,
          0.5235910464705479,
          -1.2678010298836502,
          -1.1620485478742044,
          0.49783153002828556,
          -0.8724397517109367,
          0.6049256246439829,
          1.400962816411936,
          0.8111886395962024,
          -1.3749913257690798,
          -0.5343381094480517,
          0.5791641404328253,
          0.8694270812021913,
          0.6977237422345381,
          -0.7518777375440403,
          -1.2664205351763898,
          0.06442315056883763,
          -0.2873984929929309,
          0.0009839494928604283,
          1.168592011704123,
          0.6604253864052589,
          -0.29521148821910714,
          1.045216265567895,
          -0.6515637069291157,
          -0.03289043947944938,
          0.22881992210491614,
          -2.120961847320266,
          -0.1534383700165545,
          -1.1210869777078845,
          0.9094502662877313,
          0.07743574010108772,
          -0.7419719470944663,
          -1.2038987086444832,
          0.14722990479865838,
          0.9751250898869979,
          -0.6264743287129438,
          0.7736042579232473,
          -0.5035091795841722,
          -1.0343753263730342,
          0.5012182124006042,
          0.03584316243864111,
          -0.5259243744479069,
          0.15306289262164952,
          1.7106987514004806
         ]
        },
        {
         "histfunc": "count",
         "histnorm": "",
         "marker": {
          "color": "rgba(55, 128, 191, 1.0)",
          "line": {
           "color": "#4D5663",
           "width": 1.3
          }
         },
         "name": "B",
         "nbinsx": 25,
         "opacity": 0.8,
         "orientation": "v",
         "type": "histogram",
         "x": [
          1.907683558388115,
          0.4547584720364601,
          -0.4624177855774668,
          -3.651544791684352,
          -0.5678534781105319,
          1.6427839907904405,
          -0.9619000332416442,
          -0.00397187462557156,
          -0.07994051727686378,
          -0.6910522585403166,
          -0.09450542139400352,
          -0.8779483001934726,
          -1.484377860124462,
          -0.06479965458310179,
          -1.0119838104547232,
          1.0484315683481713,
          -1.704515782167066,
          0.22219933855895088,
          1.1715275094543638,
          -0.286046199843736,
          -0.18562188278474828,
          -0.5094303960311877,
          1.2804878676027072,
          1.0784034812612298,
          -0.15293803125447164,
          -0.4223642419037627,
          0.14855090724344358,
          -0.31189985968039113,
          -0.9115283059275937,
          -0.7755292866323195,
          -0.42721244214615794,
          -2.388606862034661,
          -0.05382162402532776,
          -1.3473629289778324,
          1.8397464184587116,
          0.8736778624934495,
          -0.7310055025516222,
          0.6958880162743549,
          0.9187659655864716,
          0.8376778170657083,
          0.5396368728266294,
          0.5422001050726935,
          -0.06139231471254688,
          -1.1021335608877891,
          -0.6007471372717097,
          0.1924619434883858,
          -0.08930809569198228,
          -0.2978505269315022,
          0.0005453669286284382,
          0.08106810997695915,
          -0.3694016189559964,
          -1.0281232817295345,
          0.30345560552391604,
          0.5244077540972444,
          2.0284534283011597,
          1.048432684760225,
          0.1064228659254715,
          0.6622831438984041,
          0.19685616235400402,
          1.1511224188608322,
          -0.4206663845906972,
          -1.0846896902892262,
          1.0364546676818382,
          0.6307259022389663,
          0.004641898709261438,
          -0.8605919026414243,
          0.08398903166039261,
          -0.08238436718846175,
          1.4354863201681674,
          -1.339983013618161,
          0.020894590806696794,
          0.6486539425584497,
          1.6592374195822817,
          -0.45411333440482526,
          -0.514677111791003,
          1.4378161001410212,
          0.6543605480879594,
          -0.3723065659245629,
          0.7259378993362399,
          0.17622902362307077,
          -0.21499860688233133,
          0.9541805171862572,
          -0.07743570059151514,
          1.3080387115726428,
          -0.06024810521218019,
          -1.529908094039015,
          0.7021112735494195,
          -0.9091588803591504,
          0.870523121121309,
          0.43847509793721606,
          -0.9516809883412036,
          -0.07897286417227212,
          1.3010071278367414,
          -0.08017900203553485,
          1.5367974033552878,
          -1.290113361643903,
          0.677483027354299,
          -0.8592326527444683,
          2.5979573364869557,
          -0.6669334806113064
         ]
        },
        {
         "histfunc": "count",
         "histnorm": "",
         "marker": {
          "color": "rgba(50, 171, 96, 1.0)",
          "line": {
           "color": "#4D5663",
           "width": 1.3
          }
         },
         "name": "C",
         "nbinsx": 25,
         "opacity": 0.8,
         "orientation": "v",
         "type": "histogram",
         "x": [
          0.48770381939872043,
          0.6337244646989464,
          -3.1557932704130356,
          0.13277998013457565,
          0.7385655314420786,
          -0.17177067756252173,
          -0.1372915094467543,
          -0.2521100174920825,
          -0.7774859643586567,
          0.4888304720428742,
          -0.46697233675600003,
          -1.0819972685815615,
          -1.3812411940185036,
          -1.2088517545524282,
          -1.2972061988940717,
          -1.195413296751463,
          -1.147470324560883,
          1.0902866948145171,
          1.1908114172648354,
          -0.2588208225848617,
          0.16487657420726892,
          -0.78826656830748,
          1.0000343713868642,
          -1.0091815010874154,
          -0.5680773691675439,
          1.1810661210830304,
          0.38954133539864827,
          -0.613964571092336,
          -0.2565088361673165,
          -0.7692082849354274,
          0.19774049769912005,
          0.39711873710136963,
          -0.5873094150104916,
          -0.02252466688228671,
          -0.9960725147726376,
          0.8836696924678572,
          -0.3196822783432801,
          -0.9598081652904585,
          -2.3185673570155316,
          0.9199286678318811,
          0.18124349088991892,
          -0.31241113338341514,
          0.931766188329038,
          -1.2454367421348072,
          0.17716748816653816,
          0.29627078620326086,
          0.8886308256683672,
          2.246831034283235,
          0.6974303836348403,
          0.35598131814521045,
          -1.823543353599711,
          -0.8486094691505909,
          0.16042258280947191,
          -0.9794789734321424,
          0.6502538943693912,
          0.6859471110716626,
          -1.8397195416762484,
          0.5544046760632084,
          -0.5061463738217713,
          -0.19623271406017556,
          -1.5963826590813122,
          -0.09770348156614135,
          -0.5869174731331128,
          -0.12032149904486354,
          0.00906488876886795,
          -0.07751737400332452,
          0.2942284421113961,
          -0.16243607623161602,
          -1.001587800308482,
          0.1963253087192484,
          1.206464312604639,
          0.2187961464973971,
          1.0838671968192073,
          1.2959649012162449,
          -0.5544573556215677,
          0.6128769748117964,
          0.1711954142874357,
          -1.3040069094496094,
          -0.09275279405669301,
          0.7398849781895165,
          0.09292219747002482,
          -0.10762784448538183,
          0.3055312720579075,
          -0.6089474399581859,
          -0.46820295927356165,
          1.9897358749891223,
          1.9776531201514929,
          0.26161052895794557,
          -0.2684909093050987,
          0.0001358910229118881,
          2.007654473522146,
          1.2945754067521074,
          1.9892544961413128,
          -1.6358499033444638,
          0.4549748462649961,
          0.735184341285063,
          -0.6712417072387005,
          0.0816993806422588,
          0.646955250762791,
          1.590420413439015
         ]
        },
        {
         "histfunc": "count",
         "histnorm": "",
         "marker": {
          "color": "rgba(128, 0, 128, 1.0)",
          "line": {
           "color": "#4D5663",
           "width": 1.3
          }
         },
         "name": "D",
         "nbinsx": 25,
         "opacity": 0.8,
         "orientation": "v",
         "type": "histogram",
         "x": [
          -0.22718918537328062,
          1.2204972813783754,
          -0.511127342703104,
          -0.919995696143732,
          1.4876569281486498,
          0.5261798293815041,
          1.4404686230606762,
          0.012310079690618186,
          -1.4169393918652915,
          0.8430806027133654,
          0.8060404508229926,
          0.09134447928922484,
          -0.4391707391338882,
          -1.136109425411929,
          -0.9558725097488121,
          -0.43903936073790056,
          0.6400684969235082,
          -2.8926497540659173,
          1.2862065354897847,
          0.5363547692785966,
          0.027208726919927866,
          -0.6053552258802258,
          1.2369376797088558,
          -0.31288524593048567,
          -1.2768501683975995,
          0.7982664454690171,
          -1.7643618109254788,
          -0.811118605847453,
          1.2951679229500286,
          -0.5854378238328967,
          0.47684752071529896,
          0.9688847295206476,
          0.7712204269970987,
          0.8636594318791391,
          2.1167005179164633,
          -0.9844880853538838,
          1.2052110702155194,
          0.4144965537564156,
          1.0314589125244964,
          -1.2820386325245927,
          0.5374622995845217,
          -0.4520476062643819,
          1.2807767910756398,
          1.3970913949970318,
          0.554529182743638,
          -1.4245469028483584,
          2.432163068242666,
          0.34647454582703535,
          -1.8478283792744057,
          -0.7064116298140908,
          1.859026792963264,
          -0.11696447813985389,
          0.9735706653895554,
          0.020069778038250087,
          -0.2732078870868064,
          -1.625893501364898,
          -0.518832871958972,
          0.7570499806819221,
          -1.301647411726088,
          1.5233125926959512,
          0.910044161471426,
          -0.33904257065357996,
          0.25474211578164113,
          1.1624261743592201,
          -0.7457019139210698,
          -1.6968774589933917,
          1.760395656633342,
          1.7512558019532765,
          -1.9529937894171276,
          0.8706668134873103,
          2.0085760859346675,
          -1.2514649889890979,
          -1.6069294260493898,
          -0.6751228541249964,
          1.1438933704419452,
          -0.21981377357202245,
          0.4179370726020009,
          1.0037769259192542,
          -0.06225916587349727,
          -1.0071835665242848,
          0.8860296914099619,
          -1.4572370310223877,
          1.8521215110090443,
          -0.27766424372092186,
          1.2084828291118057,
          0.19077267955785543,
          -0.15568801418483896,
          0.17864014027450703,
          -0.6130945856449158,
          -0.1287209969592928,
          -0.7899352961622775,
          -1.9330750344297394,
          2.0732887918319127,
          -0.7619479677020401,
          1.128771926760258,
          -0.7709363883695314,
          0.28608363017405264,
          -2.672688771194465,
          1.5523201724331546,
          2.011955348554818
         ]
        }
       ],
       "layout": {
        "barmode": "overlay",
        "legend": {
         "bgcolor": "#F5F6F9",
         "font": {
          "color": "#4D5663"
         }
        },
        "paper_bgcolor": "#F5F6F9",
        "plot_bgcolor": "#F5F6F9",
        "template": {
         "data": {
          "bar": [
           {
            "error_x": {
             "color": "#2a3f5f"
            },
            "error_y": {
             "color": "#2a3f5f"
            },
            "marker": {
             "line": {
              "color": "#E5ECF6",
              "width": 0.5
             }
            },
            "type": "bar"
           }
          ],
          "barpolar": [
           {
            "marker": {
             "line": {
              "color": "#E5ECF6",
              "width": 0.5
             }
            },
            "type": "barpolar"
           }
          ],
          "carpet": [
           {
            "aaxis": {
             "endlinecolor": "#2a3f5f",
             "gridcolor": "white",
             "linecolor": "white",
             "minorgridcolor": "white",
             "startlinecolor": "#2a3f5f"
            },
            "baxis": {
             "endlinecolor": "#2a3f5f",
             "gridcolor": "white",
             "linecolor": "white",
             "minorgridcolor": "white",
             "startlinecolor": "#2a3f5f"
            },
            "type": "carpet"
           }
          ],
          "choropleth": [
           {
            "colorbar": {
             "outlinewidth": 0,
             "ticks": ""
            },
            "type": "choropleth"
           }
          ],
          "contour": [
           {
            "colorbar": {
             "outlinewidth": 0,
             "ticks": ""
            },
            "colorscale": [
             [
              0,
              "#0d0887"
             ],
             [
              0.1111111111111111,
              "#46039f"
             ],
             [
              0.2222222222222222,
              "#7201a8"
             ],
             [
              0.3333333333333333,
              "#9c179e"
             ],
             [
              0.4444444444444444,
              "#bd3786"
             ],
             [
              0.5555555555555556,
              "#d8576b"
             ],
             [
              0.6666666666666666,
              "#ed7953"
             ],
             [
              0.7777777777777778,
              "#fb9f3a"
             ],
             [
              0.8888888888888888,
              "#fdca26"
             ],
             [
              1,
              "#f0f921"
             ]
            ],
            "type": "contour"
           }
          ],
          "contourcarpet": [
           {
            "colorbar": {
             "outlinewidth": 0,
             "ticks": ""
            },
            "type": "contourcarpet"
           }
          ],
          "heatmap": [
           {
            "colorbar": {
             "outlinewidth": 0,
             "ticks": ""
            },
            "colorscale": [
             [
              0,
              "#0d0887"
             ],
             [
              0.1111111111111111,
              "#46039f"
             ],
             [
              0.2222222222222222,
              "#7201a8"
             ],
             [
              0.3333333333333333,
              "#9c179e"
             ],
             [
              0.4444444444444444,
              "#bd3786"
             ],
             [
              0.5555555555555556,
              "#d8576b"
             ],
             [
              0.6666666666666666,
              "#ed7953"
             ],
             [
              0.7777777777777778,
              "#fb9f3a"
             ],
             [
              0.8888888888888888,
              "#fdca26"
             ],
             [
              1,
              "#f0f921"
             ]
            ],
            "type": "heatmap"
           }
          ],
          "heatmapgl": [
           {
            "colorbar": {
             "outlinewidth": 0,
             "ticks": ""
            },
            "colorscale": [
             [
              0,
              "#0d0887"
             ],
             [
              0.1111111111111111,
              "#46039f"
             ],
             [
              0.2222222222222222,
              "#7201a8"
             ],
             [
              0.3333333333333333,
              "#9c179e"
             ],
             [
              0.4444444444444444,
              "#bd3786"
             ],
             [
              0.5555555555555556,
              "#d8576b"
             ],
             [
              0.6666666666666666,
              "#ed7953"
             ],
             [
              0.7777777777777778,
              "#fb9f3a"
             ],
             [
              0.8888888888888888,
              "#fdca26"
             ],
             [
              1,
              "#f0f921"
             ]
            ],
            "type": "heatmapgl"
           }
          ],
          "histogram": [
           {
            "marker": {
             "colorbar": {
              "outlinewidth": 0,
              "ticks": ""
             }
            },
            "type": "histogram"
           }
          ],
          "histogram2d": [
           {
            "colorbar": {
             "outlinewidth": 0,
             "ticks": ""
            },
            "colorscale": [
             [
              0,
              "#0d0887"
             ],
             [
              0.1111111111111111,
              "#46039f"
             ],
             [
              0.2222222222222222,
              "#7201a8"
             ],
             [
              0.3333333333333333,
              "#9c179e"
             ],
             [
              0.4444444444444444,
              "#bd3786"
             ],
             [
              0.5555555555555556,
              "#d8576b"
             ],
             [
              0.6666666666666666,
              "#ed7953"
             ],
             [
              0.7777777777777778,
              "#fb9f3a"
             ],
             [
              0.8888888888888888,
              "#fdca26"
             ],
             [
              1,
              "#f0f921"
             ]
            ],
            "type": "histogram2d"
           }
          ],
          "histogram2dcontour": [
           {
            "colorbar": {
             "outlinewidth": 0,
             "ticks": ""
            },
            "colorscale": [
             [
              0,
              "#0d0887"
             ],
             [
              0.1111111111111111,
              "#46039f"
             ],
             [
              0.2222222222222222,
              "#7201a8"
             ],
             [
              0.3333333333333333,
              "#9c179e"
             ],
             [
              0.4444444444444444,
              "#bd3786"
             ],
             [
              0.5555555555555556,
              "#d8576b"
             ],
             [
              0.6666666666666666,
              "#ed7953"
             ],
             [
              0.7777777777777778,
              "#fb9f3a"
             ],
             [
              0.8888888888888888,
              "#fdca26"
             ],
             [
              1,
              "#f0f921"
             ]
            ],
            "type": "histogram2dcontour"
           }
          ],
          "mesh3d": [
           {
            "colorbar": {
             "outlinewidth": 0,
             "ticks": ""
            },
            "type": "mesh3d"
           }
          ],
          "parcoords": [
           {
            "line": {
             "colorbar": {
              "outlinewidth": 0,
              "ticks": ""
             }
            },
            "type": "parcoords"
           }
          ],
          "pie": [
           {
            "automargin": true,
            "type": "pie"
           }
          ],
          "scatter": [
           {
            "marker": {
             "colorbar": {
              "outlinewidth": 0,
              "ticks": ""
             }
            },
            "type": "scatter"
           }
          ],
          "scatter3d": [
           {
            "line": {
             "colorbar": {
              "outlinewidth": 0,
              "ticks": ""
             }
            },
            "marker": {
             "colorbar": {
              "outlinewidth": 0,
              "ticks": ""
             }
            },
            "type": "scatter3d"
           }
          ],
          "scattercarpet": [
           {
            "marker": {
             "colorbar": {
              "outlinewidth": 0,
              "ticks": ""
             }
            },
            "type": "scattercarpet"
           }
          ],
          "scattergeo": [
           {
            "marker": {
             "colorbar": {
              "outlinewidth": 0,
              "ticks": ""
             }
            },
            "type": "scattergeo"
           }
          ],
          "scattergl": [
           {
            "marker": {
             "colorbar": {
              "outlinewidth": 0,
              "ticks": ""
             }
            },
            "type": "scattergl"
           }
          ],
          "scattermapbox": [
           {
            "marker": {
             "colorbar": {
              "outlinewidth": 0,
              "ticks": ""
             }
            },
            "type": "scattermapbox"
           }
          ],
          "scatterpolar": [
           {
            "marker": {
             "colorbar": {
              "outlinewidth": 0,
              "ticks": ""
             }
            },
            "type": "scatterpolar"
           }
          ],
          "scatterpolargl": [
           {
            "marker": {
             "colorbar": {
              "outlinewidth": 0,
              "ticks": ""
             }
            },
            "type": "scatterpolargl"
           }
          ],
          "scatterternary": [
           {
            "marker": {
             "colorbar": {
              "outlinewidth": 0,
              "ticks": ""
             }
            },
            "type": "scatterternary"
           }
          ],
          "surface": [
           {
            "colorbar": {
             "outlinewidth": 0,
             "ticks": ""
            },
            "colorscale": [
             [
              0,
              "#0d0887"
             ],
             [
              0.1111111111111111,
              "#46039f"
             ],
             [
              0.2222222222222222,
              "#7201a8"
             ],
             [
              0.3333333333333333,
              "#9c179e"
             ],
             [
              0.4444444444444444,
              "#bd3786"
             ],
             [
              0.5555555555555556,
              "#d8576b"
             ],
             [
              0.6666666666666666,
              "#ed7953"
             ],
             [
              0.7777777777777778,
              "#fb9f3a"
             ],
             [
              0.8888888888888888,
              "#fdca26"
             ],
             [
              1,
              "#f0f921"
             ]
            ],
            "type": "surface"
           }
          ],
          "table": [
           {
            "cells": {
             "fill": {
              "color": "#EBF0F8"
             },
             "line": {
              "color": "white"
             }
            },
            "header": {
             "fill": {
              "color": "#C8D4E3"
             },
             "line": {
              "color": "white"
             }
            },
            "type": "table"
           }
          ]
         },
         "layout": {
          "annotationdefaults": {
           "arrowcolor": "#2a3f5f",
           "arrowhead": 0,
           "arrowwidth": 1
          },
          "autotypenumbers": "strict",
          "coloraxis": {
           "colorbar": {
            "outlinewidth": 0,
            "ticks": ""
           }
          },
          "colorscale": {
           "diverging": [
            [
             0,
             "#8e0152"
            ],
            [
             0.1,
             "#c51b7d"
            ],
            [
             0.2,
             "#de77ae"
            ],
            [
             0.3,
             "#f1b6da"
            ],
            [
             0.4,
             "#fde0ef"
            ],
            [
             0.5,
             "#f7f7f7"
            ],
            [
             0.6,
             "#e6f5d0"
            ],
            [
             0.7,
             "#b8e186"
            ],
            [
             0.8,
             "#7fbc41"
            ],
            [
             0.9,
             "#4d9221"
            ],
            [
             1,
             "#276419"
            ]
           ],
           "sequential": [
            [
             0,
             "#0d0887"
            ],
            [
             0.1111111111111111,
             "#46039f"
            ],
            [
             0.2222222222222222,
             "#7201a8"
            ],
            [
             0.3333333333333333,
             "#9c179e"
            ],
            [
             0.4444444444444444,
             "#bd3786"
            ],
            [
             0.5555555555555556,
             "#d8576b"
            ],
            [
             0.6666666666666666,
             "#ed7953"
            ],
            [
             0.7777777777777778,
             "#fb9f3a"
            ],
            [
             0.8888888888888888,
             "#fdca26"
            ],
            [
             1,
             "#f0f921"
            ]
           ],
           "sequentialminus": [
            [
             0,
             "#0d0887"
            ],
            [
             0.1111111111111111,
             "#46039f"
            ],
            [
             0.2222222222222222,
             "#7201a8"
            ],
            [
             0.3333333333333333,
             "#9c179e"
            ],
            [
             0.4444444444444444,
             "#bd3786"
            ],
            [
             0.5555555555555556,
             "#d8576b"
            ],
            [
             0.6666666666666666,
             "#ed7953"
            ],
            [
             0.7777777777777778,
             "#fb9f3a"
            ],
            [
             0.8888888888888888,
             "#fdca26"
            ],
            [
             1,
             "#f0f921"
            ]
           ]
          },
          "colorway": [
           "#636efa",
           "#EF553B",
           "#00cc96",
           "#ab63fa",
           "#FFA15A",
           "#19d3f3",
           "#FF6692",
           "#B6E880",
           "#FF97FF",
           "#FECB52"
          ],
          "font": {
           "color": "#2a3f5f"
          },
          "geo": {
           "bgcolor": "white",
           "lakecolor": "white",
           "landcolor": "#E5ECF6",
           "showlakes": true,
           "showland": true,
           "subunitcolor": "white"
          },
          "hoverlabel": {
           "align": "left"
          },
          "hovermode": "closest",
          "mapbox": {
           "style": "light"
          },
          "paper_bgcolor": "white",
          "plot_bgcolor": "#E5ECF6",
          "polar": {
           "angularaxis": {
            "gridcolor": "white",
            "linecolor": "white",
            "ticks": ""
           },
           "bgcolor": "#E5ECF6",
           "radialaxis": {
            "gridcolor": "white",
            "linecolor": "white",
            "ticks": ""
           }
          },
          "scene": {
           "xaxis": {
            "backgroundcolor": "#E5ECF6",
            "gridcolor": "white",
            "gridwidth": 2,
            "linecolor": "white",
            "showbackground": true,
            "ticks": "",
            "zerolinecolor": "white"
           },
           "yaxis": {
            "backgroundcolor": "#E5ECF6",
            "gridcolor": "white",
            "gridwidth": 2,
            "linecolor": "white",
            "showbackground": true,
            "ticks": "",
            "zerolinecolor": "white"
           },
           "zaxis": {
            "backgroundcolor": "#E5ECF6",
            "gridcolor": "white",
            "gridwidth": 2,
            "linecolor": "white",
            "showbackground": true,
            "ticks": "",
            "zerolinecolor": "white"
           }
          },
          "shapedefaults": {
           "line": {
            "color": "#2a3f5f"
           }
          },
          "ternary": {
           "aaxis": {
            "gridcolor": "white",
            "linecolor": "white",
            "ticks": ""
           },
           "baxis": {
            "gridcolor": "white",
            "linecolor": "white",
            "ticks": ""
           },
           "bgcolor": "#E5ECF6",
           "caxis": {
            "gridcolor": "white",
            "linecolor": "white",
            "ticks": ""
           }
          },
          "title": {
           "x": 0.05
          },
          "xaxis": {
           "automargin": true,
           "gridcolor": "white",
           "linecolor": "white",
           "ticks": "",
           "title": {
            "standoff": 15
           },
           "zerolinecolor": "white",
           "zerolinewidth": 2
          },
          "yaxis": {
           "automargin": true,
           "gridcolor": "white",
           "linecolor": "white",
           "ticks": "",
           "title": {
            "standoff": 15
           },
           "zerolinecolor": "white",
           "zerolinewidth": 2
          }
         }
        },
        "title": {
         "font": {
          "color": "#4D5663"
         }
        },
        "xaxis": {
         "gridcolor": "#E1E5ED",
         "showgrid": true,
         "tickfont": {
          "color": "#4D5663"
         },
         "title": {
          "font": {
           "color": "#4D5663"
          },
          "text": ""
         },
         "zerolinecolor": "#E1E5ED"
        },
        "yaxis": {
         "gridcolor": "#E1E5ED",
         "showgrid": true,
         "tickfont": {
          "color": "#4D5663"
         },
         "title": {
          "font": {
           "color": "#4D5663"
          },
          "text": ""
         },
         "zerolinecolor": "#E1E5ED"
        }
       }
      },
      "text/html": [
       "<div>                            <div id=\"1cd2e323-ff0b-4f80-8af8-eeb2a32ec2d6\" class=\"plotly-graph-div\" style=\"height:525px; width:100%;\"></div>            <script type=\"text/javascript\">                require([\"plotly\"], function(Plotly) {                    window.PLOTLYENV=window.PLOTLYENV || {};\n",
       "                    window.PLOTLYENV.BASE_URL='https://plot.ly';                                    if (document.getElementById(\"1cd2e323-ff0b-4f80-8af8-eeb2a32ec2d6\")) {                    Plotly.newPlot(                        \"1cd2e323-ff0b-4f80-8af8-eeb2a32ec2d6\",                        [{\"histfunc\": \"count\", \"histnorm\": \"\", \"marker\": {\"color\": \"rgba(255, 153, 51, 1.0)\", \"line\": {\"color\": \"#4D5663\", \"width\": 1.3}}, \"name\": \"A\", \"nbinsx\": 25, \"opacity\": 0.8, \"orientation\": \"v\", \"type\": \"histogram\", \"x\": [-0.5480110889074034, -1.2920697014009046, -2.064720383032337, -0.6381949964348836, 0.010212759440209999, 0.794812443048594, -0.7278279442870339, 0.4489067925814845, 1.904784576609507, -1.3032659971088971, 0.11803057830902464, -1.5910540183384845, 0.4036629730575678, 0.9632264730942721, 1.5324411476637259, -0.04707130340337131, 0.11174868107368494, -1.3117900265057767, -1.3083957993452056, 0.696980809380999, 0.7592163244817444, 0.5250669680979622, -0.4449756900036982, -1.0014267626093265, -0.21335743445110616, -0.8514794630132676, 0.2749573360612918, -0.8733300478379218, 0.09463458411882031, 1.4455483762466403, 0.006188882128480812, -0.22631608313192741, -0.29524855487515117, 0.1812433420156424, 0.4615963474822817, -1.3250089684363293, -0.009448308083683389, -0.24835897398064555, 1.2246504102660027, 0.7647812090938544, 0.2923490017652167, 0.5484764320989512, 1.3636654624881206, -1.098554817005937, 0.05323209135417297, -0.8193664011445023, -0.9651881730205214, -0.7169235894795459, 0.07867172577891615, -0.1323856621361627, -0.7655784144767981, 0.9932616140585283, 0.5168384552391037, 1.7652722533284222, 1.8372546061828827, -1.593236705292418, -1.7351535385081214, 0.5235910464705479, -1.2678010298836502, -1.1620485478742044, 0.49783153002828556, -0.8724397517109367, 0.6049256246439829, 1.400962816411936, 0.8111886395962024, -1.3749913257690798, -0.5343381094480517, 0.5791641404328253, 0.8694270812021913, 0.6977237422345381, -0.7518777375440403, -1.2664205351763898, 0.06442315056883763, -0.2873984929929309, 0.0009839494928604283, 1.168592011704123, 0.6604253864052589, -0.29521148821910714, 1.045216265567895, -0.6515637069291157, -0.03289043947944938, 0.22881992210491614, -2.120961847320266, -0.1534383700165545, -1.1210869777078845, 0.9094502662877313, 0.07743574010108772, -0.7419719470944663, -1.2038987086444832, 0.14722990479865838, 0.9751250898869979, -0.6264743287129438, 0.7736042579232473, -0.5035091795841722, -1.0343753263730342, 0.5012182124006042, 0.03584316243864111, -0.5259243744479069, 0.15306289262164952, 1.7106987514004806]}, {\"histfunc\": \"count\", \"histnorm\": \"\", \"marker\": {\"color\": \"rgba(55, 128, 191, 1.0)\", \"line\": {\"color\": \"#4D5663\", \"width\": 1.3}}, \"name\": \"B\", \"nbinsx\": 25, \"opacity\": 0.8, \"orientation\": \"v\", \"type\": \"histogram\", \"x\": [1.907683558388115, 0.4547584720364601, -0.4624177855774668, -3.651544791684352, -0.5678534781105319, 1.6427839907904405, -0.9619000332416442, -0.00397187462557156, -0.07994051727686378, -0.6910522585403166, -0.09450542139400352, -0.8779483001934726, -1.484377860124462, -0.06479965458310179, -1.0119838104547232, 1.0484315683481713, -1.704515782167066, 0.22219933855895088, 1.1715275094543638, -0.286046199843736, -0.18562188278474828, -0.5094303960311877, 1.2804878676027072, 1.0784034812612298, -0.15293803125447164, -0.4223642419037627, 0.14855090724344358, -0.31189985968039113, -0.9115283059275937, -0.7755292866323195, -0.42721244214615794, -2.388606862034661, -0.05382162402532776, -1.3473629289778324, 1.8397464184587116, 0.8736778624934495, -0.7310055025516222, 0.6958880162743549, 0.9187659655864716, 0.8376778170657083, 0.5396368728266294, 0.5422001050726935, -0.06139231471254688, -1.1021335608877891, -0.6007471372717097, 0.1924619434883858, -0.08930809569198228, -0.2978505269315022, 0.0005453669286284382, 0.08106810997695915, -0.3694016189559964, -1.0281232817295345, 0.30345560552391604, 0.5244077540972444, 2.0284534283011597, 1.048432684760225, 0.1064228659254715, 0.6622831438984041, 0.19685616235400402, 1.1511224188608322, -0.4206663845906972, -1.0846896902892262, 1.0364546676818382, 0.6307259022389663, 0.004641898709261438, -0.8605919026414243, 0.08398903166039261, -0.08238436718846175, 1.4354863201681674, -1.339983013618161, 0.020894590806696794, 0.6486539425584497, 1.6592374195822817, -0.45411333440482526, -0.514677111791003, 1.4378161001410212, 0.6543605480879594, -0.3723065659245629, 0.7259378993362399, 0.17622902362307077, -0.21499860688233133, 0.9541805171862572, -0.07743570059151514, 1.3080387115726428, -0.06024810521218019, -1.529908094039015, 0.7021112735494195, -0.9091588803591504, 0.870523121121309, 0.43847509793721606, -0.9516809883412036, -0.07897286417227212, 1.3010071278367414, -0.08017900203553485, 1.5367974033552878, -1.290113361643903, 0.677483027354299, -0.8592326527444683, 2.5979573364869557, -0.6669334806113064]}, {\"histfunc\": \"count\", \"histnorm\": \"\", \"marker\": {\"color\": \"rgba(50, 171, 96, 1.0)\", \"line\": {\"color\": \"#4D5663\", \"width\": 1.3}}, \"name\": \"C\", \"nbinsx\": 25, \"opacity\": 0.8, \"orientation\": \"v\", \"type\": \"histogram\", \"x\": [0.48770381939872043, 0.6337244646989464, -3.1557932704130356, 0.13277998013457565, 0.7385655314420786, -0.17177067756252173, -0.1372915094467543, -0.2521100174920825, -0.7774859643586567, 0.4888304720428742, -0.46697233675600003, -1.0819972685815615, -1.3812411940185036, -1.2088517545524282, -1.2972061988940717, -1.195413296751463, -1.147470324560883, 1.0902866948145171, 1.1908114172648354, -0.2588208225848617, 0.16487657420726892, -0.78826656830748, 1.0000343713868642, -1.0091815010874154, -0.5680773691675439, 1.1810661210830304, 0.38954133539864827, -0.613964571092336, -0.2565088361673165, -0.7692082849354274, 0.19774049769912005, 0.39711873710136963, -0.5873094150104916, -0.02252466688228671, -0.9960725147726376, 0.8836696924678572, -0.3196822783432801, -0.9598081652904585, -2.3185673570155316, 0.9199286678318811, 0.18124349088991892, -0.31241113338341514, 0.931766188329038, -1.2454367421348072, 0.17716748816653816, 0.29627078620326086, 0.8886308256683672, 2.246831034283235, 0.6974303836348403, 0.35598131814521045, -1.823543353599711, -0.8486094691505909, 0.16042258280947191, -0.9794789734321424, 0.6502538943693912, 0.6859471110716626, -1.8397195416762484, 0.5544046760632084, -0.5061463738217713, -0.19623271406017556, -1.5963826590813122, -0.09770348156614135, -0.5869174731331128, -0.12032149904486354, 0.00906488876886795, -0.07751737400332452, 0.2942284421113961, -0.16243607623161602, -1.001587800308482, 0.1963253087192484, 1.206464312604639, 0.2187961464973971, 1.0838671968192073, 1.2959649012162449, -0.5544573556215677, 0.6128769748117964, 0.1711954142874357, -1.3040069094496094, -0.09275279405669301, 0.7398849781895165, 0.09292219747002482, -0.10762784448538183, 0.3055312720579075, -0.6089474399581859, -0.46820295927356165, 1.9897358749891223, 1.9776531201514929, 0.26161052895794557, -0.2684909093050987, 0.0001358910229118881, 2.007654473522146, 1.2945754067521074, 1.9892544961413128, -1.6358499033444638, 0.4549748462649961, 0.735184341285063, -0.6712417072387005, 0.0816993806422588, 0.646955250762791, 1.590420413439015]}, {\"histfunc\": \"count\", \"histnorm\": \"\", \"marker\": {\"color\": \"rgba(128, 0, 128, 1.0)\", \"line\": {\"color\": \"#4D5663\", \"width\": 1.3}}, \"name\": \"D\", \"nbinsx\": 25, \"opacity\": 0.8, \"orientation\": \"v\", \"type\": \"histogram\", \"x\": [-0.22718918537328062, 1.2204972813783754, -0.511127342703104, -0.919995696143732, 1.4876569281486498, 0.5261798293815041, 1.4404686230606762, 0.012310079690618186, -1.4169393918652915, 0.8430806027133654, 0.8060404508229926, 0.09134447928922484, -0.4391707391338882, -1.136109425411929, -0.9558725097488121, -0.43903936073790056, 0.6400684969235082, -2.8926497540659173, 1.2862065354897847, 0.5363547692785966, 0.027208726919927866, -0.6053552258802258, 1.2369376797088558, -0.31288524593048567, -1.2768501683975995, 0.7982664454690171, -1.7643618109254788, -0.811118605847453, 1.2951679229500286, -0.5854378238328967, 0.47684752071529896, 0.9688847295206476, 0.7712204269970987, 0.8636594318791391, 2.1167005179164633, -0.9844880853538838, 1.2052110702155194, 0.4144965537564156, 1.0314589125244964, -1.2820386325245927, 0.5374622995845217, -0.4520476062643819, 1.2807767910756398, 1.3970913949970318, 0.554529182743638, -1.4245469028483584, 2.432163068242666, 0.34647454582703535, -1.8478283792744057, -0.7064116298140908, 1.859026792963264, -0.11696447813985389, 0.9735706653895554, 0.020069778038250087, -0.2732078870868064, -1.625893501364898, -0.518832871958972, 0.7570499806819221, -1.301647411726088, 1.5233125926959512, 0.910044161471426, -0.33904257065357996, 0.25474211578164113, 1.1624261743592201, -0.7457019139210698, -1.6968774589933917, 1.760395656633342, 1.7512558019532765, -1.9529937894171276, 0.8706668134873103, 2.0085760859346675, -1.2514649889890979, -1.6069294260493898, -0.6751228541249964, 1.1438933704419452, -0.21981377357202245, 0.4179370726020009, 1.0037769259192542, -0.06225916587349727, -1.0071835665242848, 0.8860296914099619, -1.4572370310223877, 1.8521215110090443, -0.27766424372092186, 1.2084828291118057, 0.19077267955785543, -0.15568801418483896, 0.17864014027450703, -0.6130945856449158, -0.1287209969592928, -0.7899352961622775, -1.9330750344297394, 2.0732887918319127, -0.7619479677020401, 1.128771926760258, -0.7709363883695314, 0.28608363017405264, -2.672688771194465, 1.5523201724331546, 2.011955348554818]}],                        {\"barmode\": \"overlay\", \"legend\": {\"bgcolor\": \"#F5F6F9\", \"font\": {\"color\": \"#4D5663\"}}, \"paper_bgcolor\": \"#F5F6F9\", \"plot_bgcolor\": \"#F5F6F9\", \"template\": {\"data\": {\"bar\": [{\"error_x\": {\"color\": \"#2a3f5f\"}, \"error_y\": {\"color\": \"#2a3f5f\"}, \"marker\": {\"line\": {\"color\": \"#E5ECF6\", \"width\": 0.5}}, \"type\": \"bar\"}], \"barpolar\": [{\"marker\": {\"line\": {\"color\": \"#E5ECF6\", \"width\": 0.5}}, \"type\": \"barpolar\"}], \"carpet\": [{\"aaxis\": {\"endlinecolor\": \"#2a3f5f\", \"gridcolor\": \"white\", \"linecolor\": \"white\", \"minorgridcolor\": \"white\", \"startlinecolor\": \"#2a3f5f\"}, \"baxis\": {\"endlinecolor\": \"#2a3f5f\", \"gridcolor\": \"white\", \"linecolor\": \"white\", \"minorgridcolor\": \"white\", \"startlinecolor\": \"#2a3f5f\"}, \"type\": \"carpet\"}], \"choropleth\": [{\"colorbar\": {\"outlinewidth\": 0, \"ticks\": \"\"}, \"type\": \"choropleth\"}], \"contour\": [{\"colorbar\": {\"outlinewidth\": 0, \"ticks\": \"\"}, \"colorscale\": [[0.0, \"#0d0887\"], [0.1111111111111111, \"#46039f\"], [0.2222222222222222, \"#7201a8\"], [0.3333333333333333, \"#9c179e\"], [0.4444444444444444, \"#bd3786\"], [0.5555555555555556, \"#d8576b\"], [0.6666666666666666, \"#ed7953\"], [0.7777777777777778, \"#fb9f3a\"], [0.8888888888888888, \"#fdca26\"], [1.0, \"#f0f921\"]], \"type\": \"contour\"}], \"contourcarpet\": [{\"colorbar\": {\"outlinewidth\": 0, \"ticks\": \"\"}, \"type\": \"contourcarpet\"}], \"heatmap\": [{\"colorbar\": {\"outlinewidth\": 0, \"ticks\": \"\"}, \"colorscale\": [[0.0, \"#0d0887\"], [0.1111111111111111, \"#46039f\"], [0.2222222222222222, \"#7201a8\"], [0.3333333333333333, \"#9c179e\"], [0.4444444444444444, \"#bd3786\"], [0.5555555555555556, \"#d8576b\"], [0.6666666666666666, \"#ed7953\"], [0.7777777777777778, \"#fb9f3a\"], [0.8888888888888888, \"#fdca26\"], [1.0, \"#f0f921\"]], \"type\": \"heatmap\"}], \"heatmapgl\": [{\"colorbar\": {\"outlinewidth\": 0, \"ticks\": \"\"}, \"colorscale\": [[0.0, \"#0d0887\"], [0.1111111111111111, \"#46039f\"], [0.2222222222222222, \"#7201a8\"], [0.3333333333333333, \"#9c179e\"], [0.4444444444444444, \"#bd3786\"], [0.5555555555555556, \"#d8576b\"], [0.6666666666666666, \"#ed7953\"], [0.7777777777777778, \"#fb9f3a\"], [0.8888888888888888, \"#fdca26\"], [1.0, \"#f0f921\"]], \"type\": \"heatmapgl\"}], \"histogram\": [{\"marker\": {\"colorbar\": {\"outlinewidth\": 0, \"ticks\": \"\"}}, \"type\": \"histogram\"}], \"histogram2d\": [{\"colorbar\": {\"outlinewidth\": 0, \"ticks\": \"\"}, \"colorscale\": [[0.0, \"#0d0887\"], [0.1111111111111111, \"#46039f\"], [0.2222222222222222, \"#7201a8\"], [0.3333333333333333, \"#9c179e\"], [0.4444444444444444, \"#bd3786\"], [0.5555555555555556, \"#d8576b\"], [0.6666666666666666, \"#ed7953\"], [0.7777777777777778, \"#fb9f3a\"], [0.8888888888888888, \"#fdca26\"], [1.0, \"#f0f921\"]], \"type\": \"histogram2d\"}], \"histogram2dcontour\": [{\"colorbar\": {\"outlinewidth\": 0, \"ticks\": \"\"}, \"colorscale\": [[0.0, \"#0d0887\"], [0.1111111111111111, \"#46039f\"], [0.2222222222222222, \"#7201a8\"], [0.3333333333333333, \"#9c179e\"], [0.4444444444444444, \"#bd3786\"], [0.5555555555555556, \"#d8576b\"], [0.6666666666666666, \"#ed7953\"], [0.7777777777777778, \"#fb9f3a\"], [0.8888888888888888, \"#fdca26\"], [1.0, \"#f0f921\"]], \"type\": \"histogram2dcontour\"}], \"mesh3d\": [{\"colorbar\": {\"outlinewidth\": 0, \"ticks\": \"\"}, \"type\": \"mesh3d\"}], \"parcoords\": [{\"line\": {\"colorbar\": {\"outlinewidth\": 0, \"ticks\": \"\"}}, \"type\": \"parcoords\"}], \"pie\": [{\"automargin\": true, \"type\": \"pie\"}], \"scatter\": [{\"marker\": {\"colorbar\": {\"outlinewidth\": 0, \"ticks\": \"\"}}, \"type\": \"scatter\"}], \"scatter3d\": [{\"line\": {\"colorbar\": {\"outlinewidth\": 0, \"ticks\": \"\"}}, \"marker\": {\"colorbar\": {\"outlinewidth\": 0, \"ticks\": \"\"}}, \"type\": \"scatter3d\"}], \"scattercarpet\": [{\"marker\": {\"colorbar\": {\"outlinewidth\": 0, \"ticks\": \"\"}}, \"type\": \"scattercarpet\"}], \"scattergeo\": [{\"marker\": {\"colorbar\": {\"outlinewidth\": 0, \"ticks\": \"\"}}, \"type\": \"scattergeo\"}], \"scattergl\": [{\"marker\": {\"colorbar\": {\"outlinewidth\": 0, \"ticks\": \"\"}}, \"type\": \"scattergl\"}], \"scattermapbox\": [{\"marker\": {\"colorbar\": {\"outlinewidth\": 0, \"ticks\": \"\"}}, \"type\": \"scattermapbox\"}], \"scatterpolar\": [{\"marker\": {\"colorbar\": {\"outlinewidth\": 0, \"ticks\": \"\"}}, \"type\": \"scatterpolar\"}], \"scatterpolargl\": [{\"marker\": {\"colorbar\": {\"outlinewidth\": 0, \"ticks\": \"\"}}, \"type\": \"scatterpolargl\"}], \"scatterternary\": [{\"marker\": {\"colorbar\": {\"outlinewidth\": 0, \"ticks\": \"\"}}, \"type\": \"scatterternary\"}], \"surface\": [{\"colorbar\": {\"outlinewidth\": 0, \"ticks\": \"\"}, \"colorscale\": [[0.0, \"#0d0887\"], [0.1111111111111111, \"#46039f\"], [0.2222222222222222, \"#7201a8\"], [0.3333333333333333, \"#9c179e\"], [0.4444444444444444, \"#bd3786\"], [0.5555555555555556, \"#d8576b\"], [0.6666666666666666, \"#ed7953\"], [0.7777777777777778, \"#fb9f3a\"], [0.8888888888888888, \"#fdca26\"], [1.0, \"#f0f921\"]], \"type\": \"surface\"}], \"table\": [{\"cells\": {\"fill\": {\"color\": \"#EBF0F8\"}, \"line\": {\"color\": \"white\"}}, \"header\": {\"fill\": {\"color\": \"#C8D4E3\"}, \"line\": {\"color\": \"white\"}}, \"type\": \"table\"}]}, \"layout\": {\"annotationdefaults\": {\"arrowcolor\": \"#2a3f5f\", \"arrowhead\": 0, \"arrowwidth\": 1}, \"autotypenumbers\": \"strict\", \"coloraxis\": {\"colorbar\": {\"outlinewidth\": 0, \"ticks\": \"\"}}, \"colorscale\": {\"diverging\": [[0, \"#8e0152\"], [0.1, \"#c51b7d\"], [0.2, \"#de77ae\"], [0.3, \"#f1b6da\"], [0.4, \"#fde0ef\"], [0.5, \"#f7f7f7\"], [0.6, \"#e6f5d0\"], [0.7, \"#b8e186\"], [0.8, \"#7fbc41\"], [0.9, \"#4d9221\"], [1, \"#276419\"]], \"sequential\": [[0.0, \"#0d0887\"], [0.1111111111111111, \"#46039f\"], [0.2222222222222222, \"#7201a8\"], [0.3333333333333333, \"#9c179e\"], [0.4444444444444444, \"#bd3786\"], [0.5555555555555556, \"#d8576b\"], [0.6666666666666666, \"#ed7953\"], [0.7777777777777778, \"#fb9f3a\"], [0.8888888888888888, \"#fdca26\"], [1.0, \"#f0f921\"]], \"sequentialminus\": [[0.0, \"#0d0887\"], [0.1111111111111111, \"#46039f\"], [0.2222222222222222, \"#7201a8\"], [0.3333333333333333, \"#9c179e\"], [0.4444444444444444, \"#bd3786\"], [0.5555555555555556, \"#d8576b\"], [0.6666666666666666, \"#ed7953\"], [0.7777777777777778, \"#fb9f3a\"], [0.8888888888888888, \"#fdca26\"], [1.0, \"#f0f921\"]]}, \"colorway\": [\"#636efa\", \"#EF553B\", \"#00cc96\", \"#ab63fa\", \"#FFA15A\", \"#19d3f3\", \"#FF6692\", \"#B6E880\", \"#FF97FF\", \"#FECB52\"], \"font\": {\"color\": \"#2a3f5f\"}, \"geo\": {\"bgcolor\": \"white\", \"lakecolor\": \"white\", \"landcolor\": \"#E5ECF6\", \"showlakes\": true, \"showland\": true, \"subunitcolor\": \"white\"}, \"hoverlabel\": {\"align\": \"left\"}, \"hovermode\": \"closest\", \"mapbox\": {\"style\": \"light\"}, \"paper_bgcolor\": \"white\", \"plot_bgcolor\": \"#E5ECF6\", \"polar\": {\"angularaxis\": {\"gridcolor\": \"white\", \"linecolor\": \"white\", \"ticks\": \"\"}, \"bgcolor\": \"#E5ECF6\", \"radialaxis\": {\"gridcolor\": \"white\", \"linecolor\": \"white\", \"ticks\": \"\"}}, \"scene\": {\"xaxis\": {\"backgroundcolor\": \"#E5ECF6\", \"gridcolor\": \"white\", \"gridwidth\": 2, \"linecolor\": \"white\", \"showbackground\": true, \"ticks\": \"\", \"zerolinecolor\": \"white\"}, \"yaxis\": {\"backgroundcolor\": \"#E5ECF6\", \"gridcolor\": \"white\", \"gridwidth\": 2, \"linecolor\": \"white\", \"showbackground\": true, \"ticks\": \"\", \"zerolinecolor\": \"white\"}, \"zaxis\": {\"backgroundcolor\": \"#E5ECF6\", \"gridcolor\": \"white\", \"gridwidth\": 2, \"linecolor\": \"white\", \"showbackground\": true, \"ticks\": \"\", \"zerolinecolor\": \"white\"}}, \"shapedefaults\": {\"line\": {\"color\": \"#2a3f5f\"}}, \"ternary\": {\"aaxis\": {\"gridcolor\": \"white\", \"linecolor\": \"white\", \"ticks\": \"\"}, \"baxis\": {\"gridcolor\": \"white\", \"linecolor\": \"white\", \"ticks\": \"\"}, \"bgcolor\": \"#E5ECF6\", \"caxis\": {\"gridcolor\": \"white\", \"linecolor\": \"white\", \"ticks\": \"\"}}, \"title\": {\"x\": 0.05}, \"xaxis\": {\"automargin\": true, \"gridcolor\": \"white\", \"linecolor\": \"white\", \"ticks\": \"\", \"title\": {\"standoff\": 15}, \"zerolinecolor\": \"white\", \"zerolinewidth\": 2}, \"yaxis\": {\"automargin\": true, \"gridcolor\": \"white\", \"linecolor\": \"white\", \"ticks\": \"\", \"title\": {\"standoff\": 15}, \"zerolinecolor\": \"white\", \"zerolinewidth\": 2}}}, \"title\": {\"font\": {\"color\": \"#4D5663\"}}, \"xaxis\": {\"gridcolor\": \"#E1E5ED\", \"showgrid\": true, \"tickfont\": {\"color\": \"#4D5663\"}, \"title\": {\"font\": {\"color\": \"#4D5663\"}, \"text\": \"\"}, \"zerolinecolor\": \"#E1E5ED\"}, \"yaxis\": {\"gridcolor\": \"#E1E5ED\", \"showgrid\": true, \"tickfont\": {\"color\": \"#4D5663\"}, \"title\": {\"font\": {\"color\": \"#4D5663\"}, \"text\": \"\"}, \"zerolinecolor\": \"#E1E5ED\"}},                        {\"showLink\": true, \"linkText\": \"Export to plot.ly\", \"plotlyServerURL\": \"https://plot.ly\", \"responsive\": true}                    ).then(function(){\n",
       "                            \n",
       "var gd = document.getElementById('1cd2e323-ff0b-4f80-8af8-eeb2a32ec2d6');\n",
       "var x = new MutationObserver(function (mutations, observer) {{\n",
       "        var display = window.getComputedStyle(gd).display;\n",
       "        if (!display || display === 'none') {{\n",
       "            console.log([gd, 'removed!']);\n",
       "            Plotly.purge(gd);\n",
       "            observer.disconnect();\n",
       "        }}\n",
       "}});\n",
       "\n",
       "// Listen for the removal of the full notebook cells\n",
       "var notebookContainer = gd.closest('#notebook-container');\n",
       "if (notebookContainer) {{\n",
       "    x.observe(notebookContainer, {childList: true});\n",
       "}}\n",
       "\n",
       "// Listen for the clearing of the current output cell\n",
       "var outputEl = gd.closest('.output');\n",
       "if (outputEl) {{\n",
       "    x.observe(outputEl, {childList: true});\n",
       "}}\n",
       "\n",
       "                        })                };                });            </script>        </div>"
      ]
     },
     "metadata": {},
     "output_type": "display_data"
    }
   ],
   "source": [
    "df.iplot(kind='hist', bins=25)"
   ]
  },
  {
   "cell_type": "code",
   "execution_count": 57,
   "metadata": {},
   "outputs": [
    {
     "data": {
      "application/vnd.plotly.v1+json": {
       "config": {
        "linkText": "Export to plot.ly",
        "plotlyServerURL": "https://plot.ly",
        "showLink": true
       },
       "data": [
        {
         "line": {
          "color": "rgba(255, 153, 51, 1.0)",
          "dash": "solid",
          "shape": "linear",
          "width": 1.3
         },
         "mode": "lines",
         "name": "A",
         "text": "",
         "type": "scatter",
         "x": [
          0,
          1,
          2,
          3,
          4,
          5,
          6,
          7,
          8,
          9,
          10,
          11,
          12,
          13,
          14,
          15,
          16,
          17,
          18,
          19,
          20,
          21,
          22,
          23,
          24,
          25,
          26,
          27,
          28,
          29,
          30,
          31,
          32,
          33,
          34,
          35,
          36,
          37,
          38,
          39,
          40,
          41,
          42,
          43,
          44,
          45,
          46,
          47,
          48,
          49,
          50,
          51,
          52,
          53,
          54,
          55,
          56,
          57,
          58,
          59,
          60,
          61,
          62,
          63,
          64,
          65,
          66,
          67,
          68,
          69,
          70,
          71,
          72,
          73,
          74,
          75,
          76,
          77,
          78,
          79,
          80,
          81,
          82,
          83,
          84,
          85,
          86,
          87,
          88,
          89,
          90,
          91,
          92,
          93,
          94,
          95,
          96,
          97,
          98,
          99
         ],
         "y": [
          -0.5480110889074034,
          -1.2920697014009046,
          -2.064720383032337,
          -0.6381949964348836,
          0.010212759440209999,
          0.794812443048594,
          -0.7278279442870339,
          0.4489067925814845,
          1.904784576609507,
          -1.3032659971088971,
          0.11803057830902464,
          -1.5910540183384845,
          0.4036629730575678,
          0.9632264730942721,
          1.5324411476637259,
          -0.04707130340337131,
          0.11174868107368494,
          -1.3117900265057767,
          -1.3083957993452056,
          0.696980809380999,
          0.7592163244817444,
          0.5250669680979622,
          -0.4449756900036982,
          -1.0014267626093265,
          -0.21335743445110616,
          -0.8514794630132676,
          0.2749573360612918,
          -0.8733300478379218,
          0.09463458411882031,
          1.4455483762466403,
          0.006188882128480812,
          -0.22631608313192741,
          -0.29524855487515117,
          0.1812433420156424,
          0.4615963474822817,
          -1.3250089684363293,
          -0.009448308083683389,
          -0.24835897398064555,
          1.2246504102660027,
          0.7647812090938544,
          0.2923490017652167,
          0.5484764320989512,
          1.3636654624881206,
          -1.098554817005937,
          0.05323209135417297,
          -0.8193664011445023,
          -0.9651881730205214,
          -0.7169235894795459,
          0.07867172577891615,
          -0.1323856621361627,
          -0.7655784144767981,
          0.9932616140585283,
          0.5168384552391037,
          1.7652722533284222,
          1.8372546061828827,
          -1.593236705292418,
          -1.7351535385081214,
          0.5235910464705479,
          -1.2678010298836502,
          -1.1620485478742044,
          0.49783153002828556,
          -0.8724397517109367,
          0.6049256246439829,
          1.400962816411936,
          0.8111886395962024,
          -1.3749913257690798,
          -0.5343381094480517,
          0.5791641404328253,
          0.8694270812021913,
          0.6977237422345381,
          -0.7518777375440403,
          -1.2664205351763898,
          0.06442315056883763,
          -0.2873984929929309,
          0.0009839494928604283,
          1.168592011704123,
          0.6604253864052589,
          -0.29521148821910714,
          1.045216265567895,
          -0.6515637069291157,
          -0.03289043947944938,
          0.22881992210491614,
          -2.120961847320266,
          -0.1534383700165545,
          -1.1210869777078845,
          0.9094502662877313,
          0.07743574010108772,
          -0.7419719470944663,
          -1.2038987086444832,
          0.14722990479865838,
          0.9751250898869979,
          -0.6264743287129438,
          0.7736042579232473,
          -0.5035091795841722,
          -1.0343753263730342,
          0.5012182124006042,
          0.03584316243864111,
          -0.5259243744479069,
          0.15306289262164952,
          1.7106987514004806
         ]
        },
        {
         "line": {
          "color": "rgba(55, 128, 191, 1.0)",
          "dash": "solid",
          "shape": "linear",
          "width": 1.3
         },
         "mode": "lines",
         "name": "B",
         "text": "",
         "type": "scatter",
         "x": [
          0,
          1,
          2,
          3,
          4,
          5,
          6,
          7,
          8,
          9,
          10,
          11,
          12,
          13,
          14,
          15,
          16,
          17,
          18,
          19,
          20,
          21,
          22,
          23,
          24,
          25,
          26,
          27,
          28,
          29,
          30,
          31,
          32,
          33,
          34,
          35,
          36,
          37,
          38,
          39,
          40,
          41,
          42,
          43,
          44,
          45,
          46,
          47,
          48,
          49,
          50,
          51,
          52,
          53,
          54,
          55,
          56,
          57,
          58,
          59,
          60,
          61,
          62,
          63,
          64,
          65,
          66,
          67,
          68,
          69,
          70,
          71,
          72,
          73,
          74,
          75,
          76,
          77,
          78,
          79,
          80,
          81,
          82,
          83,
          84,
          85,
          86,
          87,
          88,
          89,
          90,
          91,
          92,
          93,
          94,
          95,
          96,
          97,
          98,
          99
         ],
         "y": [
          1.907683558388115,
          0.4547584720364601,
          -0.4624177855774668,
          -3.651544791684352,
          -0.5678534781105319,
          1.6427839907904405,
          -0.9619000332416442,
          -0.00397187462557156,
          -0.07994051727686378,
          -0.6910522585403166,
          -0.09450542139400352,
          -0.8779483001934726,
          -1.484377860124462,
          -0.06479965458310179,
          -1.0119838104547232,
          1.0484315683481713,
          -1.704515782167066,
          0.22219933855895088,
          1.1715275094543638,
          -0.286046199843736,
          -0.18562188278474828,
          -0.5094303960311877,
          1.2804878676027072,
          1.0784034812612298,
          -0.15293803125447164,
          -0.4223642419037627,
          0.14855090724344358,
          -0.31189985968039113,
          -0.9115283059275937,
          -0.7755292866323195,
          -0.42721244214615794,
          -2.388606862034661,
          -0.05382162402532776,
          -1.3473629289778324,
          1.8397464184587116,
          0.8736778624934495,
          -0.7310055025516222,
          0.6958880162743549,
          0.9187659655864716,
          0.8376778170657083,
          0.5396368728266294,
          0.5422001050726935,
          -0.06139231471254688,
          -1.1021335608877891,
          -0.6007471372717097,
          0.1924619434883858,
          -0.08930809569198228,
          -0.2978505269315022,
          0.0005453669286284382,
          0.08106810997695915,
          -0.3694016189559964,
          -1.0281232817295345,
          0.30345560552391604,
          0.5244077540972444,
          2.0284534283011597,
          1.048432684760225,
          0.1064228659254715,
          0.6622831438984041,
          0.19685616235400402,
          1.1511224188608322,
          -0.4206663845906972,
          -1.0846896902892262,
          1.0364546676818382,
          0.6307259022389663,
          0.004641898709261438,
          -0.8605919026414243,
          0.08398903166039261,
          -0.08238436718846175,
          1.4354863201681674,
          -1.339983013618161,
          0.020894590806696794,
          0.6486539425584497,
          1.6592374195822817,
          -0.45411333440482526,
          -0.514677111791003,
          1.4378161001410212,
          0.6543605480879594,
          -0.3723065659245629,
          0.7259378993362399,
          0.17622902362307077,
          -0.21499860688233133,
          0.9541805171862572,
          -0.07743570059151514,
          1.3080387115726428,
          -0.06024810521218019,
          -1.529908094039015,
          0.7021112735494195,
          -0.9091588803591504,
          0.870523121121309,
          0.43847509793721606,
          -0.9516809883412036,
          -0.07897286417227212,
          1.3010071278367414,
          -0.08017900203553485,
          1.5367974033552878,
          -1.290113361643903,
          0.677483027354299,
          -0.8592326527444683,
          2.5979573364869557,
          -0.6669334806113064
         ]
        },
        {
         "connectgaps": false,
         "fill": "tozeroy",
         "line": {
          "color": "green",
          "dash": "solid",
          "shape": "linear",
          "width": 0.5
         },
         "mode": "lines",
         "name": "Spread",
         "showlegend": false,
         "type": "scatter",
         "x": [
          0,
          1,
          2,
          3,
          4,
          5,
          6,
          7,
          8,
          9,
          10,
          11,
          12,
          13,
          14,
          15,
          16,
          17,
          18,
          19,
          20,
          21,
          22,
          23,
          24,
          25,
          26,
          27,
          28,
          29,
          30,
          31,
          32,
          33,
          34,
          35,
          36,
          37,
          38,
          39,
          40,
          41,
          42,
          43,
          44,
          45,
          46,
          47,
          48,
          49,
          50,
          51,
          52,
          53,
          54,
          55,
          56,
          57,
          58,
          59,
          60,
          61,
          62,
          63,
          64,
          65,
          66,
          67,
          68,
          69,
          70,
          71,
          72,
          73,
          74,
          75,
          76,
          77,
          78,
          79,
          80,
          81,
          82,
          83,
          84,
          85,
          86,
          87,
          88,
          89,
          90,
          91,
          92,
          93,
          94,
          95,
          96,
          97,
          98,
          99
         ],
         "xaxis": "x2",
         "y": [
          "",
          "",
          "",
          3.0133497952494688,
          0.5780662375507419,
          "",
          0.2340720889546103,
          0.4528786672070561,
          1.9847250938863708,
          "",
          0.21253599970302817,
          "",
          1.8880408331820298,
          1.028026127677374,
          2.544424958118449,
          "",
          1.816264463240751,
          "",
          "",
          0.9830270092247351,
          0.9448382072664927,
          1.03449736412915,
          "",
          "",
          "",
          "",
          0.12640642881784822,
          "",
          1.0061628900464141,
          2.22107766287896,
          0.43340132427463873,
          2.162290778902734,
          "",
          1.5286062709934747,
          "",
          "",
          0.7215571944679389,
          "",
          0.30588444467953113,
          "",
          "",
          0.0062763270262578,
          1.4250577772006674,
          0.0035787438818521977,
          0.6539792286258826,
          "",
          "",
          "",
          0.07812635885028771,
          "",
          "",
          2.0213848957880627,
          0.21338284971518762,
          1.240864499231178,
          "",
          "",
          "",
          "",
          "",
          "",
          0.9184979146189828,
          0.21224993857828955,
          "",
          0.7702369141729698,
          0.8065467408869409,
          "",
          "",
          0.661548507621287,
          "",
          2.037706755852699,
          "",
          "",
          "",
          0.16671484141189435,
          0.5156610612838634,
          "",
          0.006064838317299537,
          0.07709507770545576,
          0.31927836623165506,
          "",
          0.18210816740288194,
          "",
          "",
          "",
          "",
          2.4393583603267466,
          "",
          0.16718693326468403,
          "",
          "",
          1.9268060782282015,
          "",
          "",
          "",
          "",
          1.791331574044507,
          "",
          0.3333082782965614,
          "",
          2.377632232011787
         ],
         "yaxis": "y2"
        },
        {
         "connectgaps": false,
         "fill": "tozeroy",
         "line": {
          "color": "red",
          "dash": "solid",
          "shape": "linear",
          "width": 0.5
         },
         "mode": "lines",
         "name": "Spread",
         "showlegend": false,
         "type": "scatter",
         "x": [
          0,
          1,
          2,
          3,
          4,
          5,
          6,
          7,
          8,
          9,
          10,
          11,
          12,
          13,
          14,
          15,
          16,
          17,
          18,
          19,
          20,
          21,
          22,
          23,
          24,
          25,
          26,
          27,
          28,
          29,
          30,
          31,
          32,
          33,
          34,
          35,
          36,
          37,
          38,
          39,
          40,
          41,
          42,
          43,
          44,
          45,
          46,
          47,
          48,
          49,
          50,
          51,
          52,
          53,
          54,
          55,
          56,
          57,
          58,
          59,
          60,
          61,
          62,
          63,
          64,
          65,
          66,
          67,
          68,
          69,
          70,
          71,
          72,
          73,
          74,
          75,
          76,
          77,
          78,
          79,
          80,
          81,
          82,
          83,
          84,
          85,
          86,
          87,
          88,
          89,
          90,
          91,
          92,
          93,
          94,
          95,
          96,
          97,
          98,
          99
         ],
         "xaxis": "x2",
         "y": [
          -2.4556946472955183,
          -1.7468281734373647,
          -1.60230259745487,
          "",
          "",
          -0.8479715477418465,
          "",
          "",
          "",
          -0.6122137385685805,
          "",
          -0.7131057181450119,
          "",
          "",
          "",
          -1.0955028717515427,
          "",
          -1.5339893650647276,
          -2.4799233087995693,
          "",
          "",
          "",
          -1.7254635576064055,
          -2.079830243870556,
          -0.060419403196634525,
          -0.4291152211095049,
          "",
          -0.5614301881575307,
          "",
          "",
          "",
          "",
          -0.24142693084982342,
          "",
          -1.3781500709764298,
          -2.1986868309297787,
          "",
          -0.9442469902550005,
          "",
          -0.07289660797185393,
          -0.2472878710614127,
          "",
          "",
          "",
          "",
          -1.0118283446328882,
          -0.8758800773285391,
          -0.4190730625480437,
          "",
          -0.21345377211312186,
          -0.3961767955208017,
          "",
          "",
          "",
          -0.191198822118277,
          -2.641669390052643,
          -1.841576404433593,
          -0.13869209742785626,
          -1.4646571922376541,
          -2.3131709667350364,
          "",
          "",
          -0.43152904303785533,
          "",
          "",
          -0.5143994231276555,
          -0.6183271411084443,
          "",
          -0.5660592389659761,
          "",
          -0.7727723283507371,
          -1.9150744777348394,
          -1.594814269013444,
          "",
          "",
          -0.26922408843689816,
          "",
          "",
          "",
          -0.8277927305521865,
          "",
          -0.7253605950813411,
          -2.043526146728751,
          -1.4614770815891973,
          -1.0608388724957043,
          "",
          -0.6246755334483318,
          "",
          -2.074421829765792,
          -0.2912451931385577,
          "",
          -0.5475014645406717,
          -0.5274028699134942,
          -0.42333017754863733,
          -2.571172729728322,
          "",
          -0.6416398649156578,
          "",
          -2.444894443865306,
          ""
         ],
         "yaxis": "y2"
        }
       ],
       "layout": {
        "hovermode": "x",
        "legend": {
         "bgcolor": "#F5F6F9",
         "font": {
          "color": "#4D5663"
         }
        },
        "paper_bgcolor": "#F5F6F9",
        "plot_bgcolor": "#F5F6F9",
        "template": {
         "data": {
          "bar": [
           {
            "error_x": {
             "color": "#2a3f5f"
            },
            "error_y": {
             "color": "#2a3f5f"
            },
            "marker": {
             "line": {
              "color": "#E5ECF6",
              "width": 0.5
             }
            },
            "type": "bar"
           }
          ],
          "barpolar": [
           {
            "marker": {
             "line": {
              "color": "#E5ECF6",
              "width": 0.5
             }
            },
            "type": "barpolar"
           }
          ],
          "carpet": [
           {
            "aaxis": {
             "endlinecolor": "#2a3f5f",
             "gridcolor": "white",
             "linecolor": "white",
             "minorgridcolor": "white",
             "startlinecolor": "#2a3f5f"
            },
            "baxis": {
             "endlinecolor": "#2a3f5f",
             "gridcolor": "white",
             "linecolor": "white",
             "minorgridcolor": "white",
             "startlinecolor": "#2a3f5f"
            },
            "type": "carpet"
           }
          ],
          "choropleth": [
           {
            "colorbar": {
             "outlinewidth": 0,
             "ticks": ""
            },
            "type": "choropleth"
           }
          ],
          "contour": [
           {
            "colorbar": {
             "outlinewidth": 0,
             "ticks": ""
            },
            "colorscale": [
             [
              0,
              "#0d0887"
             ],
             [
              0.1111111111111111,
              "#46039f"
             ],
             [
              0.2222222222222222,
              "#7201a8"
             ],
             [
              0.3333333333333333,
              "#9c179e"
             ],
             [
              0.4444444444444444,
              "#bd3786"
             ],
             [
              0.5555555555555556,
              "#d8576b"
             ],
             [
              0.6666666666666666,
              "#ed7953"
             ],
             [
              0.7777777777777778,
              "#fb9f3a"
             ],
             [
              0.8888888888888888,
              "#fdca26"
             ],
             [
              1,
              "#f0f921"
             ]
            ],
            "type": "contour"
           }
          ],
          "contourcarpet": [
           {
            "colorbar": {
             "outlinewidth": 0,
             "ticks": ""
            },
            "type": "contourcarpet"
           }
          ],
          "heatmap": [
           {
            "colorbar": {
             "outlinewidth": 0,
             "ticks": ""
            },
            "colorscale": [
             [
              0,
              "#0d0887"
             ],
             [
              0.1111111111111111,
              "#46039f"
             ],
             [
              0.2222222222222222,
              "#7201a8"
             ],
             [
              0.3333333333333333,
              "#9c179e"
             ],
             [
              0.4444444444444444,
              "#bd3786"
             ],
             [
              0.5555555555555556,
              "#d8576b"
             ],
             [
              0.6666666666666666,
              "#ed7953"
             ],
             [
              0.7777777777777778,
              "#fb9f3a"
             ],
             [
              0.8888888888888888,
              "#fdca26"
             ],
             [
              1,
              "#f0f921"
             ]
            ],
            "type": "heatmap"
           }
          ],
          "heatmapgl": [
           {
            "colorbar": {
             "outlinewidth": 0,
             "ticks": ""
            },
            "colorscale": [
             [
              0,
              "#0d0887"
             ],
             [
              0.1111111111111111,
              "#46039f"
             ],
             [
              0.2222222222222222,
              "#7201a8"
             ],
             [
              0.3333333333333333,
              "#9c179e"
             ],
             [
              0.4444444444444444,
              "#bd3786"
             ],
             [
              0.5555555555555556,
              "#d8576b"
             ],
             [
              0.6666666666666666,
              "#ed7953"
             ],
             [
              0.7777777777777778,
              "#fb9f3a"
             ],
             [
              0.8888888888888888,
              "#fdca26"
             ],
             [
              1,
              "#f0f921"
             ]
            ],
            "type": "heatmapgl"
           }
          ],
          "histogram": [
           {
            "marker": {
             "colorbar": {
              "outlinewidth": 0,
              "ticks": ""
             }
            },
            "type": "histogram"
           }
          ],
          "histogram2d": [
           {
            "colorbar": {
             "outlinewidth": 0,
             "ticks": ""
            },
            "colorscale": [
             [
              0,
              "#0d0887"
             ],
             [
              0.1111111111111111,
              "#46039f"
             ],
             [
              0.2222222222222222,
              "#7201a8"
             ],
             [
              0.3333333333333333,
              "#9c179e"
             ],
             [
              0.4444444444444444,
              "#bd3786"
             ],
             [
              0.5555555555555556,
              "#d8576b"
             ],
             [
              0.6666666666666666,
              "#ed7953"
             ],
             [
              0.7777777777777778,
              "#fb9f3a"
             ],
             [
              0.8888888888888888,
              "#fdca26"
             ],
             [
              1,
              "#f0f921"
             ]
            ],
            "type": "histogram2d"
           }
          ],
          "histogram2dcontour": [
           {
            "colorbar": {
             "outlinewidth": 0,
             "ticks": ""
            },
            "colorscale": [
             [
              0,
              "#0d0887"
             ],
             [
              0.1111111111111111,
              "#46039f"
             ],
             [
              0.2222222222222222,
              "#7201a8"
             ],
             [
              0.3333333333333333,
              "#9c179e"
             ],
             [
              0.4444444444444444,
              "#bd3786"
             ],
             [
              0.5555555555555556,
              "#d8576b"
             ],
             [
              0.6666666666666666,
              "#ed7953"
             ],
             [
              0.7777777777777778,
              "#fb9f3a"
             ],
             [
              0.8888888888888888,
              "#fdca26"
             ],
             [
              1,
              "#f0f921"
             ]
            ],
            "type": "histogram2dcontour"
           }
          ],
          "mesh3d": [
           {
            "colorbar": {
             "outlinewidth": 0,
             "ticks": ""
            },
            "type": "mesh3d"
           }
          ],
          "parcoords": [
           {
            "line": {
             "colorbar": {
              "outlinewidth": 0,
              "ticks": ""
             }
            },
            "type": "parcoords"
           }
          ],
          "pie": [
           {
            "automargin": true,
            "type": "pie"
           }
          ],
          "scatter": [
           {
            "marker": {
             "colorbar": {
              "outlinewidth": 0,
              "ticks": ""
             }
            },
            "type": "scatter"
           }
          ],
          "scatter3d": [
           {
            "line": {
             "colorbar": {
              "outlinewidth": 0,
              "ticks": ""
             }
            },
            "marker": {
             "colorbar": {
              "outlinewidth": 0,
              "ticks": ""
             }
            },
            "type": "scatter3d"
           }
          ],
          "scattercarpet": [
           {
            "marker": {
             "colorbar": {
              "outlinewidth": 0,
              "ticks": ""
             }
            },
            "type": "scattercarpet"
           }
          ],
          "scattergeo": [
           {
            "marker": {
             "colorbar": {
              "outlinewidth": 0,
              "ticks": ""
             }
            },
            "type": "scattergeo"
           }
          ],
          "scattergl": [
           {
            "marker": {
             "colorbar": {
              "outlinewidth": 0,
              "ticks": ""
             }
            },
            "type": "scattergl"
           }
          ],
          "scattermapbox": [
           {
            "marker": {
             "colorbar": {
              "outlinewidth": 0,
              "ticks": ""
             }
            },
            "type": "scattermapbox"
           }
          ],
          "scatterpolar": [
           {
            "marker": {
             "colorbar": {
              "outlinewidth": 0,
              "ticks": ""
             }
            },
            "type": "scatterpolar"
           }
          ],
          "scatterpolargl": [
           {
            "marker": {
             "colorbar": {
              "outlinewidth": 0,
              "ticks": ""
             }
            },
            "type": "scatterpolargl"
           }
          ],
          "scatterternary": [
           {
            "marker": {
             "colorbar": {
              "outlinewidth": 0,
              "ticks": ""
             }
            },
            "type": "scatterternary"
           }
          ],
          "surface": [
           {
            "colorbar": {
             "outlinewidth": 0,
             "ticks": ""
            },
            "colorscale": [
             [
              0,
              "#0d0887"
             ],
             [
              0.1111111111111111,
              "#46039f"
             ],
             [
              0.2222222222222222,
              "#7201a8"
             ],
             [
              0.3333333333333333,
              "#9c179e"
             ],
             [
              0.4444444444444444,
              "#bd3786"
             ],
             [
              0.5555555555555556,
              "#d8576b"
             ],
             [
              0.6666666666666666,
              "#ed7953"
             ],
             [
              0.7777777777777778,
              "#fb9f3a"
             ],
             [
              0.8888888888888888,
              "#fdca26"
             ],
             [
              1,
              "#f0f921"
             ]
            ],
            "type": "surface"
           }
          ],
          "table": [
           {
            "cells": {
             "fill": {
              "color": "#EBF0F8"
             },
             "line": {
              "color": "white"
             }
            },
            "header": {
             "fill": {
              "color": "#C8D4E3"
             },
             "line": {
              "color": "white"
             }
            },
            "type": "table"
           }
          ]
         },
         "layout": {
          "annotationdefaults": {
           "arrowcolor": "#2a3f5f",
           "arrowhead": 0,
           "arrowwidth": 1
          },
          "autotypenumbers": "strict",
          "coloraxis": {
           "colorbar": {
            "outlinewidth": 0,
            "ticks": ""
           }
          },
          "colorscale": {
           "diverging": [
            [
             0,
             "#8e0152"
            ],
            [
             0.1,
             "#c51b7d"
            ],
            [
             0.2,
             "#de77ae"
            ],
            [
             0.3,
             "#f1b6da"
            ],
            [
             0.4,
             "#fde0ef"
            ],
            [
             0.5,
             "#f7f7f7"
            ],
            [
             0.6,
             "#e6f5d0"
            ],
            [
             0.7,
             "#b8e186"
            ],
            [
             0.8,
             "#7fbc41"
            ],
            [
             0.9,
             "#4d9221"
            ],
            [
             1,
             "#276419"
            ]
           ],
           "sequential": [
            [
             0,
             "#0d0887"
            ],
            [
             0.1111111111111111,
             "#46039f"
            ],
            [
             0.2222222222222222,
             "#7201a8"
            ],
            [
             0.3333333333333333,
             "#9c179e"
            ],
            [
             0.4444444444444444,
             "#bd3786"
            ],
            [
             0.5555555555555556,
             "#d8576b"
            ],
            [
             0.6666666666666666,
             "#ed7953"
            ],
            [
             0.7777777777777778,
             "#fb9f3a"
            ],
            [
             0.8888888888888888,
             "#fdca26"
            ],
            [
             1,
             "#f0f921"
            ]
           ],
           "sequentialminus": [
            [
             0,
             "#0d0887"
            ],
            [
             0.1111111111111111,
             "#46039f"
            ],
            [
             0.2222222222222222,
             "#7201a8"
            ],
            [
             0.3333333333333333,
             "#9c179e"
            ],
            [
             0.4444444444444444,
             "#bd3786"
            ],
            [
             0.5555555555555556,
             "#d8576b"
            ],
            [
             0.6666666666666666,
             "#ed7953"
            ],
            [
             0.7777777777777778,
             "#fb9f3a"
            ],
            [
             0.8888888888888888,
             "#fdca26"
            ],
            [
             1,
             "#f0f921"
            ]
           ]
          },
          "colorway": [
           "#636efa",
           "#EF553B",
           "#00cc96",
           "#ab63fa",
           "#FFA15A",
           "#19d3f3",
           "#FF6692",
           "#B6E880",
           "#FF97FF",
           "#FECB52"
          ],
          "font": {
           "color": "#2a3f5f"
          },
          "geo": {
           "bgcolor": "white",
           "lakecolor": "white",
           "landcolor": "#E5ECF6",
           "showlakes": true,
           "showland": true,
           "subunitcolor": "white"
          },
          "hoverlabel": {
           "align": "left"
          },
          "hovermode": "closest",
          "mapbox": {
           "style": "light"
          },
          "paper_bgcolor": "white",
          "plot_bgcolor": "#E5ECF6",
          "polar": {
           "angularaxis": {
            "gridcolor": "white",
            "linecolor": "white",
            "ticks": ""
           },
           "bgcolor": "#E5ECF6",
           "radialaxis": {
            "gridcolor": "white",
            "linecolor": "white",
            "ticks": ""
           }
          },
          "scene": {
           "xaxis": {
            "backgroundcolor": "#E5ECF6",
            "gridcolor": "white",
            "gridwidth": 2,
            "linecolor": "white",
            "showbackground": true,
            "ticks": "",
            "zerolinecolor": "white"
           },
           "yaxis": {
            "backgroundcolor": "#E5ECF6",
            "gridcolor": "white",
            "gridwidth": 2,
            "linecolor": "white",
            "showbackground": true,
            "ticks": "",
            "zerolinecolor": "white"
           },
           "zaxis": {
            "backgroundcolor": "#E5ECF6",
            "gridcolor": "white",
            "gridwidth": 2,
            "linecolor": "white",
            "showbackground": true,
            "ticks": "",
            "zerolinecolor": "white"
           }
          },
          "shapedefaults": {
           "line": {
            "color": "#2a3f5f"
           }
          },
          "ternary": {
           "aaxis": {
            "gridcolor": "white",
            "linecolor": "white",
            "ticks": ""
           },
           "baxis": {
            "gridcolor": "white",
            "linecolor": "white",
            "ticks": ""
           },
           "bgcolor": "#E5ECF6",
           "caxis": {
            "gridcolor": "white",
            "linecolor": "white",
            "ticks": ""
           }
          },
          "title": {
           "x": 0.05
          },
          "xaxis": {
           "automargin": true,
           "gridcolor": "white",
           "linecolor": "white",
           "ticks": "",
           "title": {
            "standoff": 15
           },
           "zerolinecolor": "white",
           "zerolinewidth": 2
          },
          "yaxis": {
           "automargin": true,
           "gridcolor": "white",
           "linecolor": "white",
           "ticks": "",
           "title": {
            "standoff": 15
           },
           "zerolinecolor": "white",
           "zerolinewidth": 2
          }
         }
        },
        "title": {
         "font": {
          "color": "#4D5663"
         }
        },
        "xaxis": {
         "gridcolor": "#E1E5ED",
         "showgrid": true,
         "tickfont": {
          "color": "#4D5663"
         },
         "title": {
          "font": {
           "color": "#4D5663"
          },
          "text": ""
         },
         "zerolinecolor": "#E1E5ED"
        },
        "xaxis2": {
         "anchor": "y2",
         "gridcolor": "#E1E5ED",
         "showgrid": true,
         "showticklabels": false,
         "tickfont": {
          "color": "#4D5663"
         },
         "title": {
          "font": {
           "color": "#4D5663"
          },
          "text": ""
         },
         "zerolinecolor": "#E1E5ED"
        },
        "yaxis": {
         "domain": [
          0.3,
          1
         ],
         "gridcolor": "#E1E5ED",
         "showgrid": true,
         "tickfont": {
          "color": "#4D5663"
         },
         "title": {
          "font": {
           "color": "#4D5663"
          },
          "text": ""
         },
         "zerolinecolor": "#E1E5ED"
        },
        "yaxis2": {
         "domain": [
          0,
          0.25
         ],
         "gridcolor": "#E1E5ED",
         "showgrid": true,
         "tickfont": {
          "color": "#4D5663"
         },
         "title": {
          "font": {
           "color": "#4D5663"
          },
          "text": "Spread"
         },
         "zerolinecolor": "#E1E5ED"
        }
       }
      },
      "text/html": [
       "<div>                            <div id=\"1675d6f6-eb57-4529-903c-ea537fb0abeb\" class=\"plotly-graph-div\" style=\"height:525px; width:100%;\"></div>            <script type=\"text/javascript\">                require([\"plotly\"], function(Plotly) {                    window.PLOTLYENV=window.PLOTLYENV || {};\n",
       "                    window.PLOTLYENV.BASE_URL='https://plot.ly';                                    if (document.getElementById(\"1675d6f6-eb57-4529-903c-ea537fb0abeb\")) {                    Plotly.newPlot(                        \"1675d6f6-eb57-4529-903c-ea537fb0abeb\",                        [{\"line\": {\"color\": \"rgba(255, 153, 51, 1.0)\", \"dash\": \"solid\", \"shape\": \"linear\", \"width\": 1.3}, \"mode\": \"lines\", \"name\": \"A\", \"text\": \"\", \"type\": \"scatter\", \"x\": [0, 1, 2, 3, 4, 5, 6, 7, 8, 9, 10, 11, 12, 13, 14, 15, 16, 17, 18, 19, 20, 21, 22, 23, 24, 25, 26, 27, 28, 29, 30, 31, 32, 33, 34, 35, 36, 37, 38, 39, 40, 41, 42, 43, 44, 45, 46, 47, 48, 49, 50, 51, 52, 53, 54, 55, 56, 57, 58, 59, 60, 61, 62, 63, 64, 65, 66, 67, 68, 69, 70, 71, 72, 73, 74, 75, 76, 77, 78, 79, 80, 81, 82, 83, 84, 85, 86, 87, 88, 89, 90, 91, 92, 93, 94, 95, 96, 97, 98, 99], \"y\": [-0.5480110889074034, -1.2920697014009046, -2.064720383032337, -0.6381949964348836, 0.010212759440209999, 0.794812443048594, -0.7278279442870339, 0.4489067925814845, 1.904784576609507, -1.3032659971088971, 0.11803057830902464, -1.5910540183384845, 0.4036629730575678, 0.9632264730942721, 1.5324411476637259, -0.04707130340337131, 0.11174868107368494, -1.3117900265057767, -1.3083957993452056, 0.696980809380999, 0.7592163244817444, 0.5250669680979622, -0.4449756900036982, -1.0014267626093265, -0.21335743445110616, -0.8514794630132676, 0.2749573360612918, -0.8733300478379218, 0.09463458411882031, 1.4455483762466403, 0.006188882128480812, -0.22631608313192741, -0.29524855487515117, 0.1812433420156424, 0.4615963474822817, -1.3250089684363293, -0.009448308083683389, -0.24835897398064555, 1.2246504102660027, 0.7647812090938544, 0.2923490017652167, 0.5484764320989512, 1.3636654624881206, -1.098554817005937, 0.05323209135417297, -0.8193664011445023, -0.9651881730205214, -0.7169235894795459, 0.07867172577891615, -0.1323856621361627, -0.7655784144767981, 0.9932616140585283, 0.5168384552391037, 1.7652722533284222, 1.8372546061828827, -1.593236705292418, -1.7351535385081214, 0.5235910464705479, -1.2678010298836502, -1.1620485478742044, 0.49783153002828556, -0.8724397517109367, 0.6049256246439829, 1.400962816411936, 0.8111886395962024, -1.3749913257690798, -0.5343381094480517, 0.5791641404328253, 0.8694270812021913, 0.6977237422345381, -0.7518777375440403, -1.2664205351763898, 0.06442315056883763, -0.2873984929929309, 0.0009839494928604283, 1.168592011704123, 0.6604253864052589, -0.29521148821910714, 1.045216265567895, -0.6515637069291157, -0.03289043947944938, 0.22881992210491614, -2.120961847320266, -0.1534383700165545, -1.1210869777078845, 0.9094502662877313, 0.07743574010108772, -0.7419719470944663, -1.2038987086444832, 0.14722990479865838, 0.9751250898869979, -0.6264743287129438, 0.7736042579232473, -0.5035091795841722, -1.0343753263730342, 0.5012182124006042, 0.03584316243864111, -0.5259243744479069, 0.15306289262164952, 1.7106987514004806]}, {\"line\": {\"color\": \"rgba(55, 128, 191, 1.0)\", \"dash\": \"solid\", \"shape\": \"linear\", \"width\": 1.3}, \"mode\": \"lines\", \"name\": \"B\", \"text\": \"\", \"type\": \"scatter\", \"x\": [0, 1, 2, 3, 4, 5, 6, 7, 8, 9, 10, 11, 12, 13, 14, 15, 16, 17, 18, 19, 20, 21, 22, 23, 24, 25, 26, 27, 28, 29, 30, 31, 32, 33, 34, 35, 36, 37, 38, 39, 40, 41, 42, 43, 44, 45, 46, 47, 48, 49, 50, 51, 52, 53, 54, 55, 56, 57, 58, 59, 60, 61, 62, 63, 64, 65, 66, 67, 68, 69, 70, 71, 72, 73, 74, 75, 76, 77, 78, 79, 80, 81, 82, 83, 84, 85, 86, 87, 88, 89, 90, 91, 92, 93, 94, 95, 96, 97, 98, 99], \"y\": [1.907683558388115, 0.4547584720364601, -0.4624177855774668, -3.651544791684352, -0.5678534781105319, 1.6427839907904405, -0.9619000332416442, -0.00397187462557156, -0.07994051727686378, -0.6910522585403166, -0.09450542139400352, -0.8779483001934726, -1.484377860124462, -0.06479965458310179, -1.0119838104547232, 1.0484315683481713, -1.704515782167066, 0.22219933855895088, 1.1715275094543638, -0.286046199843736, -0.18562188278474828, -0.5094303960311877, 1.2804878676027072, 1.0784034812612298, -0.15293803125447164, -0.4223642419037627, 0.14855090724344358, -0.31189985968039113, -0.9115283059275937, -0.7755292866323195, -0.42721244214615794, -2.388606862034661, -0.05382162402532776, -1.3473629289778324, 1.8397464184587116, 0.8736778624934495, -0.7310055025516222, 0.6958880162743549, 0.9187659655864716, 0.8376778170657083, 0.5396368728266294, 0.5422001050726935, -0.06139231471254688, -1.1021335608877891, -0.6007471372717097, 0.1924619434883858, -0.08930809569198228, -0.2978505269315022, 0.0005453669286284382, 0.08106810997695915, -0.3694016189559964, -1.0281232817295345, 0.30345560552391604, 0.5244077540972444, 2.0284534283011597, 1.048432684760225, 0.1064228659254715, 0.6622831438984041, 0.19685616235400402, 1.1511224188608322, -0.4206663845906972, -1.0846896902892262, 1.0364546676818382, 0.6307259022389663, 0.004641898709261438, -0.8605919026414243, 0.08398903166039261, -0.08238436718846175, 1.4354863201681674, -1.339983013618161, 0.020894590806696794, 0.6486539425584497, 1.6592374195822817, -0.45411333440482526, -0.514677111791003, 1.4378161001410212, 0.6543605480879594, -0.3723065659245629, 0.7259378993362399, 0.17622902362307077, -0.21499860688233133, 0.9541805171862572, -0.07743570059151514, 1.3080387115726428, -0.06024810521218019, -1.529908094039015, 0.7021112735494195, -0.9091588803591504, 0.870523121121309, 0.43847509793721606, -0.9516809883412036, -0.07897286417227212, 1.3010071278367414, -0.08017900203553485, 1.5367974033552878, -1.290113361643903, 0.677483027354299, -0.8592326527444683, 2.5979573364869557, -0.6669334806113064]}, {\"connectgaps\": false, \"fill\": \"tozeroy\", \"line\": {\"color\": \"green\", \"dash\": \"solid\", \"shape\": \"linear\", \"width\": 0.5}, \"mode\": \"lines\", \"name\": \"Spread\", \"showlegend\": false, \"type\": \"scatter\", \"x\": [0, 1, 2, 3, 4, 5, 6, 7, 8, 9, 10, 11, 12, 13, 14, 15, 16, 17, 18, 19, 20, 21, 22, 23, 24, 25, 26, 27, 28, 29, 30, 31, 32, 33, 34, 35, 36, 37, 38, 39, 40, 41, 42, 43, 44, 45, 46, 47, 48, 49, 50, 51, 52, 53, 54, 55, 56, 57, 58, 59, 60, 61, 62, 63, 64, 65, 66, 67, 68, 69, 70, 71, 72, 73, 74, 75, 76, 77, 78, 79, 80, 81, 82, 83, 84, 85, 86, 87, 88, 89, 90, 91, 92, 93, 94, 95, 96, 97, 98, 99], \"xaxis\": \"x2\", \"y\": [\"\", \"\", \"\", 3.0133497952494688, 0.5780662375507419, \"\", 0.2340720889546103, 0.4528786672070561, 1.9847250938863708, \"\", 0.21253599970302817, \"\", 1.8880408331820298, 1.028026127677374, 2.544424958118449, \"\", 1.816264463240751, \"\", \"\", 0.9830270092247351, 0.9448382072664927, 1.03449736412915, \"\", \"\", \"\", \"\", 0.12640642881784822, \"\", 1.0061628900464141, 2.22107766287896, 0.43340132427463873, 2.162290778902734, \"\", 1.5286062709934747, \"\", \"\", 0.7215571944679389, \"\", 0.30588444467953113, \"\", \"\", 0.0062763270262578, 1.4250577772006674, 0.0035787438818521977, 0.6539792286258826, \"\", \"\", \"\", 0.07812635885028771, \"\", \"\", 2.0213848957880627, 0.21338284971518762, 1.240864499231178, \"\", \"\", \"\", \"\", \"\", \"\", 0.9184979146189828, 0.21224993857828955, \"\", 0.7702369141729698, 0.8065467408869409, \"\", \"\", 0.661548507621287, \"\", 2.037706755852699, \"\", \"\", \"\", 0.16671484141189435, 0.5156610612838634, \"\", 0.006064838317299537, 0.07709507770545576, 0.31927836623165506, \"\", 0.18210816740288194, \"\", \"\", \"\", \"\", 2.4393583603267466, \"\", 0.16718693326468403, \"\", \"\", 1.9268060782282015, \"\", \"\", \"\", \"\", 1.791331574044507, \"\", 0.3333082782965614, \"\", 2.377632232011787], \"yaxis\": \"y2\"}, {\"connectgaps\": false, \"fill\": \"tozeroy\", \"line\": {\"color\": \"red\", \"dash\": \"solid\", \"shape\": \"linear\", \"width\": 0.5}, \"mode\": \"lines\", \"name\": \"Spread\", \"showlegend\": false, \"type\": \"scatter\", \"x\": [0, 1, 2, 3, 4, 5, 6, 7, 8, 9, 10, 11, 12, 13, 14, 15, 16, 17, 18, 19, 20, 21, 22, 23, 24, 25, 26, 27, 28, 29, 30, 31, 32, 33, 34, 35, 36, 37, 38, 39, 40, 41, 42, 43, 44, 45, 46, 47, 48, 49, 50, 51, 52, 53, 54, 55, 56, 57, 58, 59, 60, 61, 62, 63, 64, 65, 66, 67, 68, 69, 70, 71, 72, 73, 74, 75, 76, 77, 78, 79, 80, 81, 82, 83, 84, 85, 86, 87, 88, 89, 90, 91, 92, 93, 94, 95, 96, 97, 98, 99], \"xaxis\": \"x2\", \"y\": [-2.4556946472955183, -1.7468281734373647, -1.60230259745487, \"\", \"\", -0.8479715477418465, \"\", \"\", \"\", -0.6122137385685805, \"\", -0.7131057181450119, \"\", \"\", \"\", -1.0955028717515427, \"\", -1.5339893650647276, -2.4799233087995693, \"\", \"\", \"\", -1.7254635576064055, -2.079830243870556, -0.060419403196634525, -0.4291152211095049, \"\", -0.5614301881575307, \"\", \"\", \"\", \"\", -0.24142693084982342, \"\", -1.3781500709764298, -2.1986868309297787, \"\", -0.9442469902550005, \"\", -0.07289660797185393, -0.2472878710614127, \"\", \"\", \"\", \"\", -1.0118283446328882, -0.8758800773285391, -0.4190730625480437, \"\", -0.21345377211312186, -0.3961767955208017, \"\", \"\", \"\", -0.191198822118277, -2.641669390052643, -1.841576404433593, -0.13869209742785626, -1.4646571922376541, -2.3131709667350364, \"\", \"\", -0.43152904303785533, \"\", \"\", -0.5143994231276555, -0.6183271411084443, \"\", -0.5660592389659761, \"\", -0.7727723283507371, -1.9150744777348394, -1.594814269013444, \"\", \"\", -0.26922408843689816, \"\", \"\", \"\", -0.8277927305521865, \"\", -0.7253605950813411, -2.043526146728751, -1.4614770815891973, -1.0608388724957043, \"\", -0.6246755334483318, \"\", -2.074421829765792, -0.2912451931385577, \"\", -0.5475014645406717, -0.5274028699134942, -0.42333017754863733, -2.571172729728322, \"\", -0.6416398649156578, \"\", -2.444894443865306, \"\"], \"yaxis\": \"y2\"}],                        {\"hovermode\": \"x\", \"legend\": {\"bgcolor\": \"#F5F6F9\", \"font\": {\"color\": \"#4D5663\"}}, \"paper_bgcolor\": \"#F5F6F9\", \"plot_bgcolor\": \"#F5F6F9\", \"template\": {\"data\": {\"bar\": [{\"error_x\": {\"color\": \"#2a3f5f\"}, \"error_y\": {\"color\": \"#2a3f5f\"}, \"marker\": {\"line\": {\"color\": \"#E5ECF6\", \"width\": 0.5}}, \"type\": \"bar\"}], \"barpolar\": [{\"marker\": {\"line\": {\"color\": \"#E5ECF6\", \"width\": 0.5}}, \"type\": \"barpolar\"}], \"carpet\": [{\"aaxis\": {\"endlinecolor\": \"#2a3f5f\", \"gridcolor\": \"white\", \"linecolor\": \"white\", \"minorgridcolor\": \"white\", \"startlinecolor\": \"#2a3f5f\"}, \"baxis\": {\"endlinecolor\": \"#2a3f5f\", \"gridcolor\": \"white\", \"linecolor\": \"white\", \"minorgridcolor\": \"white\", \"startlinecolor\": \"#2a3f5f\"}, \"type\": \"carpet\"}], \"choropleth\": [{\"colorbar\": {\"outlinewidth\": 0, \"ticks\": \"\"}, \"type\": \"choropleth\"}], \"contour\": [{\"colorbar\": {\"outlinewidth\": 0, \"ticks\": \"\"}, \"colorscale\": [[0.0, \"#0d0887\"], [0.1111111111111111, \"#46039f\"], [0.2222222222222222, \"#7201a8\"], [0.3333333333333333, \"#9c179e\"], [0.4444444444444444, \"#bd3786\"], [0.5555555555555556, \"#d8576b\"], [0.6666666666666666, \"#ed7953\"], [0.7777777777777778, \"#fb9f3a\"], [0.8888888888888888, \"#fdca26\"], [1.0, \"#f0f921\"]], \"type\": \"contour\"}], \"contourcarpet\": [{\"colorbar\": {\"outlinewidth\": 0, \"ticks\": \"\"}, \"type\": \"contourcarpet\"}], \"heatmap\": [{\"colorbar\": {\"outlinewidth\": 0, \"ticks\": \"\"}, \"colorscale\": [[0.0, \"#0d0887\"], [0.1111111111111111, \"#46039f\"], [0.2222222222222222, \"#7201a8\"], [0.3333333333333333, \"#9c179e\"], [0.4444444444444444, \"#bd3786\"], [0.5555555555555556, \"#d8576b\"], [0.6666666666666666, \"#ed7953\"], [0.7777777777777778, \"#fb9f3a\"], [0.8888888888888888, \"#fdca26\"], [1.0, \"#f0f921\"]], \"type\": \"heatmap\"}], \"heatmapgl\": [{\"colorbar\": {\"outlinewidth\": 0, \"ticks\": \"\"}, \"colorscale\": [[0.0, \"#0d0887\"], [0.1111111111111111, \"#46039f\"], [0.2222222222222222, \"#7201a8\"], [0.3333333333333333, \"#9c179e\"], [0.4444444444444444, \"#bd3786\"], [0.5555555555555556, \"#d8576b\"], [0.6666666666666666, \"#ed7953\"], [0.7777777777777778, \"#fb9f3a\"], [0.8888888888888888, \"#fdca26\"], [1.0, \"#f0f921\"]], \"type\": \"heatmapgl\"}], \"histogram\": [{\"marker\": {\"colorbar\": {\"outlinewidth\": 0, \"ticks\": \"\"}}, \"type\": \"histogram\"}], \"histogram2d\": [{\"colorbar\": {\"outlinewidth\": 0, \"ticks\": \"\"}, \"colorscale\": [[0.0, \"#0d0887\"], [0.1111111111111111, \"#46039f\"], [0.2222222222222222, \"#7201a8\"], [0.3333333333333333, \"#9c179e\"], [0.4444444444444444, \"#bd3786\"], [0.5555555555555556, \"#d8576b\"], [0.6666666666666666, \"#ed7953\"], [0.7777777777777778, \"#fb9f3a\"], [0.8888888888888888, \"#fdca26\"], [1.0, \"#f0f921\"]], \"type\": \"histogram2d\"}], \"histogram2dcontour\": [{\"colorbar\": {\"outlinewidth\": 0, \"ticks\": \"\"}, \"colorscale\": [[0.0, \"#0d0887\"], [0.1111111111111111, \"#46039f\"], [0.2222222222222222, \"#7201a8\"], [0.3333333333333333, \"#9c179e\"], [0.4444444444444444, \"#bd3786\"], [0.5555555555555556, \"#d8576b\"], [0.6666666666666666, \"#ed7953\"], [0.7777777777777778, \"#fb9f3a\"], [0.8888888888888888, \"#fdca26\"], [1.0, \"#f0f921\"]], \"type\": \"histogram2dcontour\"}], \"mesh3d\": [{\"colorbar\": {\"outlinewidth\": 0, \"ticks\": \"\"}, \"type\": \"mesh3d\"}], \"parcoords\": [{\"line\": {\"colorbar\": {\"outlinewidth\": 0, \"ticks\": \"\"}}, \"type\": \"parcoords\"}], \"pie\": [{\"automargin\": true, \"type\": \"pie\"}], \"scatter\": [{\"marker\": {\"colorbar\": {\"outlinewidth\": 0, \"ticks\": \"\"}}, \"type\": \"scatter\"}], \"scatter3d\": [{\"line\": {\"colorbar\": {\"outlinewidth\": 0, \"ticks\": \"\"}}, \"marker\": {\"colorbar\": {\"outlinewidth\": 0, \"ticks\": \"\"}}, \"type\": \"scatter3d\"}], \"scattercarpet\": [{\"marker\": {\"colorbar\": {\"outlinewidth\": 0, \"ticks\": \"\"}}, \"type\": \"scattercarpet\"}], \"scattergeo\": [{\"marker\": {\"colorbar\": {\"outlinewidth\": 0, \"ticks\": \"\"}}, \"type\": \"scattergeo\"}], \"scattergl\": [{\"marker\": {\"colorbar\": {\"outlinewidth\": 0, \"ticks\": \"\"}}, \"type\": \"scattergl\"}], \"scattermapbox\": [{\"marker\": {\"colorbar\": {\"outlinewidth\": 0, \"ticks\": \"\"}}, \"type\": \"scattermapbox\"}], \"scatterpolar\": [{\"marker\": {\"colorbar\": {\"outlinewidth\": 0, \"ticks\": \"\"}}, \"type\": \"scatterpolar\"}], \"scatterpolargl\": [{\"marker\": {\"colorbar\": {\"outlinewidth\": 0, \"ticks\": \"\"}}, \"type\": \"scatterpolargl\"}], \"scatterternary\": [{\"marker\": {\"colorbar\": {\"outlinewidth\": 0, \"ticks\": \"\"}}, \"type\": \"scatterternary\"}], \"surface\": [{\"colorbar\": {\"outlinewidth\": 0, \"ticks\": \"\"}, \"colorscale\": [[0.0, \"#0d0887\"], [0.1111111111111111, \"#46039f\"], [0.2222222222222222, \"#7201a8\"], [0.3333333333333333, \"#9c179e\"], [0.4444444444444444, \"#bd3786\"], [0.5555555555555556, \"#d8576b\"], [0.6666666666666666, \"#ed7953\"], [0.7777777777777778, \"#fb9f3a\"], [0.8888888888888888, \"#fdca26\"], [1.0, \"#f0f921\"]], \"type\": \"surface\"}], \"table\": [{\"cells\": {\"fill\": {\"color\": \"#EBF0F8\"}, \"line\": {\"color\": \"white\"}}, \"header\": {\"fill\": {\"color\": \"#C8D4E3\"}, \"line\": {\"color\": \"white\"}}, \"type\": \"table\"}]}, \"layout\": {\"annotationdefaults\": {\"arrowcolor\": \"#2a3f5f\", \"arrowhead\": 0, \"arrowwidth\": 1}, \"autotypenumbers\": \"strict\", \"coloraxis\": {\"colorbar\": {\"outlinewidth\": 0, \"ticks\": \"\"}}, \"colorscale\": {\"diverging\": [[0, \"#8e0152\"], [0.1, \"#c51b7d\"], [0.2, \"#de77ae\"], [0.3, \"#f1b6da\"], [0.4, \"#fde0ef\"], [0.5, \"#f7f7f7\"], [0.6, \"#e6f5d0\"], [0.7, \"#b8e186\"], [0.8, \"#7fbc41\"], [0.9, \"#4d9221\"], [1, \"#276419\"]], \"sequential\": [[0.0, \"#0d0887\"], [0.1111111111111111, \"#46039f\"], [0.2222222222222222, \"#7201a8\"], [0.3333333333333333, \"#9c179e\"], [0.4444444444444444, \"#bd3786\"], [0.5555555555555556, \"#d8576b\"], [0.6666666666666666, \"#ed7953\"], [0.7777777777777778, \"#fb9f3a\"], [0.8888888888888888, \"#fdca26\"], [1.0, \"#f0f921\"]], \"sequentialminus\": [[0.0, \"#0d0887\"], [0.1111111111111111, \"#46039f\"], [0.2222222222222222, \"#7201a8\"], [0.3333333333333333, \"#9c179e\"], [0.4444444444444444, \"#bd3786\"], [0.5555555555555556, \"#d8576b\"], [0.6666666666666666, \"#ed7953\"], [0.7777777777777778, \"#fb9f3a\"], [0.8888888888888888, \"#fdca26\"], [1.0, \"#f0f921\"]]}, \"colorway\": [\"#636efa\", \"#EF553B\", \"#00cc96\", \"#ab63fa\", \"#FFA15A\", \"#19d3f3\", \"#FF6692\", \"#B6E880\", \"#FF97FF\", \"#FECB52\"], \"font\": {\"color\": \"#2a3f5f\"}, \"geo\": {\"bgcolor\": \"white\", \"lakecolor\": \"white\", \"landcolor\": \"#E5ECF6\", \"showlakes\": true, \"showland\": true, \"subunitcolor\": \"white\"}, \"hoverlabel\": {\"align\": \"left\"}, \"hovermode\": \"closest\", \"mapbox\": {\"style\": \"light\"}, \"paper_bgcolor\": \"white\", \"plot_bgcolor\": \"#E5ECF6\", \"polar\": {\"angularaxis\": {\"gridcolor\": \"white\", \"linecolor\": \"white\", \"ticks\": \"\"}, \"bgcolor\": \"#E5ECF6\", \"radialaxis\": {\"gridcolor\": \"white\", \"linecolor\": \"white\", \"ticks\": \"\"}}, \"scene\": {\"xaxis\": {\"backgroundcolor\": \"#E5ECF6\", \"gridcolor\": \"white\", \"gridwidth\": 2, \"linecolor\": \"white\", \"showbackground\": true, \"ticks\": \"\", \"zerolinecolor\": \"white\"}, \"yaxis\": {\"backgroundcolor\": \"#E5ECF6\", \"gridcolor\": \"white\", \"gridwidth\": 2, \"linecolor\": \"white\", \"showbackground\": true, \"ticks\": \"\", \"zerolinecolor\": \"white\"}, \"zaxis\": {\"backgroundcolor\": \"#E5ECF6\", \"gridcolor\": \"white\", \"gridwidth\": 2, \"linecolor\": \"white\", \"showbackground\": true, \"ticks\": \"\", \"zerolinecolor\": \"white\"}}, \"shapedefaults\": {\"line\": {\"color\": \"#2a3f5f\"}}, \"ternary\": {\"aaxis\": {\"gridcolor\": \"white\", \"linecolor\": \"white\", \"ticks\": \"\"}, \"baxis\": {\"gridcolor\": \"white\", \"linecolor\": \"white\", \"ticks\": \"\"}, \"bgcolor\": \"#E5ECF6\", \"caxis\": {\"gridcolor\": \"white\", \"linecolor\": \"white\", \"ticks\": \"\"}}, \"title\": {\"x\": 0.05}, \"xaxis\": {\"automargin\": true, \"gridcolor\": \"white\", \"linecolor\": \"white\", \"ticks\": \"\", \"title\": {\"standoff\": 15}, \"zerolinecolor\": \"white\", \"zerolinewidth\": 2}, \"yaxis\": {\"automargin\": true, \"gridcolor\": \"white\", \"linecolor\": \"white\", \"ticks\": \"\", \"title\": {\"standoff\": 15}, \"zerolinecolor\": \"white\", \"zerolinewidth\": 2}}}, \"title\": {\"font\": {\"color\": \"#4D5663\"}}, \"xaxis\": {\"gridcolor\": \"#E1E5ED\", \"showgrid\": true, \"tickfont\": {\"color\": \"#4D5663\"}, \"title\": {\"font\": {\"color\": \"#4D5663\"}, \"text\": \"\"}, \"zerolinecolor\": \"#E1E5ED\"}, \"xaxis2\": {\"anchor\": \"y2\", \"gridcolor\": \"#E1E5ED\", \"showgrid\": true, \"showticklabels\": false, \"tickfont\": {\"color\": \"#4D5663\"}, \"title\": {\"font\": {\"color\": \"#4D5663\"}, \"text\": \"\"}, \"zerolinecolor\": \"#E1E5ED\"}, \"yaxis\": {\"domain\": [0.3, 1], \"gridcolor\": \"#E1E5ED\", \"showgrid\": true, \"tickfont\": {\"color\": \"#4D5663\"}, \"title\": {\"font\": {\"color\": \"#4D5663\"}, \"text\": \"\"}, \"zerolinecolor\": \"#E1E5ED\"}, \"yaxis2\": {\"domain\": [0, 0.25], \"gridcolor\": \"#E1E5ED\", \"showgrid\": true, \"tickfont\": {\"color\": \"#4D5663\"}, \"title\": {\"font\": {\"color\": \"#4D5663\"}, \"text\": \"Spread\"}, \"zerolinecolor\": \"#E1E5ED\"}},                        {\"showLink\": true, \"linkText\": \"Export to plot.ly\", \"plotlyServerURL\": \"https://plot.ly\", \"responsive\": true}                    ).then(function(){\n",
       "                            \n",
       "var gd = document.getElementById('1675d6f6-eb57-4529-903c-ea537fb0abeb');\n",
       "var x = new MutationObserver(function (mutations, observer) {{\n",
       "        var display = window.getComputedStyle(gd).display;\n",
       "        if (!display || display === 'none') {{\n",
       "            console.log([gd, 'removed!']);\n",
       "            Plotly.purge(gd);\n",
       "            observer.disconnect();\n",
       "        }}\n",
       "}});\n",
       "\n",
       "// Listen for the removal of the full notebook cells\n",
       "var notebookContainer = gd.closest('#notebook-container');\n",
       "if (notebookContainer) {{\n",
       "    x.observe(notebookContainer, {childList: true});\n",
       "}}\n",
       "\n",
       "// Listen for the clearing of the current output cell\n",
       "var outputEl = gd.closest('.output');\n",
       "if (outputEl) {{\n",
       "    x.observe(outputEl, {childList: true});\n",
       "}}\n",
       "\n",
       "                        })                };                });            </script>        </div>"
      ]
     },
     "metadata": {},
     "output_type": "display_data"
    }
   ],
   "source": [
    "df[['A','B']].iplot(kind='spread')"
   ]
  },
  {
   "cell_type": "code",
   "execution_count": 59,
   "metadata": {},
   "outputs": [
    {
     "data": {
      "application/vnd.plotly.v1+json": {
       "config": {
        "linkText": "Export to plot.ly",
        "plotlyServerURL": "https://plot.ly",
        "showLink": true
       },
       "data": [
        {
         "marker": {
          "color": [
           "rgb(255, 153, 51)",
           "rgb(55, 128, 191)",
           "rgb(50, 171, 96)",
           "rgb(128, 0, 128)",
           "rgb(219, 64, 82)",
           "rgb(0, 128, 128)",
           "rgb(255, 255, 51)",
           "rgb(128, 128, 0)",
           "rgb(251, 128, 114)",
           "rgb(128, 177, 211)"
          ],
          "line": {
           "width": 1.3
          },
          "size": [
           79,
           82,
           12,
           72,
           84,
           67,
           67,
           65,
           56,
           79,
           61,
           50,
           44,
           48,
           46,
           48,
           49,
           90,
           92,
           65,
           73,
           55,
           88,
           51,
           59,
           92,
           77,
           59,
           65,
           56,
           74,
           77,
           59,
           69,
           51,
           86,
           64,
           52,
           27,
           87,
           73,
           64,
           87,
           47,
           73,
           75,
           86,
           112,
           83,
           77,
           36,
           54,
           73,
           52,
           82,
           83,
           36,
           80,
           61,
           66,
           40,
           68,
           59,
           68,
           70,
           68,
           75,
           67,
           51,
           74,
           92,
           74,
           90,
           94,
           60,
           81,
           73,
           46,
           68,
           84,
           72,
           68,
           76,
           59,
           61,
           107,
           107,
           75,
           65,
           70,
           107,
           94,
           107,
           40,
           78,
           84,
           57,
           71,
           82,
           99
          ],
          "symbol": "circle"
         },
         "mode": "markers",
         "text": "",
         "type": "scatter",
         "x": [
          -0.5480110889074034,
          -1.2920697014009046,
          -2.064720383032337,
          -0.6381949964348836,
          0.010212759440209999,
          0.794812443048594,
          -0.7278279442870339,
          0.4489067925814845,
          1.904784576609507,
          -1.3032659971088971,
          0.11803057830902464,
          -1.5910540183384845,
          0.4036629730575678,
          0.9632264730942721,
          1.5324411476637259,
          -0.04707130340337131,
          0.11174868107368494,
          -1.3117900265057767,
          -1.3083957993452056,
          0.696980809380999,
          0.7592163244817444,
          0.5250669680979622,
          -0.4449756900036982,
          -1.0014267626093265,
          -0.21335743445110616,
          -0.8514794630132676,
          0.2749573360612918,
          -0.8733300478379218,
          0.09463458411882031,
          1.4455483762466403,
          0.006188882128480812,
          -0.22631608313192741,
          -0.29524855487515117,
          0.1812433420156424,
          0.4615963474822817,
          -1.3250089684363293,
          -0.009448308083683389,
          -0.24835897398064555,
          1.2246504102660027,
          0.7647812090938544,
          0.2923490017652167,
          0.5484764320989512,
          1.3636654624881206,
          -1.098554817005937,
          0.05323209135417297,
          -0.8193664011445023,
          -0.9651881730205214,
          -0.7169235894795459,
          0.07867172577891615,
          -0.1323856621361627,
          -0.7655784144767981,
          0.9932616140585283,
          0.5168384552391037,
          1.7652722533284222,
          1.8372546061828827,
          -1.593236705292418,
          -1.7351535385081214,
          0.5235910464705479,
          -1.2678010298836502,
          -1.1620485478742044,
          0.49783153002828556,
          -0.8724397517109367,
          0.6049256246439829,
          1.400962816411936,
          0.8111886395962024,
          -1.3749913257690798,
          -0.5343381094480517,
          0.5791641404328253,
          0.8694270812021913,
          0.6977237422345381,
          -0.7518777375440403,
          -1.2664205351763898,
          0.06442315056883763,
          -0.2873984929929309,
          0.0009839494928604283,
          1.168592011704123,
          0.6604253864052589,
          -0.29521148821910714,
          1.045216265567895,
          -0.6515637069291157,
          -0.03289043947944938,
          0.22881992210491614,
          -2.120961847320266,
          -0.1534383700165545,
          -1.1210869777078845,
          0.9094502662877313,
          0.07743574010108772,
          -0.7419719470944663,
          -1.2038987086444832,
          0.14722990479865838,
          0.9751250898869979,
          -0.6264743287129438,
          0.7736042579232473,
          -0.5035091795841722,
          -1.0343753263730342,
          0.5012182124006042,
          0.03584316243864111,
          -0.5259243744479069,
          0.15306289262164952,
          1.7106987514004806
         ],
         "y": [
          1.907683558388115,
          0.4547584720364601,
          -0.4624177855774668,
          -3.651544791684352,
          -0.5678534781105319,
          1.6427839907904405,
          -0.9619000332416442,
          -0.00397187462557156,
          -0.07994051727686378,
          -0.6910522585403166,
          -0.09450542139400352,
          -0.8779483001934726,
          -1.484377860124462,
          -0.06479965458310179,
          -1.0119838104547232,
          1.0484315683481713,
          -1.704515782167066,
          0.22219933855895088,
          1.1715275094543638,
          -0.286046199843736,
          -0.18562188278474828,
          -0.5094303960311877,
          1.2804878676027072,
          1.0784034812612298,
          -0.15293803125447164,
          -0.4223642419037627,
          0.14855090724344358,
          -0.31189985968039113,
          -0.9115283059275937,
          -0.7755292866323195,
          -0.42721244214615794,
          -2.388606862034661,
          -0.05382162402532776,
          -1.3473629289778324,
          1.8397464184587116,
          0.8736778624934495,
          -0.7310055025516222,
          0.6958880162743549,
          0.9187659655864716,
          0.8376778170657083,
          0.5396368728266294,
          0.5422001050726935,
          -0.06139231471254688,
          -1.1021335608877891,
          -0.6007471372717097,
          0.1924619434883858,
          -0.08930809569198228,
          -0.2978505269315022,
          0.0005453669286284382,
          0.08106810997695915,
          -0.3694016189559964,
          -1.0281232817295345,
          0.30345560552391604,
          0.5244077540972444,
          2.0284534283011597,
          1.048432684760225,
          0.1064228659254715,
          0.6622831438984041,
          0.19685616235400402,
          1.1511224188608322,
          -0.4206663845906972,
          -1.0846896902892262,
          1.0364546676818382,
          0.6307259022389663,
          0.004641898709261438,
          -0.8605919026414243,
          0.08398903166039261,
          -0.08238436718846175,
          1.4354863201681674,
          -1.339983013618161,
          0.020894590806696794,
          0.6486539425584497,
          1.6592374195822817,
          -0.45411333440482526,
          -0.514677111791003,
          1.4378161001410212,
          0.6543605480879594,
          -0.3723065659245629,
          0.7259378993362399,
          0.17622902362307077,
          -0.21499860688233133,
          0.9541805171862572,
          -0.07743570059151514,
          1.3080387115726428,
          -0.06024810521218019,
          -1.529908094039015,
          0.7021112735494195,
          -0.9091588803591504,
          0.870523121121309,
          0.43847509793721606,
          -0.9516809883412036,
          -0.07897286417227212,
          1.3010071278367414,
          -0.08017900203553485,
          1.5367974033552878,
          -1.290113361643903,
          0.677483027354299,
          -0.8592326527444683,
          2.5979573364869557,
          -0.6669334806113064
         ]
        }
       ],
       "layout": {
        "legend": {
         "bgcolor": "#F5F6F9",
         "font": {
          "color": "#4D5663"
         }
        },
        "paper_bgcolor": "#F5F6F9",
        "plot_bgcolor": "#F5F6F9",
        "template": {
         "data": {
          "bar": [
           {
            "error_x": {
             "color": "#2a3f5f"
            },
            "error_y": {
             "color": "#2a3f5f"
            },
            "marker": {
             "line": {
              "color": "#E5ECF6",
              "width": 0.5
             }
            },
            "type": "bar"
           }
          ],
          "barpolar": [
           {
            "marker": {
             "line": {
              "color": "#E5ECF6",
              "width": 0.5
             }
            },
            "type": "barpolar"
           }
          ],
          "carpet": [
           {
            "aaxis": {
             "endlinecolor": "#2a3f5f",
             "gridcolor": "white",
             "linecolor": "white",
             "minorgridcolor": "white",
             "startlinecolor": "#2a3f5f"
            },
            "baxis": {
             "endlinecolor": "#2a3f5f",
             "gridcolor": "white",
             "linecolor": "white",
             "minorgridcolor": "white",
             "startlinecolor": "#2a3f5f"
            },
            "type": "carpet"
           }
          ],
          "choropleth": [
           {
            "colorbar": {
             "outlinewidth": 0,
             "ticks": ""
            },
            "type": "choropleth"
           }
          ],
          "contour": [
           {
            "colorbar": {
             "outlinewidth": 0,
             "ticks": ""
            },
            "colorscale": [
             [
              0,
              "#0d0887"
             ],
             [
              0.1111111111111111,
              "#46039f"
             ],
             [
              0.2222222222222222,
              "#7201a8"
             ],
             [
              0.3333333333333333,
              "#9c179e"
             ],
             [
              0.4444444444444444,
              "#bd3786"
             ],
             [
              0.5555555555555556,
              "#d8576b"
             ],
             [
              0.6666666666666666,
              "#ed7953"
             ],
             [
              0.7777777777777778,
              "#fb9f3a"
             ],
             [
              0.8888888888888888,
              "#fdca26"
             ],
             [
              1,
              "#f0f921"
             ]
            ],
            "type": "contour"
           }
          ],
          "contourcarpet": [
           {
            "colorbar": {
             "outlinewidth": 0,
             "ticks": ""
            },
            "type": "contourcarpet"
           }
          ],
          "heatmap": [
           {
            "colorbar": {
             "outlinewidth": 0,
             "ticks": ""
            },
            "colorscale": [
             [
              0,
              "#0d0887"
             ],
             [
              0.1111111111111111,
              "#46039f"
             ],
             [
              0.2222222222222222,
              "#7201a8"
             ],
             [
              0.3333333333333333,
              "#9c179e"
             ],
             [
              0.4444444444444444,
              "#bd3786"
             ],
             [
              0.5555555555555556,
              "#d8576b"
             ],
             [
              0.6666666666666666,
              "#ed7953"
             ],
             [
              0.7777777777777778,
              "#fb9f3a"
             ],
             [
              0.8888888888888888,
              "#fdca26"
             ],
             [
              1,
              "#f0f921"
             ]
            ],
            "type": "heatmap"
           }
          ],
          "heatmapgl": [
           {
            "colorbar": {
             "outlinewidth": 0,
             "ticks": ""
            },
            "colorscale": [
             [
              0,
              "#0d0887"
             ],
             [
              0.1111111111111111,
              "#46039f"
             ],
             [
              0.2222222222222222,
              "#7201a8"
             ],
             [
              0.3333333333333333,
              "#9c179e"
             ],
             [
              0.4444444444444444,
              "#bd3786"
             ],
             [
              0.5555555555555556,
              "#d8576b"
             ],
             [
              0.6666666666666666,
              "#ed7953"
             ],
             [
              0.7777777777777778,
              "#fb9f3a"
             ],
             [
              0.8888888888888888,
              "#fdca26"
             ],
             [
              1,
              "#f0f921"
             ]
            ],
            "type": "heatmapgl"
           }
          ],
          "histogram": [
           {
            "marker": {
             "colorbar": {
              "outlinewidth": 0,
              "ticks": ""
             }
            },
            "type": "histogram"
           }
          ],
          "histogram2d": [
           {
            "colorbar": {
             "outlinewidth": 0,
             "ticks": ""
            },
            "colorscale": [
             [
              0,
              "#0d0887"
             ],
             [
              0.1111111111111111,
              "#46039f"
             ],
             [
              0.2222222222222222,
              "#7201a8"
             ],
             [
              0.3333333333333333,
              "#9c179e"
             ],
             [
              0.4444444444444444,
              "#bd3786"
             ],
             [
              0.5555555555555556,
              "#d8576b"
             ],
             [
              0.6666666666666666,
              "#ed7953"
             ],
             [
              0.7777777777777778,
              "#fb9f3a"
             ],
             [
              0.8888888888888888,
              "#fdca26"
             ],
             [
              1,
              "#f0f921"
             ]
            ],
            "type": "histogram2d"
           }
          ],
          "histogram2dcontour": [
           {
            "colorbar": {
             "outlinewidth": 0,
             "ticks": ""
            },
            "colorscale": [
             [
              0,
              "#0d0887"
             ],
             [
              0.1111111111111111,
              "#46039f"
             ],
             [
              0.2222222222222222,
              "#7201a8"
             ],
             [
              0.3333333333333333,
              "#9c179e"
             ],
             [
              0.4444444444444444,
              "#bd3786"
             ],
             [
              0.5555555555555556,
              "#d8576b"
             ],
             [
              0.6666666666666666,
              "#ed7953"
             ],
             [
              0.7777777777777778,
              "#fb9f3a"
             ],
             [
              0.8888888888888888,
              "#fdca26"
             ],
             [
              1,
              "#f0f921"
             ]
            ],
            "type": "histogram2dcontour"
           }
          ],
          "mesh3d": [
           {
            "colorbar": {
             "outlinewidth": 0,
             "ticks": ""
            },
            "type": "mesh3d"
           }
          ],
          "parcoords": [
           {
            "line": {
             "colorbar": {
              "outlinewidth": 0,
              "ticks": ""
             }
            },
            "type": "parcoords"
           }
          ],
          "pie": [
           {
            "automargin": true,
            "type": "pie"
           }
          ],
          "scatter": [
           {
            "marker": {
             "colorbar": {
              "outlinewidth": 0,
              "ticks": ""
             }
            },
            "type": "scatter"
           }
          ],
          "scatter3d": [
           {
            "line": {
             "colorbar": {
              "outlinewidth": 0,
              "ticks": ""
             }
            },
            "marker": {
             "colorbar": {
              "outlinewidth": 0,
              "ticks": ""
             }
            },
            "type": "scatter3d"
           }
          ],
          "scattercarpet": [
           {
            "marker": {
             "colorbar": {
              "outlinewidth": 0,
              "ticks": ""
             }
            },
            "type": "scattercarpet"
           }
          ],
          "scattergeo": [
           {
            "marker": {
             "colorbar": {
              "outlinewidth": 0,
              "ticks": ""
             }
            },
            "type": "scattergeo"
           }
          ],
          "scattergl": [
           {
            "marker": {
             "colorbar": {
              "outlinewidth": 0,
              "ticks": ""
             }
            },
            "type": "scattergl"
           }
          ],
          "scattermapbox": [
           {
            "marker": {
             "colorbar": {
              "outlinewidth": 0,
              "ticks": ""
             }
            },
            "type": "scattermapbox"
           }
          ],
          "scatterpolar": [
           {
            "marker": {
             "colorbar": {
              "outlinewidth": 0,
              "ticks": ""
             }
            },
            "type": "scatterpolar"
           }
          ],
          "scatterpolargl": [
           {
            "marker": {
             "colorbar": {
              "outlinewidth": 0,
              "ticks": ""
             }
            },
            "type": "scatterpolargl"
           }
          ],
          "scatterternary": [
           {
            "marker": {
             "colorbar": {
              "outlinewidth": 0,
              "ticks": ""
             }
            },
            "type": "scatterternary"
           }
          ],
          "surface": [
           {
            "colorbar": {
             "outlinewidth": 0,
             "ticks": ""
            },
            "colorscale": [
             [
              0,
              "#0d0887"
             ],
             [
              0.1111111111111111,
              "#46039f"
             ],
             [
              0.2222222222222222,
              "#7201a8"
             ],
             [
              0.3333333333333333,
              "#9c179e"
             ],
             [
              0.4444444444444444,
              "#bd3786"
             ],
             [
              0.5555555555555556,
              "#d8576b"
             ],
             [
              0.6666666666666666,
              "#ed7953"
             ],
             [
              0.7777777777777778,
              "#fb9f3a"
             ],
             [
              0.8888888888888888,
              "#fdca26"
             ],
             [
              1,
              "#f0f921"
             ]
            ],
            "type": "surface"
           }
          ],
          "table": [
           {
            "cells": {
             "fill": {
              "color": "#EBF0F8"
             },
             "line": {
              "color": "white"
             }
            },
            "header": {
             "fill": {
              "color": "#C8D4E3"
             },
             "line": {
              "color": "white"
             }
            },
            "type": "table"
           }
          ]
         },
         "layout": {
          "annotationdefaults": {
           "arrowcolor": "#2a3f5f",
           "arrowhead": 0,
           "arrowwidth": 1
          },
          "autotypenumbers": "strict",
          "coloraxis": {
           "colorbar": {
            "outlinewidth": 0,
            "ticks": ""
           }
          },
          "colorscale": {
           "diverging": [
            [
             0,
             "#8e0152"
            ],
            [
             0.1,
             "#c51b7d"
            ],
            [
             0.2,
             "#de77ae"
            ],
            [
             0.3,
             "#f1b6da"
            ],
            [
             0.4,
             "#fde0ef"
            ],
            [
             0.5,
             "#f7f7f7"
            ],
            [
             0.6,
             "#e6f5d0"
            ],
            [
             0.7,
             "#b8e186"
            ],
            [
             0.8,
             "#7fbc41"
            ],
            [
             0.9,
             "#4d9221"
            ],
            [
             1,
             "#276419"
            ]
           ],
           "sequential": [
            [
             0,
             "#0d0887"
            ],
            [
             0.1111111111111111,
             "#46039f"
            ],
            [
             0.2222222222222222,
             "#7201a8"
            ],
            [
             0.3333333333333333,
             "#9c179e"
            ],
            [
             0.4444444444444444,
             "#bd3786"
            ],
            [
             0.5555555555555556,
             "#d8576b"
            ],
            [
             0.6666666666666666,
             "#ed7953"
            ],
            [
             0.7777777777777778,
             "#fb9f3a"
            ],
            [
             0.8888888888888888,
             "#fdca26"
            ],
            [
             1,
             "#f0f921"
            ]
           ],
           "sequentialminus": [
            [
             0,
             "#0d0887"
            ],
            [
             0.1111111111111111,
             "#46039f"
            ],
            [
             0.2222222222222222,
             "#7201a8"
            ],
            [
             0.3333333333333333,
             "#9c179e"
            ],
            [
             0.4444444444444444,
             "#bd3786"
            ],
            [
             0.5555555555555556,
             "#d8576b"
            ],
            [
             0.6666666666666666,
             "#ed7953"
            ],
            [
             0.7777777777777778,
             "#fb9f3a"
            ],
            [
             0.8888888888888888,
             "#fdca26"
            ],
            [
             1,
             "#f0f921"
            ]
           ]
          },
          "colorway": [
           "#636efa",
           "#EF553B",
           "#00cc96",
           "#ab63fa",
           "#FFA15A",
           "#19d3f3",
           "#FF6692",
           "#B6E880",
           "#FF97FF",
           "#FECB52"
          ],
          "font": {
           "color": "#2a3f5f"
          },
          "geo": {
           "bgcolor": "white",
           "lakecolor": "white",
           "landcolor": "#E5ECF6",
           "showlakes": true,
           "showland": true,
           "subunitcolor": "white"
          },
          "hoverlabel": {
           "align": "left"
          },
          "hovermode": "closest",
          "mapbox": {
           "style": "light"
          },
          "paper_bgcolor": "white",
          "plot_bgcolor": "#E5ECF6",
          "polar": {
           "angularaxis": {
            "gridcolor": "white",
            "linecolor": "white",
            "ticks": ""
           },
           "bgcolor": "#E5ECF6",
           "radialaxis": {
            "gridcolor": "white",
            "linecolor": "white",
            "ticks": ""
           }
          },
          "scene": {
           "xaxis": {
            "backgroundcolor": "#E5ECF6",
            "gridcolor": "white",
            "gridwidth": 2,
            "linecolor": "white",
            "showbackground": true,
            "ticks": "",
            "zerolinecolor": "white"
           },
           "yaxis": {
            "backgroundcolor": "#E5ECF6",
            "gridcolor": "white",
            "gridwidth": 2,
            "linecolor": "white",
            "showbackground": true,
            "ticks": "",
            "zerolinecolor": "white"
           },
           "zaxis": {
            "backgroundcolor": "#E5ECF6",
            "gridcolor": "white",
            "gridwidth": 2,
            "linecolor": "white",
            "showbackground": true,
            "ticks": "",
            "zerolinecolor": "white"
           }
          },
          "shapedefaults": {
           "line": {
            "color": "#2a3f5f"
           }
          },
          "ternary": {
           "aaxis": {
            "gridcolor": "white",
            "linecolor": "white",
            "ticks": ""
           },
           "baxis": {
            "gridcolor": "white",
            "linecolor": "white",
            "ticks": ""
           },
           "bgcolor": "#E5ECF6",
           "caxis": {
            "gridcolor": "white",
            "linecolor": "white",
            "ticks": ""
           }
          },
          "title": {
           "x": 0.05
          },
          "xaxis": {
           "automargin": true,
           "gridcolor": "white",
           "linecolor": "white",
           "ticks": "",
           "title": {
            "standoff": 15
           },
           "zerolinecolor": "white",
           "zerolinewidth": 2
          },
          "yaxis": {
           "automargin": true,
           "gridcolor": "white",
           "linecolor": "white",
           "ticks": "",
           "title": {
            "standoff": 15
           },
           "zerolinecolor": "white",
           "zerolinewidth": 2
          }
         }
        },
        "title": {
         "font": {
          "color": "#4D5663"
         }
        },
        "xaxis": {
         "gridcolor": "#E1E5ED",
         "showgrid": true,
         "tickfont": {
          "color": "#4D5663"
         },
         "title": {
          "font": {
           "color": "#4D5663"
          },
          "text": ""
         },
         "zerolinecolor": "#E1E5ED"
        },
        "yaxis": {
         "gridcolor": "#E1E5ED",
         "showgrid": true,
         "tickfont": {
          "color": "#4D5663"
         },
         "title": {
          "font": {
           "color": "#4D5663"
          },
          "text": ""
         },
         "zerolinecolor": "#E1E5ED"
        }
       }
      },
      "text/html": [
       "<div>                            <div id=\"f05fa5a6-63b3-4184-bbaa-77e57aa89ee7\" class=\"plotly-graph-div\" style=\"height:525px; width:100%;\"></div>            <script type=\"text/javascript\">                require([\"plotly\"], function(Plotly) {                    window.PLOTLYENV=window.PLOTLYENV || {};\n",
       "                    window.PLOTLYENV.BASE_URL='https://plot.ly';                                    if (document.getElementById(\"f05fa5a6-63b3-4184-bbaa-77e57aa89ee7\")) {                    Plotly.newPlot(                        \"f05fa5a6-63b3-4184-bbaa-77e57aa89ee7\",                        [{\"marker\": {\"color\": [\"rgb(255, 153, 51)\", \"rgb(55, 128, 191)\", \"rgb(50, 171, 96)\", \"rgb(128, 0, 128)\", \"rgb(219, 64, 82)\", \"rgb(0, 128, 128)\", \"rgb(255, 255, 51)\", \"rgb(128, 128, 0)\", \"rgb(251, 128, 114)\", \"rgb(128, 177, 211)\"], \"line\": {\"width\": 1.3}, \"size\": [79, 82, 12, 72, 84, 67, 67, 65, 56, 79, 61, 50, 44, 48, 46, 48, 49, 90, 92, 65, 73, 55, 88, 51, 59, 92, 77, 59, 65, 56, 74, 77, 59, 69, 51, 86, 64, 52, 27, 87, 73, 64, 87, 47, 73, 75, 86, 112, 83, 77, 36, 54, 73, 52, 82, 83, 36, 80, 61, 66, 40, 68, 59, 68, 70, 68, 75, 67, 51, 74, 92, 74, 90, 94, 60, 81, 73, 46, 68, 84, 72, 68, 76, 59, 61, 107, 107, 75, 65, 70, 107, 94, 107, 40, 78, 84, 57, 71, 82, 99], \"symbol\": \"circle\"}, \"mode\": \"markers\", \"text\": \"\", \"type\": \"scatter\", \"x\": [-0.5480110889074034, -1.2920697014009046, -2.064720383032337, -0.6381949964348836, 0.010212759440209999, 0.794812443048594, -0.7278279442870339, 0.4489067925814845, 1.904784576609507, -1.3032659971088971, 0.11803057830902464, -1.5910540183384845, 0.4036629730575678, 0.9632264730942721, 1.5324411476637259, -0.04707130340337131, 0.11174868107368494, -1.3117900265057767, -1.3083957993452056, 0.696980809380999, 0.7592163244817444, 0.5250669680979622, -0.4449756900036982, -1.0014267626093265, -0.21335743445110616, -0.8514794630132676, 0.2749573360612918, -0.8733300478379218, 0.09463458411882031, 1.4455483762466403, 0.006188882128480812, -0.22631608313192741, -0.29524855487515117, 0.1812433420156424, 0.4615963474822817, -1.3250089684363293, -0.009448308083683389, -0.24835897398064555, 1.2246504102660027, 0.7647812090938544, 0.2923490017652167, 0.5484764320989512, 1.3636654624881206, -1.098554817005937, 0.05323209135417297, -0.8193664011445023, -0.9651881730205214, -0.7169235894795459, 0.07867172577891615, -0.1323856621361627, -0.7655784144767981, 0.9932616140585283, 0.5168384552391037, 1.7652722533284222, 1.8372546061828827, -1.593236705292418, -1.7351535385081214, 0.5235910464705479, -1.2678010298836502, -1.1620485478742044, 0.49783153002828556, -0.8724397517109367, 0.6049256246439829, 1.400962816411936, 0.8111886395962024, -1.3749913257690798, -0.5343381094480517, 0.5791641404328253, 0.8694270812021913, 0.6977237422345381, -0.7518777375440403, -1.2664205351763898, 0.06442315056883763, -0.2873984929929309, 0.0009839494928604283, 1.168592011704123, 0.6604253864052589, -0.29521148821910714, 1.045216265567895, -0.6515637069291157, -0.03289043947944938, 0.22881992210491614, -2.120961847320266, -0.1534383700165545, -1.1210869777078845, 0.9094502662877313, 0.07743574010108772, -0.7419719470944663, -1.2038987086444832, 0.14722990479865838, 0.9751250898869979, -0.6264743287129438, 0.7736042579232473, -0.5035091795841722, -1.0343753263730342, 0.5012182124006042, 0.03584316243864111, -0.5259243744479069, 0.15306289262164952, 1.7106987514004806], \"y\": [1.907683558388115, 0.4547584720364601, -0.4624177855774668, -3.651544791684352, -0.5678534781105319, 1.6427839907904405, -0.9619000332416442, -0.00397187462557156, -0.07994051727686378, -0.6910522585403166, -0.09450542139400352, -0.8779483001934726, -1.484377860124462, -0.06479965458310179, -1.0119838104547232, 1.0484315683481713, -1.704515782167066, 0.22219933855895088, 1.1715275094543638, -0.286046199843736, -0.18562188278474828, -0.5094303960311877, 1.2804878676027072, 1.0784034812612298, -0.15293803125447164, -0.4223642419037627, 0.14855090724344358, -0.31189985968039113, -0.9115283059275937, -0.7755292866323195, -0.42721244214615794, -2.388606862034661, -0.05382162402532776, -1.3473629289778324, 1.8397464184587116, 0.8736778624934495, -0.7310055025516222, 0.6958880162743549, 0.9187659655864716, 0.8376778170657083, 0.5396368728266294, 0.5422001050726935, -0.06139231471254688, -1.1021335608877891, -0.6007471372717097, 0.1924619434883858, -0.08930809569198228, -0.2978505269315022, 0.0005453669286284382, 0.08106810997695915, -0.3694016189559964, -1.0281232817295345, 0.30345560552391604, 0.5244077540972444, 2.0284534283011597, 1.048432684760225, 0.1064228659254715, 0.6622831438984041, 0.19685616235400402, 1.1511224188608322, -0.4206663845906972, -1.0846896902892262, 1.0364546676818382, 0.6307259022389663, 0.004641898709261438, -0.8605919026414243, 0.08398903166039261, -0.08238436718846175, 1.4354863201681674, -1.339983013618161, 0.020894590806696794, 0.6486539425584497, 1.6592374195822817, -0.45411333440482526, -0.514677111791003, 1.4378161001410212, 0.6543605480879594, -0.3723065659245629, 0.7259378993362399, 0.17622902362307077, -0.21499860688233133, 0.9541805171862572, -0.07743570059151514, 1.3080387115726428, -0.06024810521218019, -1.529908094039015, 0.7021112735494195, -0.9091588803591504, 0.870523121121309, 0.43847509793721606, -0.9516809883412036, -0.07897286417227212, 1.3010071278367414, -0.08017900203553485, 1.5367974033552878, -1.290113361643903, 0.677483027354299, -0.8592326527444683, 2.5979573364869557, -0.6669334806113064]}],                        {\"legend\": {\"bgcolor\": \"#F5F6F9\", \"font\": {\"color\": \"#4D5663\"}}, \"paper_bgcolor\": \"#F5F6F9\", \"plot_bgcolor\": \"#F5F6F9\", \"template\": {\"data\": {\"bar\": [{\"error_x\": {\"color\": \"#2a3f5f\"}, \"error_y\": {\"color\": \"#2a3f5f\"}, \"marker\": {\"line\": {\"color\": \"#E5ECF6\", \"width\": 0.5}}, \"type\": \"bar\"}], \"barpolar\": [{\"marker\": {\"line\": {\"color\": \"#E5ECF6\", \"width\": 0.5}}, \"type\": \"barpolar\"}], \"carpet\": [{\"aaxis\": {\"endlinecolor\": \"#2a3f5f\", \"gridcolor\": \"white\", \"linecolor\": \"white\", \"minorgridcolor\": \"white\", \"startlinecolor\": \"#2a3f5f\"}, \"baxis\": {\"endlinecolor\": \"#2a3f5f\", \"gridcolor\": \"white\", \"linecolor\": \"white\", \"minorgridcolor\": \"white\", \"startlinecolor\": \"#2a3f5f\"}, \"type\": \"carpet\"}], \"choropleth\": [{\"colorbar\": {\"outlinewidth\": 0, \"ticks\": \"\"}, \"type\": \"choropleth\"}], \"contour\": [{\"colorbar\": {\"outlinewidth\": 0, \"ticks\": \"\"}, \"colorscale\": [[0.0, \"#0d0887\"], [0.1111111111111111, \"#46039f\"], [0.2222222222222222, \"#7201a8\"], [0.3333333333333333, \"#9c179e\"], [0.4444444444444444, \"#bd3786\"], [0.5555555555555556, \"#d8576b\"], [0.6666666666666666, \"#ed7953\"], [0.7777777777777778, \"#fb9f3a\"], [0.8888888888888888, \"#fdca26\"], [1.0, \"#f0f921\"]], \"type\": \"contour\"}], \"contourcarpet\": [{\"colorbar\": {\"outlinewidth\": 0, \"ticks\": \"\"}, \"type\": \"contourcarpet\"}], \"heatmap\": [{\"colorbar\": {\"outlinewidth\": 0, \"ticks\": \"\"}, \"colorscale\": [[0.0, \"#0d0887\"], [0.1111111111111111, \"#46039f\"], [0.2222222222222222, \"#7201a8\"], [0.3333333333333333, \"#9c179e\"], [0.4444444444444444, \"#bd3786\"], [0.5555555555555556, \"#d8576b\"], [0.6666666666666666, \"#ed7953\"], [0.7777777777777778, \"#fb9f3a\"], [0.8888888888888888, \"#fdca26\"], [1.0, \"#f0f921\"]], \"type\": \"heatmap\"}], \"heatmapgl\": [{\"colorbar\": {\"outlinewidth\": 0, \"ticks\": \"\"}, \"colorscale\": [[0.0, \"#0d0887\"], [0.1111111111111111, \"#46039f\"], [0.2222222222222222, \"#7201a8\"], [0.3333333333333333, \"#9c179e\"], [0.4444444444444444, \"#bd3786\"], [0.5555555555555556, \"#d8576b\"], [0.6666666666666666, \"#ed7953\"], [0.7777777777777778, \"#fb9f3a\"], [0.8888888888888888, \"#fdca26\"], [1.0, \"#f0f921\"]], \"type\": \"heatmapgl\"}], \"histogram\": [{\"marker\": {\"colorbar\": {\"outlinewidth\": 0, \"ticks\": \"\"}}, \"type\": \"histogram\"}], \"histogram2d\": [{\"colorbar\": {\"outlinewidth\": 0, \"ticks\": \"\"}, \"colorscale\": [[0.0, \"#0d0887\"], [0.1111111111111111, \"#46039f\"], [0.2222222222222222, \"#7201a8\"], [0.3333333333333333, \"#9c179e\"], [0.4444444444444444, \"#bd3786\"], [0.5555555555555556, \"#d8576b\"], [0.6666666666666666, \"#ed7953\"], [0.7777777777777778, \"#fb9f3a\"], [0.8888888888888888, \"#fdca26\"], [1.0, \"#f0f921\"]], \"type\": \"histogram2d\"}], \"histogram2dcontour\": [{\"colorbar\": {\"outlinewidth\": 0, \"ticks\": \"\"}, \"colorscale\": [[0.0, \"#0d0887\"], [0.1111111111111111, \"#46039f\"], [0.2222222222222222, \"#7201a8\"], [0.3333333333333333, \"#9c179e\"], [0.4444444444444444, \"#bd3786\"], [0.5555555555555556, \"#d8576b\"], [0.6666666666666666, \"#ed7953\"], [0.7777777777777778, \"#fb9f3a\"], [0.8888888888888888, \"#fdca26\"], [1.0, \"#f0f921\"]], \"type\": \"histogram2dcontour\"}], \"mesh3d\": [{\"colorbar\": {\"outlinewidth\": 0, \"ticks\": \"\"}, \"type\": \"mesh3d\"}], \"parcoords\": [{\"line\": {\"colorbar\": {\"outlinewidth\": 0, \"ticks\": \"\"}}, \"type\": \"parcoords\"}], \"pie\": [{\"automargin\": true, \"type\": \"pie\"}], \"scatter\": [{\"marker\": {\"colorbar\": {\"outlinewidth\": 0, \"ticks\": \"\"}}, \"type\": \"scatter\"}], \"scatter3d\": [{\"line\": {\"colorbar\": {\"outlinewidth\": 0, \"ticks\": \"\"}}, \"marker\": {\"colorbar\": {\"outlinewidth\": 0, \"ticks\": \"\"}}, \"type\": \"scatter3d\"}], \"scattercarpet\": [{\"marker\": {\"colorbar\": {\"outlinewidth\": 0, \"ticks\": \"\"}}, \"type\": \"scattercarpet\"}], \"scattergeo\": [{\"marker\": {\"colorbar\": {\"outlinewidth\": 0, \"ticks\": \"\"}}, \"type\": \"scattergeo\"}], \"scattergl\": [{\"marker\": {\"colorbar\": {\"outlinewidth\": 0, \"ticks\": \"\"}}, \"type\": \"scattergl\"}], \"scattermapbox\": [{\"marker\": {\"colorbar\": {\"outlinewidth\": 0, \"ticks\": \"\"}}, \"type\": \"scattermapbox\"}], \"scatterpolar\": [{\"marker\": {\"colorbar\": {\"outlinewidth\": 0, \"ticks\": \"\"}}, \"type\": \"scatterpolar\"}], \"scatterpolargl\": [{\"marker\": {\"colorbar\": {\"outlinewidth\": 0, \"ticks\": \"\"}}, \"type\": \"scatterpolargl\"}], \"scatterternary\": [{\"marker\": {\"colorbar\": {\"outlinewidth\": 0, \"ticks\": \"\"}}, \"type\": \"scatterternary\"}], \"surface\": [{\"colorbar\": {\"outlinewidth\": 0, \"ticks\": \"\"}, \"colorscale\": [[0.0, \"#0d0887\"], [0.1111111111111111, \"#46039f\"], [0.2222222222222222, \"#7201a8\"], [0.3333333333333333, \"#9c179e\"], [0.4444444444444444, \"#bd3786\"], [0.5555555555555556, \"#d8576b\"], [0.6666666666666666, \"#ed7953\"], [0.7777777777777778, \"#fb9f3a\"], [0.8888888888888888, \"#fdca26\"], [1.0, \"#f0f921\"]], \"type\": \"surface\"}], \"table\": [{\"cells\": {\"fill\": {\"color\": \"#EBF0F8\"}, \"line\": {\"color\": \"white\"}}, \"header\": {\"fill\": {\"color\": \"#C8D4E3\"}, \"line\": {\"color\": \"white\"}}, \"type\": \"table\"}]}, \"layout\": {\"annotationdefaults\": {\"arrowcolor\": \"#2a3f5f\", \"arrowhead\": 0, \"arrowwidth\": 1}, \"autotypenumbers\": \"strict\", \"coloraxis\": {\"colorbar\": {\"outlinewidth\": 0, \"ticks\": \"\"}}, \"colorscale\": {\"diverging\": [[0, \"#8e0152\"], [0.1, \"#c51b7d\"], [0.2, \"#de77ae\"], [0.3, \"#f1b6da\"], [0.4, \"#fde0ef\"], [0.5, \"#f7f7f7\"], [0.6, \"#e6f5d0\"], [0.7, \"#b8e186\"], [0.8, \"#7fbc41\"], [0.9, \"#4d9221\"], [1, \"#276419\"]], \"sequential\": [[0.0, \"#0d0887\"], [0.1111111111111111, \"#46039f\"], [0.2222222222222222, \"#7201a8\"], [0.3333333333333333, \"#9c179e\"], [0.4444444444444444, \"#bd3786\"], [0.5555555555555556, \"#d8576b\"], [0.6666666666666666, \"#ed7953\"], [0.7777777777777778, \"#fb9f3a\"], [0.8888888888888888, \"#fdca26\"], [1.0, \"#f0f921\"]], \"sequentialminus\": [[0.0, \"#0d0887\"], [0.1111111111111111, \"#46039f\"], [0.2222222222222222, \"#7201a8\"], [0.3333333333333333, \"#9c179e\"], [0.4444444444444444, \"#bd3786\"], [0.5555555555555556, \"#d8576b\"], [0.6666666666666666, \"#ed7953\"], [0.7777777777777778, \"#fb9f3a\"], [0.8888888888888888, \"#fdca26\"], [1.0, \"#f0f921\"]]}, \"colorway\": [\"#636efa\", \"#EF553B\", \"#00cc96\", \"#ab63fa\", \"#FFA15A\", \"#19d3f3\", \"#FF6692\", \"#B6E880\", \"#FF97FF\", \"#FECB52\"], \"font\": {\"color\": \"#2a3f5f\"}, \"geo\": {\"bgcolor\": \"white\", \"lakecolor\": \"white\", \"landcolor\": \"#E5ECF6\", \"showlakes\": true, \"showland\": true, \"subunitcolor\": \"white\"}, \"hoverlabel\": {\"align\": \"left\"}, \"hovermode\": \"closest\", \"mapbox\": {\"style\": \"light\"}, \"paper_bgcolor\": \"white\", \"plot_bgcolor\": \"#E5ECF6\", \"polar\": {\"angularaxis\": {\"gridcolor\": \"white\", \"linecolor\": \"white\", \"ticks\": \"\"}, \"bgcolor\": \"#E5ECF6\", \"radialaxis\": {\"gridcolor\": \"white\", \"linecolor\": \"white\", \"ticks\": \"\"}}, \"scene\": {\"xaxis\": {\"backgroundcolor\": \"#E5ECF6\", \"gridcolor\": \"white\", \"gridwidth\": 2, \"linecolor\": \"white\", \"showbackground\": true, \"ticks\": \"\", \"zerolinecolor\": \"white\"}, \"yaxis\": {\"backgroundcolor\": \"#E5ECF6\", \"gridcolor\": \"white\", \"gridwidth\": 2, \"linecolor\": \"white\", \"showbackground\": true, \"ticks\": \"\", \"zerolinecolor\": \"white\"}, \"zaxis\": {\"backgroundcolor\": \"#E5ECF6\", \"gridcolor\": \"white\", \"gridwidth\": 2, \"linecolor\": \"white\", \"showbackground\": true, \"ticks\": \"\", \"zerolinecolor\": \"white\"}}, \"shapedefaults\": {\"line\": {\"color\": \"#2a3f5f\"}}, \"ternary\": {\"aaxis\": {\"gridcolor\": \"white\", \"linecolor\": \"white\", \"ticks\": \"\"}, \"baxis\": {\"gridcolor\": \"white\", \"linecolor\": \"white\", \"ticks\": \"\"}, \"bgcolor\": \"#E5ECF6\", \"caxis\": {\"gridcolor\": \"white\", \"linecolor\": \"white\", \"ticks\": \"\"}}, \"title\": {\"x\": 0.05}, \"xaxis\": {\"automargin\": true, \"gridcolor\": \"white\", \"linecolor\": \"white\", \"ticks\": \"\", \"title\": {\"standoff\": 15}, \"zerolinecolor\": \"white\", \"zerolinewidth\": 2}, \"yaxis\": {\"automargin\": true, \"gridcolor\": \"white\", \"linecolor\": \"white\", \"ticks\": \"\", \"title\": {\"standoff\": 15}, \"zerolinecolor\": \"white\", \"zerolinewidth\": 2}}}, \"title\": {\"font\": {\"color\": \"#4D5663\"}}, \"xaxis\": {\"gridcolor\": \"#E1E5ED\", \"showgrid\": true, \"tickfont\": {\"color\": \"#4D5663\"}, \"title\": {\"font\": {\"color\": \"#4D5663\"}, \"text\": \"\"}, \"zerolinecolor\": \"#E1E5ED\"}, \"yaxis\": {\"gridcolor\": \"#E1E5ED\", \"showgrid\": true, \"tickfont\": {\"color\": \"#4D5663\"}, \"title\": {\"font\": {\"color\": \"#4D5663\"}, \"text\": \"\"}, \"zerolinecolor\": \"#E1E5ED\"}},                        {\"showLink\": true, \"linkText\": \"Export to plot.ly\", \"plotlyServerURL\": \"https://plot.ly\", \"responsive\": true}                    ).then(function(){\n",
       "                            \n",
       "var gd = document.getElementById('f05fa5a6-63b3-4184-bbaa-77e57aa89ee7');\n",
       "var x = new MutationObserver(function (mutations, observer) {{\n",
       "        var display = window.getComputedStyle(gd).display;\n",
       "        if (!display || display === 'none') {{\n",
       "            console.log([gd, 'removed!']);\n",
       "            Plotly.purge(gd);\n",
       "            observer.disconnect();\n",
       "        }}\n",
       "}});\n",
       "\n",
       "// Listen for the removal of the full notebook cells\n",
       "var notebookContainer = gd.closest('#notebook-container');\n",
       "if (notebookContainer) {{\n",
       "    x.observe(notebookContainer, {childList: true});\n",
       "}}\n",
       "\n",
       "// Listen for the clearing of the current output cell\n",
       "var outputEl = gd.closest('.output');\n",
       "if (outputEl) {{\n",
       "    x.observe(outputEl, {childList: true});\n",
       "}}\n",
       "\n",
       "                        })                };                });            </script>        </div>"
      ]
     },
     "metadata": {},
     "output_type": "display_data"
    }
   ],
   "source": [
    "df.iplot(kind ='bubble', x = 'A', y='B',size='C')"
   ]
  },
  {
   "cell_type": "code",
   "execution_count": 60,
   "metadata": {},
   "outputs": [
    {
     "data": {
      "application/vnd.plotly.v1+json": {
       "config": {
        "linkText": "Export to plot.ly",
        "plotlyServerURL": "https://plot.ly",
        "showLink": true
       },
       "data": [
        {
         "histfunc": "count",
         "histnorm": "",
         "marker": {
          "color": "rgba(255, 153, 51, 1.0)",
          "line": {
           "color": "#4D5663",
           "width": 1.3
          }
         },
         "name": "A",
         "nbinsx": 10,
         "opacity": 0.8,
         "orientation": "v",
         "type": "histogram",
         "x": [
          -0.5480110889074034,
          -1.2920697014009046,
          -2.064720383032337,
          -0.6381949964348836,
          0.010212759440209999,
          0.794812443048594,
          -0.7278279442870339,
          0.4489067925814845,
          1.904784576609507,
          -1.3032659971088971,
          0.11803057830902464,
          -1.5910540183384845,
          0.4036629730575678,
          0.9632264730942721,
          1.5324411476637259,
          -0.04707130340337131,
          0.11174868107368494,
          -1.3117900265057767,
          -1.3083957993452056,
          0.696980809380999,
          0.7592163244817444,
          0.5250669680979622,
          -0.4449756900036982,
          -1.0014267626093265,
          -0.21335743445110616,
          -0.8514794630132676,
          0.2749573360612918,
          -0.8733300478379218,
          0.09463458411882031,
          1.4455483762466403,
          0.006188882128480812,
          -0.22631608313192741,
          -0.29524855487515117,
          0.1812433420156424,
          0.4615963474822817,
          -1.3250089684363293,
          -0.009448308083683389,
          -0.24835897398064555,
          1.2246504102660027,
          0.7647812090938544,
          0.2923490017652167,
          0.5484764320989512,
          1.3636654624881206,
          -1.098554817005937,
          0.05323209135417297,
          -0.8193664011445023,
          -0.9651881730205214,
          -0.7169235894795459,
          0.07867172577891615,
          -0.1323856621361627,
          -0.7655784144767981,
          0.9932616140585283,
          0.5168384552391037,
          1.7652722533284222,
          1.8372546061828827,
          -1.593236705292418,
          -1.7351535385081214,
          0.5235910464705479,
          -1.2678010298836502,
          -1.1620485478742044,
          0.49783153002828556,
          -0.8724397517109367,
          0.6049256246439829,
          1.400962816411936,
          0.8111886395962024,
          -1.3749913257690798,
          -0.5343381094480517,
          0.5791641404328253,
          0.8694270812021913,
          0.6977237422345381,
          -0.7518777375440403,
          -1.2664205351763898,
          0.06442315056883763,
          -0.2873984929929309,
          0.0009839494928604283,
          1.168592011704123,
          0.6604253864052589,
          -0.29521148821910714,
          1.045216265567895,
          -0.6515637069291157,
          -0.03289043947944938,
          0.22881992210491614,
          -2.120961847320266,
          -0.1534383700165545,
          -1.1210869777078845,
          0.9094502662877313,
          0.07743574010108772,
          -0.7419719470944663,
          -1.2038987086444832,
          0.14722990479865838,
          0.9751250898869979,
          -0.6264743287129438,
          0.7736042579232473,
          -0.5035091795841722,
          -1.0343753263730342,
          0.5012182124006042,
          0.03584316243864111,
          -0.5259243744479069,
          0.15306289262164952,
          1.7106987514004806
         ],
         "xaxis": "x",
         "yaxis": "y"
        },
        {
         "line": {
          "color": "rgba(128, 128, 128, 1.0)",
          "dash": "solid",
          "shape": "linear",
          "width": 1.3
         },
         "marker": {
          "size": 2,
          "symbol": "circle"
         },
         "mode": "markers",
         "name": "A",
         "text": "",
         "type": "scatter",
         "x": [
          1.907683558388115,
          0.4547584720364601,
          -0.4624177855774668,
          -3.651544791684352,
          -0.5678534781105319,
          1.6427839907904405,
          -0.9619000332416442,
          -0.00397187462557156,
          -0.07994051727686378,
          -0.6910522585403166,
          -0.09450542139400352,
          -0.8779483001934726,
          -1.484377860124462,
          -0.06479965458310179,
          -1.0119838104547232,
          1.0484315683481713,
          -1.704515782167066,
          0.22219933855895088,
          1.1715275094543638,
          -0.286046199843736,
          -0.18562188278474828,
          -0.5094303960311877,
          1.2804878676027072,
          1.0784034812612298,
          -0.15293803125447164,
          -0.4223642419037627,
          0.14855090724344358,
          -0.31189985968039113,
          -0.9115283059275937,
          -0.7755292866323195,
          -0.42721244214615794,
          -2.388606862034661,
          -0.05382162402532776,
          -1.3473629289778324,
          1.8397464184587116,
          0.8736778624934495,
          -0.7310055025516222,
          0.6958880162743549,
          0.9187659655864716,
          0.8376778170657083,
          0.5396368728266294,
          0.5422001050726935,
          -0.06139231471254688,
          -1.1021335608877891,
          -0.6007471372717097,
          0.1924619434883858,
          -0.08930809569198228,
          -0.2978505269315022,
          0.0005453669286284382,
          0.08106810997695915,
          -0.3694016189559964,
          -1.0281232817295345,
          0.30345560552391604,
          0.5244077540972444,
          2.0284534283011597,
          1.048432684760225,
          0.1064228659254715,
          0.6622831438984041,
          0.19685616235400402,
          1.1511224188608322,
          -0.4206663845906972,
          -1.0846896902892262,
          1.0364546676818382,
          0.6307259022389663,
          0.004641898709261438,
          -0.8605919026414243,
          0.08398903166039261,
          -0.08238436718846175,
          1.4354863201681674,
          -1.339983013618161,
          0.020894590806696794,
          0.6486539425584497,
          1.6592374195822817,
          -0.45411333440482526,
          -0.514677111791003,
          1.4378161001410212,
          0.6543605480879594,
          -0.3723065659245629,
          0.7259378993362399,
          0.17622902362307077,
          -0.21499860688233133,
          0.9541805171862572,
          -0.07743570059151514,
          1.3080387115726428,
          -0.06024810521218019,
          -1.529908094039015,
          0.7021112735494195,
          -0.9091588803591504,
          0.870523121121309,
          0.43847509793721606,
          -0.9516809883412036,
          -0.07897286417227212,
          1.3010071278367414,
          -0.08017900203553485,
          1.5367974033552878,
          -1.290113361643903,
          0.677483027354299,
          -0.8592326527444683,
          2.5979573364869557,
          -0.6669334806113064
         ],
         "xaxis": "x2",
         "y": [
          -0.5480110889074034,
          -1.2920697014009046,
          -2.064720383032337,
          -0.6381949964348836,
          0.010212759440209999,
          0.794812443048594,
          -0.7278279442870339,
          0.4489067925814845,
          1.904784576609507,
          -1.3032659971088971,
          0.11803057830902464,
          -1.5910540183384845,
          0.4036629730575678,
          0.9632264730942721,
          1.5324411476637259,
          -0.04707130340337131,
          0.11174868107368494,
          -1.3117900265057767,
          -1.3083957993452056,
          0.696980809380999,
          0.7592163244817444,
          0.5250669680979622,
          -0.4449756900036982,
          -1.0014267626093265,
          -0.21335743445110616,
          -0.8514794630132676,
          0.2749573360612918,
          -0.8733300478379218,
          0.09463458411882031,
          1.4455483762466403,
          0.006188882128480812,
          -0.22631608313192741,
          -0.29524855487515117,
          0.1812433420156424,
          0.4615963474822817,
          -1.3250089684363293,
          -0.009448308083683389,
          -0.24835897398064555,
          1.2246504102660027,
          0.7647812090938544,
          0.2923490017652167,
          0.5484764320989512,
          1.3636654624881206,
          -1.098554817005937,
          0.05323209135417297,
          -0.8193664011445023,
          -0.9651881730205214,
          -0.7169235894795459,
          0.07867172577891615,
          -0.1323856621361627,
          -0.7655784144767981,
          0.9932616140585283,
          0.5168384552391037,
          1.7652722533284222,
          1.8372546061828827,
          -1.593236705292418,
          -1.7351535385081214,
          0.5235910464705479,
          -1.2678010298836502,
          -1.1620485478742044,
          0.49783153002828556,
          -0.8724397517109367,
          0.6049256246439829,
          1.400962816411936,
          0.8111886395962024,
          -1.3749913257690798,
          -0.5343381094480517,
          0.5791641404328253,
          0.8694270812021913,
          0.6977237422345381,
          -0.7518777375440403,
          -1.2664205351763898,
          0.06442315056883763,
          -0.2873984929929309,
          0.0009839494928604283,
          1.168592011704123,
          0.6604253864052589,
          -0.29521148821910714,
          1.045216265567895,
          -0.6515637069291157,
          -0.03289043947944938,
          0.22881992210491614,
          -2.120961847320266,
          -0.1534383700165545,
          -1.1210869777078845,
          0.9094502662877313,
          0.07743574010108772,
          -0.7419719470944663,
          -1.2038987086444832,
          0.14722990479865838,
          0.9751250898869979,
          -0.6264743287129438,
          0.7736042579232473,
          -0.5035091795841722,
          -1.0343753263730342,
          0.5012182124006042,
          0.03584316243864111,
          -0.5259243744479069,
          0.15306289262164952,
          1.7106987514004806
         ],
         "yaxis": "y2"
        },
        {
         "line": {
          "color": "rgba(128, 128, 128, 1.0)",
          "dash": "solid",
          "shape": "linear",
          "width": 1.3
         },
         "marker": {
          "size": 2,
          "symbol": "circle"
         },
         "mode": "markers",
         "name": "A",
         "text": "",
         "type": "scatter",
         "x": [
          0.48770381939872043,
          0.6337244646989464,
          -3.1557932704130356,
          0.13277998013457565,
          0.7385655314420786,
          -0.17177067756252173,
          -0.1372915094467543,
          -0.2521100174920825,
          -0.7774859643586567,
          0.4888304720428742,
          -0.46697233675600003,
          -1.0819972685815615,
          -1.3812411940185036,
          -1.2088517545524282,
          -1.2972061988940717,
          -1.195413296751463,
          -1.147470324560883,
          1.0902866948145171,
          1.1908114172648354,
          -0.2588208225848617,
          0.16487657420726892,
          -0.78826656830748,
          1.0000343713868642,
          -1.0091815010874154,
          -0.5680773691675439,
          1.1810661210830304,
          0.38954133539864827,
          -0.613964571092336,
          -0.2565088361673165,
          -0.7692082849354274,
          0.19774049769912005,
          0.39711873710136963,
          -0.5873094150104916,
          -0.02252466688228671,
          -0.9960725147726376,
          0.8836696924678572,
          -0.3196822783432801,
          -0.9598081652904585,
          -2.3185673570155316,
          0.9199286678318811,
          0.18124349088991892,
          -0.31241113338341514,
          0.931766188329038,
          -1.2454367421348072,
          0.17716748816653816,
          0.29627078620326086,
          0.8886308256683672,
          2.246831034283235,
          0.6974303836348403,
          0.35598131814521045,
          -1.823543353599711,
          -0.8486094691505909,
          0.16042258280947191,
          -0.9794789734321424,
          0.6502538943693912,
          0.6859471110716626,
          -1.8397195416762484,
          0.5544046760632084,
          -0.5061463738217713,
          -0.19623271406017556,
          -1.5963826590813122,
          -0.09770348156614135,
          -0.5869174731331128,
          -0.12032149904486354,
          0.00906488876886795,
          -0.07751737400332452,
          0.2942284421113961,
          -0.16243607623161602,
          -1.001587800308482,
          0.1963253087192484,
          1.206464312604639,
          0.2187961464973971,
          1.0838671968192073,
          1.2959649012162449,
          -0.5544573556215677,
          0.6128769748117964,
          0.1711954142874357,
          -1.3040069094496094,
          -0.09275279405669301,
          0.7398849781895165,
          0.09292219747002482,
          -0.10762784448538183,
          0.3055312720579075,
          -0.6089474399581859,
          -0.46820295927356165,
          1.9897358749891223,
          1.9776531201514929,
          0.26161052895794557,
          -0.2684909093050987,
          0.0001358910229118881,
          2.007654473522146,
          1.2945754067521074,
          1.9892544961413128,
          -1.6358499033444638,
          0.4549748462649961,
          0.735184341285063,
          -0.6712417072387005,
          0.0816993806422588,
          0.646955250762791,
          1.590420413439015
         ],
         "xaxis": "x3",
         "y": [
          -0.5480110889074034,
          -1.2920697014009046,
          -2.064720383032337,
          -0.6381949964348836,
          0.010212759440209999,
          0.794812443048594,
          -0.7278279442870339,
          0.4489067925814845,
          1.904784576609507,
          -1.3032659971088971,
          0.11803057830902464,
          -1.5910540183384845,
          0.4036629730575678,
          0.9632264730942721,
          1.5324411476637259,
          -0.04707130340337131,
          0.11174868107368494,
          -1.3117900265057767,
          -1.3083957993452056,
          0.696980809380999,
          0.7592163244817444,
          0.5250669680979622,
          -0.4449756900036982,
          -1.0014267626093265,
          -0.21335743445110616,
          -0.8514794630132676,
          0.2749573360612918,
          -0.8733300478379218,
          0.09463458411882031,
          1.4455483762466403,
          0.006188882128480812,
          -0.22631608313192741,
          -0.29524855487515117,
          0.1812433420156424,
          0.4615963474822817,
          -1.3250089684363293,
          -0.009448308083683389,
          -0.24835897398064555,
          1.2246504102660027,
          0.7647812090938544,
          0.2923490017652167,
          0.5484764320989512,
          1.3636654624881206,
          -1.098554817005937,
          0.05323209135417297,
          -0.8193664011445023,
          -0.9651881730205214,
          -0.7169235894795459,
          0.07867172577891615,
          -0.1323856621361627,
          -0.7655784144767981,
          0.9932616140585283,
          0.5168384552391037,
          1.7652722533284222,
          1.8372546061828827,
          -1.593236705292418,
          -1.7351535385081214,
          0.5235910464705479,
          -1.2678010298836502,
          -1.1620485478742044,
          0.49783153002828556,
          -0.8724397517109367,
          0.6049256246439829,
          1.400962816411936,
          0.8111886395962024,
          -1.3749913257690798,
          -0.5343381094480517,
          0.5791641404328253,
          0.8694270812021913,
          0.6977237422345381,
          -0.7518777375440403,
          -1.2664205351763898,
          0.06442315056883763,
          -0.2873984929929309,
          0.0009839494928604283,
          1.168592011704123,
          0.6604253864052589,
          -0.29521148821910714,
          1.045216265567895,
          -0.6515637069291157,
          -0.03289043947944938,
          0.22881992210491614,
          -2.120961847320266,
          -0.1534383700165545,
          -1.1210869777078845,
          0.9094502662877313,
          0.07743574010108772,
          -0.7419719470944663,
          -1.2038987086444832,
          0.14722990479865838,
          0.9751250898869979,
          -0.6264743287129438,
          0.7736042579232473,
          -0.5035091795841722,
          -1.0343753263730342,
          0.5012182124006042,
          0.03584316243864111,
          -0.5259243744479069,
          0.15306289262164952,
          1.7106987514004806
         ],
         "yaxis": "y3"
        },
        {
         "line": {
          "color": "rgba(128, 128, 128, 1.0)",
          "dash": "solid",
          "shape": "linear",
          "width": 1.3
         },
         "marker": {
          "size": 2,
          "symbol": "circle"
         },
         "mode": "markers",
         "name": "A",
         "text": "",
         "type": "scatter",
         "x": [
          -0.22718918537328062,
          1.2204972813783754,
          -0.511127342703104,
          -0.919995696143732,
          1.4876569281486498,
          0.5261798293815041,
          1.4404686230606762,
          0.012310079690618186,
          -1.4169393918652915,
          0.8430806027133654,
          0.8060404508229926,
          0.09134447928922484,
          -0.4391707391338882,
          -1.136109425411929,
          -0.9558725097488121,
          -0.43903936073790056,
          0.6400684969235082,
          -2.8926497540659173,
          1.2862065354897847,
          0.5363547692785966,
          0.027208726919927866,
          -0.6053552258802258,
          1.2369376797088558,
          -0.31288524593048567,
          -1.2768501683975995,
          0.7982664454690171,
          -1.7643618109254788,
          -0.811118605847453,
          1.2951679229500286,
          -0.5854378238328967,
          0.47684752071529896,
          0.9688847295206476,
          0.7712204269970987,
          0.8636594318791391,
          2.1167005179164633,
          -0.9844880853538838,
          1.2052110702155194,
          0.4144965537564156,
          1.0314589125244964,
          -1.2820386325245927,
          0.5374622995845217,
          -0.4520476062643819,
          1.2807767910756398,
          1.3970913949970318,
          0.554529182743638,
          -1.4245469028483584,
          2.432163068242666,
          0.34647454582703535,
          -1.8478283792744057,
          -0.7064116298140908,
          1.859026792963264,
          -0.11696447813985389,
          0.9735706653895554,
          0.020069778038250087,
          -0.2732078870868064,
          -1.625893501364898,
          -0.518832871958972,
          0.7570499806819221,
          -1.301647411726088,
          1.5233125926959512,
          0.910044161471426,
          -0.33904257065357996,
          0.25474211578164113,
          1.1624261743592201,
          -0.7457019139210698,
          -1.6968774589933917,
          1.760395656633342,
          1.7512558019532765,
          -1.9529937894171276,
          0.8706668134873103,
          2.0085760859346675,
          -1.2514649889890979,
          -1.6069294260493898,
          -0.6751228541249964,
          1.1438933704419452,
          -0.21981377357202245,
          0.4179370726020009,
          1.0037769259192542,
          -0.06225916587349727,
          -1.0071835665242848,
          0.8860296914099619,
          -1.4572370310223877,
          1.8521215110090443,
          -0.27766424372092186,
          1.2084828291118057,
          0.19077267955785543,
          -0.15568801418483896,
          0.17864014027450703,
          -0.6130945856449158,
          -0.1287209969592928,
          -0.7899352961622775,
          -1.9330750344297394,
          2.0732887918319127,
          -0.7619479677020401,
          1.128771926760258,
          -0.7709363883695314,
          0.28608363017405264,
          -2.672688771194465,
          1.5523201724331546,
          2.011955348554818
         ],
         "xaxis": "x4",
         "y": [
          -0.5480110889074034,
          -1.2920697014009046,
          -2.064720383032337,
          -0.6381949964348836,
          0.010212759440209999,
          0.794812443048594,
          -0.7278279442870339,
          0.4489067925814845,
          1.904784576609507,
          -1.3032659971088971,
          0.11803057830902464,
          -1.5910540183384845,
          0.4036629730575678,
          0.9632264730942721,
          1.5324411476637259,
          -0.04707130340337131,
          0.11174868107368494,
          -1.3117900265057767,
          -1.3083957993452056,
          0.696980809380999,
          0.7592163244817444,
          0.5250669680979622,
          -0.4449756900036982,
          -1.0014267626093265,
          -0.21335743445110616,
          -0.8514794630132676,
          0.2749573360612918,
          -0.8733300478379218,
          0.09463458411882031,
          1.4455483762466403,
          0.006188882128480812,
          -0.22631608313192741,
          -0.29524855487515117,
          0.1812433420156424,
          0.4615963474822817,
          -1.3250089684363293,
          -0.009448308083683389,
          -0.24835897398064555,
          1.2246504102660027,
          0.7647812090938544,
          0.2923490017652167,
          0.5484764320989512,
          1.3636654624881206,
          -1.098554817005937,
          0.05323209135417297,
          -0.8193664011445023,
          -0.9651881730205214,
          -0.7169235894795459,
          0.07867172577891615,
          -0.1323856621361627,
          -0.7655784144767981,
          0.9932616140585283,
          0.5168384552391037,
          1.7652722533284222,
          1.8372546061828827,
          -1.593236705292418,
          -1.7351535385081214,
          0.5235910464705479,
          -1.2678010298836502,
          -1.1620485478742044,
          0.49783153002828556,
          -0.8724397517109367,
          0.6049256246439829,
          1.400962816411936,
          0.8111886395962024,
          -1.3749913257690798,
          -0.5343381094480517,
          0.5791641404328253,
          0.8694270812021913,
          0.6977237422345381,
          -0.7518777375440403,
          -1.2664205351763898,
          0.06442315056883763,
          -0.2873984929929309,
          0.0009839494928604283,
          1.168592011704123,
          0.6604253864052589,
          -0.29521148821910714,
          1.045216265567895,
          -0.6515637069291157,
          -0.03289043947944938,
          0.22881992210491614,
          -2.120961847320266,
          -0.1534383700165545,
          -1.1210869777078845,
          0.9094502662877313,
          0.07743574010108772,
          -0.7419719470944663,
          -1.2038987086444832,
          0.14722990479865838,
          0.9751250898869979,
          -0.6264743287129438,
          0.7736042579232473,
          -0.5035091795841722,
          -1.0343753263730342,
          0.5012182124006042,
          0.03584316243864111,
          -0.5259243744479069,
          0.15306289262164952,
          1.7106987514004806
         ],
         "yaxis": "y4"
        },
        {
         "line": {
          "color": "rgba(128, 128, 128, 1.0)",
          "dash": "solid",
          "shape": "linear",
          "width": 1.3
         },
         "marker": {
          "size": 2,
          "symbol": "circle"
         },
         "mode": "markers",
         "name": "B",
         "text": "",
         "type": "scatter",
         "x": [
          -0.5480110889074034,
          -1.2920697014009046,
          -2.064720383032337,
          -0.6381949964348836,
          0.010212759440209999,
          0.794812443048594,
          -0.7278279442870339,
          0.4489067925814845,
          1.904784576609507,
          -1.3032659971088971,
          0.11803057830902464,
          -1.5910540183384845,
          0.4036629730575678,
          0.9632264730942721,
          1.5324411476637259,
          -0.04707130340337131,
          0.11174868107368494,
          -1.3117900265057767,
          -1.3083957993452056,
          0.696980809380999,
          0.7592163244817444,
          0.5250669680979622,
          -0.4449756900036982,
          -1.0014267626093265,
          -0.21335743445110616,
          -0.8514794630132676,
          0.2749573360612918,
          -0.8733300478379218,
          0.09463458411882031,
          1.4455483762466403,
          0.006188882128480812,
          -0.22631608313192741,
          -0.29524855487515117,
          0.1812433420156424,
          0.4615963474822817,
          -1.3250089684363293,
          -0.009448308083683389,
          -0.24835897398064555,
          1.2246504102660027,
          0.7647812090938544,
          0.2923490017652167,
          0.5484764320989512,
          1.3636654624881206,
          -1.098554817005937,
          0.05323209135417297,
          -0.8193664011445023,
          -0.9651881730205214,
          -0.7169235894795459,
          0.07867172577891615,
          -0.1323856621361627,
          -0.7655784144767981,
          0.9932616140585283,
          0.5168384552391037,
          1.7652722533284222,
          1.8372546061828827,
          -1.593236705292418,
          -1.7351535385081214,
          0.5235910464705479,
          -1.2678010298836502,
          -1.1620485478742044,
          0.49783153002828556,
          -0.8724397517109367,
          0.6049256246439829,
          1.400962816411936,
          0.8111886395962024,
          -1.3749913257690798,
          -0.5343381094480517,
          0.5791641404328253,
          0.8694270812021913,
          0.6977237422345381,
          -0.7518777375440403,
          -1.2664205351763898,
          0.06442315056883763,
          -0.2873984929929309,
          0.0009839494928604283,
          1.168592011704123,
          0.6604253864052589,
          -0.29521148821910714,
          1.045216265567895,
          -0.6515637069291157,
          -0.03289043947944938,
          0.22881992210491614,
          -2.120961847320266,
          -0.1534383700165545,
          -1.1210869777078845,
          0.9094502662877313,
          0.07743574010108772,
          -0.7419719470944663,
          -1.2038987086444832,
          0.14722990479865838,
          0.9751250898869979,
          -0.6264743287129438,
          0.7736042579232473,
          -0.5035091795841722,
          -1.0343753263730342,
          0.5012182124006042,
          0.03584316243864111,
          -0.5259243744479069,
          0.15306289262164952,
          1.7106987514004806
         ],
         "xaxis": "x5",
         "y": [
          1.907683558388115,
          0.4547584720364601,
          -0.4624177855774668,
          -3.651544791684352,
          -0.5678534781105319,
          1.6427839907904405,
          -0.9619000332416442,
          -0.00397187462557156,
          -0.07994051727686378,
          -0.6910522585403166,
          -0.09450542139400352,
          -0.8779483001934726,
          -1.484377860124462,
          -0.06479965458310179,
          -1.0119838104547232,
          1.0484315683481713,
          -1.704515782167066,
          0.22219933855895088,
          1.1715275094543638,
          -0.286046199843736,
          -0.18562188278474828,
          -0.5094303960311877,
          1.2804878676027072,
          1.0784034812612298,
          -0.15293803125447164,
          -0.4223642419037627,
          0.14855090724344358,
          -0.31189985968039113,
          -0.9115283059275937,
          -0.7755292866323195,
          -0.42721244214615794,
          -2.388606862034661,
          -0.05382162402532776,
          -1.3473629289778324,
          1.8397464184587116,
          0.8736778624934495,
          -0.7310055025516222,
          0.6958880162743549,
          0.9187659655864716,
          0.8376778170657083,
          0.5396368728266294,
          0.5422001050726935,
          -0.06139231471254688,
          -1.1021335608877891,
          -0.6007471372717097,
          0.1924619434883858,
          -0.08930809569198228,
          -0.2978505269315022,
          0.0005453669286284382,
          0.08106810997695915,
          -0.3694016189559964,
          -1.0281232817295345,
          0.30345560552391604,
          0.5244077540972444,
          2.0284534283011597,
          1.048432684760225,
          0.1064228659254715,
          0.6622831438984041,
          0.19685616235400402,
          1.1511224188608322,
          -0.4206663845906972,
          -1.0846896902892262,
          1.0364546676818382,
          0.6307259022389663,
          0.004641898709261438,
          -0.8605919026414243,
          0.08398903166039261,
          -0.08238436718846175,
          1.4354863201681674,
          -1.339983013618161,
          0.020894590806696794,
          0.6486539425584497,
          1.6592374195822817,
          -0.45411333440482526,
          -0.514677111791003,
          1.4378161001410212,
          0.6543605480879594,
          -0.3723065659245629,
          0.7259378993362399,
          0.17622902362307077,
          -0.21499860688233133,
          0.9541805171862572,
          -0.07743570059151514,
          1.3080387115726428,
          -0.06024810521218019,
          -1.529908094039015,
          0.7021112735494195,
          -0.9091588803591504,
          0.870523121121309,
          0.43847509793721606,
          -0.9516809883412036,
          -0.07897286417227212,
          1.3010071278367414,
          -0.08017900203553485,
          1.5367974033552878,
          -1.290113361643903,
          0.677483027354299,
          -0.8592326527444683,
          2.5979573364869557,
          -0.6669334806113064
         ],
         "yaxis": "y5"
        },
        {
         "histfunc": "count",
         "histnorm": "",
         "marker": {
          "color": "rgba(55, 128, 191, 1.0)",
          "line": {
           "color": "#4D5663",
           "width": 1.3
          }
         },
         "name": "B",
         "nbinsx": 10,
         "opacity": 0.8,
         "orientation": "v",
         "type": "histogram",
         "x": [
          1.907683558388115,
          0.4547584720364601,
          -0.4624177855774668,
          -3.651544791684352,
          -0.5678534781105319,
          1.6427839907904405,
          -0.9619000332416442,
          -0.00397187462557156,
          -0.07994051727686378,
          -0.6910522585403166,
          -0.09450542139400352,
          -0.8779483001934726,
          -1.484377860124462,
          -0.06479965458310179,
          -1.0119838104547232,
          1.0484315683481713,
          -1.704515782167066,
          0.22219933855895088,
          1.1715275094543638,
          -0.286046199843736,
          -0.18562188278474828,
          -0.5094303960311877,
          1.2804878676027072,
          1.0784034812612298,
          -0.15293803125447164,
          -0.4223642419037627,
          0.14855090724344358,
          -0.31189985968039113,
          -0.9115283059275937,
          -0.7755292866323195,
          -0.42721244214615794,
          -2.388606862034661,
          -0.05382162402532776,
          -1.3473629289778324,
          1.8397464184587116,
          0.8736778624934495,
          -0.7310055025516222,
          0.6958880162743549,
          0.9187659655864716,
          0.8376778170657083,
          0.5396368728266294,
          0.5422001050726935,
          -0.06139231471254688,
          -1.1021335608877891,
          -0.6007471372717097,
          0.1924619434883858,
          -0.08930809569198228,
          -0.2978505269315022,
          0.0005453669286284382,
          0.08106810997695915,
          -0.3694016189559964,
          -1.0281232817295345,
          0.30345560552391604,
          0.5244077540972444,
          2.0284534283011597,
          1.048432684760225,
          0.1064228659254715,
          0.6622831438984041,
          0.19685616235400402,
          1.1511224188608322,
          -0.4206663845906972,
          -1.0846896902892262,
          1.0364546676818382,
          0.6307259022389663,
          0.004641898709261438,
          -0.8605919026414243,
          0.08398903166039261,
          -0.08238436718846175,
          1.4354863201681674,
          -1.339983013618161,
          0.020894590806696794,
          0.6486539425584497,
          1.6592374195822817,
          -0.45411333440482526,
          -0.514677111791003,
          1.4378161001410212,
          0.6543605480879594,
          -0.3723065659245629,
          0.7259378993362399,
          0.17622902362307077,
          -0.21499860688233133,
          0.9541805171862572,
          -0.07743570059151514,
          1.3080387115726428,
          -0.06024810521218019,
          -1.529908094039015,
          0.7021112735494195,
          -0.9091588803591504,
          0.870523121121309,
          0.43847509793721606,
          -0.9516809883412036,
          -0.07897286417227212,
          1.3010071278367414,
          -0.08017900203553485,
          1.5367974033552878,
          -1.290113361643903,
          0.677483027354299,
          -0.8592326527444683,
          2.5979573364869557,
          -0.6669334806113064
         ],
         "xaxis": "x6",
         "yaxis": "y6"
        },
        {
         "line": {
          "color": "rgba(128, 128, 128, 1.0)",
          "dash": "solid",
          "shape": "linear",
          "width": 1.3
         },
         "marker": {
          "size": 2,
          "symbol": "circle"
         },
         "mode": "markers",
         "name": "B",
         "text": "",
         "type": "scatter",
         "x": [
          0.48770381939872043,
          0.6337244646989464,
          -3.1557932704130356,
          0.13277998013457565,
          0.7385655314420786,
          -0.17177067756252173,
          -0.1372915094467543,
          -0.2521100174920825,
          -0.7774859643586567,
          0.4888304720428742,
          -0.46697233675600003,
          -1.0819972685815615,
          -1.3812411940185036,
          -1.2088517545524282,
          -1.2972061988940717,
          -1.195413296751463,
          -1.147470324560883,
          1.0902866948145171,
          1.1908114172648354,
          -0.2588208225848617,
          0.16487657420726892,
          -0.78826656830748,
          1.0000343713868642,
          -1.0091815010874154,
          -0.5680773691675439,
          1.1810661210830304,
          0.38954133539864827,
          -0.613964571092336,
          -0.2565088361673165,
          -0.7692082849354274,
          0.19774049769912005,
          0.39711873710136963,
          -0.5873094150104916,
          -0.02252466688228671,
          -0.9960725147726376,
          0.8836696924678572,
          -0.3196822783432801,
          -0.9598081652904585,
          -2.3185673570155316,
          0.9199286678318811,
          0.18124349088991892,
          -0.31241113338341514,
          0.931766188329038,
          -1.2454367421348072,
          0.17716748816653816,
          0.29627078620326086,
          0.8886308256683672,
          2.246831034283235,
          0.6974303836348403,
          0.35598131814521045,
          -1.823543353599711,
          -0.8486094691505909,
          0.16042258280947191,
          -0.9794789734321424,
          0.6502538943693912,
          0.6859471110716626,
          -1.8397195416762484,
          0.5544046760632084,
          -0.5061463738217713,
          -0.19623271406017556,
          -1.5963826590813122,
          -0.09770348156614135,
          -0.5869174731331128,
          -0.12032149904486354,
          0.00906488876886795,
          -0.07751737400332452,
          0.2942284421113961,
          -0.16243607623161602,
          -1.001587800308482,
          0.1963253087192484,
          1.206464312604639,
          0.2187961464973971,
          1.0838671968192073,
          1.2959649012162449,
          -0.5544573556215677,
          0.6128769748117964,
          0.1711954142874357,
          -1.3040069094496094,
          -0.09275279405669301,
          0.7398849781895165,
          0.09292219747002482,
          -0.10762784448538183,
          0.3055312720579075,
          -0.6089474399581859,
          -0.46820295927356165,
          1.9897358749891223,
          1.9776531201514929,
          0.26161052895794557,
          -0.2684909093050987,
          0.0001358910229118881,
          2.007654473522146,
          1.2945754067521074,
          1.9892544961413128,
          -1.6358499033444638,
          0.4549748462649961,
          0.735184341285063,
          -0.6712417072387005,
          0.0816993806422588,
          0.646955250762791,
          1.590420413439015
         ],
         "xaxis": "x7",
         "y": [
          1.907683558388115,
          0.4547584720364601,
          -0.4624177855774668,
          -3.651544791684352,
          -0.5678534781105319,
          1.6427839907904405,
          -0.9619000332416442,
          -0.00397187462557156,
          -0.07994051727686378,
          -0.6910522585403166,
          -0.09450542139400352,
          -0.8779483001934726,
          -1.484377860124462,
          -0.06479965458310179,
          -1.0119838104547232,
          1.0484315683481713,
          -1.704515782167066,
          0.22219933855895088,
          1.1715275094543638,
          -0.286046199843736,
          -0.18562188278474828,
          -0.5094303960311877,
          1.2804878676027072,
          1.0784034812612298,
          -0.15293803125447164,
          -0.4223642419037627,
          0.14855090724344358,
          -0.31189985968039113,
          -0.9115283059275937,
          -0.7755292866323195,
          -0.42721244214615794,
          -2.388606862034661,
          -0.05382162402532776,
          -1.3473629289778324,
          1.8397464184587116,
          0.8736778624934495,
          -0.7310055025516222,
          0.6958880162743549,
          0.9187659655864716,
          0.8376778170657083,
          0.5396368728266294,
          0.5422001050726935,
          -0.06139231471254688,
          -1.1021335608877891,
          -0.6007471372717097,
          0.1924619434883858,
          -0.08930809569198228,
          -0.2978505269315022,
          0.0005453669286284382,
          0.08106810997695915,
          -0.3694016189559964,
          -1.0281232817295345,
          0.30345560552391604,
          0.5244077540972444,
          2.0284534283011597,
          1.048432684760225,
          0.1064228659254715,
          0.6622831438984041,
          0.19685616235400402,
          1.1511224188608322,
          -0.4206663845906972,
          -1.0846896902892262,
          1.0364546676818382,
          0.6307259022389663,
          0.004641898709261438,
          -0.8605919026414243,
          0.08398903166039261,
          -0.08238436718846175,
          1.4354863201681674,
          -1.339983013618161,
          0.020894590806696794,
          0.6486539425584497,
          1.6592374195822817,
          -0.45411333440482526,
          -0.514677111791003,
          1.4378161001410212,
          0.6543605480879594,
          -0.3723065659245629,
          0.7259378993362399,
          0.17622902362307077,
          -0.21499860688233133,
          0.9541805171862572,
          -0.07743570059151514,
          1.3080387115726428,
          -0.06024810521218019,
          -1.529908094039015,
          0.7021112735494195,
          -0.9091588803591504,
          0.870523121121309,
          0.43847509793721606,
          -0.9516809883412036,
          -0.07897286417227212,
          1.3010071278367414,
          -0.08017900203553485,
          1.5367974033552878,
          -1.290113361643903,
          0.677483027354299,
          -0.8592326527444683,
          2.5979573364869557,
          -0.6669334806113064
         ],
         "yaxis": "y7"
        },
        {
         "line": {
          "color": "rgba(128, 128, 128, 1.0)",
          "dash": "solid",
          "shape": "linear",
          "width": 1.3
         },
         "marker": {
          "size": 2,
          "symbol": "circle"
         },
         "mode": "markers",
         "name": "B",
         "text": "",
         "type": "scatter",
         "x": [
          -0.22718918537328062,
          1.2204972813783754,
          -0.511127342703104,
          -0.919995696143732,
          1.4876569281486498,
          0.5261798293815041,
          1.4404686230606762,
          0.012310079690618186,
          -1.4169393918652915,
          0.8430806027133654,
          0.8060404508229926,
          0.09134447928922484,
          -0.4391707391338882,
          -1.136109425411929,
          -0.9558725097488121,
          -0.43903936073790056,
          0.6400684969235082,
          -2.8926497540659173,
          1.2862065354897847,
          0.5363547692785966,
          0.027208726919927866,
          -0.6053552258802258,
          1.2369376797088558,
          -0.31288524593048567,
          -1.2768501683975995,
          0.7982664454690171,
          -1.7643618109254788,
          -0.811118605847453,
          1.2951679229500286,
          -0.5854378238328967,
          0.47684752071529896,
          0.9688847295206476,
          0.7712204269970987,
          0.8636594318791391,
          2.1167005179164633,
          -0.9844880853538838,
          1.2052110702155194,
          0.4144965537564156,
          1.0314589125244964,
          -1.2820386325245927,
          0.5374622995845217,
          -0.4520476062643819,
          1.2807767910756398,
          1.3970913949970318,
          0.554529182743638,
          -1.4245469028483584,
          2.432163068242666,
          0.34647454582703535,
          -1.8478283792744057,
          -0.7064116298140908,
          1.859026792963264,
          -0.11696447813985389,
          0.9735706653895554,
          0.020069778038250087,
          -0.2732078870868064,
          -1.625893501364898,
          -0.518832871958972,
          0.7570499806819221,
          -1.301647411726088,
          1.5233125926959512,
          0.910044161471426,
          -0.33904257065357996,
          0.25474211578164113,
          1.1624261743592201,
          -0.7457019139210698,
          -1.6968774589933917,
          1.760395656633342,
          1.7512558019532765,
          -1.9529937894171276,
          0.8706668134873103,
          2.0085760859346675,
          -1.2514649889890979,
          -1.6069294260493898,
          -0.6751228541249964,
          1.1438933704419452,
          -0.21981377357202245,
          0.4179370726020009,
          1.0037769259192542,
          -0.06225916587349727,
          -1.0071835665242848,
          0.8860296914099619,
          -1.4572370310223877,
          1.8521215110090443,
          -0.27766424372092186,
          1.2084828291118057,
          0.19077267955785543,
          -0.15568801418483896,
          0.17864014027450703,
          -0.6130945856449158,
          -0.1287209969592928,
          -0.7899352961622775,
          -1.9330750344297394,
          2.0732887918319127,
          -0.7619479677020401,
          1.128771926760258,
          -0.7709363883695314,
          0.28608363017405264,
          -2.672688771194465,
          1.5523201724331546,
          2.011955348554818
         ],
         "xaxis": "x8",
         "y": [
          1.907683558388115,
          0.4547584720364601,
          -0.4624177855774668,
          -3.651544791684352,
          -0.5678534781105319,
          1.6427839907904405,
          -0.9619000332416442,
          -0.00397187462557156,
          -0.07994051727686378,
          -0.6910522585403166,
          -0.09450542139400352,
          -0.8779483001934726,
          -1.484377860124462,
          -0.06479965458310179,
          -1.0119838104547232,
          1.0484315683481713,
          -1.704515782167066,
          0.22219933855895088,
          1.1715275094543638,
          -0.286046199843736,
          -0.18562188278474828,
          -0.5094303960311877,
          1.2804878676027072,
          1.0784034812612298,
          -0.15293803125447164,
          -0.4223642419037627,
          0.14855090724344358,
          -0.31189985968039113,
          -0.9115283059275937,
          -0.7755292866323195,
          -0.42721244214615794,
          -2.388606862034661,
          -0.05382162402532776,
          -1.3473629289778324,
          1.8397464184587116,
          0.8736778624934495,
          -0.7310055025516222,
          0.6958880162743549,
          0.9187659655864716,
          0.8376778170657083,
          0.5396368728266294,
          0.5422001050726935,
          -0.06139231471254688,
          -1.1021335608877891,
          -0.6007471372717097,
          0.1924619434883858,
          -0.08930809569198228,
          -0.2978505269315022,
          0.0005453669286284382,
          0.08106810997695915,
          -0.3694016189559964,
          -1.0281232817295345,
          0.30345560552391604,
          0.5244077540972444,
          2.0284534283011597,
          1.048432684760225,
          0.1064228659254715,
          0.6622831438984041,
          0.19685616235400402,
          1.1511224188608322,
          -0.4206663845906972,
          -1.0846896902892262,
          1.0364546676818382,
          0.6307259022389663,
          0.004641898709261438,
          -0.8605919026414243,
          0.08398903166039261,
          -0.08238436718846175,
          1.4354863201681674,
          -1.339983013618161,
          0.020894590806696794,
          0.6486539425584497,
          1.6592374195822817,
          -0.45411333440482526,
          -0.514677111791003,
          1.4378161001410212,
          0.6543605480879594,
          -0.3723065659245629,
          0.7259378993362399,
          0.17622902362307077,
          -0.21499860688233133,
          0.9541805171862572,
          -0.07743570059151514,
          1.3080387115726428,
          -0.06024810521218019,
          -1.529908094039015,
          0.7021112735494195,
          -0.9091588803591504,
          0.870523121121309,
          0.43847509793721606,
          -0.9516809883412036,
          -0.07897286417227212,
          1.3010071278367414,
          -0.08017900203553485,
          1.5367974033552878,
          -1.290113361643903,
          0.677483027354299,
          -0.8592326527444683,
          2.5979573364869557,
          -0.6669334806113064
         ],
         "yaxis": "y8"
        },
        {
         "line": {
          "color": "rgba(128, 128, 128, 1.0)",
          "dash": "solid",
          "shape": "linear",
          "width": 1.3
         },
         "marker": {
          "size": 2,
          "symbol": "circle"
         },
         "mode": "markers",
         "name": "C",
         "text": "",
         "type": "scatter",
         "x": [
          -0.5480110889074034,
          -1.2920697014009046,
          -2.064720383032337,
          -0.6381949964348836,
          0.010212759440209999,
          0.794812443048594,
          -0.7278279442870339,
          0.4489067925814845,
          1.904784576609507,
          -1.3032659971088971,
          0.11803057830902464,
          -1.5910540183384845,
          0.4036629730575678,
          0.9632264730942721,
          1.5324411476637259,
          -0.04707130340337131,
          0.11174868107368494,
          -1.3117900265057767,
          -1.3083957993452056,
          0.696980809380999,
          0.7592163244817444,
          0.5250669680979622,
          -0.4449756900036982,
          -1.0014267626093265,
          -0.21335743445110616,
          -0.8514794630132676,
          0.2749573360612918,
          -0.8733300478379218,
          0.09463458411882031,
          1.4455483762466403,
          0.006188882128480812,
          -0.22631608313192741,
          -0.29524855487515117,
          0.1812433420156424,
          0.4615963474822817,
          -1.3250089684363293,
          -0.009448308083683389,
          -0.24835897398064555,
          1.2246504102660027,
          0.7647812090938544,
          0.2923490017652167,
          0.5484764320989512,
          1.3636654624881206,
          -1.098554817005937,
          0.05323209135417297,
          -0.8193664011445023,
          -0.9651881730205214,
          -0.7169235894795459,
          0.07867172577891615,
          -0.1323856621361627,
          -0.7655784144767981,
          0.9932616140585283,
          0.5168384552391037,
          1.7652722533284222,
          1.8372546061828827,
          -1.593236705292418,
          -1.7351535385081214,
          0.5235910464705479,
          -1.2678010298836502,
          -1.1620485478742044,
          0.49783153002828556,
          -0.8724397517109367,
          0.6049256246439829,
          1.400962816411936,
          0.8111886395962024,
          -1.3749913257690798,
          -0.5343381094480517,
          0.5791641404328253,
          0.8694270812021913,
          0.6977237422345381,
          -0.7518777375440403,
          -1.2664205351763898,
          0.06442315056883763,
          -0.2873984929929309,
          0.0009839494928604283,
          1.168592011704123,
          0.6604253864052589,
          -0.29521148821910714,
          1.045216265567895,
          -0.6515637069291157,
          -0.03289043947944938,
          0.22881992210491614,
          -2.120961847320266,
          -0.1534383700165545,
          -1.1210869777078845,
          0.9094502662877313,
          0.07743574010108772,
          -0.7419719470944663,
          -1.2038987086444832,
          0.14722990479865838,
          0.9751250898869979,
          -0.6264743287129438,
          0.7736042579232473,
          -0.5035091795841722,
          -1.0343753263730342,
          0.5012182124006042,
          0.03584316243864111,
          -0.5259243744479069,
          0.15306289262164952,
          1.7106987514004806
         ],
         "xaxis": "x9",
         "y": [
          0.48770381939872043,
          0.6337244646989464,
          -3.1557932704130356,
          0.13277998013457565,
          0.7385655314420786,
          -0.17177067756252173,
          -0.1372915094467543,
          -0.2521100174920825,
          -0.7774859643586567,
          0.4888304720428742,
          -0.46697233675600003,
          -1.0819972685815615,
          -1.3812411940185036,
          -1.2088517545524282,
          -1.2972061988940717,
          -1.195413296751463,
          -1.147470324560883,
          1.0902866948145171,
          1.1908114172648354,
          -0.2588208225848617,
          0.16487657420726892,
          -0.78826656830748,
          1.0000343713868642,
          -1.0091815010874154,
          -0.5680773691675439,
          1.1810661210830304,
          0.38954133539864827,
          -0.613964571092336,
          -0.2565088361673165,
          -0.7692082849354274,
          0.19774049769912005,
          0.39711873710136963,
          -0.5873094150104916,
          -0.02252466688228671,
          -0.9960725147726376,
          0.8836696924678572,
          -0.3196822783432801,
          -0.9598081652904585,
          -2.3185673570155316,
          0.9199286678318811,
          0.18124349088991892,
          -0.31241113338341514,
          0.931766188329038,
          -1.2454367421348072,
          0.17716748816653816,
          0.29627078620326086,
          0.8886308256683672,
          2.246831034283235,
          0.6974303836348403,
          0.35598131814521045,
          -1.823543353599711,
          -0.8486094691505909,
          0.16042258280947191,
          -0.9794789734321424,
          0.6502538943693912,
          0.6859471110716626,
          -1.8397195416762484,
          0.5544046760632084,
          -0.5061463738217713,
          -0.19623271406017556,
          -1.5963826590813122,
          -0.09770348156614135,
          -0.5869174731331128,
          -0.12032149904486354,
          0.00906488876886795,
          -0.07751737400332452,
          0.2942284421113961,
          -0.16243607623161602,
          -1.001587800308482,
          0.1963253087192484,
          1.206464312604639,
          0.2187961464973971,
          1.0838671968192073,
          1.2959649012162449,
          -0.5544573556215677,
          0.6128769748117964,
          0.1711954142874357,
          -1.3040069094496094,
          -0.09275279405669301,
          0.7398849781895165,
          0.09292219747002482,
          -0.10762784448538183,
          0.3055312720579075,
          -0.6089474399581859,
          -0.46820295927356165,
          1.9897358749891223,
          1.9776531201514929,
          0.26161052895794557,
          -0.2684909093050987,
          0.0001358910229118881,
          2.007654473522146,
          1.2945754067521074,
          1.9892544961413128,
          -1.6358499033444638,
          0.4549748462649961,
          0.735184341285063,
          -0.6712417072387005,
          0.0816993806422588,
          0.646955250762791,
          1.590420413439015
         ],
         "yaxis": "y9"
        },
        {
         "line": {
          "color": "rgba(128, 128, 128, 1.0)",
          "dash": "solid",
          "shape": "linear",
          "width": 1.3
         },
         "marker": {
          "size": 2,
          "symbol": "circle"
         },
         "mode": "markers",
         "name": "C",
         "text": "",
         "type": "scatter",
         "x": [
          1.907683558388115,
          0.4547584720364601,
          -0.4624177855774668,
          -3.651544791684352,
          -0.5678534781105319,
          1.6427839907904405,
          -0.9619000332416442,
          -0.00397187462557156,
          -0.07994051727686378,
          -0.6910522585403166,
          -0.09450542139400352,
          -0.8779483001934726,
          -1.484377860124462,
          -0.06479965458310179,
          -1.0119838104547232,
          1.0484315683481713,
          -1.704515782167066,
          0.22219933855895088,
          1.1715275094543638,
          -0.286046199843736,
          -0.18562188278474828,
          -0.5094303960311877,
          1.2804878676027072,
          1.0784034812612298,
          -0.15293803125447164,
          -0.4223642419037627,
          0.14855090724344358,
          -0.31189985968039113,
          -0.9115283059275937,
          -0.7755292866323195,
          -0.42721244214615794,
          -2.388606862034661,
          -0.05382162402532776,
          -1.3473629289778324,
          1.8397464184587116,
          0.8736778624934495,
          -0.7310055025516222,
          0.6958880162743549,
          0.9187659655864716,
          0.8376778170657083,
          0.5396368728266294,
          0.5422001050726935,
          -0.06139231471254688,
          -1.1021335608877891,
          -0.6007471372717097,
          0.1924619434883858,
          -0.08930809569198228,
          -0.2978505269315022,
          0.0005453669286284382,
          0.08106810997695915,
          -0.3694016189559964,
          -1.0281232817295345,
          0.30345560552391604,
          0.5244077540972444,
          2.0284534283011597,
          1.048432684760225,
          0.1064228659254715,
          0.6622831438984041,
          0.19685616235400402,
          1.1511224188608322,
          -0.4206663845906972,
          -1.0846896902892262,
          1.0364546676818382,
          0.6307259022389663,
          0.004641898709261438,
          -0.8605919026414243,
          0.08398903166039261,
          -0.08238436718846175,
          1.4354863201681674,
          -1.339983013618161,
          0.020894590806696794,
          0.6486539425584497,
          1.6592374195822817,
          -0.45411333440482526,
          -0.514677111791003,
          1.4378161001410212,
          0.6543605480879594,
          -0.3723065659245629,
          0.7259378993362399,
          0.17622902362307077,
          -0.21499860688233133,
          0.9541805171862572,
          -0.07743570059151514,
          1.3080387115726428,
          -0.06024810521218019,
          -1.529908094039015,
          0.7021112735494195,
          -0.9091588803591504,
          0.870523121121309,
          0.43847509793721606,
          -0.9516809883412036,
          -0.07897286417227212,
          1.3010071278367414,
          -0.08017900203553485,
          1.5367974033552878,
          -1.290113361643903,
          0.677483027354299,
          -0.8592326527444683,
          2.5979573364869557,
          -0.6669334806113064
         ],
         "xaxis": "x10",
         "y": [
          0.48770381939872043,
          0.6337244646989464,
          -3.1557932704130356,
          0.13277998013457565,
          0.7385655314420786,
          -0.17177067756252173,
          -0.1372915094467543,
          -0.2521100174920825,
          -0.7774859643586567,
          0.4888304720428742,
          -0.46697233675600003,
          -1.0819972685815615,
          -1.3812411940185036,
          -1.2088517545524282,
          -1.2972061988940717,
          -1.195413296751463,
          -1.147470324560883,
          1.0902866948145171,
          1.1908114172648354,
          -0.2588208225848617,
          0.16487657420726892,
          -0.78826656830748,
          1.0000343713868642,
          -1.0091815010874154,
          -0.5680773691675439,
          1.1810661210830304,
          0.38954133539864827,
          -0.613964571092336,
          -0.2565088361673165,
          -0.7692082849354274,
          0.19774049769912005,
          0.39711873710136963,
          -0.5873094150104916,
          -0.02252466688228671,
          -0.9960725147726376,
          0.8836696924678572,
          -0.3196822783432801,
          -0.9598081652904585,
          -2.3185673570155316,
          0.9199286678318811,
          0.18124349088991892,
          -0.31241113338341514,
          0.931766188329038,
          -1.2454367421348072,
          0.17716748816653816,
          0.29627078620326086,
          0.8886308256683672,
          2.246831034283235,
          0.6974303836348403,
          0.35598131814521045,
          -1.823543353599711,
          -0.8486094691505909,
          0.16042258280947191,
          -0.9794789734321424,
          0.6502538943693912,
          0.6859471110716626,
          -1.8397195416762484,
          0.5544046760632084,
          -0.5061463738217713,
          -0.19623271406017556,
          -1.5963826590813122,
          -0.09770348156614135,
          -0.5869174731331128,
          -0.12032149904486354,
          0.00906488876886795,
          -0.07751737400332452,
          0.2942284421113961,
          -0.16243607623161602,
          -1.001587800308482,
          0.1963253087192484,
          1.206464312604639,
          0.2187961464973971,
          1.0838671968192073,
          1.2959649012162449,
          -0.5544573556215677,
          0.6128769748117964,
          0.1711954142874357,
          -1.3040069094496094,
          -0.09275279405669301,
          0.7398849781895165,
          0.09292219747002482,
          -0.10762784448538183,
          0.3055312720579075,
          -0.6089474399581859,
          -0.46820295927356165,
          1.9897358749891223,
          1.9776531201514929,
          0.26161052895794557,
          -0.2684909093050987,
          0.0001358910229118881,
          2.007654473522146,
          1.2945754067521074,
          1.9892544961413128,
          -1.6358499033444638,
          0.4549748462649961,
          0.735184341285063,
          -0.6712417072387005,
          0.0816993806422588,
          0.646955250762791,
          1.590420413439015
         ],
         "yaxis": "y10"
        },
        {
         "histfunc": "count",
         "histnorm": "",
         "marker": {
          "color": "rgba(50, 171, 96, 1.0)",
          "line": {
           "color": "#4D5663",
           "width": 1.3
          }
         },
         "name": "C",
         "nbinsx": 10,
         "opacity": 0.8,
         "orientation": "v",
         "type": "histogram",
         "x": [
          0.48770381939872043,
          0.6337244646989464,
          -3.1557932704130356,
          0.13277998013457565,
          0.7385655314420786,
          -0.17177067756252173,
          -0.1372915094467543,
          -0.2521100174920825,
          -0.7774859643586567,
          0.4888304720428742,
          -0.46697233675600003,
          -1.0819972685815615,
          -1.3812411940185036,
          -1.2088517545524282,
          -1.2972061988940717,
          -1.195413296751463,
          -1.147470324560883,
          1.0902866948145171,
          1.1908114172648354,
          -0.2588208225848617,
          0.16487657420726892,
          -0.78826656830748,
          1.0000343713868642,
          -1.0091815010874154,
          -0.5680773691675439,
          1.1810661210830304,
          0.38954133539864827,
          -0.613964571092336,
          -0.2565088361673165,
          -0.7692082849354274,
          0.19774049769912005,
          0.39711873710136963,
          -0.5873094150104916,
          -0.02252466688228671,
          -0.9960725147726376,
          0.8836696924678572,
          -0.3196822783432801,
          -0.9598081652904585,
          -2.3185673570155316,
          0.9199286678318811,
          0.18124349088991892,
          -0.31241113338341514,
          0.931766188329038,
          -1.2454367421348072,
          0.17716748816653816,
          0.29627078620326086,
          0.8886308256683672,
          2.246831034283235,
          0.6974303836348403,
          0.35598131814521045,
          -1.823543353599711,
          -0.8486094691505909,
          0.16042258280947191,
          -0.9794789734321424,
          0.6502538943693912,
          0.6859471110716626,
          -1.8397195416762484,
          0.5544046760632084,
          -0.5061463738217713,
          -0.19623271406017556,
          -1.5963826590813122,
          -0.09770348156614135,
          -0.5869174731331128,
          -0.12032149904486354,
          0.00906488876886795,
          -0.07751737400332452,
          0.2942284421113961,
          -0.16243607623161602,
          -1.001587800308482,
          0.1963253087192484,
          1.206464312604639,
          0.2187961464973971,
          1.0838671968192073,
          1.2959649012162449,
          -0.5544573556215677,
          0.6128769748117964,
          0.1711954142874357,
          -1.3040069094496094,
          -0.09275279405669301,
          0.7398849781895165,
          0.09292219747002482,
          -0.10762784448538183,
          0.3055312720579075,
          -0.6089474399581859,
          -0.46820295927356165,
          1.9897358749891223,
          1.9776531201514929,
          0.26161052895794557,
          -0.2684909093050987,
          0.0001358910229118881,
          2.007654473522146,
          1.2945754067521074,
          1.9892544961413128,
          -1.6358499033444638,
          0.4549748462649961,
          0.735184341285063,
          -0.6712417072387005,
          0.0816993806422588,
          0.646955250762791,
          1.590420413439015
         ],
         "xaxis": "x11",
         "yaxis": "y11"
        },
        {
         "line": {
          "color": "rgba(128, 128, 128, 1.0)",
          "dash": "solid",
          "shape": "linear",
          "width": 1.3
         },
         "marker": {
          "size": 2,
          "symbol": "circle"
         },
         "mode": "markers",
         "name": "C",
         "text": "",
         "type": "scatter",
         "x": [
          -0.22718918537328062,
          1.2204972813783754,
          -0.511127342703104,
          -0.919995696143732,
          1.4876569281486498,
          0.5261798293815041,
          1.4404686230606762,
          0.012310079690618186,
          -1.4169393918652915,
          0.8430806027133654,
          0.8060404508229926,
          0.09134447928922484,
          -0.4391707391338882,
          -1.136109425411929,
          -0.9558725097488121,
          -0.43903936073790056,
          0.6400684969235082,
          -2.8926497540659173,
          1.2862065354897847,
          0.5363547692785966,
          0.027208726919927866,
          -0.6053552258802258,
          1.2369376797088558,
          -0.31288524593048567,
          -1.2768501683975995,
          0.7982664454690171,
          -1.7643618109254788,
          -0.811118605847453,
          1.2951679229500286,
          -0.5854378238328967,
          0.47684752071529896,
          0.9688847295206476,
          0.7712204269970987,
          0.8636594318791391,
          2.1167005179164633,
          -0.9844880853538838,
          1.2052110702155194,
          0.4144965537564156,
          1.0314589125244964,
          -1.2820386325245927,
          0.5374622995845217,
          -0.4520476062643819,
          1.2807767910756398,
          1.3970913949970318,
          0.554529182743638,
          -1.4245469028483584,
          2.432163068242666,
          0.34647454582703535,
          -1.8478283792744057,
          -0.7064116298140908,
          1.859026792963264,
          -0.11696447813985389,
          0.9735706653895554,
          0.020069778038250087,
          -0.2732078870868064,
          -1.625893501364898,
          -0.518832871958972,
          0.7570499806819221,
          -1.301647411726088,
          1.5233125926959512,
          0.910044161471426,
          -0.33904257065357996,
          0.25474211578164113,
          1.1624261743592201,
          -0.7457019139210698,
          -1.6968774589933917,
          1.760395656633342,
          1.7512558019532765,
          -1.9529937894171276,
          0.8706668134873103,
          2.0085760859346675,
          -1.2514649889890979,
          -1.6069294260493898,
          -0.6751228541249964,
          1.1438933704419452,
          -0.21981377357202245,
          0.4179370726020009,
          1.0037769259192542,
          -0.06225916587349727,
          -1.0071835665242848,
          0.8860296914099619,
          -1.4572370310223877,
          1.8521215110090443,
          -0.27766424372092186,
          1.2084828291118057,
          0.19077267955785543,
          -0.15568801418483896,
          0.17864014027450703,
          -0.6130945856449158,
          -0.1287209969592928,
          -0.7899352961622775,
          -1.9330750344297394,
          2.0732887918319127,
          -0.7619479677020401,
          1.128771926760258,
          -0.7709363883695314,
          0.28608363017405264,
          -2.672688771194465,
          1.5523201724331546,
          2.011955348554818
         ],
         "xaxis": "x12",
         "y": [
          0.48770381939872043,
          0.6337244646989464,
          -3.1557932704130356,
          0.13277998013457565,
          0.7385655314420786,
          -0.17177067756252173,
          -0.1372915094467543,
          -0.2521100174920825,
          -0.7774859643586567,
          0.4888304720428742,
          -0.46697233675600003,
          -1.0819972685815615,
          -1.3812411940185036,
          -1.2088517545524282,
          -1.2972061988940717,
          -1.195413296751463,
          -1.147470324560883,
          1.0902866948145171,
          1.1908114172648354,
          -0.2588208225848617,
          0.16487657420726892,
          -0.78826656830748,
          1.0000343713868642,
          -1.0091815010874154,
          -0.5680773691675439,
          1.1810661210830304,
          0.38954133539864827,
          -0.613964571092336,
          -0.2565088361673165,
          -0.7692082849354274,
          0.19774049769912005,
          0.39711873710136963,
          -0.5873094150104916,
          -0.02252466688228671,
          -0.9960725147726376,
          0.8836696924678572,
          -0.3196822783432801,
          -0.9598081652904585,
          -2.3185673570155316,
          0.9199286678318811,
          0.18124349088991892,
          -0.31241113338341514,
          0.931766188329038,
          -1.2454367421348072,
          0.17716748816653816,
          0.29627078620326086,
          0.8886308256683672,
          2.246831034283235,
          0.6974303836348403,
          0.35598131814521045,
          -1.823543353599711,
          -0.8486094691505909,
          0.16042258280947191,
          -0.9794789734321424,
          0.6502538943693912,
          0.6859471110716626,
          -1.8397195416762484,
          0.5544046760632084,
          -0.5061463738217713,
          -0.19623271406017556,
          -1.5963826590813122,
          -0.09770348156614135,
          -0.5869174731331128,
          -0.12032149904486354,
          0.00906488876886795,
          -0.07751737400332452,
          0.2942284421113961,
          -0.16243607623161602,
          -1.001587800308482,
          0.1963253087192484,
          1.206464312604639,
          0.2187961464973971,
          1.0838671968192073,
          1.2959649012162449,
          -0.5544573556215677,
          0.6128769748117964,
          0.1711954142874357,
          -1.3040069094496094,
          -0.09275279405669301,
          0.7398849781895165,
          0.09292219747002482,
          -0.10762784448538183,
          0.3055312720579075,
          -0.6089474399581859,
          -0.46820295927356165,
          1.9897358749891223,
          1.9776531201514929,
          0.26161052895794557,
          -0.2684909093050987,
          0.0001358910229118881,
          2.007654473522146,
          1.2945754067521074,
          1.9892544961413128,
          -1.6358499033444638,
          0.4549748462649961,
          0.735184341285063,
          -0.6712417072387005,
          0.0816993806422588,
          0.646955250762791,
          1.590420413439015
         ],
         "yaxis": "y12"
        },
        {
         "line": {
          "color": "rgba(128, 128, 128, 1.0)",
          "dash": "solid",
          "shape": "linear",
          "width": 1.3
         },
         "marker": {
          "size": 2,
          "symbol": "circle"
         },
         "mode": "markers",
         "name": "D",
         "text": "",
         "type": "scatter",
         "x": [
          -0.5480110889074034,
          -1.2920697014009046,
          -2.064720383032337,
          -0.6381949964348836,
          0.010212759440209999,
          0.794812443048594,
          -0.7278279442870339,
          0.4489067925814845,
          1.904784576609507,
          -1.3032659971088971,
          0.11803057830902464,
          -1.5910540183384845,
          0.4036629730575678,
          0.9632264730942721,
          1.5324411476637259,
          -0.04707130340337131,
          0.11174868107368494,
          -1.3117900265057767,
          -1.3083957993452056,
          0.696980809380999,
          0.7592163244817444,
          0.5250669680979622,
          -0.4449756900036982,
          -1.0014267626093265,
          -0.21335743445110616,
          -0.8514794630132676,
          0.2749573360612918,
          -0.8733300478379218,
          0.09463458411882031,
          1.4455483762466403,
          0.006188882128480812,
          -0.22631608313192741,
          -0.29524855487515117,
          0.1812433420156424,
          0.4615963474822817,
          -1.3250089684363293,
          -0.009448308083683389,
          -0.24835897398064555,
          1.2246504102660027,
          0.7647812090938544,
          0.2923490017652167,
          0.5484764320989512,
          1.3636654624881206,
          -1.098554817005937,
          0.05323209135417297,
          -0.8193664011445023,
          -0.9651881730205214,
          -0.7169235894795459,
          0.07867172577891615,
          -0.1323856621361627,
          -0.7655784144767981,
          0.9932616140585283,
          0.5168384552391037,
          1.7652722533284222,
          1.8372546061828827,
          -1.593236705292418,
          -1.7351535385081214,
          0.5235910464705479,
          -1.2678010298836502,
          -1.1620485478742044,
          0.49783153002828556,
          -0.8724397517109367,
          0.6049256246439829,
          1.400962816411936,
          0.8111886395962024,
          -1.3749913257690798,
          -0.5343381094480517,
          0.5791641404328253,
          0.8694270812021913,
          0.6977237422345381,
          -0.7518777375440403,
          -1.2664205351763898,
          0.06442315056883763,
          -0.2873984929929309,
          0.0009839494928604283,
          1.168592011704123,
          0.6604253864052589,
          -0.29521148821910714,
          1.045216265567895,
          -0.6515637069291157,
          -0.03289043947944938,
          0.22881992210491614,
          -2.120961847320266,
          -0.1534383700165545,
          -1.1210869777078845,
          0.9094502662877313,
          0.07743574010108772,
          -0.7419719470944663,
          -1.2038987086444832,
          0.14722990479865838,
          0.9751250898869979,
          -0.6264743287129438,
          0.7736042579232473,
          -0.5035091795841722,
          -1.0343753263730342,
          0.5012182124006042,
          0.03584316243864111,
          -0.5259243744479069,
          0.15306289262164952,
          1.7106987514004806
         ],
         "xaxis": "x13",
         "y": [
          -0.22718918537328062,
          1.2204972813783754,
          -0.511127342703104,
          -0.919995696143732,
          1.4876569281486498,
          0.5261798293815041,
          1.4404686230606762,
          0.012310079690618186,
          -1.4169393918652915,
          0.8430806027133654,
          0.8060404508229926,
          0.09134447928922484,
          -0.4391707391338882,
          -1.136109425411929,
          -0.9558725097488121,
          -0.43903936073790056,
          0.6400684969235082,
          -2.8926497540659173,
          1.2862065354897847,
          0.5363547692785966,
          0.027208726919927866,
          -0.6053552258802258,
          1.2369376797088558,
          -0.31288524593048567,
          -1.2768501683975995,
          0.7982664454690171,
          -1.7643618109254788,
          -0.811118605847453,
          1.2951679229500286,
          -0.5854378238328967,
          0.47684752071529896,
          0.9688847295206476,
          0.7712204269970987,
          0.8636594318791391,
          2.1167005179164633,
          -0.9844880853538838,
          1.2052110702155194,
          0.4144965537564156,
          1.0314589125244964,
          -1.2820386325245927,
          0.5374622995845217,
          -0.4520476062643819,
          1.2807767910756398,
          1.3970913949970318,
          0.554529182743638,
          -1.4245469028483584,
          2.432163068242666,
          0.34647454582703535,
          -1.8478283792744057,
          -0.7064116298140908,
          1.859026792963264,
          -0.11696447813985389,
          0.9735706653895554,
          0.020069778038250087,
          -0.2732078870868064,
          -1.625893501364898,
          -0.518832871958972,
          0.7570499806819221,
          -1.301647411726088,
          1.5233125926959512,
          0.910044161471426,
          -0.33904257065357996,
          0.25474211578164113,
          1.1624261743592201,
          -0.7457019139210698,
          -1.6968774589933917,
          1.760395656633342,
          1.7512558019532765,
          -1.9529937894171276,
          0.8706668134873103,
          2.0085760859346675,
          -1.2514649889890979,
          -1.6069294260493898,
          -0.6751228541249964,
          1.1438933704419452,
          -0.21981377357202245,
          0.4179370726020009,
          1.0037769259192542,
          -0.06225916587349727,
          -1.0071835665242848,
          0.8860296914099619,
          -1.4572370310223877,
          1.8521215110090443,
          -0.27766424372092186,
          1.2084828291118057,
          0.19077267955785543,
          -0.15568801418483896,
          0.17864014027450703,
          -0.6130945856449158,
          -0.1287209969592928,
          -0.7899352961622775,
          -1.9330750344297394,
          2.0732887918319127,
          -0.7619479677020401,
          1.128771926760258,
          -0.7709363883695314,
          0.28608363017405264,
          -2.672688771194465,
          1.5523201724331546,
          2.011955348554818
         ],
         "yaxis": "y13"
        },
        {
         "line": {
          "color": "rgba(128, 128, 128, 1.0)",
          "dash": "solid",
          "shape": "linear",
          "width": 1.3
         },
         "marker": {
          "size": 2,
          "symbol": "circle"
         },
         "mode": "markers",
         "name": "D",
         "text": "",
         "type": "scatter",
         "x": [
          1.907683558388115,
          0.4547584720364601,
          -0.4624177855774668,
          -3.651544791684352,
          -0.5678534781105319,
          1.6427839907904405,
          -0.9619000332416442,
          -0.00397187462557156,
          -0.07994051727686378,
          -0.6910522585403166,
          -0.09450542139400352,
          -0.8779483001934726,
          -1.484377860124462,
          -0.06479965458310179,
          -1.0119838104547232,
          1.0484315683481713,
          -1.704515782167066,
          0.22219933855895088,
          1.1715275094543638,
          -0.286046199843736,
          -0.18562188278474828,
          -0.5094303960311877,
          1.2804878676027072,
          1.0784034812612298,
          -0.15293803125447164,
          -0.4223642419037627,
          0.14855090724344358,
          -0.31189985968039113,
          -0.9115283059275937,
          -0.7755292866323195,
          -0.42721244214615794,
          -2.388606862034661,
          -0.05382162402532776,
          -1.3473629289778324,
          1.8397464184587116,
          0.8736778624934495,
          -0.7310055025516222,
          0.6958880162743549,
          0.9187659655864716,
          0.8376778170657083,
          0.5396368728266294,
          0.5422001050726935,
          -0.06139231471254688,
          -1.1021335608877891,
          -0.6007471372717097,
          0.1924619434883858,
          -0.08930809569198228,
          -0.2978505269315022,
          0.0005453669286284382,
          0.08106810997695915,
          -0.3694016189559964,
          -1.0281232817295345,
          0.30345560552391604,
          0.5244077540972444,
          2.0284534283011597,
          1.048432684760225,
          0.1064228659254715,
          0.6622831438984041,
          0.19685616235400402,
          1.1511224188608322,
          -0.4206663845906972,
          -1.0846896902892262,
          1.0364546676818382,
          0.6307259022389663,
          0.004641898709261438,
          -0.8605919026414243,
          0.08398903166039261,
          -0.08238436718846175,
          1.4354863201681674,
          -1.339983013618161,
          0.020894590806696794,
          0.6486539425584497,
          1.6592374195822817,
          -0.45411333440482526,
          -0.514677111791003,
          1.4378161001410212,
          0.6543605480879594,
          -0.3723065659245629,
          0.7259378993362399,
          0.17622902362307077,
          -0.21499860688233133,
          0.9541805171862572,
          -0.07743570059151514,
          1.3080387115726428,
          -0.06024810521218019,
          -1.529908094039015,
          0.7021112735494195,
          -0.9091588803591504,
          0.870523121121309,
          0.43847509793721606,
          -0.9516809883412036,
          -0.07897286417227212,
          1.3010071278367414,
          -0.08017900203553485,
          1.5367974033552878,
          -1.290113361643903,
          0.677483027354299,
          -0.8592326527444683,
          2.5979573364869557,
          -0.6669334806113064
         ],
         "xaxis": "x14",
         "y": [
          -0.22718918537328062,
          1.2204972813783754,
          -0.511127342703104,
          -0.919995696143732,
          1.4876569281486498,
          0.5261798293815041,
          1.4404686230606762,
          0.012310079690618186,
          -1.4169393918652915,
          0.8430806027133654,
          0.8060404508229926,
          0.09134447928922484,
          -0.4391707391338882,
          -1.136109425411929,
          -0.9558725097488121,
          -0.43903936073790056,
          0.6400684969235082,
          -2.8926497540659173,
          1.2862065354897847,
          0.5363547692785966,
          0.027208726919927866,
          -0.6053552258802258,
          1.2369376797088558,
          -0.31288524593048567,
          -1.2768501683975995,
          0.7982664454690171,
          -1.7643618109254788,
          -0.811118605847453,
          1.2951679229500286,
          -0.5854378238328967,
          0.47684752071529896,
          0.9688847295206476,
          0.7712204269970987,
          0.8636594318791391,
          2.1167005179164633,
          -0.9844880853538838,
          1.2052110702155194,
          0.4144965537564156,
          1.0314589125244964,
          -1.2820386325245927,
          0.5374622995845217,
          -0.4520476062643819,
          1.2807767910756398,
          1.3970913949970318,
          0.554529182743638,
          -1.4245469028483584,
          2.432163068242666,
          0.34647454582703535,
          -1.8478283792744057,
          -0.7064116298140908,
          1.859026792963264,
          -0.11696447813985389,
          0.9735706653895554,
          0.020069778038250087,
          -0.2732078870868064,
          -1.625893501364898,
          -0.518832871958972,
          0.7570499806819221,
          -1.301647411726088,
          1.5233125926959512,
          0.910044161471426,
          -0.33904257065357996,
          0.25474211578164113,
          1.1624261743592201,
          -0.7457019139210698,
          -1.6968774589933917,
          1.760395656633342,
          1.7512558019532765,
          -1.9529937894171276,
          0.8706668134873103,
          2.0085760859346675,
          -1.2514649889890979,
          -1.6069294260493898,
          -0.6751228541249964,
          1.1438933704419452,
          -0.21981377357202245,
          0.4179370726020009,
          1.0037769259192542,
          -0.06225916587349727,
          -1.0071835665242848,
          0.8860296914099619,
          -1.4572370310223877,
          1.8521215110090443,
          -0.27766424372092186,
          1.2084828291118057,
          0.19077267955785543,
          -0.15568801418483896,
          0.17864014027450703,
          -0.6130945856449158,
          -0.1287209969592928,
          -0.7899352961622775,
          -1.9330750344297394,
          2.0732887918319127,
          -0.7619479677020401,
          1.128771926760258,
          -0.7709363883695314,
          0.28608363017405264,
          -2.672688771194465,
          1.5523201724331546,
          2.011955348554818
         ],
         "yaxis": "y14"
        },
        {
         "line": {
          "color": "rgba(128, 128, 128, 1.0)",
          "dash": "solid",
          "shape": "linear",
          "width": 1.3
         },
         "marker": {
          "size": 2,
          "symbol": "circle"
         },
         "mode": "markers",
         "name": "D",
         "text": "",
         "type": "scatter",
         "x": [
          0.48770381939872043,
          0.6337244646989464,
          -3.1557932704130356,
          0.13277998013457565,
          0.7385655314420786,
          -0.17177067756252173,
          -0.1372915094467543,
          -0.2521100174920825,
          -0.7774859643586567,
          0.4888304720428742,
          -0.46697233675600003,
          -1.0819972685815615,
          -1.3812411940185036,
          -1.2088517545524282,
          -1.2972061988940717,
          -1.195413296751463,
          -1.147470324560883,
          1.0902866948145171,
          1.1908114172648354,
          -0.2588208225848617,
          0.16487657420726892,
          -0.78826656830748,
          1.0000343713868642,
          -1.0091815010874154,
          -0.5680773691675439,
          1.1810661210830304,
          0.38954133539864827,
          -0.613964571092336,
          -0.2565088361673165,
          -0.7692082849354274,
          0.19774049769912005,
          0.39711873710136963,
          -0.5873094150104916,
          -0.02252466688228671,
          -0.9960725147726376,
          0.8836696924678572,
          -0.3196822783432801,
          -0.9598081652904585,
          -2.3185673570155316,
          0.9199286678318811,
          0.18124349088991892,
          -0.31241113338341514,
          0.931766188329038,
          -1.2454367421348072,
          0.17716748816653816,
          0.29627078620326086,
          0.8886308256683672,
          2.246831034283235,
          0.6974303836348403,
          0.35598131814521045,
          -1.823543353599711,
          -0.8486094691505909,
          0.16042258280947191,
          -0.9794789734321424,
          0.6502538943693912,
          0.6859471110716626,
          -1.8397195416762484,
          0.5544046760632084,
          -0.5061463738217713,
          -0.19623271406017556,
          -1.5963826590813122,
          -0.09770348156614135,
          -0.5869174731331128,
          -0.12032149904486354,
          0.00906488876886795,
          -0.07751737400332452,
          0.2942284421113961,
          -0.16243607623161602,
          -1.001587800308482,
          0.1963253087192484,
          1.206464312604639,
          0.2187961464973971,
          1.0838671968192073,
          1.2959649012162449,
          -0.5544573556215677,
          0.6128769748117964,
          0.1711954142874357,
          -1.3040069094496094,
          -0.09275279405669301,
          0.7398849781895165,
          0.09292219747002482,
          -0.10762784448538183,
          0.3055312720579075,
          -0.6089474399581859,
          -0.46820295927356165,
          1.9897358749891223,
          1.9776531201514929,
          0.26161052895794557,
          -0.2684909093050987,
          0.0001358910229118881,
          2.007654473522146,
          1.2945754067521074,
          1.9892544961413128,
          -1.6358499033444638,
          0.4549748462649961,
          0.735184341285063,
          -0.6712417072387005,
          0.0816993806422588,
          0.646955250762791,
          1.590420413439015
         ],
         "xaxis": "x15",
         "y": [
          -0.22718918537328062,
          1.2204972813783754,
          -0.511127342703104,
          -0.919995696143732,
          1.4876569281486498,
          0.5261798293815041,
          1.4404686230606762,
          0.012310079690618186,
          -1.4169393918652915,
          0.8430806027133654,
          0.8060404508229926,
          0.09134447928922484,
          -0.4391707391338882,
          -1.136109425411929,
          -0.9558725097488121,
          -0.43903936073790056,
          0.6400684969235082,
          -2.8926497540659173,
          1.2862065354897847,
          0.5363547692785966,
          0.027208726919927866,
          -0.6053552258802258,
          1.2369376797088558,
          -0.31288524593048567,
          -1.2768501683975995,
          0.7982664454690171,
          -1.7643618109254788,
          -0.811118605847453,
          1.2951679229500286,
          -0.5854378238328967,
          0.47684752071529896,
          0.9688847295206476,
          0.7712204269970987,
          0.8636594318791391,
          2.1167005179164633,
          -0.9844880853538838,
          1.2052110702155194,
          0.4144965537564156,
          1.0314589125244964,
          -1.2820386325245927,
          0.5374622995845217,
          -0.4520476062643819,
          1.2807767910756398,
          1.3970913949970318,
          0.554529182743638,
          -1.4245469028483584,
          2.432163068242666,
          0.34647454582703535,
          -1.8478283792744057,
          -0.7064116298140908,
          1.859026792963264,
          -0.11696447813985389,
          0.9735706653895554,
          0.020069778038250087,
          -0.2732078870868064,
          -1.625893501364898,
          -0.518832871958972,
          0.7570499806819221,
          -1.301647411726088,
          1.5233125926959512,
          0.910044161471426,
          -0.33904257065357996,
          0.25474211578164113,
          1.1624261743592201,
          -0.7457019139210698,
          -1.6968774589933917,
          1.760395656633342,
          1.7512558019532765,
          -1.9529937894171276,
          0.8706668134873103,
          2.0085760859346675,
          -1.2514649889890979,
          -1.6069294260493898,
          -0.6751228541249964,
          1.1438933704419452,
          -0.21981377357202245,
          0.4179370726020009,
          1.0037769259192542,
          -0.06225916587349727,
          -1.0071835665242848,
          0.8860296914099619,
          -1.4572370310223877,
          1.8521215110090443,
          -0.27766424372092186,
          1.2084828291118057,
          0.19077267955785543,
          -0.15568801418483896,
          0.17864014027450703,
          -0.6130945856449158,
          -0.1287209969592928,
          -0.7899352961622775,
          -1.9330750344297394,
          2.0732887918319127,
          -0.7619479677020401,
          1.128771926760258,
          -0.7709363883695314,
          0.28608363017405264,
          -2.672688771194465,
          1.5523201724331546,
          2.011955348554818
         ],
         "yaxis": "y15"
        },
        {
         "histfunc": "count",
         "histnorm": "",
         "marker": {
          "color": "rgba(128, 0, 128, 1.0)",
          "line": {
           "color": "#4D5663",
           "width": 1.3
          }
         },
         "name": "D",
         "nbinsx": 10,
         "opacity": 0.8,
         "orientation": "v",
         "type": "histogram",
         "x": [
          -0.22718918537328062,
          1.2204972813783754,
          -0.511127342703104,
          -0.919995696143732,
          1.4876569281486498,
          0.5261798293815041,
          1.4404686230606762,
          0.012310079690618186,
          -1.4169393918652915,
          0.8430806027133654,
          0.8060404508229926,
          0.09134447928922484,
          -0.4391707391338882,
          -1.136109425411929,
          -0.9558725097488121,
          -0.43903936073790056,
          0.6400684969235082,
          -2.8926497540659173,
          1.2862065354897847,
          0.5363547692785966,
          0.027208726919927866,
          -0.6053552258802258,
          1.2369376797088558,
          -0.31288524593048567,
          -1.2768501683975995,
          0.7982664454690171,
          -1.7643618109254788,
          -0.811118605847453,
          1.2951679229500286,
          -0.5854378238328967,
          0.47684752071529896,
          0.9688847295206476,
          0.7712204269970987,
          0.8636594318791391,
          2.1167005179164633,
          -0.9844880853538838,
          1.2052110702155194,
          0.4144965537564156,
          1.0314589125244964,
          -1.2820386325245927,
          0.5374622995845217,
          -0.4520476062643819,
          1.2807767910756398,
          1.3970913949970318,
          0.554529182743638,
          -1.4245469028483584,
          2.432163068242666,
          0.34647454582703535,
          -1.8478283792744057,
          -0.7064116298140908,
          1.859026792963264,
          -0.11696447813985389,
          0.9735706653895554,
          0.020069778038250087,
          -0.2732078870868064,
          -1.625893501364898,
          -0.518832871958972,
          0.7570499806819221,
          -1.301647411726088,
          1.5233125926959512,
          0.910044161471426,
          -0.33904257065357996,
          0.25474211578164113,
          1.1624261743592201,
          -0.7457019139210698,
          -1.6968774589933917,
          1.760395656633342,
          1.7512558019532765,
          -1.9529937894171276,
          0.8706668134873103,
          2.0085760859346675,
          -1.2514649889890979,
          -1.6069294260493898,
          -0.6751228541249964,
          1.1438933704419452,
          -0.21981377357202245,
          0.4179370726020009,
          1.0037769259192542,
          -0.06225916587349727,
          -1.0071835665242848,
          0.8860296914099619,
          -1.4572370310223877,
          1.8521215110090443,
          -0.27766424372092186,
          1.2084828291118057,
          0.19077267955785543,
          -0.15568801418483896,
          0.17864014027450703,
          -0.6130945856449158,
          -0.1287209969592928,
          -0.7899352961622775,
          -1.9330750344297394,
          2.0732887918319127,
          -0.7619479677020401,
          1.128771926760258,
          -0.7709363883695314,
          0.28608363017405264,
          -2.672688771194465,
          1.5523201724331546,
          2.011955348554818
         ],
         "xaxis": "x16",
         "yaxis": "y16"
        }
       ],
       "layout": {
        "bargap": 0.02,
        "legend": {
         "bgcolor": "#F5F6F9",
         "font": {
          "color": "#4D5663"
         }
        },
        "paper_bgcolor": "#F5F6F9",
        "plot_bgcolor": "#F5F6F9",
        "showlegend": false,
        "template": {
         "data": {
          "bar": [
           {
            "error_x": {
             "color": "#2a3f5f"
            },
            "error_y": {
             "color": "#2a3f5f"
            },
            "marker": {
             "line": {
              "color": "#E5ECF6",
              "width": 0.5
             }
            },
            "type": "bar"
           }
          ],
          "barpolar": [
           {
            "marker": {
             "line": {
              "color": "#E5ECF6",
              "width": 0.5
             }
            },
            "type": "barpolar"
           }
          ],
          "carpet": [
           {
            "aaxis": {
             "endlinecolor": "#2a3f5f",
             "gridcolor": "white",
             "linecolor": "white",
             "minorgridcolor": "white",
             "startlinecolor": "#2a3f5f"
            },
            "baxis": {
             "endlinecolor": "#2a3f5f",
             "gridcolor": "white",
             "linecolor": "white",
             "minorgridcolor": "white",
             "startlinecolor": "#2a3f5f"
            },
            "type": "carpet"
           }
          ],
          "choropleth": [
           {
            "colorbar": {
             "outlinewidth": 0,
             "ticks": ""
            },
            "type": "choropleth"
           }
          ],
          "contour": [
           {
            "colorbar": {
             "outlinewidth": 0,
             "ticks": ""
            },
            "colorscale": [
             [
              0,
              "#0d0887"
             ],
             [
              0.1111111111111111,
              "#46039f"
             ],
             [
              0.2222222222222222,
              "#7201a8"
             ],
             [
              0.3333333333333333,
              "#9c179e"
             ],
             [
              0.4444444444444444,
              "#bd3786"
             ],
             [
              0.5555555555555556,
              "#d8576b"
             ],
             [
              0.6666666666666666,
              "#ed7953"
             ],
             [
              0.7777777777777778,
              "#fb9f3a"
             ],
             [
              0.8888888888888888,
              "#fdca26"
             ],
             [
              1,
              "#f0f921"
             ]
            ],
            "type": "contour"
           }
          ],
          "contourcarpet": [
           {
            "colorbar": {
             "outlinewidth": 0,
             "ticks": ""
            },
            "type": "contourcarpet"
           }
          ],
          "heatmap": [
           {
            "colorbar": {
             "outlinewidth": 0,
             "ticks": ""
            },
            "colorscale": [
             [
              0,
              "#0d0887"
             ],
             [
              0.1111111111111111,
              "#46039f"
             ],
             [
              0.2222222222222222,
              "#7201a8"
             ],
             [
              0.3333333333333333,
              "#9c179e"
             ],
             [
              0.4444444444444444,
              "#bd3786"
             ],
             [
              0.5555555555555556,
              "#d8576b"
             ],
             [
              0.6666666666666666,
              "#ed7953"
             ],
             [
              0.7777777777777778,
              "#fb9f3a"
             ],
             [
              0.8888888888888888,
              "#fdca26"
             ],
             [
              1,
              "#f0f921"
             ]
            ],
            "type": "heatmap"
           }
          ],
          "heatmapgl": [
           {
            "colorbar": {
             "outlinewidth": 0,
             "ticks": ""
            },
            "colorscale": [
             [
              0,
              "#0d0887"
             ],
             [
              0.1111111111111111,
              "#46039f"
             ],
             [
              0.2222222222222222,
              "#7201a8"
             ],
             [
              0.3333333333333333,
              "#9c179e"
             ],
             [
              0.4444444444444444,
              "#bd3786"
             ],
             [
              0.5555555555555556,
              "#d8576b"
             ],
             [
              0.6666666666666666,
              "#ed7953"
             ],
             [
              0.7777777777777778,
              "#fb9f3a"
             ],
             [
              0.8888888888888888,
              "#fdca26"
             ],
             [
              1,
              "#f0f921"
             ]
            ],
            "type": "heatmapgl"
           }
          ],
          "histogram": [
           {
            "marker": {
             "colorbar": {
              "outlinewidth": 0,
              "ticks": ""
             }
            },
            "type": "histogram"
           }
          ],
          "histogram2d": [
           {
            "colorbar": {
             "outlinewidth": 0,
             "ticks": ""
            },
            "colorscale": [
             [
              0,
              "#0d0887"
             ],
             [
              0.1111111111111111,
              "#46039f"
             ],
             [
              0.2222222222222222,
              "#7201a8"
             ],
             [
              0.3333333333333333,
              "#9c179e"
             ],
             [
              0.4444444444444444,
              "#bd3786"
             ],
             [
              0.5555555555555556,
              "#d8576b"
             ],
             [
              0.6666666666666666,
              "#ed7953"
             ],
             [
              0.7777777777777778,
              "#fb9f3a"
             ],
             [
              0.8888888888888888,
              "#fdca26"
             ],
             [
              1,
              "#f0f921"
             ]
            ],
            "type": "histogram2d"
           }
          ],
          "histogram2dcontour": [
           {
            "colorbar": {
             "outlinewidth": 0,
             "ticks": ""
            },
            "colorscale": [
             [
              0,
              "#0d0887"
             ],
             [
              0.1111111111111111,
              "#46039f"
             ],
             [
              0.2222222222222222,
              "#7201a8"
             ],
             [
              0.3333333333333333,
              "#9c179e"
             ],
             [
              0.4444444444444444,
              "#bd3786"
             ],
             [
              0.5555555555555556,
              "#d8576b"
             ],
             [
              0.6666666666666666,
              "#ed7953"
             ],
             [
              0.7777777777777778,
              "#fb9f3a"
             ],
             [
              0.8888888888888888,
              "#fdca26"
             ],
             [
              1,
              "#f0f921"
             ]
            ],
            "type": "histogram2dcontour"
           }
          ],
          "mesh3d": [
           {
            "colorbar": {
             "outlinewidth": 0,
             "ticks": ""
            },
            "type": "mesh3d"
           }
          ],
          "parcoords": [
           {
            "line": {
             "colorbar": {
              "outlinewidth": 0,
              "ticks": ""
             }
            },
            "type": "parcoords"
           }
          ],
          "pie": [
           {
            "automargin": true,
            "type": "pie"
           }
          ],
          "scatter": [
           {
            "marker": {
             "colorbar": {
              "outlinewidth": 0,
              "ticks": ""
             }
            },
            "type": "scatter"
           }
          ],
          "scatter3d": [
           {
            "line": {
             "colorbar": {
              "outlinewidth": 0,
              "ticks": ""
             }
            },
            "marker": {
             "colorbar": {
              "outlinewidth": 0,
              "ticks": ""
             }
            },
            "type": "scatter3d"
           }
          ],
          "scattercarpet": [
           {
            "marker": {
             "colorbar": {
              "outlinewidth": 0,
              "ticks": ""
             }
            },
            "type": "scattercarpet"
           }
          ],
          "scattergeo": [
           {
            "marker": {
             "colorbar": {
              "outlinewidth": 0,
              "ticks": ""
             }
            },
            "type": "scattergeo"
           }
          ],
          "scattergl": [
           {
            "marker": {
             "colorbar": {
              "outlinewidth": 0,
              "ticks": ""
             }
            },
            "type": "scattergl"
           }
          ],
          "scattermapbox": [
           {
            "marker": {
             "colorbar": {
              "outlinewidth": 0,
              "ticks": ""
             }
            },
            "type": "scattermapbox"
           }
          ],
          "scatterpolar": [
           {
            "marker": {
             "colorbar": {
              "outlinewidth": 0,
              "ticks": ""
             }
            },
            "type": "scatterpolar"
           }
          ],
          "scatterpolargl": [
           {
            "marker": {
             "colorbar": {
              "outlinewidth": 0,
              "ticks": ""
             }
            },
            "type": "scatterpolargl"
           }
          ],
          "scatterternary": [
           {
            "marker": {
             "colorbar": {
              "outlinewidth": 0,
              "ticks": ""
             }
            },
            "type": "scatterternary"
           }
          ],
          "surface": [
           {
            "colorbar": {
             "outlinewidth": 0,
             "ticks": ""
            },
            "colorscale": [
             [
              0,
              "#0d0887"
             ],
             [
              0.1111111111111111,
              "#46039f"
             ],
             [
              0.2222222222222222,
              "#7201a8"
             ],
             [
              0.3333333333333333,
              "#9c179e"
             ],
             [
              0.4444444444444444,
              "#bd3786"
             ],
             [
              0.5555555555555556,
              "#d8576b"
             ],
             [
              0.6666666666666666,
              "#ed7953"
             ],
             [
              0.7777777777777778,
              "#fb9f3a"
             ],
             [
              0.8888888888888888,
              "#fdca26"
             ],
             [
              1,
              "#f0f921"
             ]
            ],
            "type": "surface"
           }
          ],
          "table": [
           {
            "cells": {
             "fill": {
              "color": "#EBF0F8"
             },
             "line": {
              "color": "white"
             }
            },
            "header": {
             "fill": {
              "color": "#C8D4E3"
             },
             "line": {
              "color": "white"
             }
            },
            "type": "table"
           }
          ]
         },
         "layout": {
          "annotationdefaults": {
           "arrowcolor": "#2a3f5f",
           "arrowhead": 0,
           "arrowwidth": 1
          },
          "autotypenumbers": "strict",
          "coloraxis": {
           "colorbar": {
            "outlinewidth": 0,
            "ticks": ""
           }
          },
          "colorscale": {
           "diverging": [
            [
             0,
             "#8e0152"
            ],
            [
             0.1,
             "#c51b7d"
            ],
            [
             0.2,
             "#de77ae"
            ],
            [
             0.3,
             "#f1b6da"
            ],
            [
             0.4,
             "#fde0ef"
            ],
            [
             0.5,
             "#f7f7f7"
            ],
            [
             0.6,
             "#e6f5d0"
            ],
            [
             0.7,
             "#b8e186"
            ],
            [
             0.8,
             "#7fbc41"
            ],
            [
             0.9,
             "#4d9221"
            ],
            [
             1,
             "#276419"
            ]
           ],
           "sequential": [
            [
             0,
             "#0d0887"
            ],
            [
             0.1111111111111111,
             "#46039f"
            ],
            [
             0.2222222222222222,
             "#7201a8"
            ],
            [
             0.3333333333333333,
             "#9c179e"
            ],
            [
             0.4444444444444444,
             "#bd3786"
            ],
            [
             0.5555555555555556,
             "#d8576b"
            ],
            [
             0.6666666666666666,
             "#ed7953"
            ],
            [
             0.7777777777777778,
             "#fb9f3a"
            ],
            [
             0.8888888888888888,
             "#fdca26"
            ],
            [
             1,
             "#f0f921"
            ]
           ],
           "sequentialminus": [
            [
             0,
             "#0d0887"
            ],
            [
             0.1111111111111111,
             "#46039f"
            ],
            [
             0.2222222222222222,
             "#7201a8"
            ],
            [
             0.3333333333333333,
             "#9c179e"
            ],
            [
             0.4444444444444444,
             "#bd3786"
            ],
            [
             0.5555555555555556,
             "#d8576b"
            ],
            [
             0.6666666666666666,
             "#ed7953"
            ],
            [
             0.7777777777777778,
             "#fb9f3a"
            ],
            [
             0.8888888888888888,
             "#fdca26"
            ],
            [
             1,
             "#f0f921"
            ]
           ]
          },
          "colorway": [
           "#636efa",
           "#EF553B",
           "#00cc96",
           "#ab63fa",
           "#FFA15A",
           "#19d3f3",
           "#FF6692",
           "#B6E880",
           "#FF97FF",
           "#FECB52"
          ],
          "font": {
           "color": "#2a3f5f"
          },
          "geo": {
           "bgcolor": "white",
           "lakecolor": "white",
           "landcolor": "#E5ECF6",
           "showlakes": true,
           "showland": true,
           "subunitcolor": "white"
          },
          "hoverlabel": {
           "align": "left"
          },
          "hovermode": "closest",
          "mapbox": {
           "style": "light"
          },
          "paper_bgcolor": "white",
          "plot_bgcolor": "#E5ECF6",
          "polar": {
           "angularaxis": {
            "gridcolor": "white",
            "linecolor": "white",
            "ticks": ""
           },
           "bgcolor": "#E5ECF6",
           "radialaxis": {
            "gridcolor": "white",
            "linecolor": "white",
            "ticks": ""
           }
          },
          "scene": {
           "xaxis": {
            "backgroundcolor": "#E5ECF6",
            "gridcolor": "white",
            "gridwidth": 2,
            "linecolor": "white",
            "showbackground": true,
            "ticks": "",
            "zerolinecolor": "white"
           },
           "yaxis": {
            "backgroundcolor": "#E5ECF6",
            "gridcolor": "white",
            "gridwidth": 2,
            "linecolor": "white",
            "showbackground": true,
            "ticks": "",
            "zerolinecolor": "white"
           },
           "zaxis": {
            "backgroundcolor": "#E5ECF6",
            "gridcolor": "white",
            "gridwidth": 2,
            "linecolor": "white",
            "showbackground": true,
            "ticks": "",
            "zerolinecolor": "white"
           }
          },
          "shapedefaults": {
           "line": {
            "color": "#2a3f5f"
           }
          },
          "ternary": {
           "aaxis": {
            "gridcolor": "white",
            "linecolor": "white",
            "ticks": ""
           },
           "baxis": {
            "gridcolor": "white",
            "linecolor": "white",
            "ticks": ""
           },
           "bgcolor": "#E5ECF6",
           "caxis": {
            "gridcolor": "white",
            "linecolor": "white",
            "ticks": ""
           }
          },
          "title": {
           "x": 0.05
          },
          "xaxis": {
           "automargin": true,
           "gridcolor": "white",
           "linecolor": "white",
           "ticks": "",
           "title": {
            "standoff": 15
           },
           "zerolinecolor": "white",
           "zerolinewidth": 2
          },
          "yaxis": {
           "automargin": true,
           "gridcolor": "white",
           "linecolor": "white",
           "ticks": "",
           "title": {
            "standoff": 15
           },
           "zerolinecolor": "white",
           "zerolinewidth": 2
          }
         }
        },
        "title": {
         "font": {
          "color": "#4D5663"
         }
        },
        "xaxis": {
         "anchor": "y",
         "domain": [
          0,
          0.2125
         ],
         "gridcolor": "#E1E5ED",
         "showgrid": false,
         "tickfont": {
          "color": "#4D5663"
         },
         "title": {
          "font": {
           "color": "#4D5663"
          },
          "text": ""
         },
         "zerolinecolor": "#E1E5ED"
        },
        "xaxis10": {
         "anchor": "y10",
         "domain": [
          0.2625,
          0.475
         ],
         "gridcolor": "#E1E5ED",
         "showgrid": false,
         "tickfont": {
          "color": "#4D5663"
         },
         "title": {
          "font": {
           "color": "#4D5663"
          },
          "text": ""
         },
         "zerolinecolor": "#E1E5ED"
        },
        "xaxis11": {
         "anchor": "y11",
         "domain": [
          0.525,
          0.7375
         ],
         "gridcolor": "#E1E5ED",
         "showgrid": false,
         "tickfont": {
          "color": "#4D5663"
         },
         "title": {
          "font": {
           "color": "#4D5663"
          },
          "text": ""
         },
         "zerolinecolor": "#E1E5ED"
        },
        "xaxis12": {
         "anchor": "y12",
         "domain": [
          0.7875,
          1
         ],
         "gridcolor": "#E1E5ED",
         "showgrid": false,
         "tickfont": {
          "color": "#4D5663"
         },
         "title": {
          "font": {
           "color": "#4D5663"
          },
          "text": ""
         },
         "zerolinecolor": "#E1E5ED"
        },
        "xaxis13": {
         "anchor": "y13",
         "domain": [
          0,
          0.2125
         ],
         "gridcolor": "#E1E5ED",
         "showgrid": false,
         "tickfont": {
          "color": "#4D5663"
         },
         "title": {
          "font": {
           "color": "#4D5663"
          },
          "text": ""
         },
         "zerolinecolor": "#E1E5ED"
        },
        "xaxis14": {
         "anchor": "y14",
         "domain": [
          0.2625,
          0.475
         ],
         "gridcolor": "#E1E5ED",
         "showgrid": false,
         "tickfont": {
          "color": "#4D5663"
         },
         "title": {
          "font": {
           "color": "#4D5663"
          },
          "text": ""
         },
         "zerolinecolor": "#E1E5ED"
        },
        "xaxis15": {
         "anchor": "y15",
         "domain": [
          0.525,
          0.7375
         ],
         "gridcolor": "#E1E5ED",
         "showgrid": false,
         "tickfont": {
          "color": "#4D5663"
         },
         "title": {
          "font": {
           "color": "#4D5663"
          },
          "text": ""
         },
         "zerolinecolor": "#E1E5ED"
        },
        "xaxis16": {
         "anchor": "y16",
         "domain": [
          0.7875,
          1
         ],
         "gridcolor": "#E1E5ED",
         "showgrid": false,
         "tickfont": {
          "color": "#4D5663"
         },
         "title": {
          "font": {
           "color": "#4D5663"
          },
          "text": ""
         },
         "zerolinecolor": "#E1E5ED"
        },
        "xaxis2": {
         "anchor": "y2",
         "domain": [
          0.2625,
          0.475
         ],
         "gridcolor": "#E1E5ED",
         "showgrid": false,
         "tickfont": {
          "color": "#4D5663"
         },
         "title": {
          "font": {
           "color": "#4D5663"
          },
          "text": ""
         },
         "zerolinecolor": "#E1E5ED"
        },
        "xaxis3": {
         "anchor": "y3",
         "domain": [
          0.525,
          0.7375
         ],
         "gridcolor": "#E1E5ED",
         "showgrid": false,
         "tickfont": {
          "color": "#4D5663"
         },
         "title": {
          "font": {
           "color": "#4D5663"
          },
          "text": ""
         },
         "zerolinecolor": "#E1E5ED"
        },
        "xaxis4": {
         "anchor": "y4",
         "domain": [
          0.7875,
          1
         ],
         "gridcolor": "#E1E5ED",
         "showgrid": false,
         "tickfont": {
          "color": "#4D5663"
         },
         "title": {
          "font": {
           "color": "#4D5663"
          },
          "text": ""
         },
         "zerolinecolor": "#E1E5ED"
        },
        "xaxis5": {
         "anchor": "y5",
         "domain": [
          0,
          0.2125
         ],
         "gridcolor": "#E1E5ED",
         "showgrid": false,
         "tickfont": {
          "color": "#4D5663"
         },
         "title": {
          "font": {
           "color": "#4D5663"
          },
          "text": ""
         },
         "zerolinecolor": "#E1E5ED"
        },
        "xaxis6": {
         "anchor": "y6",
         "domain": [
          0.2625,
          0.475
         ],
         "gridcolor": "#E1E5ED",
         "showgrid": false,
         "tickfont": {
          "color": "#4D5663"
         },
         "title": {
          "font": {
           "color": "#4D5663"
          },
          "text": ""
         },
         "zerolinecolor": "#E1E5ED"
        },
        "xaxis7": {
         "anchor": "y7",
         "domain": [
          0.525,
          0.7375
         ],
         "gridcolor": "#E1E5ED",
         "showgrid": false,
         "tickfont": {
          "color": "#4D5663"
         },
         "title": {
          "font": {
           "color": "#4D5663"
          },
          "text": ""
         },
         "zerolinecolor": "#E1E5ED"
        },
        "xaxis8": {
         "anchor": "y8",
         "domain": [
          0.7875,
          1
         ],
         "gridcolor": "#E1E5ED",
         "showgrid": false,
         "tickfont": {
          "color": "#4D5663"
         },
         "title": {
          "font": {
           "color": "#4D5663"
          },
          "text": ""
         },
         "zerolinecolor": "#E1E5ED"
        },
        "xaxis9": {
         "anchor": "y9",
         "domain": [
          0,
          0.2125
         ],
         "gridcolor": "#E1E5ED",
         "showgrid": false,
         "tickfont": {
          "color": "#4D5663"
         },
         "title": {
          "font": {
           "color": "#4D5663"
          },
          "text": ""
         },
         "zerolinecolor": "#E1E5ED"
        },
        "yaxis": {
         "anchor": "x",
         "domain": [
          0.8025,
          1
         ],
         "gridcolor": "#E1E5ED",
         "showgrid": false,
         "tickfont": {
          "color": "#4D5663"
         },
         "title": {
          "font": {
           "color": "#4D5663"
          },
          "text": ""
         },
         "zerolinecolor": "#E1E5ED"
        },
        "yaxis10": {
         "anchor": "x10",
         "domain": [
          0.2675,
          0.465
         ],
         "gridcolor": "#E1E5ED",
         "showgrid": false,
         "tickfont": {
          "color": "#4D5663"
         },
         "title": {
          "font": {
           "color": "#4D5663"
          },
          "text": ""
         },
         "zerolinecolor": "#E1E5ED"
        },
        "yaxis11": {
         "anchor": "x11",
         "domain": [
          0.2675,
          0.465
         ],
         "gridcolor": "#E1E5ED",
         "showgrid": false,
         "tickfont": {
          "color": "#4D5663"
         },
         "title": {
          "font": {
           "color": "#4D5663"
          },
          "text": ""
         },
         "zerolinecolor": "#E1E5ED"
        },
        "yaxis12": {
         "anchor": "x12",
         "domain": [
          0.2675,
          0.465
         ],
         "gridcolor": "#E1E5ED",
         "showgrid": false,
         "tickfont": {
          "color": "#4D5663"
         },
         "title": {
          "font": {
           "color": "#4D5663"
          },
          "text": ""
         },
         "zerolinecolor": "#E1E5ED"
        },
        "yaxis13": {
         "anchor": "x13",
         "domain": [
          0,
          0.1975
         ],
         "gridcolor": "#E1E5ED",
         "showgrid": false,
         "tickfont": {
          "color": "#4D5663"
         },
         "title": {
          "font": {
           "color": "#4D5663"
          },
          "text": ""
         },
         "zerolinecolor": "#E1E5ED"
        },
        "yaxis14": {
         "anchor": "x14",
         "domain": [
          0,
          0.1975
         ],
         "gridcolor": "#E1E5ED",
         "showgrid": false,
         "tickfont": {
          "color": "#4D5663"
         },
         "title": {
          "font": {
           "color": "#4D5663"
          },
          "text": ""
         },
         "zerolinecolor": "#E1E5ED"
        },
        "yaxis15": {
         "anchor": "x15",
         "domain": [
          0,
          0.1975
         ],
         "gridcolor": "#E1E5ED",
         "showgrid": false,
         "tickfont": {
          "color": "#4D5663"
         },
         "title": {
          "font": {
           "color": "#4D5663"
          },
          "text": ""
         },
         "zerolinecolor": "#E1E5ED"
        },
        "yaxis16": {
         "anchor": "x16",
         "domain": [
          0,
          0.1975
         ],
         "gridcolor": "#E1E5ED",
         "showgrid": false,
         "tickfont": {
          "color": "#4D5663"
         },
         "title": {
          "font": {
           "color": "#4D5663"
          },
          "text": ""
         },
         "zerolinecolor": "#E1E5ED"
        },
        "yaxis2": {
         "anchor": "x2",
         "domain": [
          0.8025,
          1
         ],
         "gridcolor": "#E1E5ED",
         "showgrid": false,
         "tickfont": {
          "color": "#4D5663"
         },
         "title": {
          "font": {
           "color": "#4D5663"
          },
          "text": ""
         },
         "zerolinecolor": "#E1E5ED"
        },
        "yaxis3": {
         "anchor": "x3",
         "domain": [
          0.8025,
          1
         ],
         "gridcolor": "#E1E5ED",
         "showgrid": false,
         "tickfont": {
          "color": "#4D5663"
         },
         "title": {
          "font": {
           "color": "#4D5663"
          },
          "text": ""
         },
         "zerolinecolor": "#E1E5ED"
        },
        "yaxis4": {
         "anchor": "x4",
         "domain": [
          0.8025,
          1
         ],
         "gridcolor": "#E1E5ED",
         "showgrid": false,
         "tickfont": {
          "color": "#4D5663"
         },
         "title": {
          "font": {
           "color": "#4D5663"
          },
          "text": ""
         },
         "zerolinecolor": "#E1E5ED"
        },
        "yaxis5": {
         "anchor": "x5",
         "domain": [
          0.535,
          0.7325
         ],
         "gridcolor": "#E1E5ED",
         "showgrid": false,
         "tickfont": {
          "color": "#4D5663"
         },
         "title": {
          "font": {
           "color": "#4D5663"
          },
          "text": ""
         },
         "zerolinecolor": "#E1E5ED"
        },
        "yaxis6": {
         "anchor": "x6",
         "domain": [
          0.535,
          0.7325
         ],
         "gridcolor": "#E1E5ED",
         "showgrid": false,
         "tickfont": {
          "color": "#4D5663"
         },
         "title": {
          "font": {
           "color": "#4D5663"
          },
          "text": ""
         },
         "zerolinecolor": "#E1E5ED"
        },
        "yaxis7": {
         "anchor": "x7",
         "domain": [
          0.535,
          0.7325
         ],
         "gridcolor": "#E1E5ED",
         "showgrid": false,
         "tickfont": {
          "color": "#4D5663"
         },
         "title": {
          "font": {
           "color": "#4D5663"
          },
          "text": ""
         },
         "zerolinecolor": "#E1E5ED"
        },
        "yaxis8": {
         "anchor": "x8",
         "domain": [
          0.535,
          0.7325
         ],
         "gridcolor": "#E1E5ED",
         "showgrid": false,
         "tickfont": {
          "color": "#4D5663"
         },
         "title": {
          "font": {
           "color": "#4D5663"
          },
          "text": ""
         },
         "zerolinecolor": "#E1E5ED"
        },
        "yaxis9": {
         "anchor": "x9",
         "domain": [
          0.2675,
          0.465
         ],
         "gridcolor": "#E1E5ED",
         "showgrid": false,
         "tickfont": {
          "color": "#4D5663"
         },
         "title": {
          "font": {
           "color": "#4D5663"
          },
          "text": ""
         },
         "zerolinecolor": "#E1E5ED"
        }
       }
      },
      "text/html": [
       "<div>                            <div id=\"e0469712-a5fe-47e7-9f7d-6ce9d52a1d59\" class=\"plotly-graph-div\" style=\"height:525px; width:100%;\"></div>            <script type=\"text/javascript\">                require([\"plotly\"], function(Plotly) {                    window.PLOTLYENV=window.PLOTLYENV || {};\n",
       "                    window.PLOTLYENV.BASE_URL='https://plot.ly';                                    if (document.getElementById(\"e0469712-a5fe-47e7-9f7d-6ce9d52a1d59\")) {                    Plotly.newPlot(                        \"e0469712-a5fe-47e7-9f7d-6ce9d52a1d59\",                        [{\"histfunc\": \"count\", \"histnorm\": \"\", \"marker\": {\"color\": \"rgba(255, 153, 51, 1.0)\", \"line\": {\"color\": \"#4D5663\", \"width\": 1.3}}, \"name\": \"A\", \"nbinsx\": 10, \"opacity\": 0.8, \"orientation\": \"v\", \"type\": \"histogram\", \"x\": [-0.5480110889074034, -1.2920697014009046, -2.064720383032337, -0.6381949964348836, 0.010212759440209999, 0.794812443048594, -0.7278279442870339, 0.4489067925814845, 1.904784576609507, -1.3032659971088971, 0.11803057830902464, -1.5910540183384845, 0.4036629730575678, 0.9632264730942721, 1.5324411476637259, -0.04707130340337131, 0.11174868107368494, -1.3117900265057767, -1.3083957993452056, 0.696980809380999, 0.7592163244817444, 0.5250669680979622, -0.4449756900036982, -1.0014267626093265, -0.21335743445110616, -0.8514794630132676, 0.2749573360612918, -0.8733300478379218, 0.09463458411882031, 1.4455483762466403, 0.006188882128480812, -0.22631608313192741, -0.29524855487515117, 0.1812433420156424, 0.4615963474822817, -1.3250089684363293, -0.009448308083683389, -0.24835897398064555, 1.2246504102660027, 0.7647812090938544, 0.2923490017652167, 0.5484764320989512, 1.3636654624881206, -1.098554817005937, 0.05323209135417297, -0.8193664011445023, -0.9651881730205214, -0.7169235894795459, 0.07867172577891615, -0.1323856621361627, -0.7655784144767981, 0.9932616140585283, 0.5168384552391037, 1.7652722533284222, 1.8372546061828827, -1.593236705292418, -1.7351535385081214, 0.5235910464705479, -1.2678010298836502, -1.1620485478742044, 0.49783153002828556, -0.8724397517109367, 0.6049256246439829, 1.400962816411936, 0.8111886395962024, -1.3749913257690798, -0.5343381094480517, 0.5791641404328253, 0.8694270812021913, 0.6977237422345381, -0.7518777375440403, -1.2664205351763898, 0.06442315056883763, -0.2873984929929309, 0.0009839494928604283, 1.168592011704123, 0.6604253864052589, -0.29521148821910714, 1.045216265567895, -0.6515637069291157, -0.03289043947944938, 0.22881992210491614, -2.120961847320266, -0.1534383700165545, -1.1210869777078845, 0.9094502662877313, 0.07743574010108772, -0.7419719470944663, -1.2038987086444832, 0.14722990479865838, 0.9751250898869979, -0.6264743287129438, 0.7736042579232473, -0.5035091795841722, -1.0343753263730342, 0.5012182124006042, 0.03584316243864111, -0.5259243744479069, 0.15306289262164952, 1.7106987514004806], \"xaxis\": \"x\", \"yaxis\": \"y\"}, {\"line\": {\"color\": \"rgba(128, 128, 128, 1.0)\", \"dash\": \"solid\", \"shape\": \"linear\", \"width\": 1.3}, \"marker\": {\"size\": 2, \"symbol\": \"circle\"}, \"mode\": \"markers\", \"name\": \"A\", \"text\": \"\", \"type\": \"scatter\", \"x\": [1.907683558388115, 0.4547584720364601, -0.4624177855774668, -3.651544791684352, -0.5678534781105319, 1.6427839907904405, -0.9619000332416442, -0.00397187462557156, -0.07994051727686378, -0.6910522585403166, -0.09450542139400352, -0.8779483001934726, -1.484377860124462, -0.06479965458310179, -1.0119838104547232, 1.0484315683481713, -1.704515782167066, 0.22219933855895088, 1.1715275094543638, -0.286046199843736, -0.18562188278474828, -0.5094303960311877, 1.2804878676027072, 1.0784034812612298, -0.15293803125447164, -0.4223642419037627, 0.14855090724344358, -0.31189985968039113, -0.9115283059275937, -0.7755292866323195, -0.42721244214615794, -2.388606862034661, -0.05382162402532776, -1.3473629289778324, 1.8397464184587116, 0.8736778624934495, -0.7310055025516222, 0.6958880162743549, 0.9187659655864716, 0.8376778170657083, 0.5396368728266294, 0.5422001050726935, -0.06139231471254688, -1.1021335608877891, -0.6007471372717097, 0.1924619434883858, -0.08930809569198228, -0.2978505269315022, 0.0005453669286284382, 0.08106810997695915, -0.3694016189559964, -1.0281232817295345, 0.30345560552391604, 0.5244077540972444, 2.0284534283011597, 1.048432684760225, 0.1064228659254715, 0.6622831438984041, 0.19685616235400402, 1.1511224188608322, -0.4206663845906972, -1.0846896902892262, 1.0364546676818382, 0.6307259022389663, 0.004641898709261438, -0.8605919026414243, 0.08398903166039261, -0.08238436718846175, 1.4354863201681674, -1.339983013618161, 0.020894590806696794, 0.6486539425584497, 1.6592374195822817, -0.45411333440482526, -0.514677111791003, 1.4378161001410212, 0.6543605480879594, -0.3723065659245629, 0.7259378993362399, 0.17622902362307077, -0.21499860688233133, 0.9541805171862572, -0.07743570059151514, 1.3080387115726428, -0.06024810521218019, -1.529908094039015, 0.7021112735494195, -0.9091588803591504, 0.870523121121309, 0.43847509793721606, -0.9516809883412036, -0.07897286417227212, 1.3010071278367414, -0.08017900203553485, 1.5367974033552878, -1.290113361643903, 0.677483027354299, -0.8592326527444683, 2.5979573364869557, -0.6669334806113064], \"xaxis\": \"x2\", \"y\": [-0.5480110889074034, -1.2920697014009046, -2.064720383032337, -0.6381949964348836, 0.010212759440209999, 0.794812443048594, -0.7278279442870339, 0.4489067925814845, 1.904784576609507, -1.3032659971088971, 0.11803057830902464, -1.5910540183384845, 0.4036629730575678, 0.9632264730942721, 1.5324411476637259, -0.04707130340337131, 0.11174868107368494, -1.3117900265057767, -1.3083957993452056, 0.696980809380999, 0.7592163244817444, 0.5250669680979622, -0.4449756900036982, -1.0014267626093265, -0.21335743445110616, -0.8514794630132676, 0.2749573360612918, -0.8733300478379218, 0.09463458411882031, 1.4455483762466403, 0.006188882128480812, -0.22631608313192741, -0.29524855487515117, 0.1812433420156424, 0.4615963474822817, -1.3250089684363293, -0.009448308083683389, -0.24835897398064555, 1.2246504102660027, 0.7647812090938544, 0.2923490017652167, 0.5484764320989512, 1.3636654624881206, -1.098554817005937, 0.05323209135417297, -0.8193664011445023, -0.9651881730205214, -0.7169235894795459, 0.07867172577891615, -0.1323856621361627, -0.7655784144767981, 0.9932616140585283, 0.5168384552391037, 1.7652722533284222, 1.8372546061828827, -1.593236705292418, -1.7351535385081214, 0.5235910464705479, -1.2678010298836502, -1.1620485478742044, 0.49783153002828556, -0.8724397517109367, 0.6049256246439829, 1.400962816411936, 0.8111886395962024, -1.3749913257690798, -0.5343381094480517, 0.5791641404328253, 0.8694270812021913, 0.6977237422345381, -0.7518777375440403, -1.2664205351763898, 0.06442315056883763, -0.2873984929929309, 0.0009839494928604283, 1.168592011704123, 0.6604253864052589, -0.29521148821910714, 1.045216265567895, -0.6515637069291157, -0.03289043947944938, 0.22881992210491614, -2.120961847320266, -0.1534383700165545, -1.1210869777078845, 0.9094502662877313, 0.07743574010108772, -0.7419719470944663, -1.2038987086444832, 0.14722990479865838, 0.9751250898869979, -0.6264743287129438, 0.7736042579232473, -0.5035091795841722, -1.0343753263730342, 0.5012182124006042, 0.03584316243864111, -0.5259243744479069, 0.15306289262164952, 1.7106987514004806], \"yaxis\": \"y2\"}, {\"line\": {\"color\": \"rgba(128, 128, 128, 1.0)\", \"dash\": \"solid\", \"shape\": \"linear\", \"width\": 1.3}, \"marker\": {\"size\": 2, \"symbol\": \"circle\"}, \"mode\": \"markers\", \"name\": \"A\", \"text\": \"\", \"type\": \"scatter\", \"x\": [0.48770381939872043, 0.6337244646989464, -3.1557932704130356, 0.13277998013457565, 0.7385655314420786, -0.17177067756252173, -0.1372915094467543, -0.2521100174920825, -0.7774859643586567, 0.4888304720428742, -0.46697233675600003, -1.0819972685815615, -1.3812411940185036, -1.2088517545524282, -1.2972061988940717, -1.195413296751463, -1.147470324560883, 1.0902866948145171, 1.1908114172648354, -0.2588208225848617, 0.16487657420726892, -0.78826656830748, 1.0000343713868642, -1.0091815010874154, -0.5680773691675439, 1.1810661210830304, 0.38954133539864827, -0.613964571092336, -0.2565088361673165, -0.7692082849354274, 0.19774049769912005, 0.39711873710136963, -0.5873094150104916, -0.02252466688228671, -0.9960725147726376, 0.8836696924678572, -0.3196822783432801, -0.9598081652904585, -2.3185673570155316, 0.9199286678318811, 0.18124349088991892, -0.31241113338341514, 0.931766188329038, -1.2454367421348072, 0.17716748816653816, 0.29627078620326086, 0.8886308256683672, 2.246831034283235, 0.6974303836348403, 0.35598131814521045, -1.823543353599711, -0.8486094691505909, 0.16042258280947191, -0.9794789734321424, 0.6502538943693912, 0.6859471110716626, -1.8397195416762484, 0.5544046760632084, -0.5061463738217713, -0.19623271406017556, -1.5963826590813122, -0.09770348156614135, -0.5869174731331128, -0.12032149904486354, 0.00906488876886795, -0.07751737400332452, 0.2942284421113961, -0.16243607623161602, -1.001587800308482, 0.1963253087192484, 1.206464312604639, 0.2187961464973971, 1.0838671968192073, 1.2959649012162449, -0.5544573556215677, 0.6128769748117964, 0.1711954142874357, -1.3040069094496094, -0.09275279405669301, 0.7398849781895165, 0.09292219747002482, -0.10762784448538183, 0.3055312720579075, -0.6089474399581859, -0.46820295927356165, 1.9897358749891223, 1.9776531201514929, 0.26161052895794557, -0.2684909093050987, 0.0001358910229118881, 2.007654473522146, 1.2945754067521074, 1.9892544961413128, -1.6358499033444638, 0.4549748462649961, 0.735184341285063, -0.6712417072387005, 0.0816993806422588, 0.646955250762791, 1.590420413439015], \"xaxis\": \"x3\", \"y\": [-0.5480110889074034, -1.2920697014009046, -2.064720383032337, -0.6381949964348836, 0.010212759440209999, 0.794812443048594, -0.7278279442870339, 0.4489067925814845, 1.904784576609507, -1.3032659971088971, 0.11803057830902464, -1.5910540183384845, 0.4036629730575678, 0.9632264730942721, 1.5324411476637259, -0.04707130340337131, 0.11174868107368494, -1.3117900265057767, -1.3083957993452056, 0.696980809380999, 0.7592163244817444, 0.5250669680979622, -0.4449756900036982, -1.0014267626093265, -0.21335743445110616, -0.8514794630132676, 0.2749573360612918, -0.8733300478379218, 0.09463458411882031, 1.4455483762466403, 0.006188882128480812, -0.22631608313192741, -0.29524855487515117, 0.1812433420156424, 0.4615963474822817, -1.3250089684363293, -0.009448308083683389, -0.24835897398064555, 1.2246504102660027, 0.7647812090938544, 0.2923490017652167, 0.5484764320989512, 1.3636654624881206, -1.098554817005937, 0.05323209135417297, -0.8193664011445023, -0.9651881730205214, -0.7169235894795459, 0.07867172577891615, -0.1323856621361627, -0.7655784144767981, 0.9932616140585283, 0.5168384552391037, 1.7652722533284222, 1.8372546061828827, -1.593236705292418, -1.7351535385081214, 0.5235910464705479, -1.2678010298836502, -1.1620485478742044, 0.49783153002828556, -0.8724397517109367, 0.6049256246439829, 1.400962816411936, 0.8111886395962024, -1.3749913257690798, -0.5343381094480517, 0.5791641404328253, 0.8694270812021913, 0.6977237422345381, -0.7518777375440403, -1.2664205351763898, 0.06442315056883763, -0.2873984929929309, 0.0009839494928604283, 1.168592011704123, 0.6604253864052589, -0.29521148821910714, 1.045216265567895, -0.6515637069291157, -0.03289043947944938, 0.22881992210491614, -2.120961847320266, -0.1534383700165545, -1.1210869777078845, 0.9094502662877313, 0.07743574010108772, -0.7419719470944663, -1.2038987086444832, 0.14722990479865838, 0.9751250898869979, -0.6264743287129438, 0.7736042579232473, -0.5035091795841722, -1.0343753263730342, 0.5012182124006042, 0.03584316243864111, -0.5259243744479069, 0.15306289262164952, 1.7106987514004806], \"yaxis\": \"y3\"}, {\"line\": {\"color\": \"rgba(128, 128, 128, 1.0)\", \"dash\": \"solid\", \"shape\": \"linear\", \"width\": 1.3}, \"marker\": {\"size\": 2, \"symbol\": \"circle\"}, \"mode\": \"markers\", \"name\": \"A\", \"text\": \"\", \"type\": \"scatter\", \"x\": [-0.22718918537328062, 1.2204972813783754, -0.511127342703104, -0.919995696143732, 1.4876569281486498, 0.5261798293815041, 1.4404686230606762, 0.012310079690618186, -1.4169393918652915, 0.8430806027133654, 0.8060404508229926, 0.09134447928922484, -0.4391707391338882, -1.136109425411929, -0.9558725097488121, -0.43903936073790056, 0.6400684969235082, -2.8926497540659173, 1.2862065354897847, 0.5363547692785966, 0.027208726919927866, -0.6053552258802258, 1.2369376797088558, -0.31288524593048567, -1.2768501683975995, 0.7982664454690171, -1.7643618109254788, -0.811118605847453, 1.2951679229500286, -0.5854378238328967, 0.47684752071529896, 0.9688847295206476, 0.7712204269970987, 0.8636594318791391, 2.1167005179164633, -0.9844880853538838, 1.2052110702155194, 0.4144965537564156, 1.0314589125244964, -1.2820386325245927, 0.5374622995845217, -0.4520476062643819, 1.2807767910756398, 1.3970913949970318, 0.554529182743638, -1.4245469028483584, 2.432163068242666, 0.34647454582703535, -1.8478283792744057, -0.7064116298140908, 1.859026792963264, -0.11696447813985389, 0.9735706653895554, 0.020069778038250087, -0.2732078870868064, -1.625893501364898, -0.518832871958972, 0.7570499806819221, -1.301647411726088, 1.5233125926959512, 0.910044161471426, -0.33904257065357996, 0.25474211578164113, 1.1624261743592201, -0.7457019139210698, -1.6968774589933917, 1.760395656633342, 1.7512558019532765, -1.9529937894171276, 0.8706668134873103, 2.0085760859346675, -1.2514649889890979, -1.6069294260493898, -0.6751228541249964, 1.1438933704419452, -0.21981377357202245, 0.4179370726020009, 1.0037769259192542, -0.06225916587349727, -1.0071835665242848, 0.8860296914099619, -1.4572370310223877, 1.8521215110090443, -0.27766424372092186, 1.2084828291118057, 0.19077267955785543, -0.15568801418483896, 0.17864014027450703, -0.6130945856449158, -0.1287209969592928, -0.7899352961622775, -1.9330750344297394, 2.0732887918319127, -0.7619479677020401, 1.128771926760258, -0.7709363883695314, 0.28608363017405264, -2.672688771194465, 1.5523201724331546, 2.011955348554818], \"xaxis\": \"x4\", \"y\": [-0.5480110889074034, -1.2920697014009046, -2.064720383032337, -0.6381949964348836, 0.010212759440209999, 0.794812443048594, -0.7278279442870339, 0.4489067925814845, 1.904784576609507, -1.3032659971088971, 0.11803057830902464, -1.5910540183384845, 0.4036629730575678, 0.9632264730942721, 1.5324411476637259, -0.04707130340337131, 0.11174868107368494, -1.3117900265057767, -1.3083957993452056, 0.696980809380999, 0.7592163244817444, 0.5250669680979622, -0.4449756900036982, -1.0014267626093265, -0.21335743445110616, -0.8514794630132676, 0.2749573360612918, -0.8733300478379218, 0.09463458411882031, 1.4455483762466403, 0.006188882128480812, -0.22631608313192741, -0.29524855487515117, 0.1812433420156424, 0.4615963474822817, -1.3250089684363293, -0.009448308083683389, -0.24835897398064555, 1.2246504102660027, 0.7647812090938544, 0.2923490017652167, 0.5484764320989512, 1.3636654624881206, -1.098554817005937, 0.05323209135417297, -0.8193664011445023, -0.9651881730205214, -0.7169235894795459, 0.07867172577891615, -0.1323856621361627, -0.7655784144767981, 0.9932616140585283, 0.5168384552391037, 1.7652722533284222, 1.8372546061828827, -1.593236705292418, -1.7351535385081214, 0.5235910464705479, -1.2678010298836502, -1.1620485478742044, 0.49783153002828556, -0.8724397517109367, 0.6049256246439829, 1.400962816411936, 0.8111886395962024, -1.3749913257690798, -0.5343381094480517, 0.5791641404328253, 0.8694270812021913, 0.6977237422345381, -0.7518777375440403, -1.2664205351763898, 0.06442315056883763, -0.2873984929929309, 0.0009839494928604283, 1.168592011704123, 0.6604253864052589, -0.29521148821910714, 1.045216265567895, -0.6515637069291157, -0.03289043947944938, 0.22881992210491614, -2.120961847320266, -0.1534383700165545, -1.1210869777078845, 0.9094502662877313, 0.07743574010108772, -0.7419719470944663, -1.2038987086444832, 0.14722990479865838, 0.9751250898869979, -0.6264743287129438, 0.7736042579232473, -0.5035091795841722, -1.0343753263730342, 0.5012182124006042, 0.03584316243864111, -0.5259243744479069, 0.15306289262164952, 1.7106987514004806], \"yaxis\": \"y4\"}, {\"line\": {\"color\": \"rgba(128, 128, 128, 1.0)\", \"dash\": \"solid\", \"shape\": \"linear\", \"width\": 1.3}, \"marker\": {\"size\": 2, \"symbol\": \"circle\"}, \"mode\": \"markers\", \"name\": \"B\", \"text\": \"\", \"type\": \"scatter\", \"x\": [-0.5480110889074034, -1.2920697014009046, -2.064720383032337, -0.6381949964348836, 0.010212759440209999, 0.794812443048594, -0.7278279442870339, 0.4489067925814845, 1.904784576609507, -1.3032659971088971, 0.11803057830902464, -1.5910540183384845, 0.4036629730575678, 0.9632264730942721, 1.5324411476637259, -0.04707130340337131, 0.11174868107368494, -1.3117900265057767, -1.3083957993452056, 0.696980809380999, 0.7592163244817444, 0.5250669680979622, -0.4449756900036982, -1.0014267626093265, -0.21335743445110616, -0.8514794630132676, 0.2749573360612918, -0.8733300478379218, 0.09463458411882031, 1.4455483762466403, 0.006188882128480812, -0.22631608313192741, -0.29524855487515117, 0.1812433420156424, 0.4615963474822817, -1.3250089684363293, -0.009448308083683389, -0.24835897398064555, 1.2246504102660027, 0.7647812090938544, 0.2923490017652167, 0.5484764320989512, 1.3636654624881206, -1.098554817005937, 0.05323209135417297, -0.8193664011445023, -0.9651881730205214, -0.7169235894795459, 0.07867172577891615, -0.1323856621361627, -0.7655784144767981, 0.9932616140585283, 0.5168384552391037, 1.7652722533284222, 1.8372546061828827, -1.593236705292418, -1.7351535385081214, 0.5235910464705479, -1.2678010298836502, -1.1620485478742044, 0.49783153002828556, -0.8724397517109367, 0.6049256246439829, 1.400962816411936, 0.8111886395962024, -1.3749913257690798, -0.5343381094480517, 0.5791641404328253, 0.8694270812021913, 0.6977237422345381, -0.7518777375440403, -1.2664205351763898, 0.06442315056883763, -0.2873984929929309, 0.0009839494928604283, 1.168592011704123, 0.6604253864052589, -0.29521148821910714, 1.045216265567895, -0.6515637069291157, -0.03289043947944938, 0.22881992210491614, -2.120961847320266, -0.1534383700165545, -1.1210869777078845, 0.9094502662877313, 0.07743574010108772, -0.7419719470944663, -1.2038987086444832, 0.14722990479865838, 0.9751250898869979, -0.6264743287129438, 0.7736042579232473, -0.5035091795841722, -1.0343753263730342, 0.5012182124006042, 0.03584316243864111, -0.5259243744479069, 0.15306289262164952, 1.7106987514004806], \"xaxis\": \"x5\", \"y\": [1.907683558388115, 0.4547584720364601, -0.4624177855774668, -3.651544791684352, -0.5678534781105319, 1.6427839907904405, -0.9619000332416442, -0.00397187462557156, -0.07994051727686378, -0.6910522585403166, -0.09450542139400352, -0.8779483001934726, -1.484377860124462, -0.06479965458310179, -1.0119838104547232, 1.0484315683481713, -1.704515782167066, 0.22219933855895088, 1.1715275094543638, -0.286046199843736, -0.18562188278474828, -0.5094303960311877, 1.2804878676027072, 1.0784034812612298, -0.15293803125447164, -0.4223642419037627, 0.14855090724344358, -0.31189985968039113, -0.9115283059275937, -0.7755292866323195, -0.42721244214615794, -2.388606862034661, -0.05382162402532776, -1.3473629289778324, 1.8397464184587116, 0.8736778624934495, -0.7310055025516222, 0.6958880162743549, 0.9187659655864716, 0.8376778170657083, 0.5396368728266294, 0.5422001050726935, -0.06139231471254688, -1.1021335608877891, -0.6007471372717097, 0.1924619434883858, -0.08930809569198228, -0.2978505269315022, 0.0005453669286284382, 0.08106810997695915, -0.3694016189559964, -1.0281232817295345, 0.30345560552391604, 0.5244077540972444, 2.0284534283011597, 1.048432684760225, 0.1064228659254715, 0.6622831438984041, 0.19685616235400402, 1.1511224188608322, -0.4206663845906972, -1.0846896902892262, 1.0364546676818382, 0.6307259022389663, 0.004641898709261438, -0.8605919026414243, 0.08398903166039261, -0.08238436718846175, 1.4354863201681674, -1.339983013618161, 0.020894590806696794, 0.6486539425584497, 1.6592374195822817, -0.45411333440482526, -0.514677111791003, 1.4378161001410212, 0.6543605480879594, -0.3723065659245629, 0.7259378993362399, 0.17622902362307077, -0.21499860688233133, 0.9541805171862572, -0.07743570059151514, 1.3080387115726428, -0.06024810521218019, -1.529908094039015, 0.7021112735494195, -0.9091588803591504, 0.870523121121309, 0.43847509793721606, -0.9516809883412036, -0.07897286417227212, 1.3010071278367414, -0.08017900203553485, 1.5367974033552878, -1.290113361643903, 0.677483027354299, -0.8592326527444683, 2.5979573364869557, -0.6669334806113064], \"yaxis\": \"y5\"}, {\"histfunc\": \"count\", \"histnorm\": \"\", \"marker\": {\"color\": \"rgba(55, 128, 191, 1.0)\", \"line\": {\"color\": \"#4D5663\", \"width\": 1.3}}, \"name\": \"B\", \"nbinsx\": 10, \"opacity\": 0.8, \"orientation\": \"v\", \"type\": \"histogram\", \"x\": [1.907683558388115, 0.4547584720364601, -0.4624177855774668, -3.651544791684352, -0.5678534781105319, 1.6427839907904405, -0.9619000332416442, -0.00397187462557156, -0.07994051727686378, -0.6910522585403166, -0.09450542139400352, -0.8779483001934726, -1.484377860124462, -0.06479965458310179, -1.0119838104547232, 1.0484315683481713, -1.704515782167066, 0.22219933855895088, 1.1715275094543638, -0.286046199843736, -0.18562188278474828, -0.5094303960311877, 1.2804878676027072, 1.0784034812612298, -0.15293803125447164, -0.4223642419037627, 0.14855090724344358, -0.31189985968039113, -0.9115283059275937, -0.7755292866323195, -0.42721244214615794, -2.388606862034661, -0.05382162402532776, -1.3473629289778324, 1.8397464184587116, 0.8736778624934495, -0.7310055025516222, 0.6958880162743549, 0.9187659655864716, 0.8376778170657083, 0.5396368728266294, 0.5422001050726935, -0.06139231471254688, -1.1021335608877891, -0.6007471372717097, 0.1924619434883858, -0.08930809569198228, -0.2978505269315022, 0.0005453669286284382, 0.08106810997695915, -0.3694016189559964, -1.0281232817295345, 0.30345560552391604, 0.5244077540972444, 2.0284534283011597, 1.048432684760225, 0.1064228659254715, 0.6622831438984041, 0.19685616235400402, 1.1511224188608322, -0.4206663845906972, -1.0846896902892262, 1.0364546676818382, 0.6307259022389663, 0.004641898709261438, -0.8605919026414243, 0.08398903166039261, -0.08238436718846175, 1.4354863201681674, -1.339983013618161, 0.020894590806696794, 0.6486539425584497, 1.6592374195822817, -0.45411333440482526, -0.514677111791003, 1.4378161001410212, 0.6543605480879594, -0.3723065659245629, 0.7259378993362399, 0.17622902362307077, -0.21499860688233133, 0.9541805171862572, -0.07743570059151514, 1.3080387115726428, -0.06024810521218019, -1.529908094039015, 0.7021112735494195, -0.9091588803591504, 0.870523121121309, 0.43847509793721606, -0.9516809883412036, -0.07897286417227212, 1.3010071278367414, -0.08017900203553485, 1.5367974033552878, -1.290113361643903, 0.677483027354299, -0.8592326527444683, 2.5979573364869557, -0.6669334806113064], \"xaxis\": \"x6\", \"yaxis\": \"y6\"}, {\"line\": {\"color\": \"rgba(128, 128, 128, 1.0)\", \"dash\": \"solid\", \"shape\": \"linear\", \"width\": 1.3}, \"marker\": {\"size\": 2, \"symbol\": \"circle\"}, \"mode\": \"markers\", \"name\": \"B\", \"text\": \"\", \"type\": \"scatter\", \"x\": [0.48770381939872043, 0.6337244646989464, -3.1557932704130356, 0.13277998013457565, 0.7385655314420786, -0.17177067756252173, -0.1372915094467543, -0.2521100174920825, -0.7774859643586567, 0.4888304720428742, -0.46697233675600003, -1.0819972685815615, -1.3812411940185036, -1.2088517545524282, -1.2972061988940717, -1.195413296751463, -1.147470324560883, 1.0902866948145171, 1.1908114172648354, -0.2588208225848617, 0.16487657420726892, -0.78826656830748, 1.0000343713868642, -1.0091815010874154, -0.5680773691675439, 1.1810661210830304, 0.38954133539864827, -0.613964571092336, -0.2565088361673165, -0.7692082849354274, 0.19774049769912005, 0.39711873710136963, -0.5873094150104916, -0.02252466688228671, -0.9960725147726376, 0.8836696924678572, -0.3196822783432801, -0.9598081652904585, -2.3185673570155316, 0.9199286678318811, 0.18124349088991892, -0.31241113338341514, 0.931766188329038, -1.2454367421348072, 0.17716748816653816, 0.29627078620326086, 0.8886308256683672, 2.246831034283235, 0.6974303836348403, 0.35598131814521045, -1.823543353599711, -0.8486094691505909, 0.16042258280947191, -0.9794789734321424, 0.6502538943693912, 0.6859471110716626, -1.8397195416762484, 0.5544046760632084, -0.5061463738217713, -0.19623271406017556, -1.5963826590813122, -0.09770348156614135, -0.5869174731331128, -0.12032149904486354, 0.00906488876886795, -0.07751737400332452, 0.2942284421113961, -0.16243607623161602, -1.001587800308482, 0.1963253087192484, 1.206464312604639, 0.2187961464973971, 1.0838671968192073, 1.2959649012162449, -0.5544573556215677, 0.6128769748117964, 0.1711954142874357, -1.3040069094496094, -0.09275279405669301, 0.7398849781895165, 0.09292219747002482, -0.10762784448538183, 0.3055312720579075, -0.6089474399581859, -0.46820295927356165, 1.9897358749891223, 1.9776531201514929, 0.26161052895794557, -0.2684909093050987, 0.0001358910229118881, 2.007654473522146, 1.2945754067521074, 1.9892544961413128, -1.6358499033444638, 0.4549748462649961, 0.735184341285063, -0.6712417072387005, 0.0816993806422588, 0.646955250762791, 1.590420413439015], \"xaxis\": \"x7\", \"y\": [1.907683558388115, 0.4547584720364601, -0.4624177855774668, -3.651544791684352, -0.5678534781105319, 1.6427839907904405, -0.9619000332416442, -0.00397187462557156, -0.07994051727686378, -0.6910522585403166, -0.09450542139400352, -0.8779483001934726, -1.484377860124462, -0.06479965458310179, -1.0119838104547232, 1.0484315683481713, -1.704515782167066, 0.22219933855895088, 1.1715275094543638, -0.286046199843736, -0.18562188278474828, -0.5094303960311877, 1.2804878676027072, 1.0784034812612298, -0.15293803125447164, -0.4223642419037627, 0.14855090724344358, -0.31189985968039113, -0.9115283059275937, -0.7755292866323195, -0.42721244214615794, -2.388606862034661, -0.05382162402532776, -1.3473629289778324, 1.8397464184587116, 0.8736778624934495, -0.7310055025516222, 0.6958880162743549, 0.9187659655864716, 0.8376778170657083, 0.5396368728266294, 0.5422001050726935, -0.06139231471254688, -1.1021335608877891, -0.6007471372717097, 0.1924619434883858, -0.08930809569198228, -0.2978505269315022, 0.0005453669286284382, 0.08106810997695915, -0.3694016189559964, -1.0281232817295345, 0.30345560552391604, 0.5244077540972444, 2.0284534283011597, 1.048432684760225, 0.1064228659254715, 0.6622831438984041, 0.19685616235400402, 1.1511224188608322, -0.4206663845906972, -1.0846896902892262, 1.0364546676818382, 0.6307259022389663, 0.004641898709261438, -0.8605919026414243, 0.08398903166039261, -0.08238436718846175, 1.4354863201681674, -1.339983013618161, 0.020894590806696794, 0.6486539425584497, 1.6592374195822817, -0.45411333440482526, -0.514677111791003, 1.4378161001410212, 0.6543605480879594, -0.3723065659245629, 0.7259378993362399, 0.17622902362307077, -0.21499860688233133, 0.9541805171862572, -0.07743570059151514, 1.3080387115726428, -0.06024810521218019, -1.529908094039015, 0.7021112735494195, -0.9091588803591504, 0.870523121121309, 0.43847509793721606, -0.9516809883412036, -0.07897286417227212, 1.3010071278367414, -0.08017900203553485, 1.5367974033552878, -1.290113361643903, 0.677483027354299, -0.8592326527444683, 2.5979573364869557, -0.6669334806113064], \"yaxis\": \"y7\"}, {\"line\": {\"color\": \"rgba(128, 128, 128, 1.0)\", \"dash\": \"solid\", \"shape\": \"linear\", \"width\": 1.3}, \"marker\": {\"size\": 2, \"symbol\": \"circle\"}, \"mode\": \"markers\", \"name\": \"B\", \"text\": \"\", \"type\": \"scatter\", \"x\": [-0.22718918537328062, 1.2204972813783754, -0.511127342703104, -0.919995696143732, 1.4876569281486498, 0.5261798293815041, 1.4404686230606762, 0.012310079690618186, -1.4169393918652915, 0.8430806027133654, 0.8060404508229926, 0.09134447928922484, -0.4391707391338882, -1.136109425411929, -0.9558725097488121, -0.43903936073790056, 0.6400684969235082, -2.8926497540659173, 1.2862065354897847, 0.5363547692785966, 0.027208726919927866, -0.6053552258802258, 1.2369376797088558, -0.31288524593048567, -1.2768501683975995, 0.7982664454690171, -1.7643618109254788, -0.811118605847453, 1.2951679229500286, -0.5854378238328967, 0.47684752071529896, 0.9688847295206476, 0.7712204269970987, 0.8636594318791391, 2.1167005179164633, -0.9844880853538838, 1.2052110702155194, 0.4144965537564156, 1.0314589125244964, -1.2820386325245927, 0.5374622995845217, -0.4520476062643819, 1.2807767910756398, 1.3970913949970318, 0.554529182743638, -1.4245469028483584, 2.432163068242666, 0.34647454582703535, -1.8478283792744057, -0.7064116298140908, 1.859026792963264, -0.11696447813985389, 0.9735706653895554, 0.020069778038250087, -0.2732078870868064, -1.625893501364898, -0.518832871958972, 0.7570499806819221, -1.301647411726088, 1.5233125926959512, 0.910044161471426, -0.33904257065357996, 0.25474211578164113, 1.1624261743592201, -0.7457019139210698, -1.6968774589933917, 1.760395656633342, 1.7512558019532765, -1.9529937894171276, 0.8706668134873103, 2.0085760859346675, -1.2514649889890979, -1.6069294260493898, -0.6751228541249964, 1.1438933704419452, -0.21981377357202245, 0.4179370726020009, 1.0037769259192542, -0.06225916587349727, -1.0071835665242848, 0.8860296914099619, -1.4572370310223877, 1.8521215110090443, -0.27766424372092186, 1.2084828291118057, 0.19077267955785543, -0.15568801418483896, 0.17864014027450703, -0.6130945856449158, -0.1287209969592928, -0.7899352961622775, -1.9330750344297394, 2.0732887918319127, -0.7619479677020401, 1.128771926760258, -0.7709363883695314, 0.28608363017405264, -2.672688771194465, 1.5523201724331546, 2.011955348554818], \"xaxis\": \"x8\", \"y\": [1.907683558388115, 0.4547584720364601, -0.4624177855774668, -3.651544791684352, -0.5678534781105319, 1.6427839907904405, -0.9619000332416442, -0.00397187462557156, -0.07994051727686378, -0.6910522585403166, -0.09450542139400352, -0.8779483001934726, -1.484377860124462, -0.06479965458310179, -1.0119838104547232, 1.0484315683481713, -1.704515782167066, 0.22219933855895088, 1.1715275094543638, -0.286046199843736, -0.18562188278474828, -0.5094303960311877, 1.2804878676027072, 1.0784034812612298, -0.15293803125447164, -0.4223642419037627, 0.14855090724344358, -0.31189985968039113, -0.9115283059275937, -0.7755292866323195, -0.42721244214615794, -2.388606862034661, -0.05382162402532776, -1.3473629289778324, 1.8397464184587116, 0.8736778624934495, -0.7310055025516222, 0.6958880162743549, 0.9187659655864716, 0.8376778170657083, 0.5396368728266294, 0.5422001050726935, -0.06139231471254688, -1.1021335608877891, -0.6007471372717097, 0.1924619434883858, -0.08930809569198228, -0.2978505269315022, 0.0005453669286284382, 0.08106810997695915, -0.3694016189559964, -1.0281232817295345, 0.30345560552391604, 0.5244077540972444, 2.0284534283011597, 1.048432684760225, 0.1064228659254715, 0.6622831438984041, 0.19685616235400402, 1.1511224188608322, -0.4206663845906972, -1.0846896902892262, 1.0364546676818382, 0.6307259022389663, 0.004641898709261438, -0.8605919026414243, 0.08398903166039261, -0.08238436718846175, 1.4354863201681674, -1.339983013618161, 0.020894590806696794, 0.6486539425584497, 1.6592374195822817, -0.45411333440482526, -0.514677111791003, 1.4378161001410212, 0.6543605480879594, -0.3723065659245629, 0.7259378993362399, 0.17622902362307077, -0.21499860688233133, 0.9541805171862572, -0.07743570059151514, 1.3080387115726428, -0.06024810521218019, -1.529908094039015, 0.7021112735494195, -0.9091588803591504, 0.870523121121309, 0.43847509793721606, -0.9516809883412036, -0.07897286417227212, 1.3010071278367414, -0.08017900203553485, 1.5367974033552878, -1.290113361643903, 0.677483027354299, -0.8592326527444683, 2.5979573364869557, -0.6669334806113064], \"yaxis\": \"y8\"}, {\"line\": {\"color\": \"rgba(128, 128, 128, 1.0)\", \"dash\": \"solid\", \"shape\": \"linear\", \"width\": 1.3}, \"marker\": {\"size\": 2, \"symbol\": \"circle\"}, \"mode\": \"markers\", \"name\": \"C\", \"text\": \"\", \"type\": \"scatter\", \"x\": [-0.5480110889074034, -1.2920697014009046, -2.064720383032337, -0.6381949964348836, 0.010212759440209999, 0.794812443048594, -0.7278279442870339, 0.4489067925814845, 1.904784576609507, -1.3032659971088971, 0.11803057830902464, -1.5910540183384845, 0.4036629730575678, 0.9632264730942721, 1.5324411476637259, -0.04707130340337131, 0.11174868107368494, -1.3117900265057767, -1.3083957993452056, 0.696980809380999, 0.7592163244817444, 0.5250669680979622, -0.4449756900036982, -1.0014267626093265, -0.21335743445110616, -0.8514794630132676, 0.2749573360612918, -0.8733300478379218, 0.09463458411882031, 1.4455483762466403, 0.006188882128480812, -0.22631608313192741, -0.29524855487515117, 0.1812433420156424, 0.4615963474822817, -1.3250089684363293, -0.009448308083683389, -0.24835897398064555, 1.2246504102660027, 0.7647812090938544, 0.2923490017652167, 0.5484764320989512, 1.3636654624881206, -1.098554817005937, 0.05323209135417297, -0.8193664011445023, -0.9651881730205214, -0.7169235894795459, 0.07867172577891615, -0.1323856621361627, -0.7655784144767981, 0.9932616140585283, 0.5168384552391037, 1.7652722533284222, 1.8372546061828827, -1.593236705292418, -1.7351535385081214, 0.5235910464705479, -1.2678010298836502, -1.1620485478742044, 0.49783153002828556, -0.8724397517109367, 0.6049256246439829, 1.400962816411936, 0.8111886395962024, -1.3749913257690798, -0.5343381094480517, 0.5791641404328253, 0.8694270812021913, 0.6977237422345381, -0.7518777375440403, -1.2664205351763898, 0.06442315056883763, -0.2873984929929309, 0.0009839494928604283, 1.168592011704123, 0.6604253864052589, -0.29521148821910714, 1.045216265567895, -0.6515637069291157, -0.03289043947944938, 0.22881992210491614, -2.120961847320266, -0.1534383700165545, -1.1210869777078845, 0.9094502662877313, 0.07743574010108772, -0.7419719470944663, -1.2038987086444832, 0.14722990479865838, 0.9751250898869979, -0.6264743287129438, 0.7736042579232473, -0.5035091795841722, -1.0343753263730342, 0.5012182124006042, 0.03584316243864111, -0.5259243744479069, 0.15306289262164952, 1.7106987514004806], \"xaxis\": \"x9\", \"y\": [0.48770381939872043, 0.6337244646989464, -3.1557932704130356, 0.13277998013457565, 0.7385655314420786, -0.17177067756252173, -0.1372915094467543, -0.2521100174920825, -0.7774859643586567, 0.4888304720428742, -0.46697233675600003, -1.0819972685815615, -1.3812411940185036, -1.2088517545524282, -1.2972061988940717, -1.195413296751463, -1.147470324560883, 1.0902866948145171, 1.1908114172648354, -0.2588208225848617, 0.16487657420726892, -0.78826656830748, 1.0000343713868642, -1.0091815010874154, -0.5680773691675439, 1.1810661210830304, 0.38954133539864827, -0.613964571092336, -0.2565088361673165, -0.7692082849354274, 0.19774049769912005, 0.39711873710136963, -0.5873094150104916, -0.02252466688228671, -0.9960725147726376, 0.8836696924678572, -0.3196822783432801, -0.9598081652904585, -2.3185673570155316, 0.9199286678318811, 0.18124349088991892, -0.31241113338341514, 0.931766188329038, -1.2454367421348072, 0.17716748816653816, 0.29627078620326086, 0.8886308256683672, 2.246831034283235, 0.6974303836348403, 0.35598131814521045, -1.823543353599711, -0.8486094691505909, 0.16042258280947191, -0.9794789734321424, 0.6502538943693912, 0.6859471110716626, -1.8397195416762484, 0.5544046760632084, -0.5061463738217713, -0.19623271406017556, -1.5963826590813122, -0.09770348156614135, -0.5869174731331128, -0.12032149904486354, 0.00906488876886795, -0.07751737400332452, 0.2942284421113961, -0.16243607623161602, -1.001587800308482, 0.1963253087192484, 1.206464312604639, 0.2187961464973971, 1.0838671968192073, 1.2959649012162449, -0.5544573556215677, 0.6128769748117964, 0.1711954142874357, -1.3040069094496094, -0.09275279405669301, 0.7398849781895165, 0.09292219747002482, -0.10762784448538183, 0.3055312720579075, -0.6089474399581859, -0.46820295927356165, 1.9897358749891223, 1.9776531201514929, 0.26161052895794557, -0.2684909093050987, 0.0001358910229118881, 2.007654473522146, 1.2945754067521074, 1.9892544961413128, -1.6358499033444638, 0.4549748462649961, 0.735184341285063, -0.6712417072387005, 0.0816993806422588, 0.646955250762791, 1.590420413439015], \"yaxis\": \"y9\"}, {\"line\": {\"color\": \"rgba(128, 128, 128, 1.0)\", \"dash\": \"solid\", \"shape\": \"linear\", \"width\": 1.3}, \"marker\": {\"size\": 2, \"symbol\": \"circle\"}, \"mode\": \"markers\", \"name\": \"C\", \"text\": \"\", \"type\": \"scatter\", \"x\": [1.907683558388115, 0.4547584720364601, -0.4624177855774668, -3.651544791684352, -0.5678534781105319, 1.6427839907904405, -0.9619000332416442, -0.00397187462557156, -0.07994051727686378, -0.6910522585403166, -0.09450542139400352, -0.8779483001934726, -1.484377860124462, -0.06479965458310179, -1.0119838104547232, 1.0484315683481713, -1.704515782167066, 0.22219933855895088, 1.1715275094543638, -0.286046199843736, -0.18562188278474828, -0.5094303960311877, 1.2804878676027072, 1.0784034812612298, -0.15293803125447164, -0.4223642419037627, 0.14855090724344358, -0.31189985968039113, -0.9115283059275937, -0.7755292866323195, -0.42721244214615794, -2.388606862034661, -0.05382162402532776, -1.3473629289778324, 1.8397464184587116, 0.8736778624934495, -0.7310055025516222, 0.6958880162743549, 0.9187659655864716, 0.8376778170657083, 0.5396368728266294, 0.5422001050726935, -0.06139231471254688, -1.1021335608877891, -0.6007471372717097, 0.1924619434883858, -0.08930809569198228, -0.2978505269315022, 0.0005453669286284382, 0.08106810997695915, -0.3694016189559964, -1.0281232817295345, 0.30345560552391604, 0.5244077540972444, 2.0284534283011597, 1.048432684760225, 0.1064228659254715, 0.6622831438984041, 0.19685616235400402, 1.1511224188608322, -0.4206663845906972, -1.0846896902892262, 1.0364546676818382, 0.6307259022389663, 0.004641898709261438, -0.8605919026414243, 0.08398903166039261, -0.08238436718846175, 1.4354863201681674, -1.339983013618161, 0.020894590806696794, 0.6486539425584497, 1.6592374195822817, -0.45411333440482526, -0.514677111791003, 1.4378161001410212, 0.6543605480879594, -0.3723065659245629, 0.7259378993362399, 0.17622902362307077, -0.21499860688233133, 0.9541805171862572, -0.07743570059151514, 1.3080387115726428, -0.06024810521218019, -1.529908094039015, 0.7021112735494195, -0.9091588803591504, 0.870523121121309, 0.43847509793721606, -0.9516809883412036, -0.07897286417227212, 1.3010071278367414, -0.08017900203553485, 1.5367974033552878, -1.290113361643903, 0.677483027354299, -0.8592326527444683, 2.5979573364869557, -0.6669334806113064], \"xaxis\": \"x10\", \"y\": [0.48770381939872043, 0.6337244646989464, -3.1557932704130356, 0.13277998013457565, 0.7385655314420786, -0.17177067756252173, -0.1372915094467543, -0.2521100174920825, -0.7774859643586567, 0.4888304720428742, -0.46697233675600003, -1.0819972685815615, -1.3812411940185036, -1.2088517545524282, -1.2972061988940717, -1.195413296751463, -1.147470324560883, 1.0902866948145171, 1.1908114172648354, -0.2588208225848617, 0.16487657420726892, -0.78826656830748, 1.0000343713868642, -1.0091815010874154, -0.5680773691675439, 1.1810661210830304, 0.38954133539864827, -0.613964571092336, -0.2565088361673165, -0.7692082849354274, 0.19774049769912005, 0.39711873710136963, -0.5873094150104916, -0.02252466688228671, -0.9960725147726376, 0.8836696924678572, -0.3196822783432801, -0.9598081652904585, -2.3185673570155316, 0.9199286678318811, 0.18124349088991892, -0.31241113338341514, 0.931766188329038, -1.2454367421348072, 0.17716748816653816, 0.29627078620326086, 0.8886308256683672, 2.246831034283235, 0.6974303836348403, 0.35598131814521045, -1.823543353599711, -0.8486094691505909, 0.16042258280947191, -0.9794789734321424, 0.6502538943693912, 0.6859471110716626, -1.8397195416762484, 0.5544046760632084, -0.5061463738217713, -0.19623271406017556, -1.5963826590813122, -0.09770348156614135, -0.5869174731331128, -0.12032149904486354, 0.00906488876886795, -0.07751737400332452, 0.2942284421113961, -0.16243607623161602, -1.001587800308482, 0.1963253087192484, 1.206464312604639, 0.2187961464973971, 1.0838671968192073, 1.2959649012162449, -0.5544573556215677, 0.6128769748117964, 0.1711954142874357, -1.3040069094496094, -0.09275279405669301, 0.7398849781895165, 0.09292219747002482, -0.10762784448538183, 0.3055312720579075, -0.6089474399581859, -0.46820295927356165, 1.9897358749891223, 1.9776531201514929, 0.26161052895794557, -0.2684909093050987, 0.0001358910229118881, 2.007654473522146, 1.2945754067521074, 1.9892544961413128, -1.6358499033444638, 0.4549748462649961, 0.735184341285063, -0.6712417072387005, 0.0816993806422588, 0.646955250762791, 1.590420413439015], \"yaxis\": \"y10\"}, {\"histfunc\": \"count\", \"histnorm\": \"\", \"marker\": {\"color\": \"rgba(50, 171, 96, 1.0)\", \"line\": {\"color\": \"#4D5663\", \"width\": 1.3}}, \"name\": \"C\", \"nbinsx\": 10, \"opacity\": 0.8, \"orientation\": \"v\", \"type\": \"histogram\", \"x\": [0.48770381939872043, 0.6337244646989464, -3.1557932704130356, 0.13277998013457565, 0.7385655314420786, -0.17177067756252173, -0.1372915094467543, -0.2521100174920825, -0.7774859643586567, 0.4888304720428742, -0.46697233675600003, -1.0819972685815615, -1.3812411940185036, -1.2088517545524282, -1.2972061988940717, -1.195413296751463, -1.147470324560883, 1.0902866948145171, 1.1908114172648354, -0.2588208225848617, 0.16487657420726892, -0.78826656830748, 1.0000343713868642, -1.0091815010874154, -0.5680773691675439, 1.1810661210830304, 0.38954133539864827, -0.613964571092336, -0.2565088361673165, -0.7692082849354274, 0.19774049769912005, 0.39711873710136963, -0.5873094150104916, -0.02252466688228671, -0.9960725147726376, 0.8836696924678572, -0.3196822783432801, -0.9598081652904585, -2.3185673570155316, 0.9199286678318811, 0.18124349088991892, -0.31241113338341514, 0.931766188329038, -1.2454367421348072, 0.17716748816653816, 0.29627078620326086, 0.8886308256683672, 2.246831034283235, 0.6974303836348403, 0.35598131814521045, -1.823543353599711, -0.8486094691505909, 0.16042258280947191, -0.9794789734321424, 0.6502538943693912, 0.6859471110716626, -1.8397195416762484, 0.5544046760632084, -0.5061463738217713, -0.19623271406017556, -1.5963826590813122, -0.09770348156614135, -0.5869174731331128, -0.12032149904486354, 0.00906488876886795, -0.07751737400332452, 0.2942284421113961, -0.16243607623161602, -1.001587800308482, 0.1963253087192484, 1.206464312604639, 0.2187961464973971, 1.0838671968192073, 1.2959649012162449, -0.5544573556215677, 0.6128769748117964, 0.1711954142874357, -1.3040069094496094, -0.09275279405669301, 0.7398849781895165, 0.09292219747002482, -0.10762784448538183, 0.3055312720579075, -0.6089474399581859, -0.46820295927356165, 1.9897358749891223, 1.9776531201514929, 0.26161052895794557, -0.2684909093050987, 0.0001358910229118881, 2.007654473522146, 1.2945754067521074, 1.9892544961413128, -1.6358499033444638, 0.4549748462649961, 0.735184341285063, -0.6712417072387005, 0.0816993806422588, 0.646955250762791, 1.590420413439015], \"xaxis\": \"x11\", \"yaxis\": \"y11\"}, {\"line\": {\"color\": \"rgba(128, 128, 128, 1.0)\", \"dash\": \"solid\", \"shape\": \"linear\", \"width\": 1.3}, \"marker\": {\"size\": 2, \"symbol\": \"circle\"}, \"mode\": \"markers\", \"name\": \"C\", \"text\": \"\", \"type\": \"scatter\", \"x\": [-0.22718918537328062, 1.2204972813783754, -0.511127342703104, -0.919995696143732, 1.4876569281486498, 0.5261798293815041, 1.4404686230606762, 0.012310079690618186, -1.4169393918652915, 0.8430806027133654, 0.8060404508229926, 0.09134447928922484, -0.4391707391338882, -1.136109425411929, -0.9558725097488121, -0.43903936073790056, 0.6400684969235082, -2.8926497540659173, 1.2862065354897847, 0.5363547692785966, 0.027208726919927866, -0.6053552258802258, 1.2369376797088558, -0.31288524593048567, -1.2768501683975995, 0.7982664454690171, -1.7643618109254788, -0.811118605847453, 1.2951679229500286, -0.5854378238328967, 0.47684752071529896, 0.9688847295206476, 0.7712204269970987, 0.8636594318791391, 2.1167005179164633, -0.9844880853538838, 1.2052110702155194, 0.4144965537564156, 1.0314589125244964, -1.2820386325245927, 0.5374622995845217, -0.4520476062643819, 1.2807767910756398, 1.3970913949970318, 0.554529182743638, -1.4245469028483584, 2.432163068242666, 0.34647454582703535, -1.8478283792744057, -0.7064116298140908, 1.859026792963264, -0.11696447813985389, 0.9735706653895554, 0.020069778038250087, -0.2732078870868064, -1.625893501364898, -0.518832871958972, 0.7570499806819221, -1.301647411726088, 1.5233125926959512, 0.910044161471426, -0.33904257065357996, 0.25474211578164113, 1.1624261743592201, -0.7457019139210698, -1.6968774589933917, 1.760395656633342, 1.7512558019532765, -1.9529937894171276, 0.8706668134873103, 2.0085760859346675, -1.2514649889890979, -1.6069294260493898, -0.6751228541249964, 1.1438933704419452, -0.21981377357202245, 0.4179370726020009, 1.0037769259192542, -0.06225916587349727, -1.0071835665242848, 0.8860296914099619, -1.4572370310223877, 1.8521215110090443, -0.27766424372092186, 1.2084828291118057, 0.19077267955785543, -0.15568801418483896, 0.17864014027450703, -0.6130945856449158, -0.1287209969592928, -0.7899352961622775, -1.9330750344297394, 2.0732887918319127, -0.7619479677020401, 1.128771926760258, -0.7709363883695314, 0.28608363017405264, -2.672688771194465, 1.5523201724331546, 2.011955348554818], \"xaxis\": \"x12\", \"y\": [0.48770381939872043, 0.6337244646989464, -3.1557932704130356, 0.13277998013457565, 0.7385655314420786, -0.17177067756252173, -0.1372915094467543, -0.2521100174920825, -0.7774859643586567, 0.4888304720428742, -0.46697233675600003, -1.0819972685815615, -1.3812411940185036, -1.2088517545524282, -1.2972061988940717, -1.195413296751463, -1.147470324560883, 1.0902866948145171, 1.1908114172648354, -0.2588208225848617, 0.16487657420726892, -0.78826656830748, 1.0000343713868642, -1.0091815010874154, -0.5680773691675439, 1.1810661210830304, 0.38954133539864827, -0.613964571092336, -0.2565088361673165, -0.7692082849354274, 0.19774049769912005, 0.39711873710136963, -0.5873094150104916, -0.02252466688228671, -0.9960725147726376, 0.8836696924678572, -0.3196822783432801, -0.9598081652904585, -2.3185673570155316, 0.9199286678318811, 0.18124349088991892, -0.31241113338341514, 0.931766188329038, -1.2454367421348072, 0.17716748816653816, 0.29627078620326086, 0.8886308256683672, 2.246831034283235, 0.6974303836348403, 0.35598131814521045, -1.823543353599711, -0.8486094691505909, 0.16042258280947191, -0.9794789734321424, 0.6502538943693912, 0.6859471110716626, -1.8397195416762484, 0.5544046760632084, -0.5061463738217713, -0.19623271406017556, -1.5963826590813122, -0.09770348156614135, -0.5869174731331128, -0.12032149904486354, 0.00906488876886795, -0.07751737400332452, 0.2942284421113961, -0.16243607623161602, -1.001587800308482, 0.1963253087192484, 1.206464312604639, 0.2187961464973971, 1.0838671968192073, 1.2959649012162449, -0.5544573556215677, 0.6128769748117964, 0.1711954142874357, -1.3040069094496094, -0.09275279405669301, 0.7398849781895165, 0.09292219747002482, -0.10762784448538183, 0.3055312720579075, -0.6089474399581859, -0.46820295927356165, 1.9897358749891223, 1.9776531201514929, 0.26161052895794557, -0.2684909093050987, 0.0001358910229118881, 2.007654473522146, 1.2945754067521074, 1.9892544961413128, -1.6358499033444638, 0.4549748462649961, 0.735184341285063, -0.6712417072387005, 0.0816993806422588, 0.646955250762791, 1.590420413439015], \"yaxis\": \"y12\"}, {\"line\": {\"color\": \"rgba(128, 128, 128, 1.0)\", \"dash\": \"solid\", \"shape\": \"linear\", \"width\": 1.3}, \"marker\": {\"size\": 2, \"symbol\": \"circle\"}, \"mode\": \"markers\", \"name\": \"D\", \"text\": \"\", \"type\": \"scatter\", \"x\": [-0.5480110889074034, -1.2920697014009046, -2.064720383032337, -0.6381949964348836, 0.010212759440209999, 0.794812443048594, -0.7278279442870339, 0.4489067925814845, 1.904784576609507, -1.3032659971088971, 0.11803057830902464, -1.5910540183384845, 0.4036629730575678, 0.9632264730942721, 1.5324411476637259, -0.04707130340337131, 0.11174868107368494, -1.3117900265057767, -1.3083957993452056, 0.696980809380999, 0.7592163244817444, 0.5250669680979622, -0.4449756900036982, -1.0014267626093265, -0.21335743445110616, -0.8514794630132676, 0.2749573360612918, -0.8733300478379218, 0.09463458411882031, 1.4455483762466403, 0.006188882128480812, -0.22631608313192741, -0.29524855487515117, 0.1812433420156424, 0.4615963474822817, -1.3250089684363293, -0.009448308083683389, -0.24835897398064555, 1.2246504102660027, 0.7647812090938544, 0.2923490017652167, 0.5484764320989512, 1.3636654624881206, -1.098554817005937, 0.05323209135417297, -0.8193664011445023, -0.9651881730205214, -0.7169235894795459, 0.07867172577891615, -0.1323856621361627, -0.7655784144767981, 0.9932616140585283, 0.5168384552391037, 1.7652722533284222, 1.8372546061828827, -1.593236705292418, -1.7351535385081214, 0.5235910464705479, -1.2678010298836502, -1.1620485478742044, 0.49783153002828556, -0.8724397517109367, 0.6049256246439829, 1.400962816411936, 0.8111886395962024, -1.3749913257690798, -0.5343381094480517, 0.5791641404328253, 0.8694270812021913, 0.6977237422345381, -0.7518777375440403, -1.2664205351763898, 0.06442315056883763, -0.2873984929929309, 0.0009839494928604283, 1.168592011704123, 0.6604253864052589, -0.29521148821910714, 1.045216265567895, -0.6515637069291157, -0.03289043947944938, 0.22881992210491614, -2.120961847320266, -0.1534383700165545, -1.1210869777078845, 0.9094502662877313, 0.07743574010108772, -0.7419719470944663, -1.2038987086444832, 0.14722990479865838, 0.9751250898869979, -0.6264743287129438, 0.7736042579232473, -0.5035091795841722, -1.0343753263730342, 0.5012182124006042, 0.03584316243864111, -0.5259243744479069, 0.15306289262164952, 1.7106987514004806], \"xaxis\": \"x13\", \"y\": [-0.22718918537328062, 1.2204972813783754, -0.511127342703104, -0.919995696143732, 1.4876569281486498, 0.5261798293815041, 1.4404686230606762, 0.012310079690618186, -1.4169393918652915, 0.8430806027133654, 0.8060404508229926, 0.09134447928922484, -0.4391707391338882, -1.136109425411929, -0.9558725097488121, -0.43903936073790056, 0.6400684969235082, -2.8926497540659173, 1.2862065354897847, 0.5363547692785966, 0.027208726919927866, -0.6053552258802258, 1.2369376797088558, -0.31288524593048567, -1.2768501683975995, 0.7982664454690171, -1.7643618109254788, -0.811118605847453, 1.2951679229500286, -0.5854378238328967, 0.47684752071529896, 0.9688847295206476, 0.7712204269970987, 0.8636594318791391, 2.1167005179164633, -0.9844880853538838, 1.2052110702155194, 0.4144965537564156, 1.0314589125244964, -1.2820386325245927, 0.5374622995845217, -0.4520476062643819, 1.2807767910756398, 1.3970913949970318, 0.554529182743638, -1.4245469028483584, 2.432163068242666, 0.34647454582703535, -1.8478283792744057, -0.7064116298140908, 1.859026792963264, -0.11696447813985389, 0.9735706653895554, 0.020069778038250087, -0.2732078870868064, -1.625893501364898, -0.518832871958972, 0.7570499806819221, -1.301647411726088, 1.5233125926959512, 0.910044161471426, -0.33904257065357996, 0.25474211578164113, 1.1624261743592201, -0.7457019139210698, -1.6968774589933917, 1.760395656633342, 1.7512558019532765, -1.9529937894171276, 0.8706668134873103, 2.0085760859346675, -1.2514649889890979, -1.6069294260493898, -0.6751228541249964, 1.1438933704419452, -0.21981377357202245, 0.4179370726020009, 1.0037769259192542, -0.06225916587349727, -1.0071835665242848, 0.8860296914099619, -1.4572370310223877, 1.8521215110090443, -0.27766424372092186, 1.2084828291118057, 0.19077267955785543, -0.15568801418483896, 0.17864014027450703, -0.6130945856449158, -0.1287209969592928, -0.7899352961622775, -1.9330750344297394, 2.0732887918319127, -0.7619479677020401, 1.128771926760258, -0.7709363883695314, 0.28608363017405264, -2.672688771194465, 1.5523201724331546, 2.011955348554818], \"yaxis\": \"y13\"}, {\"line\": {\"color\": \"rgba(128, 128, 128, 1.0)\", \"dash\": \"solid\", \"shape\": \"linear\", \"width\": 1.3}, \"marker\": {\"size\": 2, \"symbol\": \"circle\"}, \"mode\": \"markers\", \"name\": \"D\", \"text\": \"\", \"type\": \"scatter\", \"x\": [1.907683558388115, 0.4547584720364601, -0.4624177855774668, -3.651544791684352, -0.5678534781105319, 1.6427839907904405, -0.9619000332416442, -0.00397187462557156, -0.07994051727686378, -0.6910522585403166, -0.09450542139400352, -0.8779483001934726, -1.484377860124462, -0.06479965458310179, -1.0119838104547232, 1.0484315683481713, -1.704515782167066, 0.22219933855895088, 1.1715275094543638, -0.286046199843736, -0.18562188278474828, -0.5094303960311877, 1.2804878676027072, 1.0784034812612298, -0.15293803125447164, -0.4223642419037627, 0.14855090724344358, -0.31189985968039113, -0.9115283059275937, -0.7755292866323195, -0.42721244214615794, -2.388606862034661, -0.05382162402532776, -1.3473629289778324, 1.8397464184587116, 0.8736778624934495, -0.7310055025516222, 0.6958880162743549, 0.9187659655864716, 0.8376778170657083, 0.5396368728266294, 0.5422001050726935, -0.06139231471254688, -1.1021335608877891, -0.6007471372717097, 0.1924619434883858, -0.08930809569198228, -0.2978505269315022, 0.0005453669286284382, 0.08106810997695915, -0.3694016189559964, -1.0281232817295345, 0.30345560552391604, 0.5244077540972444, 2.0284534283011597, 1.048432684760225, 0.1064228659254715, 0.6622831438984041, 0.19685616235400402, 1.1511224188608322, -0.4206663845906972, -1.0846896902892262, 1.0364546676818382, 0.6307259022389663, 0.004641898709261438, -0.8605919026414243, 0.08398903166039261, -0.08238436718846175, 1.4354863201681674, -1.339983013618161, 0.020894590806696794, 0.6486539425584497, 1.6592374195822817, -0.45411333440482526, -0.514677111791003, 1.4378161001410212, 0.6543605480879594, -0.3723065659245629, 0.7259378993362399, 0.17622902362307077, -0.21499860688233133, 0.9541805171862572, -0.07743570059151514, 1.3080387115726428, -0.06024810521218019, -1.529908094039015, 0.7021112735494195, -0.9091588803591504, 0.870523121121309, 0.43847509793721606, -0.9516809883412036, -0.07897286417227212, 1.3010071278367414, -0.08017900203553485, 1.5367974033552878, -1.290113361643903, 0.677483027354299, -0.8592326527444683, 2.5979573364869557, -0.6669334806113064], \"xaxis\": \"x14\", \"y\": [-0.22718918537328062, 1.2204972813783754, -0.511127342703104, -0.919995696143732, 1.4876569281486498, 0.5261798293815041, 1.4404686230606762, 0.012310079690618186, -1.4169393918652915, 0.8430806027133654, 0.8060404508229926, 0.09134447928922484, -0.4391707391338882, -1.136109425411929, -0.9558725097488121, -0.43903936073790056, 0.6400684969235082, -2.8926497540659173, 1.2862065354897847, 0.5363547692785966, 0.027208726919927866, -0.6053552258802258, 1.2369376797088558, -0.31288524593048567, -1.2768501683975995, 0.7982664454690171, -1.7643618109254788, -0.811118605847453, 1.2951679229500286, -0.5854378238328967, 0.47684752071529896, 0.9688847295206476, 0.7712204269970987, 0.8636594318791391, 2.1167005179164633, -0.9844880853538838, 1.2052110702155194, 0.4144965537564156, 1.0314589125244964, -1.2820386325245927, 0.5374622995845217, -0.4520476062643819, 1.2807767910756398, 1.3970913949970318, 0.554529182743638, -1.4245469028483584, 2.432163068242666, 0.34647454582703535, -1.8478283792744057, -0.7064116298140908, 1.859026792963264, -0.11696447813985389, 0.9735706653895554, 0.020069778038250087, -0.2732078870868064, -1.625893501364898, -0.518832871958972, 0.7570499806819221, -1.301647411726088, 1.5233125926959512, 0.910044161471426, -0.33904257065357996, 0.25474211578164113, 1.1624261743592201, -0.7457019139210698, -1.6968774589933917, 1.760395656633342, 1.7512558019532765, -1.9529937894171276, 0.8706668134873103, 2.0085760859346675, -1.2514649889890979, -1.6069294260493898, -0.6751228541249964, 1.1438933704419452, -0.21981377357202245, 0.4179370726020009, 1.0037769259192542, -0.06225916587349727, -1.0071835665242848, 0.8860296914099619, -1.4572370310223877, 1.8521215110090443, -0.27766424372092186, 1.2084828291118057, 0.19077267955785543, -0.15568801418483896, 0.17864014027450703, -0.6130945856449158, -0.1287209969592928, -0.7899352961622775, -1.9330750344297394, 2.0732887918319127, -0.7619479677020401, 1.128771926760258, -0.7709363883695314, 0.28608363017405264, -2.672688771194465, 1.5523201724331546, 2.011955348554818], \"yaxis\": \"y14\"}, {\"line\": {\"color\": \"rgba(128, 128, 128, 1.0)\", \"dash\": \"solid\", \"shape\": \"linear\", \"width\": 1.3}, \"marker\": {\"size\": 2, \"symbol\": \"circle\"}, \"mode\": \"markers\", \"name\": \"D\", \"text\": \"\", \"type\": \"scatter\", \"x\": [0.48770381939872043, 0.6337244646989464, -3.1557932704130356, 0.13277998013457565, 0.7385655314420786, -0.17177067756252173, -0.1372915094467543, -0.2521100174920825, -0.7774859643586567, 0.4888304720428742, -0.46697233675600003, -1.0819972685815615, -1.3812411940185036, -1.2088517545524282, -1.2972061988940717, -1.195413296751463, -1.147470324560883, 1.0902866948145171, 1.1908114172648354, -0.2588208225848617, 0.16487657420726892, -0.78826656830748, 1.0000343713868642, -1.0091815010874154, -0.5680773691675439, 1.1810661210830304, 0.38954133539864827, -0.613964571092336, -0.2565088361673165, -0.7692082849354274, 0.19774049769912005, 0.39711873710136963, -0.5873094150104916, -0.02252466688228671, -0.9960725147726376, 0.8836696924678572, -0.3196822783432801, -0.9598081652904585, -2.3185673570155316, 0.9199286678318811, 0.18124349088991892, -0.31241113338341514, 0.931766188329038, -1.2454367421348072, 0.17716748816653816, 0.29627078620326086, 0.8886308256683672, 2.246831034283235, 0.6974303836348403, 0.35598131814521045, -1.823543353599711, -0.8486094691505909, 0.16042258280947191, -0.9794789734321424, 0.6502538943693912, 0.6859471110716626, -1.8397195416762484, 0.5544046760632084, -0.5061463738217713, -0.19623271406017556, -1.5963826590813122, -0.09770348156614135, -0.5869174731331128, -0.12032149904486354, 0.00906488876886795, -0.07751737400332452, 0.2942284421113961, -0.16243607623161602, -1.001587800308482, 0.1963253087192484, 1.206464312604639, 0.2187961464973971, 1.0838671968192073, 1.2959649012162449, -0.5544573556215677, 0.6128769748117964, 0.1711954142874357, -1.3040069094496094, -0.09275279405669301, 0.7398849781895165, 0.09292219747002482, -0.10762784448538183, 0.3055312720579075, -0.6089474399581859, -0.46820295927356165, 1.9897358749891223, 1.9776531201514929, 0.26161052895794557, -0.2684909093050987, 0.0001358910229118881, 2.007654473522146, 1.2945754067521074, 1.9892544961413128, -1.6358499033444638, 0.4549748462649961, 0.735184341285063, -0.6712417072387005, 0.0816993806422588, 0.646955250762791, 1.590420413439015], \"xaxis\": \"x15\", \"y\": [-0.22718918537328062, 1.2204972813783754, -0.511127342703104, -0.919995696143732, 1.4876569281486498, 0.5261798293815041, 1.4404686230606762, 0.012310079690618186, -1.4169393918652915, 0.8430806027133654, 0.8060404508229926, 0.09134447928922484, -0.4391707391338882, -1.136109425411929, -0.9558725097488121, -0.43903936073790056, 0.6400684969235082, -2.8926497540659173, 1.2862065354897847, 0.5363547692785966, 0.027208726919927866, -0.6053552258802258, 1.2369376797088558, -0.31288524593048567, -1.2768501683975995, 0.7982664454690171, -1.7643618109254788, -0.811118605847453, 1.2951679229500286, -0.5854378238328967, 0.47684752071529896, 0.9688847295206476, 0.7712204269970987, 0.8636594318791391, 2.1167005179164633, -0.9844880853538838, 1.2052110702155194, 0.4144965537564156, 1.0314589125244964, -1.2820386325245927, 0.5374622995845217, -0.4520476062643819, 1.2807767910756398, 1.3970913949970318, 0.554529182743638, -1.4245469028483584, 2.432163068242666, 0.34647454582703535, -1.8478283792744057, -0.7064116298140908, 1.859026792963264, -0.11696447813985389, 0.9735706653895554, 0.020069778038250087, -0.2732078870868064, -1.625893501364898, -0.518832871958972, 0.7570499806819221, -1.301647411726088, 1.5233125926959512, 0.910044161471426, -0.33904257065357996, 0.25474211578164113, 1.1624261743592201, -0.7457019139210698, -1.6968774589933917, 1.760395656633342, 1.7512558019532765, -1.9529937894171276, 0.8706668134873103, 2.0085760859346675, -1.2514649889890979, -1.6069294260493898, -0.6751228541249964, 1.1438933704419452, -0.21981377357202245, 0.4179370726020009, 1.0037769259192542, -0.06225916587349727, -1.0071835665242848, 0.8860296914099619, -1.4572370310223877, 1.8521215110090443, -0.27766424372092186, 1.2084828291118057, 0.19077267955785543, -0.15568801418483896, 0.17864014027450703, -0.6130945856449158, -0.1287209969592928, -0.7899352961622775, -1.9330750344297394, 2.0732887918319127, -0.7619479677020401, 1.128771926760258, -0.7709363883695314, 0.28608363017405264, -2.672688771194465, 1.5523201724331546, 2.011955348554818], \"yaxis\": \"y15\"}, {\"histfunc\": \"count\", \"histnorm\": \"\", \"marker\": {\"color\": \"rgba(128, 0, 128, 1.0)\", \"line\": {\"color\": \"#4D5663\", \"width\": 1.3}}, \"name\": \"D\", \"nbinsx\": 10, \"opacity\": 0.8, \"orientation\": \"v\", \"type\": \"histogram\", \"x\": [-0.22718918537328062, 1.2204972813783754, -0.511127342703104, -0.919995696143732, 1.4876569281486498, 0.5261798293815041, 1.4404686230606762, 0.012310079690618186, -1.4169393918652915, 0.8430806027133654, 0.8060404508229926, 0.09134447928922484, -0.4391707391338882, -1.136109425411929, -0.9558725097488121, -0.43903936073790056, 0.6400684969235082, -2.8926497540659173, 1.2862065354897847, 0.5363547692785966, 0.027208726919927866, -0.6053552258802258, 1.2369376797088558, -0.31288524593048567, -1.2768501683975995, 0.7982664454690171, -1.7643618109254788, -0.811118605847453, 1.2951679229500286, -0.5854378238328967, 0.47684752071529896, 0.9688847295206476, 0.7712204269970987, 0.8636594318791391, 2.1167005179164633, -0.9844880853538838, 1.2052110702155194, 0.4144965537564156, 1.0314589125244964, -1.2820386325245927, 0.5374622995845217, -0.4520476062643819, 1.2807767910756398, 1.3970913949970318, 0.554529182743638, -1.4245469028483584, 2.432163068242666, 0.34647454582703535, -1.8478283792744057, -0.7064116298140908, 1.859026792963264, -0.11696447813985389, 0.9735706653895554, 0.020069778038250087, -0.2732078870868064, -1.625893501364898, -0.518832871958972, 0.7570499806819221, -1.301647411726088, 1.5233125926959512, 0.910044161471426, -0.33904257065357996, 0.25474211578164113, 1.1624261743592201, -0.7457019139210698, -1.6968774589933917, 1.760395656633342, 1.7512558019532765, -1.9529937894171276, 0.8706668134873103, 2.0085760859346675, -1.2514649889890979, -1.6069294260493898, -0.6751228541249964, 1.1438933704419452, -0.21981377357202245, 0.4179370726020009, 1.0037769259192542, -0.06225916587349727, -1.0071835665242848, 0.8860296914099619, -1.4572370310223877, 1.8521215110090443, -0.27766424372092186, 1.2084828291118057, 0.19077267955785543, -0.15568801418483896, 0.17864014027450703, -0.6130945856449158, -0.1287209969592928, -0.7899352961622775, -1.9330750344297394, 2.0732887918319127, -0.7619479677020401, 1.128771926760258, -0.7709363883695314, 0.28608363017405264, -2.672688771194465, 1.5523201724331546, 2.011955348554818], \"xaxis\": \"x16\", \"yaxis\": \"y16\"}],                        {\"bargap\": 0.02, \"legend\": {\"bgcolor\": \"#F5F6F9\", \"font\": {\"color\": \"#4D5663\"}}, \"paper_bgcolor\": \"#F5F6F9\", \"plot_bgcolor\": \"#F5F6F9\", \"showlegend\": false, \"template\": {\"data\": {\"bar\": [{\"error_x\": {\"color\": \"#2a3f5f\"}, \"error_y\": {\"color\": \"#2a3f5f\"}, \"marker\": {\"line\": {\"color\": \"#E5ECF6\", \"width\": 0.5}}, \"type\": \"bar\"}], \"barpolar\": [{\"marker\": {\"line\": {\"color\": \"#E5ECF6\", \"width\": 0.5}}, \"type\": \"barpolar\"}], \"carpet\": [{\"aaxis\": {\"endlinecolor\": \"#2a3f5f\", \"gridcolor\": \"white\", \"linecolor\": \"white\", \"minorgridcolor\": \"white\", \"startlinecolor\": \"#2a3f5f\"}, \"baxis\": {\"endlinecolor\": \"#2a3f5f\", \"gridcolor\": \"white\", \"linecolor\": \"white\", \"minorgridcolor\": \"white\", \"startlinecolor\": \"#2a3f5f\"}, \"type\": \"carpet\"}], \"choropleth\": [{\"colorbar\": {\"outlinewidth\": 0, \"ticks\": \"\"}, \"type\": \"choropleth\"}], \"contour\": [{\"colorbar\": {\"outlinewidth\": 0, \"ticks\": \"\"}, \"colorscale\": [[0.0, \"#0d0887\"], [0.1111111111111111, \"#46039f\"], [0.2222222222222222, \"#7201a8\"], [0.3333333333333333, \"#9c179e\"], [0.4444444444444444, \"#bd3786\"], [0.5555555555555556, \"#d8576b\"], [0.6666666666666666, \"#ed7953\"], [0.7777777777777778, \"#fb9f3a\"], [0.8888888888888888, \"#fdca26\"], [1.0, \"#f0f921\"]], \"type\": \"contour\"}], \"contourcarpet\": [{\"colorbar\": {\"outlinewidth\": 0, \"ticks\": \"\"}, \"type\": \"contourcarpet\"}], \"heatmap\": [{\"colorbar\": {\"outlinewidth\": 0, \"ticks\": \"\"}, \"colorscale\": [[0.0, \"#0d0887\"], [0.1111111111111111, \"#46039f\"], [0.2222222222222222, \"#7201a8\"], [0.3333333333333333, \"#9c179e\"], [0.4444444444444444, \"#bd3786\"], [0.5555555555555556, \"#d8576b\"], [0.6666666666666666, \"#ed7953\"], [0.7777777777777778, \"#fb9f3a\"], [0.8888888888888888, \"#fdca26\"], [1.0, \"#f0f921\"]], \"type\": \"heatmap\"}], \"heatmapgl\": [{\"colorbar\": {\"outlinewidth\": 0, \"ticks\": \"\"}, \"colorscale\": [[0.0, \"#0d0887\"], [0.1111111111111111, \"#46039f\"], [0.2222222222222222, \"#7201a8\"], [0.3333333333333333, \"#9c179e\"], [0.4444444444444444, \"#bd3786\"], [0.5555555555555556, \"#d8576b\"], [0.6666666666666666, \"#ed7953\"], [0.7777777777777778, \"#fb9f3a\"], [0.8888888888888888, \"#fdca26\"], [1.0, \"#f0f921\"]], \"type\": \"heatmapgl\"}], \"histogram\": [{\"marker\": {\"colorbar\": {\"outlinewidth\": 0, \"ticks\": \"\"}}, \"type\": \"histogram\"}], \"histogram2d\": [{\"colorbar\": {\"outlinewidth\": 0, \"ticks\": \"\"}, \"colorscale\": [[0.0, \"#0d0887\"], [0.1111111111111111, \"#46039f\"], [0.2222222222222222, \"#7201a8\"], [0.3333333333333333, \"#9c179e\"], [0.4444444444444444, \"#bd3786\"], [0.5555555555555556, \"#d8576b\"], [0.6666666666666666, \"#ed7953\"], [0.7777777777777778, \"#fb9f3a\"], [0.8888888888888888, \"#fdca26\"], [1.0, \"#f0f921\"]], \"type\": \"histogram2d\"}], \"histogram2dcontour\": [{\"colorbar\": {\"outlinewidth\": 0, \"ticks\": \"\"}, \"colorscale\": [[0.0, \"#0d0887\"], [0.1111111111111111, \"#46039f\"], [0.2222222222222222, \"#7201a8\"], [0.3333333333333333, \"#9c179e\"], [0.4444444444444444, \"#bd3786\"], [0.5555555555555556, \"#d8576b\"], [0.6666666666666666, \"#ed7953\"], [0.7777777777777778, \"#fb9f3a\"], [0.8888888888888888, \"#fdca26\"], [1.0, \"#f0f921\"]], \"type\": \"histogram2dcontour\"}], \"mesh3d\": [{\"colorbar\": {\"outlinewidth\": 0, \"ticks\": \"\"}, \"type\": \"mesh3d\"}], \"parcoords\": [{\"line\": {\"colorbar\": {\"outlinewidth\": 0, \"ticks\": \"\"}}, \"type\": \"parcoords\"}], \"pie\": [{\"automargin\": true, \"type\": \"pie\"}], \"scatter\": [{\"marker\": {\"colorbar\": {\"outlinewidth\": 0, \"ticks\": \"\"}}, \"type\": \"scatter\"}], \"scatter3d\": [{\"line\": {\"colorbar\": {\"outlinewidth\": 0, \"ticks\": \"\"}}, \"marker\": {\"colorbar\": {\"outlinewidth\": 0, \"ticks\": \"\"}}, \"type\": \"scatter3d\"}], \"scattercarpet\": [{\"marker\": {\"colorbar\": {\"outlinewidth\": 0, \"ticks\": \"\"}}, \"type\": \"scattercarpet\"}], \"scattergeo\": [{\"marker\": {\"colorbar\": {\"outlinewidth\": 0, \"ticks\": \"\"}}, \"type\": \"scattergeo\"}], \"scattergl\": [{\"marker\": {\"colorbar\": {\"outlinewidth\": 0, \"ticks\": \"\"}}, \"type\": \"scattergl\"}], \"scattermapbox\": [{\"marker\": {\"colorbar\": {\"outlinewidth\": 0, \"ticks\": \"\"}}, \"type\": \"scattermapbox\"}], \"scatterpolar\": [{\"marker\": {\"colorbar\": {\"outlinewidth\": 0, \"ticks\": \"\"}}, \"type\": \"scatterpolar\"}], \"scatterpolargl\": [{\"marker\": {\"colorbar\": {\"outlinewidth\": 0, \"ticks\": \"\"}}, \"type\": \"scatterpolargl\"}], \"scatterternary\": [{\"marker\": {\"colorbar\": {\"outlinewidth\": 0, \"ticks\": \"\"}}, \"type\": \"scatterternary\"}], \"surface\": [{\"colorbar\": {\"outlinewidth\": 0, \"ticks\": \"\"}, \"colorscale\": [[0.0, \"#0d0887\"], [0.1111111111111111, \"#46039f\"], [0.2222222222222222, \"#7201a8\"], [0.3333333333333333, \"#9c179e\"], [0.4444444444444444, \"#bd3786\"], [0.5555555555555556, \"#d8576b\"], [0.6666666666666666, \"#ed7953\"], [0.7777777777777778, \"#fb9f3a\"], [0.8888888888888888, \"#fdca26\"], [1.0, \"#f0f921\"]], \"type\": \"surface\"}], \"table\": [{\"cells\": {\"fill\": {\"color\": \"#EBF0F8\"}, \"line\": {\"color\": \"white\"}}, \"header\": {\"fill\": {\"color\": \"#C8D4E3\"}, \"line\": {\"color\": \"white\"}}, \"type\": \"table\"}]}, \"layout\": {\"annotationdefaults\": {\"arrowcolor\": \"#2a3f5f\", \"arrowhead\": 0, \"arrowwidth\": 1}, \"autotypenumbers\": \"strict\", \"coloraxis\": {\"colorbar\": {\"outlinewidth\": 0, \"ticks\": \"\"}}, \"colorscale\": {\"diverging\": [[0, \"#8e0152\"], [0.1, \"#c51b7d\"], [0.2, \"#de77ae\"], [0.3, \"#f1b6da\"], [0.4, \"#fde0ef\"], [0.5, \"#f7f7f7\"], [0.6, \"#e6f5d0\"], [0.7, \"#b8e186\"], [0.8, \"#7fbc41\"], [0.9, \"#4d9221\"], [1, \"#276419\"]], \"sequential\": [[0.0, \"#0d0887\"], [0.1111111111111111, \"#46039f\"], [0.2222222222222222, \"#7201a8\"], [0.3333333333333333, \"#9c179e\"], [0.4444444444444444, \"#bd3786\"], [0.5555555555555556, \"#d8576b\"], [0.6666666666666666, \"#ed7953\"], [0.7777777777777778, \"#fb9f3a\"], [0.8888888888888888, \"#fdca26\"], [1.0, \"#f0f921\"]], \"sequentialminus\": [[0.0, \"#0d0887\"], [0.1111111111111111, \"#46039f\"], [0.2222222222222222, \"#7201a8\"], [0.3333333333333333, \"#9c179e\"], [0.4444444444444444, \"#bd3786\"], [0.5555555555555556, \"#d8576b\"], [0.6666666666666666, \"#ed7953\"], [0.7777777777777778, \"#fb9f3a\"], [0.8888888888888888, \"#fdca26\"], [1.0, \"#f0f921\"]]}, \"colorway\": [\"#636efa\", \"#EF553B\", \"#00cc96\", \"#ab63fa\", \"#FFA15A\", \"#19d3f3\", \"#FF6692\", \"#B6E880\", \"#FF97FF\", \"#FECB52\"], \"font\": {\"color\": \"#2a3f5f\"}, \"geo\": {\"bgcolor\": \"white\", \"lakecolor\": \"white\", \"landcolor\": \"#E5ECF6\", \"showlakes\": true, \"showland\": true, \"subunitcolor\": \"white\"}, \"hoverlabel\": {\"align\": \"left\"}, \"hovermode\": \"closest\", \"mapbox\": {\"style\": \"light\"}, \"paper_bgcolor\": \"white\", \"plot_bgcolor\": \"#E5ECF6\", \"polar\": {\"angularaxis\": {\"gridcolor\": \"white\", \"linecolor\": \"white\", \"ticks\": \"\"}, \"bgcolor\": \"#E5ECF6\", \"radialaxis\": {\"gridcolor\": \"white\", \"linecolor\": \"white\", \"ticks\": \"\"}}, \"scene\": {\"xaxis\": {\"backgroundcolor\": \"#E5ECF6\", \"gridcolor\": \"white\", \"gridwidth\": 2, \"linecolor\": \"white\", \"showbackground\": true, \"ticks\": \"\", \"zerolinecolor\": \"white\"}, \"yaxis\": {\"backgroundcolor\": \"#E5ECF6\", \"gridcolor\": \"white\", \"gridwidth\": 2, \"linecolor\": \"white\", \"showbackground\": true, \"ticks\": \"\", \"zerolinecolor\": \"white\"}, \"zaxis\": {\"backgroundcolor\": \"#E5ECF6\", \"gridcolor\": \"white\", \"gridwidth\": 2, \"linecolor\": \"white\", \"showbackground\": true, \"ticks\": \"\", \"zerolinecolor\": \"white\"}}, \"shapedefaults\": {\"line\": {\"color\": \"#2a3f5f\"}}, \"ternary\": {\"aaxis\": {\"gridcolor\": \"white\", \"linecolor\": \"white\", \"ticks\": \"\"}, \"baxis\": {\"gridcolor\": \"white\", \"linecolor\": \"white\", \"ticks\": \"\"}, \"bgcolor\": \"#E5ECF6\", \"caxis\": {\"gridcolor\": \"white\", \"linecolor\": \"white\", \"ticks\": \"\"}}, \"title\": {\"x\": 0.05}, \"xaxis\": {\"automargin\": true, \"gridcolor\": \"white\", \"linecolor\": \"white\", \"ticks\": \"\", \"title\": {\"standoff\": 15}, \"zerolinecolor\": \"white\", \"zerolinewidth\": 2}, \"yaxis\": {\"automargin\": true, \"gridcolor\": \"white\", \"linecolor\": \"white\", \"ticks\": \"\", \"title\": {\"standoff\": 15}, \"zerolinecolor\": \"white\", \"zerolinewidth\": 2}}}, \"title\": {\"font\": {\"color\": \"#4D5663\"}}, \"xaxis\": {\"anchor\": \"y\", \"domain\": [0.0, 0.2125], \"gridcolor\": \"#E1E5ED\", \"showgrid\": false, \"tickfont\": {\"color\": \"#4D5663\"}, \"title\": {\"font\": {\"color\": \"#4D5663\"}, \"text\": \"\"}, \"zerolinecolor\": \"#E1E5ED\"}, \"xaxis10\": {\"anchor\": \"y10\", \"domain\": [0.2625, 0.475], \"gridcolor\": \"#E1E5ED\", \"showgrid\": false, \"tickfont\": {\"color\": \"#4D5663\"}, \"title\": {\"font\": {\"color\": \"#4D5663\"}, \"text\": \"\"}, \"zerolinecolor\": \"#E1E5ED\"}, \"xaxis11\": {\"anchor\": \"y11\", \"domain\": [0.525, 0.7375], \"gridcolor\": \"#E1E5ED\", \"showgrid\": false, \"tickfont\": {\"color\": \"#4D5663\"}, \"title\": {\"font\": {\"color\": \"#4D5663\"}, \"text\": \"\"}, \"zerolinecolor\": \"#E1E5ED\"}, \"xaxis12\": {\"anchor\": \"y12\", \"domain\": [0.7875, 1.0], \"gridcolor\": \"#E1E5ED\", \"showgrid\": false, \"tickfont\": {\"color\": \"#4D5663\"}, \"title\": {\"font\": {\"color\": \"#4D5663\"}, \"text\": \"\"}, \"zerolinecolor\": \"#E1E5ED\"}, \"xaxis13\": {\"anchor\": \"y13\", \"domain\": [0.0, 0.2125], \"gridcolor\": \"#E1E5ED\", \"showgrid\": false, \"tickfont\": {\"color\": \"#4D5663\"}, \"title\": {\"font\": {\"color\": \"#4D5663\"}, \"text\": \"\"}, \"zerolinecolor\": \"#E1E5ED\"}, \"xaxis14\": {\"anchor\": \"y14\", \"domain\": [0.2625, 0.475], \"gridcolor\": \"#E1E5ED\", \"showgrid\": false, \"tickfont\": {\"color\": \"#4D5663\"}, \"title\": {\"font\": {\"color\": \"#4D5663\"}, \"text\": \"\"}, \"zerolinecolor\": \"#E1E5ED\"}, \"xaxis15\": {\"anchor\": \"y15\", \"domain\": [0.525, 0.7375], \"gridcolor\": \"#E1E5ED\", \"showgrid\": false, \"tickfont\": {\"color\": \"#4D5663\"}, \"title\": {\"font\": {\"color\": \"#4D5663\"}, \"text\": \"\"}, \"zerolinecolor\": \"#E1E5ED\"}, \"xaxis16\": {\"anchor\": \"y16\", \"domain\": [0.7875, 1.0], \"gridcolor\": \"#E1E5ED\", \"showgrid\": false, \"tickfont\": {\"color\": \"#4D5663\"}, \"title\": {\"font\": {\"color\": \"#4D5663\"}, \"text\": \"\"}, \"zerolinecolor\": \"#E1E5ED\"}, \"xaxis2\": {\"anchor\": \"y2\", \"domain\": [0.2625, 0.475], \"gridcolor\": \"#E1E5ED\", \"showgrid\": false, \"tickfont\": {\"color\": \"#4D5663\"}, \"title\": {\"font\": {\"color\": \"#4D5663\"}, \"text\": \"\"}, \"zerolinecolor\": \"#E1E5ED\"}, \"xaxis3\": {\"anchor\": \"y3\", \"domain\": [0.525, 0.7375], \"gridcolor\": \"#E1E5ED\", \"showgrid\": false, \"tickfont\": {\"color\": \"#4D5663\"}, \"title\": {\"font\": {\"color\": \"#4D5663\"}, \"text\": \"\"}, \"zerolinecolor\": \"#E1E5ED\"}, \"xaxis4\": {\"anchor\": \"y4\", \"domain\": [0.7875, 1.0], \"gridcolor\": \"#E1E5ED\", \"showgrid\": false, \"tickfont\": {\"color\": \"#4D5663\"}, \"title\": {\"font\": {\"color\": \"#4D5663\"}, \"text\": \"\"}, \"zerolinecolor\": \"#E1E5ED\"}, \"xaxis5\": {\"anchor\": \"y5\", \"domain\": [0.0, 0.2125], \"gridcolor\": \"#E1E5ED\", \"showgrid\": false, \"tickfont\": {\"color\": \"#4D5663\"}, \"title\": {\"font\": {\"color\": \"#4D5663\"}, \"text\": \"\"}, \"zerolinecolor\": \"#E1E5ED\"}, \"xaxis6\": {\"anchor\": \"y6\", \"domain\": [0.2625, 0.475], \"gridcolor\": \"#E1E5ED\", \"showgrid\": false, \"tickfont\": {\"color\": \"#4D5663\"}, \"title\": {\"font\": {\"color\": \"#4D5663\"}, \"text\": \"\"}, \"zerolinecolor\": \"#E1E5ED\"}, \"xaxis7\": {\"anchor\": \"y7\", \"domain\": [0.525, 0.7375], \"gridcolor\": \"#E1E5ED\", \"showgrid\": false, \"tickfont\": {\"color\": \"#4D5663\"}, \"title\": {\"font\": {\"color\": \"#4D5663\"}, \"text\": \"\"}, \"zerolinecolor\": \"#E1E5ED\"}, \"xaxis8\": {\"anchor\": \"y8\", \"domain\": [0.7875, 1.0], \"gridcolor\": \"#E1E5ED\", \"showgrid\": false, \"tickfont\": {\"color\": \"#4D5663\"}, \"title\": {\"font\": {\"color\": \"#4D5663\"}, \"text\": \"\"}, \"zerolinecolor\": \"#E1E5ED\"}, \"xaxis9\": {\"anchor\": \"y9\", \"domain\": [0.0, 0.2125], \"gridcolor\": \"#E1E5ED\", \"showgrid\": false, \"tickfont\": {\"color\": \"#4D5663\"}, \"title\": {\"font\": {\"color\": \"#4D5663\"}, \"text\": \"\"}, \"zerolinecolor\": \"#E1E5ED\"}, \"yaxis\": {\"anchor\": \"x\", \"domain\": [0.8025, 1.0], \"gridcolor\": \"#E1E5ED\", \"showgrid\": false, \"tickfont\": {\"color\": \"#4D5663\"}, \"title\": {\"font\": {\"color\": \"#4D5663\"}, \"text\": \"\"}, \"zerolinecolor\": \"#E1E5ED\"}, \"yaxis10\": {\"anchor\": \"x10\", \"domain\": [0.2675, 0.465], \"gridcolor\": \"#E1E5ED\", \"showgrid\": false, \"tickfont\": {\"color\": \"#4D5663\"}, \"title\": {\"font\": {\"color\": \"#4D5663\"}, \"text\": \"\"}, \"zerolinecolor\": \"#E1E5ED\"}, \"yaxis11\": {\"anchor\": \"x11\", \"domain\": [0.2675, 0.465], \"gridcolor\": \"#E1E5ED\", \"showgrid\": false, \"tickfont\": {\"color\": \"#4D5663\"}, \"title\": {\"font\": {\"color\": \"#4D5663\"}, \"text\": \"\"}, \"zerolinecolor\": \"#E1E5ED\"}, \"yaxis12\": {\"anchor\": \"x12\", \"domain\": [0.2675, 0.465], \"gridcolor\": \"#E1E5ED\", \"showgrid\": false, \"tickfont\": {\"color\": \"#4D5663\"}, \"title\": {\"font\": {\"color\": \"#4D5663\"}, \"text\": \"\"}, \"zerolinecolor\": \"#E1E5ED\"}, \"yaxis13\": {\"anchor\": \"x13\", \"domain\": [0.0, 0.1975], \"gridcolor\": \"#E1E5ED\", \"showgrid\": false, \"tickfont\": {\"color\": \"#4D5663\"}, \"title\": {\"font\": {\"color\": \"#4D5663\"}, \"text\": \"\"}, \"zerolinecolor\": \"#E1E5ED\"}, \"yaxis14\": {\"anchor\": \"x14\", \"domain\": [0.0, 0.1975], \"gridcolor\": \"#E1E5ED\", \"showgrid\": false, \"tickfont\": {\"color\": \"#4D5663\"}, \"title\": {\"font\": {\"color\": \"#4D5663\"}, \"text\": \"\"}, \"zerolinecolor\": \"#E1E5ED\"}, \"yaxis15\": {\"anchor\": \"x15\", \"domain\": [0.0, 0.1975], \"gridcolor\": \"#E1E5ED\", \"showgrid\": false, \"tickfont\": {\"color\": \"#4D5663\"}, \"title\": {\"font\": {\"color\": \"#4D5663\"}, \"text\": \"\"}, \"zerolinecolor\": \"#E1E5ED\"}, \"yaxis16\": {\"anchor\": \"x16\", \"domain\": [0.0, 0.1975], \"gridcolor\": \"#E1E5ED\", \"showgrid\": false, \"tickfont\": {\"color\": \"#4D5663\"}, \"title\": {\"font\": {\"color\": \"#4D5663\"}, \"text\": \"\"}, \"zerolinecolor\": \"#E1E5ED\"}, \"yaxis2\": {\"anchor\": \"x2\", \"domain\": [0.8025, 1.0], \"gridcolor\": \"#E1E5ED\", \"showgrid\": false, \"tickfont\": {\"color\": \"#4D5663\"}, \"title\": {\"font\": {\"color\": \"#4D5663\"}, \"text\": \"\"}, \"zerolinecolor\": \"#E1E5ED\"}, \"yaxis3\": {\"anchor\": \"x3\", \"domain\": [0.8025, 1.0], \"gridcolor\": \"#E1E5ED\", \"showgrid\": false, \"tickfont\": {\"color\": \"#4D5663\"}, \"title\": {\"font\": {\"color\": \"#4D5663\"}, \"text\": \"\"}, \"zerolinecolor\": \"#E1E5ED\"}, \"yaxis4\": {\"anchor\": \"x4\", \"domain\": [0.8025, 1.0], \"gridcolor\": \"#E1E5ED\", \"showgrid\": false, \"tickfont\": {\"color\": \"#4D5663\"}, \"title\": {\"font\": {\"color\": \"#4D5663\"}, \"text\": \"\"}, \"zerolinecolor\": \"#E1E5ED\"}, \"yaxis5\": {\"anchor\": \"x5\", \"domain\": [0.535, 0.7325], \"gridcolor\": \"#E1E5ED\", \"showgrid\": false, \"tickfont\": {\"color\": \"#4D5663\"}, \"title\": {\"font\": {\"color\": \"#4D5663\"}, \"text\": \"\"}, \"zerolinecolor\": \"#E1E5ED\"}, \"yaxis6\": {\"anchor\": \"x6\", \"domain\": [0.535, 0.7325], \"gridcolor\": \"#E1E5ED\", \"showgrid\": false, \"tickfont\": {\"color\": \"#4D5663\"}, \"title\": {\"font\": {\"color\": \"#4D5663\"}, \"text\": \"\"}, \"zerolinecolor\": \"#E1E5ED\"}, \"yaxis7\": {\"anchor\": \"x7\", \"domain\": [0.535, 0.7325], \"gridcolor\": \"#E1E5ED\", \"showgrid\": false, \"tickfont\": {\"color\": \"#4D5663\"}, \"title\": {\"font\": {\"color\": \"#4D5663\"}, \"text\": \"\"}, \"zerolinecolor\": \"#E1E5ED\"}, \"yaxis8\": {\"anchor\": \"x8\", \"domain\": [0.535, 0.7325], \"gridcolor\": \"#E1E5ED\", \"showgrid\": false, \"tickfont\": {\"color\": \"#4D5663\"}, \"title\": {\"font\": {\"color\": \"#4D5663\"}, \"text\": \"\"}, \"zerolinecolor\": \"#E1E5ED\"}, \"yaxis9\": {\"anchor\": \"x9\", \"domain\": [0.2675, 0.465], \"gridcolor\": \"#E1E5ED\", \"showgrid\": false, \"tickfont\": {\"color\": \"#4D5663\"}, \"title\": {\"font\": {\"color\": \"#4D5663\"}, \"text\": \"\"}, \"zerolinecolor\": \"#E1E5ED\"}},                        {\"showLink\": true, \"linkText\": \"Export to plot.ly\", \"plotlyServerURL\": \"https://plot.ly\", \"responsive\": true}                    ).then(function(){\n",
       "                            \n",
       "var gd = document.getElementById('e0469712-a5fe-47e7-9f7d-6ce9d52a1d59');\n",
       "var x = new MutationObserver(function (mutations, observer) {{\n",
       "        var display = window.getComputedStyle(gd).display;\n",
       "        if (!display || display === 'none') {{\n",
       "            console.log([gd, 'removed!']);\n",
       "            Plotly.purge(gd);\n",
       "            observer.disconnect();\n",
       "        }}\n",
       "}});\n",
       "\n",
       "// Listen for the removal of the full notebook cells\n",
       "var notebookContainer = gd.closest('#notebook-container');\n",
       "if (notebookContainer) {{\n",
       "    x.observe(notebookContainer, {childList: true});\n",
       "}}\n",
       "\n",
       "// Listen for the clearing of the current output cell\n",
       "var outputEl = gd.closest('.output');\n",
       "if (outputEl) {{\n",
       "    x.observe(outputEl, {childList: true});\n",
       "}}\n",
       "\n",
       "                        })                };                });            </script>        </div>"
      ]
     },
     "metadata": {},
     "output_type": "display_data"
    }
   ],
   "source": [
    "df.scatter_matrix()"
   ]
  },
  {
   "cell_type": "code",
   "execution_count": null,
   "metadata": {},
   "outputs": [],
   "source": []
  }
 ],
 "metadata": {
  "kernelspec": {
   "display_name": "Python 3",
   "language": "python",
   "name": "python3"
  },
  "language_info": {
   "codemirror_mode": {
    "name": "ipython",
    "version": 3
   },
   "file_extension": ".py",
   "mimetype": "text/x-python",
   "name": "python",
   "nbconvert_exporter": "python",
   "pygments_lexer": "ipython3",
   "version": "3.7.4"
  }
 },
 "nbformat": 4,
 "nbformat_minor": 2
}
